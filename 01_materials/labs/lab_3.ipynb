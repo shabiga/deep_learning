{
 "cells": [
  {
   "cell_type": "markdown",
   "metadata": {},
   "source": [
    "# Recommender Systems\n",
    "\n",
    "In this lab, we'll be using Keras to build a recommender system. We'll be using the MovieLens dataset, a common benchmark dataset for recommender systems. \n",
    "\n",
    "MovieLens is a web-based recommender system and virtual community that recommends movies for its users to watch, based on their film preferences using collaborative filtering of members' movie ratings and movie reviews. You can check out the website here: https://movielens.org/\n",
    "\n",
    "We will download a subset of the dataset containing 100k ratings. There are tens of millions of ratings in the full dataset, spanning hundreds of thousands of users and movies. The subset we'll be using is a good example to demonstrate the concepts in this lab."
   ]
  },
  {
   "cell_type": "code",
   "execution_count": 1,
   "metadata": {},
   "outputs": [],
   "source": [
    "%matplotlib inline\n",
    "import matplotlib.pyplot as plt\n",
    "import numpy as np\n",
    "from zipfile import ZipFile\n",
    "from urllib.request import urlretrieve\n",
    "from pathlib import Path\n",
    "\n",
    "ML_100K_URL = \"http://files.grouplens.org/datasets/movielens/ml-100k.zip\"\n",
    "ML_100K_FILENAME = Path(\"ml-100k.zip\")\n",
    "ML_100K_FOLDER = Path(\"ml-100k\")\n",
    "\n",
    "if not ML_100K_FOLDER.exists():\n",
    "    if not ML_100K_FILENAME.exists():\n",
    "        urlretrieve(ML_100K_URL, ML_100K_FILENAME.name)\n",
    "    with ZipFile(ML_100K_FILENAME.name) as zips:\n",
    "        zips.extractall()"
   ]
  },
  {
   "cell_type": "markdown",
   "metadata": {},
   "source": [
    "The goal of MovieLens is to enable models to predict the rating a user would give to a movie they have not yet watched. This is a classic example of a recommendation system. The dataset is huge, and contains many parts giving information about the movies, the users, and the ratings. To begin with, we will look at the ratings file. Each line in the ratings file (u.data) is formatted as:\n",
    "\n",
    "`user_id, item_id, rating, timestamp`\n",
    "\n",
    "Which tells us a single user's rating of a single movie.\n",
    "\n",
    "We will start by loading the ratings data into a pandas dataframe and then take a look at the first few rows. If you haven't used Pandas before, it's an extremely powerful library for dealing with tabular data. You can think of it as a Python version of Excel."
   ]
  },
  {
   "cell_type": "code",
   "execution_count": 2,
   "metadata": {},
   "outputs": [
    {
     "data": {
      "text/html": [
       "<div>\n",
       "<style scoped>\n",
       "    .dataframe tbody tr th:only-of-type {\n",
       "        vertical-align: middle;\n",
       "    }\n",
       "\n",
       "    .dataframe tbody tr th {\n",
       "        vertical-align: top;\n",
       "    }\n",
       "\n",
       "    .dataframe thead th {\n",
       "        text-align: right;\n",
       "    }\n",
       "</style>\n",
       "<table border=\"1\" class=\"dataframe\">\n",
       "  <thead>\n",
       "    <tr style=\"text-align: right;\">\n",
       "      <th></th>\n",
       "      <th>user_id</th>\n",
       "      <th>item_id</th>\n",
       "      <th>rating</th>\n",
       "      <th>timestamp</th>\n",
       "    </tr>\n",
       "  </thead>\n",
       "  <tbody>\n",
       "    <tr>\n",
       "      <th>0</th>\n",
       "      <td>196</td>\n",
       "      <td>242</td>\n",
       "      <td>3</td>\n",
       "      <td>881250949</td>\n",
       "    </tr>\n",
       "    <tr>\n",
       "      <th>1</th>\n",
       "      <td>186</td>\n",
       "      <td>302</td>\n",
       "      <td>3</td>\n",
       "      <td>891717742</td>\n",
       "    </tr>\n",
       "    <tr>\n",
       "      <th>2</th>\n",
       "      <td>22</td>\n",
       "      <td>377</td>\n",
       "      <td>1</td>\n",
       "      <td>878887116</td>\n",
       "    </tr>\n",
       "    <tr>\n",
       "      <th>3</th>\n",
       "      <td>244</td>\n",
       "      <td>51</td>\n",
       "      <td>2</td>\n",
       "      <td>880606923</td>\n",
       "    </tr>\n",
       "    <tr>\n",
       "      <th>4</th>\n",
       "      <td>166</td>\n",
       "      <td>346</td>\n",
       "      <td>1</td>\n",
       "      <td>886397596</td>\n",
       "    </tr>\n",
       "    <tr>\n",
       "      <th>...</th>\n",
       "      <td>...</td>\n",
       "      <td>...</td>\n",
       "      <td>...</td>\n",
       "      <td>...</td>\n",
       "    </tr>\n",
       "    <tr>\n",
       "      <th>99995</th>\n",
       "      <td>880</td>\n",
       "      <td>476</td>\n",
       "      <td>3</td>\n",
       "      <td>880175444</td>\n",
       "    </tr>\n",
       "    <tr>\n",
       "      <th>99996</th>\n",
       "      <td>716</td>\n",
       "      <td>204</td>\n",
       "      <td>5</td>\n",
       "      <td>879795543</td>\n",
       "    </tr>\n",
       "    <tr>\n",
       "      <th>99997</th>\n",
       "      <td>276</td>\n",
       "      <td>1090</td>\n",
       "      <td>1</td>\n",
       "      <td>874795795</td>\n",
       "    </tr>\n",
       "    <tr>\n",
       "      <th>99998</th>\n",
       "      <td>13</td>\n",
       "      <td>225</td>\n",
       "      <td>2</td>\n",
       "      <td>882399156</td>\n",
       "    </tr>\n",
       "    <tr>\n",
       "      <th>99999</th>\n",
       "      <td>12</td>\n",
       "      <td>203</td>\n",
       "      <td>3</td>\n",
       "      <td>879959583</td>\n",
       "    </tr>\n",
       "  </tbody>\n",
       "</table>\n",
       "<p>100000 rows × 4 columns</p>\n",
       "</div>"
      ],
      "text/plain": [
       "       user_id  item_id  rating  timestamp\n",
       "0          196      242       3  881250949\n",
       "1          186      302       3  891717742\n",
       "2           22      377       1  878887116\n",
       "3          244       51       2  880606923\n",
       "4          166      346       1  886397596\n",
       "...        ...      ...     ...        ...\n",
       "99995      880      476       3  880175444\n",
       "99996      716      204       5  879795543\n",
       "99997      276     1090       1  874795795\n",
       "99998       13      225       2  882399156\n",
       "99999       12      203       3  879959583\n",
       "\n",
       "[100000 rows x 4 columns]"
      ]
     },
     "execution_count": 2,
     "metadata": {},
     "output_type": "execute_result"
    }
   ],
   "source": [
    "import pandas as pd\n",
    "\n",
    "raw_ratings = pd.read_csv(ML_100K_FOLDER / \"u.data\", sep='\\t',\n",
    "                          names=[\"user_id\", \"item_id\", \"rating\", \"timestamp\"])\n",
    "raw_ratings"
   ]
  },
  {
   "cell_type": "markdown",
   "metadata": {},
   "source": [
    "The second file we'll look at is the movie metadata. This file (u.item) contains information about each movie, including the title and release date. Each line in the file is formatted as:\n",
    "\n",
    "`movie_id | movie_title | release_date | video_release_date | IMDb_URL | unknown | Action | Adventure | Animation | Children's | Comedy | Crime | Documentary | Drama | Fantasy | Film-Noir | Horror | Musical | Mystery | Romance | Sci-Fi | Thriller | War | Western`\n",
    "\n",
    "As you can see, the genres are binary variables. As with one-hot encoding, a 1 indicates that the movie is of that genre, and a 0 indicates that it is not. We aren't going to work with the genre data in this lab, but it's easy to imagine that it could be useful in a real-world recommendation system."
   ]
  },
  {
   "cell_type": "code",
   "execution_count": 3,
   "metadata": {},
   "outputs": [
    {
     "data": {
      "text/html": [
       "<div>\n",
       "<style scoped>\n",
       "    .dataframe tbody tr th:only-of-type {\n",
       "        vertical-align: middle;\n",
       "    }\n",
       "\n",
       "    .dataframe tbody tr th {\n",
       "        vertical-align: top;\n",
       "    }\n",
       "\n",
       "    .dataframe thead th {\n",
       "        text-align: right;\n",
       "    }\n",
       "</style>\n",
       "<table border=\"1\" class=\"dataframe\">\n",
       "  <thead>\n",
       "    <tr style=\"text-align: right;\">\n",
       "      <th></th>\n",
       "      <th>item_id</th>\n",
       "      <th>title</th>\n",
       "      <th>release_date</th>\n",
       "      <th>video_release_date</th>\n",
       "      <th>imdb_url</th>\n",
       "    </tr>\n",
       "  </thead>\n",
       "  <tbody>\n",
       "    <tr>\n",
       "      <th>0</th>\n",
       "      <td>1</td>\n",
       "      <td>Toy Story (1995)</td>\n",
       "      <td>01-Jan-1995</td>\n",
       "      <td>NaN</td>\n",
       "      <td>http://us.imdb.com/M/title-exact?Toy%20Story%2...</td>\n",
       "    </tr>\n",
       "    <tr>\n",
       "      <th>1</th>\n",
       "      <td>2</td>\n",
       "      <td>GoldenEye (1995)</td>\n",
       "      <td>01-Jan-1995</td>\n",
       "      <td>NaN</td>\n",
       "      <td>http://us.imdb.com/M/title-exact?GoldenEye%20(...</td>\n",
       "    </tr>\n",
       "    <tr>\n",
       "      <th>2</th>\n",
       "      <td>3</td>\n",
       "      <td>Four Rooms (1995)</td>\n",
       "      <td>01-Jan-1995</td>\n",
       "      <td>NaN</td>\n",
       "      <td>http://us.imdb.com/M/title-exact?Four%20Rooms%...</td>\n",
       "    </tr>\n",
       "    <tr>\n",
       "      <th>3</th>\n",
       "      <td>4</td>\n",
       "      <td>Get Shorty (1995)</td>\n",
       "      <td>01-Jan-1995</td>\n",
       "      <td>NaN</td>\n",
       "      <td>http://us.imdb.com/M/title-exact?Get%20Shorty%...</td>\n",
       "    </tr>\n",
       "    <tr>\n",
       "      <th>4</th>\n",
       "      <td>5</td>\n",
       "      <td>Copycat (1995)</td>\n",
       "      <td>01-Jan-1995</td>\n",
       "      <td>NaN</td>\n",
       "      <td>http://us.imdb.com/M/title-exact?Copycat%20(1995)</td>\n",
       "    </tr>\n",
       "    <tr>\n",
       "      <th>...</th>\n",
       "      <td>...</td>\n",
       "      <td>...</td>\n",
       "      <td>...</td>\n",
       "      <td>...</td>\n",
       "      <td>...</td>\n",
       "    </tr>\n",
       "    <tr>\n",
       "      <th>1677</th>\n",
       "      <td>1678</td>\n",
       "      <td>Mat' i syn (1997)</td>\n",
       "      <td>06-Feb-1998</td>\n",
       "      <td>NaN</td>\n",
       "      <td>http://us.imdb.com/M/title-exact?Mat%27+i+syn+...</td>\n",
       "    </tr>\n",
       "    <tr>\n",
       "      <th>1678</th>\n",
       "      <td>1679</td>\n",
       "      <td>B. Monkey (1998)</td>\n",
       "      <td>06-Feb-1998</td>\n",
       "      <td>NaN</td>\n",
       "      <td>http://us.imdb.com/M/title-exact?B%2E+Monkey+(...</td>\n",
       "    </tr>\n",
       "    <tr>\n",
       "      <th>1679</th>\n",
       "      <td>1680</td>\n",
       "      <td>Sliding Doors (1998)</td>\n",
       "      <td>01-Jan-1998</td>\n",
       "      <td>NaN</td>\n",
       "      <td>http://us.imdb.com/Title?Sliding+Doors+(1998)</td>\n",
       "    </tr>\n",
       "    <tr>\n",
       "      <th>1680</th>\n",
       "      <td>1681</td>\n",
       "      <td>You So Crazy (1994)</td>\n",
       "      <td>01-Jan-1994</td>\n",
       "      <td>NaN</td>\n",
       "      <td>http://us.imdb.com/M/title-exact?You%20So%20Cr...</td>\n",
       "    </tr>\n",
       "    <tr>\n",
       "      <th>1681</th>\n",
       "      <td>1682</td>\n",
       "      <td>Scream of Stone (Schrei aus Stein) (1991)</td>\n",
       "      <td>08-Mar-1996</td>\n",
       "      <td>NaN</td>\n",
       "      <td>http://us.imdb.com/M/title-exact?Schrei%20aus%...</td>\n",
       "    </tr>\n",
       "  </tbody>\n",
       "</table>\n",
       "<p>1682 rows × 5 columns</p>\n",
       "</div>"
      ],
      "text/plain": [
       "      item_id                                      title release_date  \\\n",
       "0           1                           Toy Story (1995)  01-Jan-1995   \n",
       "1           2                           GoldenEye (1995)  01-Jan-1995   \n",
       "2           3                          Four Rooms (1995)  01-Jan-1995   \n",
       "3           4                          Get Shorty (1995)  01-Jan-1995   \n",
       "4           5                             Copycat (1995)  01-Jan-1995   \n",
       "...       ...                                        ...          ...   \n",
       "1677     1678                          Mat' i syn (1997)  06-Feb-1998   \n",
       "1678     1679                           B. Monkey (1998)  06-Feb-1998   \n",
       "1679     1680                       Sliding Doors (1998)  01-Jan-1998   \n",
       "1680     1681                        You So Crazy (1994)  01-Jan-1994   \n",
       "1681     1682  Scream of Stone (Schrei aus Stein) (1991)  08-Mar-1996   \n",
       "\n",
       "      video_release_date                                           imdb_url  \n",
       "0                    NaN  http://us.imdb.com/M/title-exact?Toy%20Story%2...  \n",
       "1                    NaN  http://us.imdb.com/M/title-exact?GoldenEye%20(...  \n",
       "2                    NaN  http://us.imdb.com/M/title-exact?Four%20Rooms%...  \n",
       "3                    NaN  http://us.imdb.com/M/title-exact?Get%20Shorty%...  \n",
       "4                    NaN  http://us.imdb.com/M/title-exact?Copycat%20(1995)  \n",
       "...                  ...                                                ...  \n",
       "1677                 NaN  http://us.imdb.com/M/title-exact?Mat%27+i+syn+...  \n",
       "1678                 NaN  http://us.imdb.com/M/title-exact?B%2E+Monkey+(...  \n",
       "1679                 NaN      http://us.imdb.com/Title?Sliding+Doors+(1998)  \n",
       "1680                 NaN  http://us.imdb.com/M/title-exact?You%20So%20Cr...  \n",
       "1681                 NaN  http://us.imdb.com/M/title-exact?Schrei%20aus%...  \n",
       "\n",
       "[1682 rows x 5 columns]"
      ]
     },
     "execution_count": 3,
     "metadata": {},
     "output_type": "execute_result"
    }
   ],
   "source": [
    "columns_to_keep = ['item_id', 'title', 'release_date', 'video_release_date', 'imdb_url']\n",
    "items = pd.read_csv(ML_100K_FOLDER / \"u.item\", sep='|', names=columns_to_keep,\n",
    "                    encoding='latin-1', usecols=range(5))\n",
    "items"
   ]
  },
  {
   "cell_type": "markdown",
   "metadata": {},
   "source": [
    "By default, the `release_date` column is a string. We can convert it to a `datetime` object using the `pd.to_datetime` function. This will make it easier to work with in the future (if we want to do things like check which date came first, for example).\n",
    " \n",
    "We can also extract the year from the date and store it in a separate column. This will make it easier to do things like plot the number of movies released each year."
   ]
  },
  {
   "cell_type": "code",
   "execution_count": 4,
   "metadata": {},
   "outputs": [],
   "source": [
    "items['release_date'] = pd.to_datetime(items['release_date']) # Pandas makes this easy!\n",
    "items['release_year'] = items['release_date'].dt.year # For later use"
   ]
  },
  {
   "cell_type": "markdown",
   "metadata": {},
   "source": [
    "For our purposes, it will be easier to work with the data if we merge our two dataframes into a single dataframe. We can do this using the `merge` method. We'll merge the `items` dataframe into the `raw_ratings` dataframe, using the `item_id` column as the key. This will add the movie title and release year to each rating."
   ]
  },
  {
   "cell_type": "code",
   "execution_count": 5,
   "metadata": {},
   "outputs": [],
   "source": [
    "all_ratings = pd.merge(items, raw_ratings)"
   ]
  },
  {
   "cell_type": "code",
   "execution_count": 6,
   "metadata": {},
   "outputs": [
    {
     "data": {
      "text/html": [
       "<div>\n",
       "<style scoped>\n",
       "    .dataframe tbody tr th:only-of-type {\n",
       "        vertical-align: middle;\n",
       "    }\n",
       "\n",
       "    .dataframe tbody tr th {\n",
       "        vertical-align: top;\n",
       "    }\n",
       "\n",
       "    .dataframe thead th {\n",
       "        text-align: right;\n",
       "    }\n",
       "</style>\n",
       "<table border=\"1\" class=\"dataframe\">\n",
       "  <thead>\n",
       "    <tr style=\"text-align: right;\">\n",
       "      <th></th>\n",
       "      <th>item_id</th>\n",
       "      <th>title</th>\n",
       "      <th>release_date</th>\n",
       "      <th>video_release_date</th>\n",
       "      <th>imdb_url</th>\n",
       "      <th>release_year</th>\n",
       "      <th>user_id</th>\n",
       "      <th>rating</th>\n",
       "      <th>timestamp</th>\n",
       "    </tr>\n",
       "  </thead>\n",
       "  <tbody>\n",
       "    <tr>\n",
       "      <th>0</th>\n",
       "      <td>1</td>\n",
       "      <td>Toy Story (1995)</td>\n",
       "      <td>1995-01-01</td>\n",
       "      <td>NaN</td>\n",
       "      <td>http://us.imdb.com/M/title-exact?Toy%20Story%2...</td>\n",
       "      <td>1995.0</td>\n",
       "      <td>308</td>\n",
       "      <td>4</td>\n",
       "      <td>887736532</td>\n",
       "    </tr>\n",
       "    <tr>\n",
       "      <th>1</th>\n",
       "      <td>1</td>\n",
       "      <td>Toy Story (1995)</td>\n",
       "      <td>1995-01-01</td>\n",
       "      <td>NaN</td>\n",
       "      <td>http://us.imdb.com/M/title-exact?Toy%20Story%2...</td>\n",
       "      <td>1995.0</td>\n",
       "      <td>287</td>\n",
       "      <td>5</td>\n",
       "      <td>875334088</td>\n",
       "    </tr>\n",
       "    <tr>\n",
       "      <th>2</th>\n",
       "      <td>1</td>\n",
       "      <td>Toy Story (1995)</td>\n",
       "      <td>1995-01-01</td>\n",
       "      <td>NaN</td>\n",
       "      <td>http://us.imdb.com/M/title-exact?Toy%20Story%2...</td>\n",
       "      <td>1995.0</td>\n",
       "      <td>148</td>\n",
       "      <td>4</td>\n",
       "      <td>877019411</td>\n",
       "    </tr>\n",
       "    <tr>\n",
       "      <th>3</th>\n",
       "      <td>1</td>\n",
       "      <td>Toy Story (1995)</td>\n",
       "      <td>1995-01-01</td>\n",
       "      <td>NaN</td>\n",
       "      <td>http://us.imdb.com/M/title-exact?Toy%20Story%2...</td>\n",
       "      <td>1995.0</td>\n",
       "      <td>280</td>\n",
       "      <td>4</td>\n",
       "      <td>891700426</td>\n",
       "    </tr>\n",
       "    <tr>\n",
       "      <th>4</th>\n",
       "      <td>1</td>\n",
       "      <td>Toy Story (1995)</td>\n",
       "      <td>1995-01-01</td>\n",
       "      <td>NaN</td>\n",
       "      <td>http://us.imdb.com/M/title-exact?Toy%20Story%2...</td>\n",
       "      <td>1995.0</td>\n",
       "      <td>66</td>\n",
       "      <td>3</td>\n",
       "      <td>883601324</td>\n",
       "    </tr>\n",
       "  </tbody>\n",
       "</table>\n",
       "</div>"
      ],
      "text/plain": [
       "   item_id             title release_date  video_release_date  \\\n",
       "0        1  Toy Story (1995)   1995-01-01                 NaN   \n",
       "1        1  Toy Story (1995)   1995-01-01                 NaN   \n",
       "2        1  Toy Story (1995)   1995-01-01                 NaN   \n",
       "3        1  Toy Story (1995)   1995-01-01                 NaN   \n",
       "4        1  Toy Story (1995)   1995-01-01                 NaN   \n",
       "\n",
       "                                            imdb_url  release_year  user_id  \\\n",
       "0  http://us.imdb.com/M/title-exact?Toy%20Story%2...        1995.0      308   \n",
       "1  http://us.imdb.com/M/title-exact?Toy%20Story%2...        1995.0      287   \n",
       "2  http://us.imdb.com/M/title-exact?Toy%20Story%2...        1995.0      148   \n",
       "3  http://us.imdb.com/M/title-exact?Toy%20Story%2...        1995.0      280   \n",
       "4  http://us.imdb.com/M/title-exact?Toy%20Story%2...        1995.0       66   \n",
       "\n",
       "   rating  timestamp  \n",
       "0       4  887736532  \n",
       "1       5  875334088  \n",
       "2       4  877019411  \n",
       "3       4  891700426  \n",
       "4       3  883601324  "
      ]
     },
     "execution_count": 6,
     "metadata": {},
     "output_type": "execute_result"
    }
   ],
   "source": [
    "all_ratings.head()"
   ]
  },
  {
   "cell_type": "markdown",
   "metadata": {},
   "source": [
    "### Data preprocessing\n",
    "\n",
    "It's always important to understand the data you've collected. Thankfully, Pandas continues to make this easy for us. Using the `describe` method, we can get a quick statistical summary of the data."
   ]
  },
  {
   "cell_type": "code",
   "execution_count": 7,
   "metadata": {},
   "outputs": [
    {
     "data": {
      "text/html": [
       "<div>\n",
       "<style scoped>\n",
       "    .dataframe tbody tr th:only-of-type {\n",
       "        vertical-align: middle;\n",
       "    }\n",
       "\n",
       "    .dataframe tbody tr th {\n",
       "        vertical-align: top;\n",
       "    }\n",
       "\n",
       "    .dataframe thead th {\n",
       "        text-align: right;\n",
       "    }\n",
       "</style>\n",
       "<table border=\"1\" class=\"dataframe\">\n",
       "  <thead>\n",
       "    <tr style=\"text-align: right;\">\n",
       "      <th></th>\n",
       "      <th>item_id</th>\n",
       "      <th>release_date</th>\n",
       "      <th>video_release_date</th>\n",
       "      <th>release_year</th>\n",
       "      <th>user_id</th>\n",
       "      <th>rating</th>\n",
       "      <th>timestamp</th>\n",
       "    </tr>\n",
       "  </thead>\n",
       "  <tbody>\n",
       "    <tr>\n",
       "      <th>count</th>\n",
       "      <td>100000.000000</td>\n",
       "      <td>99991</td>\n",
       "      <td>0.0</td>\n",
       "      <td>99991.000000</td>\n",
       "      <td>100000.00000</td>\n",
       "      <td>100000.000000</td>\n",
       "      <td>1.000000e+05</td>\n",
       "    </tr>\n",
       "    <tr>\n",
       "      <th>mean</th>\n",
       "      <td>425.530130</td>\n",
       "      <td>1988-02-09 00:43:11.369223296</td>\n",
       "      <td>NaN</td>\n",
       "      <td>1987.956216</td>\n",
       "      <td>462.48475</td>\n",
       "      <td>3.529860</td>\n",
       "      <td>8.835289e+08</td>\n",
       "    </tr>\n",
       "    <tr>\n",
       "      <th>min</th>\n",
       "      <td>1.000000</td>\n",
       "      <td>1922-01-01 00:00:00</td>\n",
       "      <td>NaN</td>\n",
       "      <td>1922.000000</td>\n",
       "      <td>1.00000</td>\n",
       "      <td>1.000000</td>\n",
       "      <td>8.747247e+08</td>\n",
       "    </tr>\n",
       "    <tr>\n",
       "      <th>25%</th>\n",
       "      <td>175.000000</td>\n",
       "      <td>1986-01-01 00:00:00</td>\n",
       "      <td>NaN</td>\n",
       "      <td>1986.000000</td>\n",
       "      <td>254.00000</td>\n",
       "      <td>3.000000</td>\n",
       "      <td>8.794487e+08</td>\n",
       "    </tr>\n",
       "    <tr>\n",
       "      <th>50%</th>\n",
       "      <td>322.000000</td>\n",
       "      <td>1994-01-01 00:00:00</td>\n",
       "      <td>NaN</td>\n",
       "      <td>1994.000000</td>\n",
       "      <td>447.00000</td>\n",
       "      <td>4.000000</td>\n",
       "      <td>8.828269e+08</td>\n",
       "    </tr>\n",
       "    <tr>\n",
       "      <th>75%</th>\n",
       "      <td>631.000000</td>\n",
       "      <td>1996-09-28 00:00:00</td>\n",
       "      <td>NaN</td>\n",
       "      <td>1996.000000</td>\n",
       "      <td>682.00000</td>\n",
       "      <td>4.000000</td>\n",
       "      <td>8.882600e+08</td>\n",
       "    </tr>\n",
       "    <tr>\n",
       "      <th>max</th>\n",
       "      <td>1682.000000</td>\n",
       "      <td>1998-10-23 00:00:00</td>\n",
       "      <td>NaN</td>\n",
       "      <td>1998.000000</td>\n",
       "      <td>943.00000</td>\n",
       "      <td>5.000000</td>\n",
       "      <td>8.932866e+08</td>\n",
       "    </tr>\n",
       "    <tr>\n",
       "      <th>std</th>\n",
       "      <td>330.798356</td>\n",
       "      <td>NaN</td>\n",
       "      <td>NaN</td>\n",
       "      <td>14.155523</td>\n",
       "      <td>266.61442</td>\n",
       "      <td>1.125674</td>\n",
       "      <td>5.343856e+06</td>\n",
       "    </tr>\n",
       "  </tbody>\n",
       "</table>\n",
       "</div>"
      ],
      "text/plain": [
       "             item_id                   release_date  video_release_date  \\\n",
       "count  100000.000000                          99991                 0.0   \n",
       "mean      425.530130  1988-02-09 00:43:11.369223296                 NaN   \n",
       "min         1.000000            1922-01-01 00:00:00                 NaN   \n",
       "25%       175.000000            1986-01-01 00:00:00                 NaN   \n",
       "50%       322.000000            1994-01-01 00:00:00                 NaN   \n",
       "75%       631.000000            1996-09-28 00:00:00                 NaN   \n",
       "max      1682.000000            1998-10-23 00:00:00                 NaN   \n",
       "std       330.798356                            NaN                 NaN   \n",
       "\n",
       "       release_year       user_id         rating     timestamp  \n",
       "count  99991.000000  100000.00000  100000.000000  1.000000e+05  \n",
       "mean    1987.956216     462.48475       3.529860  8.835289e+08  \n",
       "min     1922.000000       1.00000       1.000000  8.747247e+08  \n",
       "25%     1986.000000     254.00000       3.000000  8.794487e+08  \n",
       "50%     1994.000000     447.00000       4.000000  8.828269e+08  \n",
       "75%     1996.000000     682.00000       4.000000  8.882600e+08  \n",
       "max     1998.000000     943.00000       5.000000  8.932866e+08  \n",
       "std       14.155523     266.61442       1.125674  5.343856e+06  "
      ]
     },
     "execution_count": 7,
     "metadata": {},
     "output_type": "execute_result"
    }
   ],
   "source": [
    "all_ratings.describe()"
   ]
  },
  {
   "cell_type": "markdown",
   "metadata": {},
   "source": [
    "Let's do a bit more pandas magic to compute the popularity of each movie (number of ratings). We will use the `groupby` method to group the dataframe by the `item_id` column and then use the `size` method to compute the number of ratings for each movie. We will use the `reset_index` method to convert the resulting Series into a dataframe with an `item_id` column."
   ]
  },
  {
   "cell_type": "code",
   "execution_count": 8,
   "metadata": {},
   "outputs": [],
   "source": [
    "popularity = all_ratings.groupby('item_id').size().reset_index(name='popularity')\n",
    "items = pd.merge(popularity, items)"
   ]
  },
  {
   "cell_type": "code",
   "execution_count": 9,
   "metadata": {},
   "outputs": [
    {
     "data": {
      "image/png": "[encoded data removed]",
      "text/plain": [
       "<Figure size 640x480 with 1 Axes>"
      ]
     },
     "metadata": {},
     "output_type": "display_data"
    }
   ],
   "source": [
    "items['popularity'].plot.hist(bins=30);"
   ]
  },
  {
   "cell_type": "code",
   "execution_count": 10,
   "metadata": {},
   "outputs": [
    {
     "data": {
      "text/plain": [
       "141"
      ]
     },
     "execution_count": 10,
     "metadata": {},
     "output_type": "execute_result"
    }
   ],
   "source": [
    "(items['popularity'] == 1).sum() # Number of movies with only one rating"
   ]
  },
  {
   "cell_type": "code",
   "execution_count": 11,
   "metadata": {},
   "outputs": [
    {
     "data": {
      "text/plain": [
       "49                  Star Wars (1977)\n",
       "257                   Contact (1997)\n",
       "99                      Fargo (1996)\n",
       "180        Return of the Jedi (1983)\n",
       "293                 Liar Liar (1997)\n",
       "285      English Patient, The (1996)\n",
       "287                    Scream (1996)\n",
       "0                   Toy Story (1995)\n",
       "299             Air Force One (1997)\n",
       "120    Independence Day (ID4) (1996)\n",
       "Name: title, dtype: object"
      ]
     },
     "execution_count": 11,
     "metadata": {},
     "output_type": "execute_result"
    }
   ],
   "source": [
    "items.nlargest(10, 'popularity')['title'] # Get the 10 most popular movies"
   ]
  },
  {
   "cell_type": "code",
   "execution_count": 12,
   "metadata": {},
   "outputs": [
    {
     "data": {
      "text/html": [
       "<div>\n",
       "<style scoped>\n",
       "    .dataframe tbody tr th:only-of-type {\n",
       "        vertical-align: middle;\n",
       "    }\n",
       "\n",
       "    .dataframe tbody tr th {\n",
       "        vertical-align: top;\n",
       "    }\n",
       "\n",
       "    .dataframe thead th {\n",
       "        text-align: right;\n",
       "    }\n",
       "</style>\n",
       "<table border=\"1\" class=\"dataframe\">\n",
       "  <thead>\n",
       "    <tr style=\"text-align: right;\">\n",
       "      <th></th>\n",
       "      <th>item_id</th>\n",
       "      <th>popularity</th>\n",
       "      <th>release_date</th>\n",
       "      <th>video_release_date</th>\n",
       "      <th>release_year</th>\n",
       "      <th>user_id</th>\n",
       "      <th>rating</th>\n",
       "      <th>timestamp</th>\n",
       "    </tr>\n",
       "  </thead>\n",
       "  <tbody>\n",
       "    <tr>\n",
       "      <th>count</th>\n",
       "      <td>100000.000000</td>\n",
       "      <td>100000.000000</td>\n",
       "      <td>99991</td>\n",
       "      <td>0.0</td>\n",
       "      <td>99991.000000</td>\n",
       "      <td>100000.00000</td>\n",
       "      <td>100000.000000</td>\n",
       "      <td>1.000000e+05</td>\n",
       "    </tr>\n",
       "    <tr>\n",
       "      <th>mean</th>\n",
       "      <td>425.530130</td>\n",
       "      <td>168.071900</td>\n",
       "      <td>1988-02-09 00:43:11.369223296</td>\n",
       "      <td>NaN</td>\n",
       "      <td>1987.956216</td>\n",
       "      <td>462.48475</td>\n",
       "      <td>3.529860</td>\n",
       "      <td>8.835289e+08</td>\n",
       "    </tr>\n",
       "    <tr>\n",
       "      <th>min</th>\n",
       "      <td>1.000000</td>\n",
       "      <td>1.000000</td>\n",
       "      <td>1922-01-01 00:00:00</td>\n",
       "      <td>NaN</td>\n",
       "      <td>1922.000000</td>\n",
       "      <td>1.00000</td>\n",
       "      <td>1.000000</td>\n",
       "      <td>8.747247e+08</td>\n",
       "    </tr>\n",
       "    <tr>\n",
       "      <th>25%</th>\n",
       "      <td>175.000000</td>\n",
       "      <td>71.000000</td>\n",
       "      <td>1986-01-01 00:00:00</td>\n",
       "      <td>NaN</td>\n",
       "      <td>1986.000000</td>\n",
       "      <td>254.00000</td>\n",
       "      <td>3.000000</td>\n",
       "      <td>8.794487e+08</td>\n",
       "    </tr>\n",
       "    <tr>\n",
       "      <th>50%</th>\n",
       "      <td>322.000000</td>\n",
       "      <td>145.000000</td>\n",
       "      <td>1994-01-01 00:00:00</td>\n",
       "      <td>NaN</td>\n",
       "      <td>1994.000000</td>\n",
       "      <td>447.00000</td>\n",
       "      <td>4.000000</td>\n",
       "      <td>8.828269e+08</td>\n",
       "    </tr>\n",
       "    <tr>\n",
       "      <th>75%</th>\n",
       "      <td>631.000000</td>\n",
       "      <td>239.000000</td>\n",
       "      <td>1996-09-28 00:00:00</td>\n",
       "      <td>NaN</td>\n",
       "      <td>1996.000000</td>\n",
       "      <td>682.00000</td>\n",
       "      <td>4.000000</td>\n",
       "      <td>8.882600e+08</td>\n",
       "    </tr>\n",
       "    <tr>\n",
       "      <th>max</th>\n",
       "      <td>1682.000000</td>\n",
       "      <td>583.000000</td>\n",
       "      <td>1998-10-23 00:00:00</td>\n",
       "      <td>NaN</td>\n",
       "      <td>1998.000000</td>\n",
       "      <td>943.00000</td>\n",
       "      <td>5.000000</td>\n",
       "      <td>8.932866e+08</td>\n",
       "    </tr>\n",
       "    <tr>\n",
       "      <th>std</th>\n",
       "      <td>330.798356</td>\n",
       "      <td>121.784558</td>\n",
       "      <td>NaN</td>\n",
       "      <td>NaN</td>\n",
       "      <td>14.155523</td>\n",
       "      <td>266.61442</td>\n",
       "      <td>1.125674</td>\n",
       "      <td>5.343856e+06</td>\n",
       "    </tr>\n",
       "  </tbody>\n",
       "</table>\n",
       "</div>"
      ],
      "text/plain": [
       "             item_id     popularity                   release_date  \\\n",
       "count  100000.000000  100000.000000                          99991   \n",
       "mean      425.530130     168.071900  1988-02-09 00:43:11.369223296   \n",
       "min         1.000000       1.000000            1922-01-01 00:00:00   \n",
       "25%       175.000000      71.000000            1986-01-01 00:00:00   \n",
       "50%       322.000000     145.000000            1994-01-01 00:00:00   \n",
       "75%       631.000000     239.000000            1996-09-28 00:00:00   \n",
       "max      1682.000000     583.000000            1998-10-23 00:00:00   \n",
       "std       330.798356     121.784558                            NaN   \n",
       "\n",
       "       video_release_date  release_year       user_id         rating  \\\n",
       "count                 0.0  99991.000000  100000.00000  100000.000000   \n",
       "mean                  NaN   1987.956216     462.48475       3.529860   \n",
       "min                   NaN   1922.000000       1.00000       1.000000   \n",
       "25%                   NaN   1986.000000     254.00000       3.000000   \n",
       "50%                   NaN   1994.000000     447.00000       4.000000   \n",
       "75%                   NaN   1996.000000     682.00000       4.000000   \n",
       "max                   NaN   1998.000000     943.00000       5.000000   \n",
       "std                   NaN     14.155523     266.61442       1.125674   \n",
       "\n",
       "          timestamp  \n",
       "count  1.000000e+05  \n",
       "mean   8.835289e+08  \n",
       "min    8.747247e+08  \n",
       "25%    8.794487e+08  \n",
       "50%    8.828269e+08  \n",
       "75%    8.882600e+08  \n",
       "max    8.932866e+08  \n",
       "std    5.343856e+06  "
      ]
     },
     "execution_count": 12,
     "metadata": {},
     "output_type": "execute_result"
    }
   ],
   "source": [
    "all_ratings = pd.merge(popularity, all_ratings)\n",
    "all_ratings.describe()"
   ]
  },
  {
   "cell_type": "code",
   "execution_count": 13,
   "metadata": {
    "collapsed": false
   },
   "outputs": [],
   "source": [
    "indexed_items = items.set_index('item_id')"
   ]
  },
  {
   "cell_type": "code",
   "execution_count": 14,
   "metadata": {},
   "outputs": [
    {
     "data": {
      "text/html": [
       "<div>\n",
       "<style scoped>\n",
       "    .dataframe tbody tr th:only-of-type {\n",
       "        vertical-align: middle;\n",
       "    }\n",
       "\n",
       "    .dataframe tbody tr th {\n",
       "        vertical-align: top;\n",
       "    }\n",
       "\n",
       "    .dataframe thead th {\n",
       "        text-align: right;\n",
       "    }\n",
       "</style>\n",
       "<table border=\"1\" class=\"dataframe\">\n",
       "  <thead>\n",
       "    <tr style=\"text-align: right;\">\n",
       "      <th></th>\n",
       "      <th>item_id</th>\n",
       "      <th>popularity</th>\n",
       "      <th>title</th>\n",
       "      <th>release_date</th>\n",
       "      <th>video_release_date</th>\n",
       "      <th>imdb_url</th>\n",
       "      <th>release_year</th>\n",
       "      <th>user_id</th>\n",
       "      <th>rating</th>\n",
       "      <th>timestamp</th>\n",
       "    </tr>\n",
       "  </thead>\n",
       "  <tbody>\n",
       "    <tr>\n",
       "      <th>0</th>\n",
       "      <td>1</td>\n",
       "      <td>452</td>\n",
       "      <td>Toy Story (1995)</td>\n",
       "      <td>1995-01-01</td>\n",
       "      <td>NaN</td>\n",
       "      <td>http://us.imdb.com/M/title-exact?Toy%20Story%2...</td>\n",
       "      <td>1995.0</td>\n",
       "      <td>308</td>\n",
       "      <td>4</td>\n",
       "      <td>887736532</td>\n",
       "    </tr>\n",
       "    <tr>\n",
       "      <th>1</th>\n",
       "      <td>1</td>\n",
       "      <td>452</td>\n",
       "      <td>Toy Story (1995)</td>\n",
       "      <td>1995-01-01</td>\n",
       "      <td>NaN</td>\n",
       "      <td>http://us.imdb.com/M/title-exact?Toy%20Story%2...</td>\n",
       "      <td>1995.0</td>\n",
       "      <td>287</td>\n",
       "      <td>5</td>\n",
       "      <td>875334088</td>\n",
       "    </tr>\n",
       "    <tr>\n",
       "      <th>2</th>\n",
       "      <td>1</td>\n",
       "      <td>452</td>\n",
       "      <td>Toy Story (1995)</td>\n",
       "      <td>1995-01-01</td>\n",
       "      <td>NaN</td>\n",
       "      <td>http://us.imdb.com/M/title-exact?Toy%20Story%2...</td>\n",
       "      <td>1995.0</td>\n",
       "      <td>148</td>\n",
       "      <td>4</td>\n",
       "      <td>877019411</td>\n",
       "    </tr>\n",
       "    <tr>\n",
       "      <th>3</th>\n",
       "      <td>1</td>\n",
       "      <td>452</td>\n",
       "      <td>Toy Story (1995)</td>\n",
       "      <td>1995-01-01</td>\n",
       "      <td>NaN</td>\n",
       "      <td>http://us.imdb.com/M/title-exact?Toy%20Story%2...</td>\n",
       "      <td>1995.0</td>\n",
       "      <td>280</td>\n",
       "      <td>4</td>\n",
       "      <td>891700426</td>\n",
       "    </tr>\n",
       "    <tr>\n",
       "      <th>4</th>\n",
       "      <td>1</td>\n",
       "      <td>452</td>\n",
       "      <td>Toy Story (1995)</td>\n",
       "      <td>1995-01-01</td>\n",
       "      <td>NaN</td>\n",
       "      <td>http://us.imdb.com/M/title-exact?Toy%20Story%2...</td>\n",
       "      <td>1995.0</td>\n",
       "      <td>66</td>\n",
       "      <td>3</td>\n",
       "      <td>883601324</td>\n",
       "    </tr>\n",
       "  </tbody>\n",
       "</table>\n",
       "</div>"
      ],
      "text/plain": [
       "   item_id  popularity             title release_date  video_release_date  \\\n",
       "0        1         452  Toy Story (1995)   1995-01-01                 NaN   \n",
       "1        1         452  Toy Story (1995)   1995-01-01                 NaN   \n",
       "2        1         452  Toy Story (1995)   1995-01-01                 NaN   \n",
       "3        1         452  Toy Story (1995)   1995-01-01                 NaN   \n",
       "4        1         452  Toy Story (1995)   1995-01-01                 NaN   \n",
       "\n",
       "                                            imdb_url  release_year  user_id  \\\n",
       "0  http://us.imdb.com/M/title-exact?Toy%20Story%2...        1995.0      308   \n",
       "1  http://us.imdb.com/M/title-exact?Toy%20Story%2...        1995.0      287   \n",
       "2  http://us.imdb.com/M/title-exact?Toy%20Story%2...        1995.0      148   \n",
       "3  http://us.imdb.com/M/title-exact?Toy%20Story%2...        1995.0      280   \n",
       "4  http://us.imdb.com/M/title-exact?Toy%20Story%2...        1995.0       66   \n",
       "\n",
       "   rating  timestamp  \n",
       "0       4  887736532  \n",
       "1       5  875334088  \n",
       "2       4  877019411  \n",
       "3       4  891700426  \n",
       "4       3  883601324  "
      ]
     },
     "execution_count": 14,
     "metadata": {},
     "output_type": "execute_result"
    }
   ],
   "source": [
    "all_ratings.head()"
   ]
  },
  {
   "cell_type": "markdown",
   "metadata": {
    "collapsed": false
   },
   "source": [
    "**Quick Exercise**:\n",
    "\n",
    "As we have seen, the `groupby` method is a powerful tool to quickly compute statistics on the data. Use it to compute the average rating for each movie.\n",
    "\n",
    "**Hint**: you can use the `mean` method after the `groupby` method."
   ]
  },
  {
   "cell_type": "code",
   "execution_count": 15,
   "metadata": {
    "collapsed": false
   },
   "outputs": [
    {
     "data": {
      "text/plain": [
       "title\n",
       "'Til There Was You (1997)                2.333333\n",
       "1-900 (1994)                             2.600000\n",
       "101 Dalmatians (1996)                    2.908257\n",
       "12 Angry Men (1957)                      4.344000\n",
       "187 (1997)                               3.024390\n",
       "                                           ...   \n",
       "Young Guns II (1990)                     2.772727\n",
       "Young Poisoner's Handbook, The (1995)    3.341463\n",
       "Zeus and Roxanne (1997)                  2.166667\n",
       "unknown                                  3.444444\n",
       "Á köldum klaka (Cold Fever) (1994)       3.000000\n",
       "Name: rating, Length: 1664, dtype: float64"
      ]
     },
     "execution_count": 15,
     "metadata": {},
     "output_type": "execute_result"
    }
   ],
   "source": [
    "# Your code here\n",
    "all_ratings.groupby('title')['rating'].mean()"
   ]
  },
  {
   "cell_type": "markdown",
   "metadata": {},
   "source": [
    "Let's split the enriched data in a train / test split to make it possible to do predictive modeling:"
   ]
  },
  {
   "cell_type": "code",
   "execution_count": 16,
   "metadata": {},
   "outputs": [],
   "source": [
    "from sklearn.model_selection import train_test_split\n",
    "\n",
    "ratings_train, ratings_test = train_test_split(\n",
    "    all_ratings, test_size=0.2, random_state=0)\n",
    "\n",
    "user_id_train = np.array(ratings_train['user_id'])\n",
    "item_id_train = np.array(ratings_train['item_id'])\n",
    "rating_train = np.array(ratings_train['rating'])\n",
    "\n",
    "user_id_test = np.array(ratings_test['user_id'])\n",
    "item_id_test = np.array(ratings_test['item_id'])\n",
    "rating_test = np.array(ratings_test['rating'])"
   ]
  },
  {
   "cell_type": "markdown",
   "metadata": {},
   "source": [
    "# Explicit feedback: supervised ratings prediction\n",
    "\n",
    "Now let's begin to do some recommendation! We will build a model that takes a user and a movie as input and outputs a predicted rating. We will be taking advantage of embeddings to represent users and movies. That means that each movie and user will have an abstract representation in a continuous vector space. The model will learn these representations based on the ratings."
   ]
  },
  {
   "cell_type": "markdown",
   "metadata": {},
   "source": [
    "## Predictive ratings  as a regression problem\n",
    "\n",
    "The following code implements the following architecture:\n",
    "\n",
    "<img src=\"https://raw.githubusercontent.com/UofT-DSI/deep_learning/main/notebooks/images/rec_archi_1.svg\" style=\"width: 600px;\" />"
   ]
  },
  {
   "cell_type": "code",
   "execution_count": 17,
   "metadata": {},
   "outputs": [],
   "source": [
    "from tensorflow.keras.layers import Embedding, Flatten, Dense, Dropout\n",
    "from tensorflow.keras.layers import Dot\n",
    "from tensorflow.keras.models import Model"
   ]
  },
  {
   "cell_type": "code",
   "execution_count": 18,
   "metadata": {},
   "outputs": [
    {
     "name": "stderr",
     "output_type": "stream",
     "text": [
      "c:\\Users\\shabiga\\scaling_to_production\\.conda\\lib\\site-packages\\keras\\src\\layers\\core\\embedding.py:90: UserWarning: Argument `input_length` is deprecated. Just remove it.\n",
      "  warnings.warn(\n"
     ]
    }
   ],
   "source": [
    "# For each sample we input the integer identifiers\n",
    "# of a single user and a single item\n",
    "class RegressionModel(Model):\n",
    "    def __init__(self, embedding_size, max_user_id, max_item_id):\n",
    "        super().__init__()\n",
    "        \n",
    "        self.user_embedding = Embedding(output_dim=embedding_size,\n",
    "                                        input_dim=max_user_id + 1,\n",
    "                                        input_length=1,\n",
    "                                        name='user_embedding')\n",
    "        self.item_embedding = Embedding(output_dim=embedding_size,\n",
    "                                        input_dim=max_item_id + 1,\n",
    "                                        input_length=1,\n",
    "                                        name='item_embedding')\n",
    "        \n",
    "        # The following two layers don't have parameters.\n",
    "        self.flatten = Flatten()\n",
    "        self.dot = Dot(axes=1)\n",
    "        \n",
    "    def call(self, inputs):\n",
    "        user_inputs = inputs[0]\n",
    "        item_inputs = inputs[1]\n",
    "        \n",
    "        user_vecs = self.flatten(self.user_embedding(user_inputs))\n",
    "        item_vecs = self.flatten(self.item_embedding(item_inputs))\n",
    "        \n",
    "        y = self.dot([user_vecs, item_vecs])\n",
    "        return y\n",
    "\n",
    "\n",
    "model = RegressionModel(embedding_size=64, max_user_id=all_ratings['user_id'].max(), max_item_id=all_ratings['item_id'].max())\n",
    "model.compile(optimizer=\"adam\", loss='mae')"
   ]
  },
  {
   "cell_type": "markdown",
   "metadata": {},
   "source": [
    "### Monitoring runs\n",
    "\n",
    "When training a model with Keras, we get a `history` object back that contains lots of information about the training run. We can use this to plot the training and validation loss to see how the model has improved during training."
   ]
  },
  {
   "cell_type": "code",
   "execution_count": 19,
   "metadata": {},
   "outputs": [
    {
     "name": "stdout",
     "output_type": "stream",
     "text": [
      "Epoch 1/10\n",
      "\u001b[1m1125/1125\u001b[0m \u001b[32m━━━━━━━━━━━━━━━━━━━━\u001b[0m\u001b[37m\u001b[0m \u001b[1m2s\u001b[0m 1ms/step - loss: 3.3038 - val_loss: 1.0453\n",
      "Epoch 2/10\n",
      "\u001b[1m1125/1125\u001b[0m \u001b[32m━━━━━━━━━━━━━━━━━━━━\u001b[0m\u001b[37m\u001b[0m \u001b[1m1s\u001b[0m 944us/step - loss: 0.9032 - val_loss: 0.7936\n",
      "Epoch 3/10\n",
      "\u001b[1m1125/1125\u001b[0m \u001b[32m━━━━━━━━━━━━━━━━━━━━\u001b[0m\u001b[37m\u001b[0m \u001b[1m1s\u001b[0m 966us/step - loss: 0.7547 - val_loss: 0.7655\n",
      "Epoch 4/10\n",
      "\u001b[1m1125/1125\u001b[0m \u001b[32m━━━━━━━━━━━━━━━━━━━━\u001b[0m\u001b[37m\u001b[0m \u001b[1m1s\u001b[0m 983us/step - loss: 0.7160 - val_loss: 0.7551\n",
      "Epoch 5/10\n",
      "\u001b[1m1125/1125\u001b[0m \u001b[32m━━━━━━━━━━━━━━━━━━━━\u001b[0m\u001b[37m\u001b[0m \u001b[1m1s\u001b[0m 972us/step - loss: 0.6917 - val_loss: 0.7441\n",
      "Epoch 6/10\n",
      "\u001b[1m1125/1125\u001b[0m \u001b[32m━━━━━━━━━━━━━━━━━━━━\u001b[0m\u001b[37m\u001b[0m \u001b[1m1s\u001b[0m 1ms/step - loss: 0.6745 - val_loss: 0.7448\n",
      "Epoch 7/10\n",
      "\u001b[1m1125/1125\u001b[0m \u001b[32m━━━━━━━━━━━━━━━━━━━━\u001b[0m\u001b[37m\u001b[0m \u001b[1m1s\u001b[0m 1ms/step - loss: 0.6454 - val_loss: 0.7444\n",
      "Epoch 8/10\n",
      "\u001b[1m1125/1125\u001b[0m \u001b[32m━━━━━━━━━━━━━━━━━━━━\u001b[0m\u001b[37m\u001b[0m \u001b[1m1s\u001b[0m 1ms/step - loss: 0.6282 - val_loss: 0.7446\n",
      "Epoch 9/10\n",
      "\u001b[1m1125/1125\u001b[0m \u001b[32m━━━━━━━━━━━━━━━━━━━━\u001b[0m\u001b[37m\u001b[0m \u001b[1m1s\u001b[0m 985us/step - loss: 0.6086 - val_loss: 0.7427\n",
      "Epoch 10/10\n",
      "\u001b[1m1125/1125\u001b[0m \u001b[32m━━━━━━━━━━━━━━━━━━━━\u001b[0m\u001b[37m\u001b[0m \u001b[1m1s\u001b[0m 1ms/step - loss: 0.5874 - val_loss: 0.7419\n",
      "CPU times: total: 33 s\n",
      "Wall time: 12.3 s\n"
     ]
    }
   ],
   "source": [
    "%%time\n",
    "\n",
    "# Training the model\n",
    "history = model.fit([user_id_train, item_id_train], rating_train,\n",
    "                    batch_size=64, epochs=10, validation_split=0.1,\n",
    "                    shuffle=True)"
   ]
  },
  {
   "cell_type": "code",
   "execution_count": 20,
   "metadata": {},
   "outputs": [
    {
     "data": {
      "image/png": "[encoded data removed]",
      "text/plain": [
       "<Figure size 640x480 with 1 Axes>"
      ]
     },
     "metadata": {},
     "output_type": "display_data"
    }
   ],
   "source": [
    "plt.plot(history.history['loss'], label='train')\n",
    "plt.plot(history.history['val_loss'], label='validation')\n",
    "plt.ylim(0, 2)\n",
    "plt.legend(loc='best')\n",
    "plt.title('Loss');"
   ]
  },
  {
   "cell_type": "markdown",
   "metadata": {},
   "source": [
    "**Questions**:\n",
    "\n",
    "- Does it look like our model has overfit? Why or why not?\n",
    "- Suggest something we could do to prevent overfitting.\n",
    "\n",
    "\n",
    "Now that the model is trained, let's check out the quality of predictions:"
   ]
  },
  {
   "cell_type": "code",
   "execution_count": 21,
   "metadata": {},
   "outputs": [],
   "source": [
    "def plot_predictions(y_true, y_pred):\n",
    "    plt.figure(figsize=(4, 4))\n",
    "    plt.xlim(-1, 6)\n",
    "    plt.xlabel(\"True rating\")\n",
    "    plt.ylim(-1, 6)\n",
    "    plt.ylabel(\"Predicted rating\")\n",
    "    plt.scatter(y_true, y_pred, s=60, alpha=0.01)"
   ]
  },
  {
   "cell_type": "code",
   "execution_count": 22,
   "metadata": {},
   "outputs": [
    {
     "name": "stdout",
     "output_type": "stream",
     "text": [
      "\u001b[1m625/625\u001b[0m \u001b[32m━━━━━━━━━━━━━━━━━━━━\u001b[0m\u001b[37m\u001b[0m \u001b[1m1s\u001b[0m 840us/step\n",
      "Final test MSE: 0.904\n",
      "Final test MAE: 0.733\n"
     ]
    },
    {
     "data": {
      "image/png": "[encoded data removed]",
      "text/plain": [
       "<Figure size 400x400 with 1 Axes>"
      ]
     },
     "metadata": {},
     "output_type": "display_data"
    }
   ],
   "source": [
    "from sklearn.metrics import mean_squared_error\n",
    "from sklearn.metrics import mean_absolute_error\n",
    "\n",
    "test_preds = model.predict([user_id_test, item_id_test])\n",
    "print(\"Final test MSE: %0.3f\" % mean_squared_error(test_preds, rating_test))\n",
    "print(\"Final test MAE: %0.3f\" % mean_absolute_error(test_preds, rating_test))\n",
    "plot_predictions(rating_test, test_preds)"
   ]
  },
  {
   "cell_type": "markdown",
   "metadata": {
    "collapsed": false
   },
   "source": [
    "This graph shows us the range of predicted ratings our model gives, organized by the true rating. We can see that generally, the higher the true rating the higher the predicted rating, although there is quite a range of predictions for each instance. That's okay - our model is very simple, and human preferences are very complex!\n",
    "\n",
    "Taking a look at the Mean Absolute Error, hopefully you got something around 0.75. This means that, on average, our predicted ratings are about 0.75 stars off from the true ratings. This is a pretty good result for a first attempt. We could probably do better with a more complex model, but we'll leave that for another time."
   ]
  },
  {
   "cell_type": "markdown",
   "metadata": {},
   "source": [
    "### Model Embeddings\n",
    "\n",
    "Our model was built with two embedding layers. These layers have learned a representation of both the users and the movies in our dataset. We can extract these representations and use them to find similar movies or users. We can also do interesting exploratory analysis, like finding the most popular movies among our users, or finding the users that are most interested in a given movie."
   ]
  },
  {
   "cell_type": "code",
   "execution_count": 23,
   "metadata": {},
   "outputs": [
    {
     "data": {
      "text/plain": [
       "[(944, 64), (1683, 64)]"
      ]
     },
     "execution_count": 23,
     "metadata": {},
     "output_type": "execute_result"
    }
   ],
   "source": [
    "# weights and shape\n",
    "weights = model.get_weights()\n",
    "[w.shape for w in weights]"
   ]
  },
  {
   "cell_type": "code",
   "execution_count": 24,
   "metadata": {},
   "outputs": [],
   "source": [
    "user_embeddings = weights[0]\n",
    "item_embeddings = weights[1]"
   ]
  },
  {
   "cell_type": "code",
   "execution_count": 25,
   "metadata": {},
   "outputs": [
    {
     "name": "stdout",
     "output_type": "stream",
     "text": [
      "Title for item_id=181: Return of the Jedi (1983)\n"
     ]
    }
   ],
   "source": [
    "item_id = 181\n",
    "print(f\"Title for item_id={item_id}: {indexed_items['title'][item_id]}\")"
   ]
  },
  {
   "cell_type": "code",
   "execution_count": 26,
   "metadata": {},
   "outputs": [
    {
     "name": "stdout",
     "output_type": "stream",
     "text": [
      "Embedding vector for item_id=181\n",
      "[-0.29215333 -0.02548452  0.30495602  0.51461357 -0.20318618  0.5089105\n",
      "  0.15313952  0.27960137  0.25208053 -0.42514667 -0.33776888  0.05829173\n",
      "  0.47453558  0.17655568 -0.13211496  0.17334495  0.42580405 -0.08666924\n",
      "  0.40163368 -0.20293315 -0.41308632 -0.38226014 -0.46226865  0.16840075\n",
      "  0.26477385 -0.3457551   0.5398194   0.28209773 -0.2937313  -0.15790725\n",
      " -0.3003615   0.32431138  0.41525927  0.24369696  0.290694    0.08310032\n",
      " -0.19473113 -0.52697545  0.25667286 -0.52721715 -0.34658772  0.07283445\n",
      "  0.3997622  -0.15791684  0.41788048  0.38005012 -0.26059985 -0.428903\n",
      " -0.34034038 -0.393434    0.20678581  0.3775386  -0.41907427  0.32280204\n",
      "  0.49066448 -0.58601207 -0.0754455  -0.31846818  0.23350489 -0.06627443\n",
      " -0.36352986  0.1107496  -0.00235003 -0.2246325 ]\n",
      "shape: (64,)\n"
     ]
    }
   ],
   "source": [
    "print(f\"Embedding vector for item_id={item_id}\")\n",
    "print(item_embeddings[item_id])\n",
    "print(\"shape:\", item_embeddings[item_id].shape)"
   ]
  },
  {
   "cell_type": "markdown",
   "metadata": {
    "collapsed": false
   },
   "source": [
    "As we discussed in lecture, our embeddings are not directly interpretable - we can't look at, say, a value of 0.297 in the embedding vector and say \"this means that the movie is a drama\". As an aside, there is a field of research dedicated to making _interpretable_ embeddings, but it's not something we'll cover in this course. "
   ]
  },
  {
   "cell_type": "markdown",
   "metadata": {},
   "source": [
    "### Finding our most similar items\n",
    "\n",
    "Now we can have some fun, investigating the embeddings we've learned. We can start by finding the most similar items to a given item. We can do this by computing the cosine similarity between the item's embedding and the embedding of every other item. We can use the `cosine_similarity` function from `sklearn` to do this."
   ]
  },
  {
   "cell_type": "code",
   "execution_count": 27,
   "metadata": {
    "collapsed": false
   },
   "outputs": [],
   "source": [
    "from sklearn.metrics.pairwise import cosine_similarity\n",
    "\n",
    "def cosine(a, b):\n",
    "    # Reshape to the shape our function expects\n",
    "    a = a.reshape(1, -1)\n",
    "    b = b.reshape(1, -1)\n",
    "    return cosine_similarity(a, b)[0, 0]"
   ]
  },
  {
   "cell_type": "code",
   "execution_count": 28,
   "metadata": {},
   "outputs": [
    {
     "name": "stdout",
     "output_type": "stream",
     "text": [
      "Star Wars (1977)\n",
      "Return of the Jedi (1983)\n",
      "Cosine similarity: 0.913\n"
     ]
    }
   ],
   "source": [
    "def print_similarity(item_a, item_b, item_embeddings, titles):\n",
    "    print(titles[item_a])\n",
    "    print(titles[item_b])\n",
    "    similarity = cosine(item_embeddings[item_a],\n",
    "                        item_embeddings[item_b])\n",
    "    print(f\"Cosine similarity: {similarity:.3}\")\n",
    "    \n",
    "print_similarity(50, 181, item_embeddings, indexed_items[\"title\"])"
   ]
  },
  {
   "cell_type": "markdown",
   "metadata": {
    "collapsed": false
   },
   "source": [
    "It makes sense that the original Star Wars, and its later sequel Return of the Jedi have a high similarity. Let's try some other examples:"
   ]
  },
  {
   "cell_type": "code",
   "execution_count": 29,
   "metadata": {},
   "outputs": [
    {
     "name": "stdout",
     "output_type": "stream",
     "text": [
      "Return of the Jedi (1983)\n",
      "Scream (1996)\n",
      "Cosine similarity: 0.705\n"
     ]
    }
   ],
   "source": [
    "print_similarity(181, 288, item_embeddings, indexed_items[\"title\"])"
   ]
  },
  {
   "cell_type": "code",
   "execution_count": 30,
   "metadata": {},
   "outputs": [
    {
     "name": "stdout",
     "output_type": "stream",
     "text": [
      "Return of the Jedi (1983)\n",
      "Toy Story (1995)\n",
      "Cosine similarity: 0.774\n"
     ]
    }
   ],
   "source": [
    "print_similarity(181, 1, item_embeddings, indexed_items[\"title\"])"
   ]
  },
  {
   "cell_type": "code",
   "execution_count": 31,
   "metadata": {},
   "outputs": [
    {
     "name": "stdout",
     "output_type": "stream",
     "text": [
      "Return of the Jedi (1983)\n",
      "Return of the Jedi (1983)\n",
      "Cosine similarity: 1.0\n"
     ]
    }
   ],
   "source": [
    "print_similarity(181, 181, item_embeddings, indexed_items[\"title\"])"
   ]
  },
  {
   "cell_type": "markdown",
   "metadata": {
    "collapsed": false
   },
   "source": [
    "*Quick Exercise*:\n",
    "\n",
    "- Find some other films and compare their similarity. Do the results make sense to you? Can you find a pair of films that are very _dissimilar_?"
   ]
  },
  {
   "cell_type": "code",
   "execution_count": 32,
   "metadata": {
    "collapsed": false
   },
   "outputs": [
    {
     "data": {
      "text/html": [
       "<div>\n",
       "<style scoped>\n",
       "    .dataframe tbody tr th:only-of-type {\n",
       "        vertical-align: middle;\n",
       "    }\n",
       "\n",
       "    .dataframe tbody tr th {\n",
       "        vertical-align: top;\n",
       "    }\n",
       "\n",
       "    .dataframe thead th {\n",
       "        text-align: right;\n",
       "    }\n",
       "</style>\n",
       "<table border=\"1\" class=\"dataframe\">\n",
       "  <thead>\n",
       "    <tr style=\"text-align: right;\">\n",
       "      <th></th>\n",
       "      <th>popularity</th>\n",
       "      <th>title</th>\n",
       "      <th>release_date</th>\n",
       "      <th>video_release_date</th>\n",
       "      <th>imdb_url</th>\n",
       "      <th>release_year</th>\n",
       "    </tr>\n",
       "    <tr>\n",
       "      <th>item_id</th>\n",
       "      <th></th>\n",
       "      <th></th>\n",
       "      <th></th>\n",
       "      <th></th>\n",
       "      <th></th>\n",
       "      <th></th>\n",
       "    </tr>\n",
       "  </thead>\n",
       "  <tbody>\n",
       "    <tr>\n",
       "      <th>82</th>\n",
       "      <td>261</td>\n",
       "      <td>Jurassic Park (1993)</td>\n",
       "      <td>1993-01-01</td>\n",
       "      <td>NaN</td>\n",
       "      <td>http://us.imdb.com/M/title-exact?Jurassic%20Pa...</td>\n",
       "      <td>1993.0</td>\n",
       "    </tr>\n",
       "    <tr>\n",
       "      <th>252</th>\n",
       "      <td>158</td>\n",
       "      <td>Lost World: Jurassic Park, The (1997)</td>\n",
       "      <td>1997-05-23</td>\n",
       "      <td>NaN</td>\n",
       "      <td>http://us.imdb.com/M/title-exact?Lost%20World%...</td>\n",
       "      <td>1997.0</td>\n",
       "    </tr>\n",
       "  </tbody>\n",
       "</table>\n",
       "</div>"
      ],
      "text/plain": [
       "         popularity                                  title release_date  \\\n",
       "item_id                                                                   \n",
       "82              261                   Jurassic Park (1993)   1993-01-01   \n",
       "252             158  Lost World: Jurassic Park, The (1997)   1997-05-23   \n",
       "\n",
       "         video_release_date  \\\n",
       "item_id                       \n",
       "82                      NaN   \n",
       "252                     NaN   \n",
       "\n",
       "                                                  imdb_url  release_year  \n",
       "item_id                                                                   \n",
       "82       http://us.imdb.com/M/title-exact?Jurassic%20Pa...        1993.0  \n",
       "252      http://us.imdb.com/M/title-exact?Lost%20World%...        1997.0  "
      ]
     },
     "execution_count": 32,
     "metadata": {},
     "output_type": "execute_result"
    }
   ],
   "source": [
    "# Code to help you search for a movie title\n",
    "partial_title = \"Jedi\"\n",
    "indexed_items[indexed_items['title'].str.contains(partial_title)]\n",
    "\n",
    "# Your code here\n",
    "partial_title = \"Jurassic\"\n",
    "indexed_items[indexed_items['title'].str.contains(partial_title)]"
   ]
  },
  {
   "cell_type": "markdown",
   "metadata": {
    "collapsed": false
   },
   "source": [
    "Sometimes, even without knowing anything about a user, we can recommend films by asking them about a film that they do like. The code below compares the similarity of a given film to all others, and returns the most similar films."
   ]
  },
  {
   "cell_type": "code",
   "execution_count": 33,
   "metadata": {},
   "outputs": [
    {
     "data": {
      "text/plain": [
       "[(50, 'Star Wars (1977)', 0.99999994),\n",
       " (172, 'Empire Strikes Back, The (1980)', 0.9221021),\n",
       " (181, 'Return of the Jedi (1983)', 0.9127661),\n",
       " (12, 'Usual Suspects, The (1995)', 0.8648729),\n",
       " (127, 'Godfather, The (1972)', 0.8486171),\n",
       " (187, 'Godfather: Part II, The (1974)', 0.8474264),\n",
       " (174, 'Raiders of the Lost Ark (1981)', 0.84646785),\n",
       " (173, 'Princess Bride, The (1987)', 0.8434372),\n",
       " (439, 'Amityville: A New Generation (1993)', 0.8392263),\n",
       " (211, 'M*A*S*H (1970)', 0.8386263)]"
      ]
     },
     "execution_count": 33,
     "metadata": {},
     "output_type": "execute_result"
    }
   ],
   "source": [
    "def most_similar(item_id, item_embeddings, titles,\n",
    "                 top_n=30):\n",
    "    # Compute the cosine similarity between the item and all other items\n",
    "    sims = cosine_similarity(item_embeddings[item_id].reshape(1, -1),\n",
    "                             item_embeddings).ravel()\n",
    "    \n",
    "    # [::-1] makes it possible to reverse the order of a numpy\n",
    "    # array, this is required because most similar items have\n",
    "    # a larger cosine similarity value\n",
    "    sorted_indexes = np.argsort(sims)[::-1]\n",
    "    idxs = sorted_indexes[0:top_n]\n",
    "    return list(zip(idxs, titles[idxs], sims[idxs]))\n",
    "\n",
    "# Find the most similar films to \"Star Wars\"\n",
    "most_similar(50, item_embeddings, indexed_items[\"title\"], top_n=10)"
   ]
  },
  {
   "cell_type": "code",
   "execution_count": 34,
   "metadata": {},
   "outputs": [
    {
     "data": {
      "text/plain": [
       "[(227, 'Star Trek VI: The Undiscovered Country (1991)', 1.0),\n",
       " (164, 'Abyss, The (1989)', 0.8769939),\n",
       " (208, 'Young Frankenstein (1974)', 0.8707961),\n",
       " (1046, 'Malice (1993)', 0.8687854),\n",
       " (559, 'Interview with the Vampire (1994)', 0.86820465),\n",
       " (1657, 'Target (1995)', 0.86502254),\n",
       " (123, 'Frighteners, The (1996)', 0.8625697),\n",
       " (228, 'Star Trek: The Wrath of Khan (1982)', 0.86237466),\n",
       " (226, 'Die Hard 2 (1990)', 0.8620863),\n",
       " (796, 'Speechless (1994)', 0.85707724)]"
      ]
     },
     "execution_count": 34,
     "metadata": {},
     "output_type": "execute_result"
    }
   ],
   "source": [
    "# Find the most similar films to \"Star Trek VI: The Undiscovered Country\"\n",
    "most_similar(227, item_embeddings, indexed_items[\"title\"], top_n=10)"
   ]
  },
  {
   "cell_type": "markdown",
   "metadata": {},
   "source": [
    "The similarities do not always make sense: the number of ratings is low and the embedding  does not automatically capture semantic relationships in that context. Better representations arise with higher number of ratings, and less overfitting  in models or maybe better loss function, such as those based on implicit feedback."
   ]
  },
  {
   "cell_type": "markdown",
   "metadata": {},
   "source": [
    "### Visualizing embeddings using TSNE\n",
    "\n",
    "The [t-SNE](https://en.wikipedia.org/wiki/T-distributed_stochastic_neighbor_embedding) algorithm enables us to visualize high dimensional vectors in a 2D space by preserving local neighborhoods. We can use it to get a 2D visualization of the item embeddings and see if similar items are close in the embedding space."
   ]
  },
  {
   "cell_type": "code",
   "execution_count": 35,
   "metadata": {},
   "outputs": [],
   "source": [
    "from sklearn.manifold import TSNE\n",
    "\n",
    "item_tsne = TSNE(learning_rate=\"auto\", init=\"pca\", perplexity=30).fit_transform(item_embeddings)"
   ]
  },
  {
   "cell_type": "code",
   "execution_count": 36,
   "metadata": {},
   "outputs": [
    {
     "data": {
      "image/png": "[encoded data removed]",
      "text/plain": [
       "<Figure size 1000x1000 with 1 Axes>"
      ]
     },
     "metadata": {},
     "output_type": "display_data"
    }
   ],
   "source": [
    "import matplotlib.pyplot as plt\n",
    "\n",
    "plt.figure(figsize=(10, 10))\n",
    "plt.scatter(item_tsne[:, 0], item_tsne[:, 1]);\n",
    "plt.xticks(()); plt.yticks(());\n",
    "plt.show()"
   ]
  },
  {
   "cell_type": "code",
   "execution_count": 38,
   "metadata": {},
   "outputs": [
    {
     "name": "stdout",
     "output_type": "stream",
     "text": [
      "Collecting plotly\n",
      "  Downloading plotly-5.23.0-py3-none-any.whl.metadata (7.3 kB)\n",
      "Collecting tenacity>=6.2.0 (from plotly)\n",
      "  Downloading tenacity-9.0.0-py3-none-any.whl.metadata (1.2 kB)\n",
      "Requirement already satisfied: packaging in c:\\users\\shabiga\\scaling_to_production\\.conda\\lib\\site-packages (from plotly) (24.1)\n",
      "Downloading plotly-5.23.0-py3-none-any.whl (17.3 MB)\n",
      "   ---------------------------------------- 0.0/17.3 MB ? eta -:--:--\n",
      "   ---------------------------------------- 0.1/17.3 MB 3.2 MB/s eta 0:00:06\n",
      "   - -------------------------------------- 0.5/17.3 MB 8.6 MB/s eta 0:00:02\n",
      "   -- ------------------------------------- 1.1/17.3 MB 10.1 MB/s eta 0:00:02\n",
      "   ---- ----------------------------------- 1.8/17.3 MB 11.7 MB/s eta 0:00:02\n",
      "   ------ --------------------------------- 2.7/17.3 MB 13.3 MB/s eta 0:00:02\n",
      "   -------- ------------------------------- 3.7/17.3 MB 14.9 MB/s eta 0:00:01\n",
      "   ----------- ---------------------------- 4.8/17.3 MB 16.2 MB/s eta 0:00:01\n",
      "   -------------- ------------------------- 6.2/17.3 MB 18.1 MB/s eta 0:00:01\n",
      "   ----------------- ---------------------- 7.6/17.3 MB 19.4 MB/s eta 0:00:01\n",
      "   -------------------- ------------------- 8.7/17.3 MB 19.9 MB/s eta 0:00:01\n",
      "   ---------------------- ----------------- 9.8/17.3 MB 20.2 MB/s eta 0:00:01\n",
      "   ------------------------- -------------- 10.9/17.3 MB 22.6 MB/s eta 0:00:01\n",
      "   --------------------------- ------------ 12.1/17.3 MB 25.2 MB/s eta 0:00:01\n",
      "   ------------------------------ --------- 13.3/17.3 MB 25.2 MB/s eta 0:00:01\n",
      "   --------------------------------- ------ 14.5/17.3 MB 26.2 MB/s eta 0:00:01\n",
      "   ------------------------------------ --- 15.7/17.3 MB 26.2 MB/s eta 0:00:01\n",
      "   ---------------------------------------  16.9/17.3 MB 25.1 MB/s eta 0:00:01\n",
      "   ---------------------------------------  17.3/17.3 MB 25.2 MB/s eta 0:00:01\n",
      "   ---------------------------------------  17.3/17.3 MB 25.2 MB/s eta 0:00:01\n",
      "   ---------------------------------------- 17.3/17.3 MB 21.1 MB/s eta 0:00:00\n",
      "Downloading tenacity-9.0.0-py3-none-any.whl (28 kB)\n",
      "Installing collected packages: tenacity, plotly\n",
      "Successfully installed plotly-5.23.0 tenacity-9.0.0\n"
     ]
    }
   ],
   "source": [
    "!pip install plotly"
   ]
  },
  {
   "cell_type": "code",
   "execution_count": 41,
   "metadata": {},
   "outputs": [
    {
     "name": "stdout",
     "output_type": "stream",
     "text": [
      "Collecting nbformat\n",
      "  Downloading nbformat-5.10.4-py3-none-any.whl.metadata (3.6 kB)\n",
      "Collecting fastjsonschema>=2.15 (from nbformat)\n",
      "  Downloading fastjsonschema-2.20.0-py3-none-any.whl.metadata (2.1 kB)\n",
      "Collecting jsonschema>=2.6 (from nbformat)\n",
      "  Downloading jsonschema-4.23.0-py3-none-any.whl.metadata (7.9 kB)\n",
      "Requirement already satisfied: jupyter-core!=5.0.*,>=4.12 in c:\\users\\shabiga\\scaling_to_production\\.conda\\lib\\site-packages (from nbformat) (5.7.2)\n",
      "Requirement already satisfied: traitlets>=5.1 in c:\\users\\shabiga\\scaling_to_production\\.conda\\lib\\site-packages (from nbformat) (5.14.3)\n",
      "Collecting attrs>=22.2.0 (from jsonschema>=2.6->nbformat)\n",
      "  Downloading attrs-24.1.0-py3-none-any.whl.metadata (14 kB)\n",
      "Collecting jsonschema-specifications>=2023.03.6 (from jsonschema>=2.6->nbformat)\n",
      "  Downloading jsonschema_specifications-2023.12.1-py3-none-any.whl.metadata (3.0 kB)\n",
      "Collecting referencing>=0.28.4 (from jsonschema>=2.6->nbformat)\n",
      "  Downloading referencing-0.35.1-py3-none-any.whl.metadata (2.8 kB)\n",
      "Collecting rpds-py>=0.7.1 (from jsonschema>=2.6->nbformat)\n",
      "  Downloading rpds_py-0.19.1-cp39-none-win_amd64.whl.metadata (4.2 kB)\n",
      "Requirement already satisfied: platformdirs>=2.5 in c:\\users\\shabiga\\scaling_to_production\\.conda\\lib\\site-packages (from jupyter-core!=5.0.*,>=4.12->nbformat) (4.2.2)\n",
      "Requirement already satisfied: pywin32>=300 in c:\\users\\shabiga\\scaling_to_production\\.conda\\lib\\site-packages (from jupyter-core!=5.0.*,>=4.12->nbformat) (305.1)\n",
      "Downloading nbformat-5.10.4-py3-none-any.whl (78 kB)\n",
      "   ---------------------------------------- 0.0/78.5 kB ? eta -:--:--\n",
      "   ---------------------------------------- 78.5/78.5 kB 2.2 MB/s eta 0:00:00\n",
      "Downloading fastjsonschema-2.20.0-py3-none-any.whl (23 kB)\n",
      "Downloading jsonschema-4.23.0-py3-none-any.whl (88 kB)\n",
      "   ---------------------------------------- 0.0/88.5 kB ? eta -:--:--\n",
      "   ---------------------------------------- 88.5/88.5 kB 4.9 MB/s eta 0:00:00\n",
      "Downloading attrs-24.1.0-py3-none-any.whl (63 kB)\n",
      "   ---------------------------------------- 0.0/63.9 kB ? eta -:--:--\n",
      "   ---------------------------------------- 63.9/63.9 kB 3.4 MB/s eta 0:00:00\n",
      "Downloading jsonschema_specifications-2023.12.1-py3-none-any.whl (18 kB)\n",
      "Downloading referencing-0.35.1-py3-none-any.whl (26 kB)\n",
      "Downloading rpds_py-0.19.1-cp39-none-win_amd64.whl (210 kB)\n",
      "   ---------------------------------------- 0.0/210.8 kB ? eta -:--:--\n",
      "   --------------------------------------- 210.8/210.8 kB 12.5 MB/s eta 0:00:00\n",
      "Installing collected packages: fastjsonschema, rpds-py, attrs, referencing, jsonschema-specifications, jsonschema, nbformat\n",
      "Successfully installed attrs-24.1.0 fastjsonschema-2.20.0 jsonschema-4.23.0 jsonschema-specifications-2023.12.1 nbformat-5.10.4 referencing-0.35.1 rpds-py-0.19.1\n"
     ]
    }
   ],
   "source": [
    "!pip install nbformat"
   ]
  },
  {
   "cell_type": "code",
   "execution_count": 43,
   "metadata": {},
   "outputs": [],
   "source": [
    "!pip install nbformat>=4.2.0"
   ]
  },
  {
   "cell_type": "code",
   "execution_count": 44,
   "metadata": {
    "tags": []
   },
   "outputs": [
    {
     "ename": "ValueError",
     "evalue": "Mime type rendering requires nbformat>=4.2.0 but it is not installed",
     "output_type": "error",
     "traceback": [
      "\u001b[1;31m---------------------------------------------------------------------------\u001b[0m",
      "\u001b[1;31mValueError\u001b[0m                                Traceback (most recent call last)",
      "File \u001b[1;32mc:\\Users\\shabiga\\scaling_to_production\\.conda\\lib\\site-packages\\IPython\\core\\formatters.py:922\u001b[0m, in \u001b[0;36mIPythonDisplayFormatter.__call__\u001b[1;34m(self, obj)\u001b[0m\n\u001b[0;32m    920\u001b[0m method \u001b[38;5;241m=\u001b[39m get_real_method(obj, \u001b[38;5;28mself\u001b[39m\u001b[38;5;241m.\u001b[39mprint_method)\n\u001b[0;32m    921\u001b[0m \u001b[38;5;28;01mif\u001b[39;00m method \u001b[38;5;129;01mis\u001b[39;00m \u001b[38;5;129;01mnot\u001b[39;00m \u001b[38;5;28;01mNone\u001b[39;00m:\n\u001b[1;32m--> 922\u001b[0m     \u001b[43mmethod\u001b[49m\u001b[43m(\u001b[49m\u001b[43m)\u001b[49m\n\u001b[0;32m    923\u001b[0m     \u001b[38;5;28;01mreturn\u001b[39;00m \u001b[38;5;28;01mTrue\u001b[39;00m\n",
      "File \u001b[1;32mc:\\Users\\shabiga\\scaling_to_production\\.conda\\lib\\site-packages\\plotly\\basedatatypes.py:832\u001b[0m, in \u001b[0;36mBaseFigure._ipython_display_\u001b[1;34m(self)\u001b[0m\n\u001b[0;32m    829\u001b[0m \u001b[38;5;28;01mimport\u001b[39;00m \u001b[38;5;21;01mplotly\u001b[39;00m\u001b[38;5;21;01m.\u001b[39;00m\u001b[38;5;21;01mio\u001b[39;00m \u001b[38;5;28;01mas\u001b[39;00m \u001b[38;5;21;01mpio\u001b[39;00m\n\u001b[0;32m    831\u001b[0m \u001b[38;5;28;01mif\u001b[39;00m pio\u001b[38;5;241m.\u001b[39mrenderers\u001b[38;5;241m.\u001b[39mrender_on_display \u001b[38;5;129;01mand\u001b[39;00m pio\u001b[38;5;241m.\u001b[39mrenderers\u001b[38;5;241m.\u001b[39mdefault:\n\u001b[1;32m--> 832\u001b[0m     \u001b[43mpio\u001b[49m\u001b[38;5;241;43m.\u001b[39;49m\u001b[43mshow\u001b[49m\u001b[43m(\u001b[49m\u001b[38;5;28;43mself\u001b[39;49m\u001b[43m)\u001b[49m\n\u001b[0;32m    833\u001b[0m \u001b[38;5;28;01melse\u001b[39;00m:\n\u001b[0;32m    834\u001b[0m     \u001b[38;5;28mprint\u001b[39m(\u001b[38;5;28mrepr\u001b[39m(\u001b[38;5;28mself\u001b[39m))\n",
      "File \u001b[1;32mc:\\Users\\shabiga\\scaling_to_production\\.conda\\lib\\site-packages\\plotly\\io\\_renderers.py:394\u001b[0m, in \u001b[0;36mshow\u001b[1;34m(fig, renderer, validate, **kwargs)\u001b[0m\n\u001b[0;32m    389\u001b[0m         \u001b[38;5;28;01mraise\u001b[39;00m \u001b[38;5;167;01mValueError\u001b[39;00m(\n\u001b[0;32m    390\u001b[0m             \u001b[38;5;124m\"\u001b[39m\u001b[38;5;124mMime type rendering requires ipython but it is not installed\u001b[39m\u001b[38;5;124m\"\u001b[39m\n\u001b[0;32m    391\u001b[0m         )\n\u001b[0;32m    393\u001b[0m     \u001b[38;5;28;01mif\u001b[39;00m \u001b[38;5;129;01mnot\u001b[39;00m nbformat \u001b[38;5;129;01mor\u001b[39;00m Version(nbformat\u001b[38;5;241m.\u001b[39m__version__) \u001b[38;5;241m<\u001b[39m Version(\u001b[38;5;124m\"\u001b[39m\u001b[38;5;124m4.2.0\u001b[39m\u001b[38;5;124m\"\u001b[39m):\n\u001b[1;32m--> 394\u001b[0m         \u001b[38;5;28;01mraise\u001b[39;00m \u001b[38;5;167;01mValueError\u001b[39;00m(\n\u001b[0;32m    395\u001b[0m             \u001b[38;5;124m\"\u001b[39m\u001b[38;5;124mMime type rendering requires nbformat>=4.2.0 but it is not installed\u001b[39m\u001b[38;5;124m\"\u001b[39m\n\u001b[0;32m    396\u001b[0m         )\n\u001b[0;32m    398\u001b[0m     ipython_display\u001b[38;5;241m.\u001b[39mdisplay(bundle, raw\u001b[38;5;241m=\u001b[39m\u001b[38;5;28;01mTrue\u001b[39;00m)\n\u001b[0;32m    400\u001b[0m \u001b[38;5;66;03m# external renderers\u001b[39;00m\n",
      "\u001b[1;31mValueError\u001b[0m: Mime type rendering requires nbformat>=4.2.0 but it is not installed"
     ]
    },
    {
     "data": {
      "application/vnd.plotly.v1+json": {
       "config": {
        "plotlyServerURL": "https://plot.ly"
       },
       "data": [
        {
         "customdata": [
          [
           1,
           "Toy Story (1995)",
           452
          ],
          [
           2,
           "GoldenEye (1995)",
           131
          ],
          [
           3,
           "Four Rooms (1995)",
           90
          ],
          [
           4,
           "Get Shorty (1995)",
           209
          ],
          [
           5,
           "Copycat (1995)",
           86
          ],
          [
           6,
           "Shanghai Triad (Yao a yao yao dao waipo qiao) (1995)",
           26
          ],
          [
           7,
           "Twelve Monkeys (1995)",
           392
          ],
          [
           8,
           "Babe (1995)",
           219
          ],
          [
           9,
           "Dead Man Walking (1995)",
           299
          ],
          [
           10,
           "Richard III (1995)",
           89
          ],
          [
           11,
           "Seven (Se7en) (1995)",
           236
          ],
          [
           12,
           "Usual Suspects, The (1995)",
           267
          ],
          [
           13,
           "Mighty Aphrodite (1995)",
           184
          ],
          [
           14,
           "Postino, Il (1994)",
           183
          ],
          [
           15,
           "Mr. Holland's Opus (1995)",
           293
          ],
          [
           16,
           "French Twist (Gazon maudit) (1995)",
           39
          ],
          [
           17,
           "From Dusk Till Dawn (1996)",
           92
          ],
          [
           18,
           "White Balloon, The (1995)",
           10
          ],
          [
           19,
           "Antonia's Line (1995)",
           69
          ],
          [
           20,
           "Angels and Insects (1995)",
           72
          ],
          [
           21,
           "Muppet Treasure Island (1996)",
           84
          ],
          [
           22,
           "Braveheart (1995)",
           297
          ],
          [
           23,
           "Taxi Driver (1976)",
           182
          ],
          [
           24,
           "Rumble in the Bronx (1995)",
           174
          ],
          [
           25,
           "Birdcage, The (1996)",
           293
          ],
          [
           26,
           "Brothers McMullen, The (1995)",
           73
          ],
          [
           27,
           "Bad Boys (1995)",
           57
          ],
          [
           28,
           "Apollo 13 (1995)",
           276
          ],
          [
           29,
           "Batman Forever (1995)",
           114
          ],
          [
           30,
           "Belle de jour (1967)",
           37
          ],
          [
           31,
           "Crimson Tide (1995)",
           154
          ],
          [
           32,
           "Crumb (1994)",
           81
          ],
          [
           33,
           "Desperado (1995)",
           97
          ],
          [
           34,
           "Doom Generation, The (1995)",
           7
          ],
          [
           35,
           "Free Willy 2: The Adventure Home (1995)",
           11
          ],
          [
           36,
           "Mad Love (1995)",
           13
          ],
          [
           37,
           "Nadja (1994)",
           8
          ],
          [
           38,
           "Net, The (1995)",
           120
          ],
          [
           39,
           "Strange Days (1995)",
           87
          ],
          [
           40,
           "To Wong Foo, Thanks for Everything! Julie Newmar (1995)",
           57
          ],
          [
           41,
           "Billy Madison (1995)",
           37
          ],
          [
           42,
           "Clerks (1994)",
           148
          ],
          [
           43,
           "Disclosure (1994)",
           40
          ],
          [
           44,
           "Dolores Claiborne (1994)",
           79
          ],
          [
           45,
           "Eat Drink Man Woman (1994)",
           80
          ],
          [
           46,
           "Exotica (1994)",
           27
          ],
          [
           47,
           "Ed Wood (1994)",
           133
          ],
          [
           48,
           "Hoop Dreams (1994)",
           117
          ],
          [
           49,
           "I.Q. (1994)",
           81
          ],
          [
           50,
           "Star Wars (1977)",
           583
          ],
          [
           51,
           "Legends of the Fall (1994)",
           81
          ],
          [
           52,
           "Madness of King George, The (1994)",
           91
          ],
          [
           53,
           "Natural Born Killers (1994)",
           128
          ],
          [
           54,
           "Outbreak (1995)",
           104
          ],
          [
           55,
           "Professional, The (1994)",
           149
          ],
          [
           56,
           "Pulp Fiction (1994)",
           394
          ],
          [
           57,
           "Priest (1994)",
           40
          ],
          [
           58,
           "Quiz Show (1994)",
           175
          ],
          [
           59,
           "Three Colors: Red (1994)",
           83
          ],
          [
           60,
           "Three Colors: Blue (1993)",
           64
          ],
          [
           61,
           "Three Colors: White (1994)",
           59
          ],
          [
           62,
           "Stargate (1994)",
           127
          ],
          [
           63,
           "Santa Clause, The (1994)",
           82
          ],
          [
           64,
           "Shawshank Redemption, The (1994)",
           283
          ],
          [
           65,
           "What's Eating Gilbert Grape (1993)",
           115
          ],
          [
           66,
           "While You Were Sleeping (1995)",
           162
          ],
          [
           67,
           "Ace Ventura: Pet Detective (1994)",
           103
          ],
          [
           68,
           "Crow, The (1994)",
           134
          ],
          [
           69,
           "Forrest Gump (1994)",
           321
          ],
          [
           70,
           "Four Weddings and a Funeral (1994)",
           251
          ],
          [
           71,
           "Lion King, The (1994)",
           220
          ],
          [
           72,
           "Mask, The (1994)",
           129
          ],
          [
           73,
           "Maverick (1994)",
           128
          ],
          [
           74,
           "Faster Pussycat! Kill! Kill! (1965)",
           7
          ],
          [
           75,
           "Brother Minister: The Assassination of Malcolm X (1994)",
           5
          ],
          [
           76,
           "Carlito's Way (1993)",
           54
          ],
          [
           77,
           "Firm, The (1993)",
           151
          ],
          [
           78,
           "Free Willy (1993)",
           33
          ],
          [
           79,
           "Fugitive, The (1993)",
           336
          ],
          [
           80,
           "Hot Shots! Part Deux (1993)",
           68
          ],
          [
           81,
           "Hudsucker Proxy, The (1994)",
           110
          ],
          [
           82,
           "Jurassic Park (1993)",
           261
          ],
          [
           83,
           "Much Ado About Nothing (1993)",
           176
          ],
          [
           84,
           "Robert A. Heinlein's The Puppet Masters (1994)",
           18
          ],
          [
           85,
           "Ref, The (1994)",
           58
          ],
          [
           86,
           "Remains of the Day, The (1993)",
           150
          ],
          [
           87,
           "Searching for Bobby Fischer (1993)",
           138
          ],
          [
           88,
           "Sleepless in Seattle (1993)",
           213
          ],
          [
           89,
           "Blade Runner (1982)",
           275
          ],
          [
           90,
           "So I Married an Axe Murderer (1993)",
           95
          ],
          [
           91,
           "Nightmare Before Christmas, The (1993)",
           143
          ],
          [
           92,
           "True Romance (1993)",
           104
          ],
          [
           93,
           "Welcome to the Dollhouse (1995)",
           112
          ],
          [
           94,
           "Home Alone (1990)",
           137
          ],
          [
           95,
           "Aladdin (1992)",
           219
          ],
          [
           96,
           "Terminator 2: Judgment Day (1991)",
           295
          ],
          [
           97,
           "Dances with Wolves (1990)",
           256
          ],
          [
           98,
           "Silence of the Lambs, The (1991)",
           390
          ],
          [
           99,
           "Snow White and the Seven Dwarfs (1937)",
           172
          ],
          [
           100,
           "Fargo (1996)",
           508
          ],
          [
           101,
           "Heavy Metal (1981)",
           73
          ],
          [
           102,
           "Aristocats, The (1970)",
           54
          ],
          [
           103,
           "All Dogs Go to Heaven 2 (1996)",
           15
          ],
          [
           104,
           "Theodore Rex (1995)",
           5
          ],
          [
           105,
           "Sgt. Bilko (1996)",
           74
          ],
          [
           106,
           "Diabolique (1996)",
           71
          ],
          [
           107,
           "Moll Flanders (1996)",
           42
          ],
          [
           108,
           "Kids in the Hall: Brain Candy (1996)",
           65
          ],
          [
           109,
           "Mystery Science Theater 3000: The Movie (1996)",
           130
          ],
          [
           110,
           "Operation Dumbo Drop (1995)",
           31
          ],
          [
           111,
           "Truth About Cats & Dogs, The (1996)",
           272
          ],
          [
           112,
           "Flipper (1996)",
           20
          ],
          [
           113,
           "Horseman on the Roof, The (Hussard sur le toit, Le) (1995)",
           9
          ],
          [
           114,
           "Wallace & Gromit: The Best of Aardman Animation (1996)",
           67
          ],
          [
           115,
           "Haunted World of Edward D. Wood Jr., The (1995)",
           15
          ],
          [
           116,
           "Cold Comfort Farm (1995)",
           125
          ],
          [
           117,
           "Rock, The (1996)",
           378
          ],
          [
           118,
           "Twister (1996)",
           293
          ],
          [
           119,
           "Maya Lin: A Strong Clear Vision (1994)",
           4
          ],
          [
           120,
           "Striptease (1996)",
           67
          ],
          [
           121,
           "Independence Day (ID4) (1996)",
           429
          ],
          [
           122,
           "Cable Guy, The (1996)",
           106
          ],
          [
           123,
           "Frighteners, The (1996)",
           115
          ],
          [
           124,
           "Lone Star (1996)",
           187
          ],
          [
           125,
           "Phenomenon (1996)",
           244
          ],
          [
           126,
           "Spitfire Grill, The (1996)",
           97
          ],
          [
           127,
           "Godfather, The (1972)",
           413
          ],
          [
           128,
           "Supercop (1992)",
           65
          ],
          [
           129,
           "Bound (1996)",
           129
          ],
          [
           130,
           "Kansas City (1996)",
           23
          ],
          [
           131,
           "Breakfast at Tiffany's (1961)",
           95
          ],
          [
           132,
           "Wizard of Oz, The (1939)",
           246
          ],
          [
           133,
           "Gone with the Wind (1939)",
           171
          ],
          [
           134,
           "Citizen Kane (1941)",
           198
          ],
          [
           135,
           "2001: A Space Odyssey (1968)",
           259
          ],
          [
           136,
           "Mr. Smith Goes to Washington (1939)",
           105
          ],
          [
           137,
           "Big Night (1996)",
           171
          ],
          [
           138,
           "D3: The Mighty Ducks (1996)",
           19
          ],
          [
           139,
           "Love Bug, The (1969)",
           50
          ],
          [
           140,
           "Homeward Bound: The Incredible Journey (1993)",
           61
          ],
          [
           141,
           "20,000 Leagues Under the Sea (1954)",
           72
          ],
          [
           142,
           "Bedknobs and Broomsticks (1971)",
           57
          ],
          [
           143,
           "Sound of Music, The (1965)",
           222
          ],
          [
           144,
           "Die Hard (1988)",
           243
          ],
          [
           145,
           "Lawnmower Man, The (1992)",
           65
          ],
          [
           146,
           "Unhook the Stars (1996)",
           10
          ],
          [
           147,
           "Long Kiss Goodnight, The (1996)",
           185
          ],
          [
           148,
           "Ghost and the Darkness, The (1996)",
           128
          ],
          [
           149,
           "Jude (1996)",
           23
          ],
          [
           150,
           "Swingers (1996)",
           157
          ],
          [
           151,
           "Willy Wonka and the Chocolate Factory (1971)",
           326
          ],
          [
           152,
           "Sleeper (1973)",
           82
          ],
          [
           153,
           "Fish Called Wanda, A (1988)",
           247
          ],
          [
           154,
           "Monty Python's Life of Brian (1979)",
           174
          ],
          [
           155,
           "Dirty Dancing (1987)",
           98
          ],
          [
           156,
           "Reservoir Dogs (1992)",
           148
          ],
          [
           157,
           "Platoon (1986)",
           127
          ],
          [
           158,
           "Weekend at Bernie's (1989)",
           60
          ],
          [
           159,
           "Basic Instinct (1992)",
           101
          ],
          [
           160,
           "Glengarry Glen Ross (1992)",
           69
          ],
          [
           161,
           "Top Gun (1986)",
           220
          ],
          [
           162,
           "On Golden Pond (1981)",
           106
          ],
          [
           163,
           "Return of the Pink Panther, The (1974)",
           92
          ],
          [
           164,
           "Abyss, The (1989)",
           151
          ],
          [
           165,
           "Jean de Florette (1986)",
           64
          ],
          [
           166,
           "Manon of the Spring (Manon des sources) (1986)",
           58
          ],
          [
           167,
           "Private Benjamin (1980)",
           67
          ],
          [
           168,
           "Monty Python and the Holy Grail (1974)",
           316
          ],
          [
           169,
           "Wrong Trousers, The (1993)",
           118
          ],
          [
           170,
           "Cinema Paradiso (1988)",
           121
          ],
          [
           171,
           "Delicatessen (1991)",
           65
          ],
          [
           172,
           "Empire Strikes Back, The (1980)",
           367
          ],
          [
           173,
           "Princess Bride, The (1987)",
           324
          ],
          [
           174,
           "Raiders of the Lost Ark (1981)",
           420
          ],
          [
           175,
           "Brazil (1985)",
           208
          ],
          [
           176,
           "Aliens (1986)",
           284
          ],
          [
           177,
           "Good, The Bad and The Ugly, The (1966)",
           137
          ],
          [
           178,
           "12 Angry Men (1957)",
           125
          ],
          [
           179,
           "Clockwork Orange, A (1971)",
           221
          ],
          [
           180,
           "Apocalypse Now (1979)",
           221
          ],
          [
           181,
           "Return of the Jedi (1983)",
           507
          ],
          [
           182,
           "GoodFellas (1990)",
           226
          ],
          [
           183,
           "Alien (1979)",
           291
          ],
          [
           184,
           "Army of Darkness (1993)",
           116
          ],
          [
           185,
           "Psycho (1960)",
           239
          ],
          [
           186,
           "Blues Brothers, The (1980)",
           251
          ],
          [
           187,
           "Godfather: Part II, The (1974)",
           209
          ],
          [
           188,
           "Full Metal Jacket (1987)",
           170
          ],
          [
           189,
           "Grand Day Out, A (1992)",
           66
          ],
          [
           190,
           "Henry V (1989)",
           124
          ],
          [
           191,
           "Amadeus (1984)",
           276
          ],
          [
           192,
           "Raging Bull (1980)",
           116
          ],
          [
           193,
           "Right Stuff, The (1983)",
           157
          ],
          [
           194,
           "Sting, The (1973)",
           241
          ],
          [
           195,
           "Terminator, The (1984)",
           301
          ],
          [
           196,
           "Dead Poets Society (1989)",
           251
          ],
          [
           197,
           "Graduate, The (1967)",
           239
          ],
          [
           198,
           "Nikita (La Femme Nikita) (1990)",
           127
          ],
          [
           199,
           "Bridge on the River Kwai, The (1957)",
           165
          ],
          [
           200,
           "Shining, The (1980)",
           206
          ],
          [
           201,
           "Evil Dead II (1987)",
           89
          ],
          [
           202,
           "Groundhog Day (1993)",
           280
          ],
          [
           203,
           "Unforgiven (1992)",
           182
          ],
          [
           204,
           "Back to the Future (1985)",
           350
          ],
          [
           205,
           "Patton (1970)",
           136
          ],
          [
           206,
           "Akira (1988)",
           50
          ],
          [
           207,
           "Cyrano de Bergerac (1990)",
           66
          ],
          [
           208,
           "Young Frankenstein (1974)",
           200
          ],
          [
           209,
           "This Is Spinal Tap (1984)",
           191
          ],
          [
           210,
           "Indiana Jones and the Last Crusade (1989)",
           331
          ],
          [
           211,
           "M*A*S*H (1970)",
           206
          ],
          [
           212,
           "Unbearable Lightness of Being, The (1988)",
           92
          ],
          [
           213,
           "Room with a View, A (1986)",
           134
          ],
          [
           214,
           "Pink Floyd - The Wall (1982)",
           114
          ],
          [
           215,
           "Field of Dreams (1989)",
           212
          ],
          [
           216,
           "When Harry Met Sally... (1989)",
           290
          ],
          [
           217,
           "Bram Stoker's Dracula (1992)",
           120
          ],
          [
           218,
           "Cape Fear (1991)",
           171
          ],
          [
           219,
           "Nightmare on Elm Street, A (1984)",
           111
          ],
          [
           220,
           "Mirror Has Two Faces, The (1996)",
           66
          ],
          [
           221,
           "Breaking the Waves (1996)",
           74
          ],
          [
           222,
           "Star Trek: First Contact (1996)",
           365
          ],
          [
           223,
           "Sling Blade (1996)",
           136
          ],
          [
           224,
           "Ridicule (1996)",
           44
          ],
          [
           225,
           "101 Dalmatians (1996)",
           109
          ],
          [
           226,
           "Die Hard 2 (1990)",
           166
          ],
          [
           227,
           "Star Trek VI: The Undiscovered Country (1991)",
           161
          ],
          [
           228,
           "Star Trek: The Wrath of Khan (1982)",
           244
          ],
          [
           229,
           "Star Trek III: The Search for Spock (1984)",
           171
          ],
          [
           230,
           "Star Trek IV: The Voyage Home (1986)",
           199
          ],
          [
           231,
           "Batman Returns (1992)",
           142
          ],
          [
           232,
           "Young Guns (1988)",
           101
          ],
          [
           233,
           "Under Siege (1992)",
           124
          ],
          [
           234,
           "Jaws (1975)",
           280
          ],
          [
           235,
           "Mars Attacks! (1996)",
           217
          ],
          [
           236,
           "Citizen Ruth (1996)",
           45
          ],
          [
           237,
           "Jerry Maguire (1996)",
           384
          ],
          [
           238,
           "Raising Arizona (1987)",
           256
          ],
          [
           239,
           "Sneakers (1992)",
           150
          ],
          [
           240,
           "Beavis and Butt-head Do America (1996)",
           156
          ],
          [
           241,
           "Last of the Mohicans, The (1992)",
           128
          ],
          [
           242,
           "Kolya (1996)",
           117
          ],
          [
           243,
           "Jungle2Jungle (1997)",
           132
          ],
          [
           244,
           "Smilla's Sense of Snow (1997)",
           48
          ],
          [
           245,
           "Devil's Own, The (1997)",
           240
          ],
          [
           246,
           "Chasing Amy (1997)",
           124
          ],
          [
           247,
           "Turbo: A Power Rangers Movie (1997)",
           5
          ],
          [
           248,
           "Grosse Pointe Blank (1997)",
           160
          ],
          [
           249,
           "Austin Powers: International Man of Mystery (1997)",
           130
          ],
          [
           250,
           "Fifth Element, The (1997)",
           197
          ],
          [
           251,
           "Shall We Dance? (1996)",
           46
          ],
          [
           252,
           "Lost World: Jurassic Park, The (1997)",
           158
          ],
          [
           253,
           "Pillow Book, The (1995)",
           26
          ],
          [
           254,
           "Batman & Robin (1997)",
           62
          ],
          [
           255,
           "My Best Friend's Wedding (1997)",
           172
          ],
          [
           256,
           "When the Cats Away (Chacun cherche son chat) (1996)",
           16
          ],
          [
           257,
           "Men in Black (1997)",
           303
          ],
          [
           258,
           "Contact (1997)",
           509
          ],
          [
           259,
           "George of the Jungle (1997)",
           162
          ],
          [
           260,
           "Event Horizon (1997)",
           127
          ],
          [
           261,
           "Air Bud (1997)",
           43
          ],
          [
           262,
           "In the Company of Men (1997)",
           66
          ],
          [
           263,
           "Steel (1997)",
           19
          ],
          [
           264,
           "Mimic (1997)",
           101
          ],
          [
           265,
           "Hunt for Red October, The (1990)",
           227
          ],
          [
           266,
           "Kull the Conqueror (1997)",
           35
          ],
          [
           267,
           "unknown",
           9
          ],
          [
           268,
           "Chasing Amy (1997)",
           255
          ],
          [
           269,
           "Full Monty, The (1997)",
           315
          ],
          [
           270,
           "Gattaca (1997)",
           136
          ],
          [
           271,
           "Starship Troopers (1997)",
           211
          ],
          [
           272,
           "Good Will Hunting (1997)",
           198
          ],
          [
           273,
           "Heat (1995)",
           223
          ],
          [
           274,
           "Sabrina (1995)",
           190
          ],
          [
           275,
           "Sense and Sensibility (1995)",
           268
          ],
          [
           276,
           "Leaving Las Vegas (1995)",
           298
          ],
          [
           277,
           "Restoration (1995)",
           71
          ],
          [
           278,
           "Bed of Roses (1996)",
           60
          ],
          [
           279,
           "Once Upon a Time... When We Were Colored (1995)",
           28
          ],
          [
           280,
           "Up Close and Personal (1996)",
           85
          ],
          [
           281,
           "River Wild, The (1994)",
           146
          ],
          [
           282,
           "Time to Kill, A (1996)",
           232
          ],
          [
           283,
           "Emma (1996)",
           177
          ],
          [
           284,
           "Tin Cup (1996)",
           193
          ],
          [
           285,
           "Secrets & Lies (1996)",
           162
          ],
          [
           286,
           "English Patient, The (1996)",
           481
          ],
          [
           287,
           "Marvin's Room (1996)",
           78
          ],
          [
           288,
           "Scream (1996)",
           478
          ],
          [
           289,
           "Evita (1996)",
           259
          ],
          [
           290,
           "Fierce Creatures (1997)",
           96
          ],
          [
           291,
           "Absolute Power (1997)",
           127
          ],
          [
           292,
           "Rosewood (1997)",
           114
          ],
          [
           293,
           "Donnie Brasco (1997)",
           147
          ],
          [
           294,
           "Liar Liar (1997)",
           485
          ],
          [
           295,
           "Breakdown (1997)",
           77
          ],
          [
           296,
           "Promesse, La (1996)",
           6
          ],
          [
           297,
           "Ulee's Gold (1997)",
           50
          ],
          [
           298,
           "Face/Off (1997)",
           194
          ],
          [
           299,
           "Hoodlum (1997)",
           73
          ],
          [
           300,
           "Air Force One (1997)",
           431
          ],
          [
           301,
           "In & Out (1997)",
           230
          ],
          [
           302,
           "L.A. Confidential (1997)",
           297
          ],
          [
           303,
           "Ulee's Gold (1997)",
           134
          ],
          [
           304,
           "Fly Away Home (1996)",
           149
          ],
          [
           305,
           "Ice Storm, The (1997)",
           87
          ],
          [
           306,
           "Mrs. Brown (Her Majesty, Mrs. Brown) (1997)",
           96
          ],
          [
           307,
           "Devil's Advocate, The (1997)",
           188
          ],
          [
           308,
           "FairyTale: A True Story (1997)",
           30
          ],
          [
           309,
           "Deceiver (1997)",
           28
          ],
          [
           310,
           "Rainmaker, The (1997)",
           145
          ],
          [
           311,
           "Wings of the Dove, The (1997)",
           75
          ],
          [
           312,
           "Midnight in the Garden of Good and Evil (1997)",
           80
          ],
          [
           313,
           "Titanic (1997)",
           350
          ],
          [
           314,
           "3 Ninjas: High Noon At Mega Mountain (1998)",
           5
          ],
          [
           315,
           "Apt Pupil (1998)",
           160
          ],
          [
           316,
           "As Good As It Gets (1997)",
           112
          ],
          [
           317,
           "In the Name of the Father (1993)",
           102
          ],
          [
           318,
           "Schindler's List (1993)",
           298
          ],
          [
           319,
           "Everyone Says I Love You (1996)",
           168
          ],
          [
           320,
           "Paradise Lost: The Child Murders at Robin Hood Hills (1996)",
           20
          ],
          [
           321,
           "Mother (1996)",
           169
          ],
          [
           322,
           "Murder at 1600 (1997)",
           218
          ],
          [
           323,
           "Dante's Peak (1997)",
           240
          ],
          [
           324,
           "Lost Highway (1997)",
           125
          ],
          [
           325,
           "Crash (1996)",
           128
          ],
          [
           326,
           "G.I. Jane (1997)",
           175
          ],
          [
           327,
           "Cop Land (1997)",
           175
          ],
          [
           328,
           "Conspiracy Theory (1997)",
           295
          ],
          [
           329,
           "Desperate Measures (1998)",
           45
          ],
          [
           330,
           "187 (1997)",
           41
          ],
          [
           331,
           "Edge, The (1997)",
           113
          ],
          [
           332,
           "Kiss the Girls (1997)",
           143
          ],
          [
           333,
           "Game, The (1997)",
           251
          ],
          [
           334,
           "U Turn (1997)",
           64
          ],
          [
           335,
           "How to Be a Player (1997)",
           21
          ],
          [
           336,
           "Playing God (1997)",
           43
          ],
          [
           337,
           "House of Yes, The (1997)",
           18
          ],
          [
           338,
           "Bean (1997)",
           91
          ],
          [
           339,
           "Mad City (1997)",
           47
          ],
          [
           340,
           "Boogie Nights (1997)",
           189
          ],
          [
           341,
           "Critical Care (1997)",
           11
          ],
          [
           342,
           "Man Who Knew Too Little, The (1997)",
           52
          ],
          [
           343,
           "Alien: Resurrection (1997)",
           124
          ],
          [
           344,
           "Apostle, The (1997)",
           55
          ],
          [
           345,
           "Deconstructing Harry (1997)",
           65
          ],
          [
           346,
           "Jackie Brown (1997)",
           126
          ],
          [
           347,
           "Wag the Dog (1997)",
           137
          ],
          [
           348,
           "Desperate Measures (1998)",
           27
          ],
          [
           349,
           "Hard Rain (1998)",
           31
          ],
          [
           350,
           "Fallen (1998)",
           41
          ],
          [
           351,
           "Prophecy II, The (1998)",
           20
          ],
          [
           352,
           "Spice World (1997)",
           26
          ],
          [
           353,
           "Deep Rising (1998)",
           14
          ],
          [
           354,
           "Wedding Singer, The (1998)",
           72
          ],
          [
           355,
           "Sphere (1998)",
           41
          ],
          [
           356,
           "Client, The (1994)",
           97
          ],
          [
           357,
           "One Flew Over the Cuckoo's Nest (1975)",
           264
          ],
          [
           358,
           "Spawn (1997)",
           143
          ],
          [
           359,
           "Assignment, The (1997)",
           18
          ],
          [
           360,
           "Wonderland (1997)",
           10
          ],
          [
           361,
           "Incognito (1997)",
           10
          ],
          [
           362,
           "Blues Brothers 2000 (1998)",
           28
          ],
          [
           363,
           "Sudden Death (1995)",
           47
          ],
          [
           364,
           "Ace Ventura: When Nature Calls (1995)",
           37
          ],
          [
           365,
           "Powder (1995)",
           48
          ],
          [
           366,
           "Dangerous Minds (1995)",
           47
          ],
          [
           367,
           "Clueless (1995)",
           170
          ],
          [
           368,
           "Bio-Dome (1996)",
           31
          ],
          [
           369,
           "Black Sheep (1996)",
           55
          ],
          [
           370,
           "Mary Reilly (1996)",
           39
          ],
          [
           371,
           "Bridges of Madison County, The (1995)",
           67
          ],
          [
           372,
           "Jeffrey (1995)",
           34
          ],
          [
           373,
           "Judge Dredd (1995)",
           39
          ],
          [
           374,
           "Mighty Morphin Power Rangers: The Movie (1995)",
           11
          ],
          [
           375,
           "Showgirls (1995)",
           23
          ],
          [
           376,
           "Houseguest (1994)",
           24
          ],
          [
           377,
           "Heavyweights (1994)",
           13
          ],
          [
           378,
           "Miracle on 34th Street (1994)",
           101
          ],
          [
           379,
           "Tales From the Crypt Presents: Demon Knight (1995)",
           43
          ],
          [
           380,
           "Star Trek: Generations (1994)",
           116
          ],
          [
           381,
           "Muriel's Wedding (1994)",
           100
          ],
          [
           382,
           "Adventures of Priscilla, Queen of the Desert, The (1994)",
           111
          ],
          [
           383,
           "Flintstones, The (1994)",
           31
          ],
          [
           384,
           "Naked Gun 33 1/3: The Final Insult (1994)",
           69
          ],
          [
           385,
           "True Lies (1994)",
           208
          ],
          [
           386,
           "Addams Family Values (1993)",
           87
          ],
          [
           387,
           "Age of Innocence, The (1993)",
           65
          ],
          [
           388,
           "Beverly Hills Cop III (1994)",
           28
          ],
          [
           389,
           "Black Beauty (1994)",
           27
          ],
          [
           390,
           "Fear of a Black Hat (1993)",
           10
          ],
          [
           391,
           "Last Action Hero (1993)",
           59
          ],
          [
           392,
           "Man Without a Face, The (1993)",
           68
          ],
          [
           393,
           "Mrs. Doubtfire (1993)",
           192
          ],
          [
           394,
           "Radioland Murders (1994)",
           12
          ],
          [
           395,
           "Robin Hood: Men in Tights (1993)",
           56
          ],
          [
           396,
           "Serial Mom (1994)",
           54
          ],
          [
           397,
           "Striking Distance (1993)",
           12
          ],
          [
           398,
           "Super Mario Bros. (1993)",
           26
          ],
          [
           399,
           "Three Musketeers, The (1993)",
           89
          ],
          [
           400,
           "Little Rascals, The (1994)",
           18
          ],
          [
           401,
           "Brady Bunch Movie, The (1995)",
           76
          ],
          [
           402,
           "Ghost (1990)",
           170
          ],
          [
           403,
           "Batman (1989)",
           201
          ],
          [
           404,
           "Pinocchio (1940)",
           101
          ],
          [
           405,
           "Mission: Impossible (1996)",
           344
          ],
          [
           406,
           "Thinner (1996)",
           49
          ],
          [
           407,
           "Spy Hard (1996)",
           43
          ],
          [
           408,
           "Close Shave, A (1995)",
           112
          ],
          [
           409,
           "Jack (1996)",
           70
          ],
          [
           410,
           "Kingpin (1996)",
           162
          ],
          [
           411,
           "Nutty Professor, The (1996)",
           163
          ],
          [
           412,
           "Very Brady Sequel, A (1996)",
           93
          ],
          [
           413,
           "Tales from the Crypt Presents: Bordello of Blood (1996)",
           55
          ],
          [
           414,
           "My Favorite Year (1982)",
           62
          ],
          [
           415,
           "Apple Dumpling Gang, The (1975)",
           25
          ],
          [
           416,
           "Old Yeller (1957)",
           64
          ],
          [
           417,
           "Parent Trap, The (1961)",
           73
          ],
          [
           418,
           "Cinderella (1950)",
           129
          ],
          [
           419,
           "Mary Poppins (1964)",
           178
          ],
          [
           420,
           "Alice in Wonderland (1951)",
           81
          ],
          [
           421,
           "William Shakespeare's Romeo and Juliet (1996)",
           106
          ],
          [
           422,
           "Aladdin and the King of Thieves (1996)",
           26
          ],
          [
           423,
           "E.T. the Extra-Terrestrial (1982)",
           300
          ],
          [
           424,
           "Children of the Corn: The Gathering (1996)",
           19
          ],
          [
           425,
           "Bob Roberts (1992)",
           85
          ],
          [
           426,
           "Transformers: The Movie, The (1986)",
           32
          ],
          [
           427,
           "To Kill a Mockingbird (1962)",
           219
          ],
          [
           428,
           "Harold and Maude (1971)",
           121
          ],
          [
           429,
           "Day the Earth Stood Still, The (1951)",
           97
          ],
          [
           430,
           "Duck Soup (1933)",
           93
          ],
          [
           431,
           "Highlander (1986)",
           153
          ],
          [
           432,
           "Fantasia (1940)",
           174
          ],
          [
           433,
           "Heathers (1989)",
           171
          ],
          [
           434,
           "Forbidden Planet (1956)",
           67
          ],
          [
           435,
           "Butch Cassidy and the Sundance Kid (1969)",
           216
          ],
          [
           436,
           "American Werewolf in London, An (1981)",
           99
          ],
          [
           437,
           "Amityville 1992: It's About Time (1992)",
           5
          ],
          [
           438,
           "Amityville 3-D (1983)",
           6
          ],
          [
           439,
           "Amityville: A New Generation (1993)",
           5
          ],
          [
           440,
           "Amityville II: The Possession (1982)",
           14
          ],
          [
           441,
           "Amityville Horror, The (1979)",
           53
          ],
          [
           442,
           "Amityville Curse, The (1990)",
           4
          ],
          [
           443,
           "Birds, The (1963)",
           162
          ],
          [
           444,
           "Blob, The (1958)",
           46
          ],
          [
           445,
           "Body Snatcher, The (1945)",
           22
          ],
          [
           446,
           "Burnt Offerings (1976)",
           9
          ],
          [
           447,
           "Carrie (1976)",
           121
          ],
          [
           448,
           "Omen, The (1976)",
           85
          ],
          [
           449,
           "Star Trek: The Motion Picture (1979)",
           117
          ],
          [
           450,
           "Star Trek V: The Final Frontier (1989)",
           63
          ],
          [
           451,
           "Grease (1978)",
           170
          ],
          [
           452,
           "Jaws 2 (1978)",
           66
          ],
          [
           453,
           "Jaws 3-D (1983)",
           16
          ],
          [
           454,
           "Bastard Out of Carolina (1996)",
           16
          ],
          [
           455,
           "Jackie Chan's First Strike (1996)",
           145
          ],
          [
           456,
           "Beverly Hills Ninja (1997)",
           48
          ],
          [
           457,
           "Free Willy 3: The Rescue (1997)",
           27
          ],
          [
           458,
           "Nixon (1995)",
           90
          ],
          [
           459,
           "Cry, the Beloved Country (1995)",
           24
          ],
          [
           460,
           "Crossing Guard, The (1995)",
           28
          ],
          [
           461,
           "Smoke (1995)",
           74
          ],
          [
           462,
           "Like Water For Chocolate (Como agua para chocolate) (1992)",
           148
          ],
          [
           463,
           "Secret of Roan Inish, The (1994)",
           71
          ],
          [
           464,
           "Vanya on 42nd Street (1994)",
           27
          ],
          [
           465,
           "Jungle Book, The (1994)",
           85
          ],
          [
           466,
           "Red Rock West (1992)",
           52
          ],
          [
           467,
           "Bronx Tale, A (1993)",
           48
          ],
          [
           468,
           "Rudy (1993)",
           64
          ],
          [
           469,
           "Short Cuts (1993)",
           67
          ],
          [
           470,
           "Tombstone (1993)",
           108
          ],
          [
           471,
           "Courage Under Fire (1996)",
           221
          ],
          [
           472,
           "Dragonheart (1996)",
           158
          ],
          [
           473,
           "James and the Giant Peach (1996)",
           126
          ],
          [
           474,
           "Dr. Strangelove or: How I Learned to Stop Worrying and Love the Bomb (1963)",
           194
          ],
          [
           475,
           "Trainspotting (1996)",
           250
          ],
          [
           476,
           "First Wives Club, The (1996)",
           160
          ],
          [
           477,
           "Matilda (1996)",
           95
          ],
          [
           478,
           "Philadelphia Story, The (1940)",
           104
          ],
          [
           479,
           "Vertigo (1958)",
           179
          ],
          [
           480,
           "North by Northwest (1959)",
           179
          ],
          [
           481,
           "Apartment, The (1960)",
           63
          ],
          [
           482,
           "Some Like It Hot (1959)",
           128
          ],
          [
           483,
           "Casablanca (1942)",
           243
          ],
          [
           484,
           "Maltese Falcon, The (1941)",
           138
          ],
          [
           485,
           "My Fair Lady (1964)",
           125
          ],
          [
           486,
           "Sabrina (1954)",
           64
          ],
          [
           487,
           "Roman Holiday (1953)",
           68
          ],
          [
           488,
           "Sunset Blvd. (1950)",
           65
          ],
          [
           489,
           "Notorious (1946)",
           52
          ],
          [
           490,
           "To Catch a Thief (1955)",
           50
          ],
          [
           491,
           "Adventures of Robin Hood, The (1938)",
           67
          ],
          [
           492,
           "East of Eden (1955)",
           59
          ],
          [
           493,
           "Thin Man, The (1934)",
           60
          ],
          [
           494,
           "His Girl Friday (1940)",
           56
          ],
          [
           495,
           "Around the World in 80 Days (1956)",
           59
          ],
          [
           496,
           "It's a Wonderful Life (1946)",
           231
          ],
          [
           497,
           "Bringing Up Baby (1938)",
           68
          ],
          [
           498,
           "African Queen, The (1951)",
           152
          ],
          [
           499,
           "Cat on a Hot Tin Roof (1958)",
           62
          ],
          [
           500,
           "Fly Away Home (1996)",
           31
          ],
          [
           501,
           "Dumbo (1941)",
           123
          ],
          [
           502,
           "Bananas (1971)",
           57
          ],
          [
           503,
           "Candidate, The (1972)",
           39
          ],
          [
           504,
           "Bonnie and Clyde (1967)",
           122
          ],
          [
           505,
           "Dial M for Murder (1954)",
           68
          ],
          [
           506,
           "Rebel Without a Cause (1955)",
           90
          ],
          [
           507,
           "Streetcar Named Desire, A (1951)",
           98
          ],
          [
           508,
           "People vs. Larry Flynt, The (1996)",
           215
          ],
          [
           509,
           "My Left Foot (1989)",
           121
          ],
          [
           510,
           "Magnificent Seven, The (1954)",
           121
          ],
          [
           511,
           "Lawrence of Arabia (1962)",
           173
          ],
          [
           512,
           "Wings of Desire (1987)",
           57
          ],
          [
           513,
           "Third Man, The (1949)",
           72
          ],
          [
           514,
           "Annie Hall (1977)",
           180
          ],
          [
           515,
           "Boot, Das (1981)",
           201
          ],
          [
           516,
           "Local Hero (1983)",
           63
          ],
          [
           517,
           "Manhattan (1979)",
           91
          ],
          [
           518,
           "Miller's Crossing (1990)",
           89
          ],
          [
           519,
           "Treasure of the Sierra Madre, The (1948)",
           80
          ],
          [
           520,
           "Great Escape, The (1963)",
           124
          ],
          [
           521,
           "Deer Hunter, The (1978)",
           120
          ],
          [
           522,
           "Down by Law (1986)",
           35
          ],
          [
           523,
           "Cool Hand Luke (1967)",
           164
          ],
          [
           524,
           "Great Dictator, The (1940)",
           46
          ],
          [
           525,
           "Big Sleep, The (1946)",
           73
          ],
          [
           526,
           "Ben-Hur (1959)",
           124
          ],
          [
           527,
           "Gandhi (1982)",
           195
          ],
          [
           528,
           "Killing Fields, The (1984)",
           121
          ],
          [
           529,
           "My Life as a Dog (Mitt liv som hund) (1985)",
           93
          ],
          [
           530,
           "Man Who Would Be King, The (1975)",
           80
          ],
          [
           531,
           "Shine (1996)",
           129
          ],
          [
           532,
           "Kama Sutra: A Tale of Love (1996)",
           22
          ],
          [
           533,
           "Daytrippers, The (1996)",
           15
          ],
          [
           534,
           "Traveller (1997)",
           13
          ],
          [
           535,
           "Addicted to Love (1997)",
           54
          ],
          [
           536,
           "Ponette (1996)",
           10
          ],
          [
           537,
           "My Own Private Idaho (1991)",
           30
          ],
          [
           538,
           "Anastasia (1997)",
           66
          ],
          [
           539,
           "Mouse Hunt (1997)",
           44
          ],
          [
           540,
           "Money Train (1995)",
           43
          ],
          [
           541,
           "Mortal Kombat (1995)",
           49
          ],
          [
           542,
           "Pocahontas (1995)",
           51
          ],
          [
           543,
           "Misérables, Les (1995)",
           21
          ],
          [
           544,
           "Things to Do in Denver when You're Dead (1995)",
           71
          ],
          [
           545,
           "Vampire in Brooklyn (1995)",
           12
          ],
          [
           546,
           "Broken Arrow (1996)",
           254
          ],
          [
           547,
           "Young Poisoner's Handbook, The (1995)",
           41
          ],
          [
           548,
           "NeverEnding Story III, The (1994)",
           12
          ],
          [
           549,
           "Rob Roy (1995)",
           92
          ],
          [
           550,
           "Die Hard: With a Vengeance (1995)",
           151
          ],
          [
           551,
           "Lord of Illusions (1995)",
           24
          ],
          [
           552,
           "Species (1995)",
           45
          ],
          [
           553,
           "Walk in the Clouds, A (1995)",
           63
          ],
          [
           554,
           "Waterworld (1995)",
           102
          ],
          [
           555,
           "White Man's Burden (1995)",
           10
          ],
          [
           556,
           "Wild Bill (1995)",
           12
          ],
          [
           557,
           "Farinelli: il castrato (1994)",
           17
          ],
          [
           558,
           "Heavenly Creatures (1994)",
           70
          ],
          [
           559,
           "Interview with the Vampire (1994)",
           137
          ],
          [
           560,
           "Kid in King Arthur's Court, A (1995)",
           22
          ],
          [
           561,
           "Mary Shelley's Frankenstein (1994)",
           59
          ],
          [
           562,
           "Quick and the Dead, The (1995)",
           48
          ],
          [
           563,
           "Stephen King's The Langoliers (1995)",
           29
          ],
          [
           564,
           "Tales from the Hood (1995)",
           27
          ],
          [
           565,
           "Village of the Damned (1995)",
           22
          ],
          [
           566,
           "Clear and Present Danger (1994)",
           179
          ],
          [
           567,
           "Wes Craven's New Nightmare (1994)",
           35
          ],
          [
           568,
           "Speed (1994)",
           230
          ],
          [
           569,
           "Wolf (1994)",
           67
          ],
          [
           570,
           "Wyatt Earp (1994)",
           50
          ],
          [
           571,
           "Another Stakeout (1993)",
           28
          ],
          [
           572,
           "Blown Away (1994)",
           29
          ],
          [
           573,
           "Body Snatchers (1993)",
           33
          ],
          [
           574,
           "Boxing Helena (1993)",
           15
          ],
          [
           575,
           "City Slickers II: The Legend of Curly's Gold (1994)",
           44
          ],
          [
           576,
           "Cliffhanger (1993)",
           93
          ],
          [
           577,
           "Coneheads (1993)",
           41
          ],
          [
           578,
           "Demolition Man (1993)",
           92
          ],
          [
           579,
           "Fatal Instinct (1993)",
           19
          ],
          [
           580,
           "Englishman Who Went Up a Hill, But Came Down a Mountain, The (1995)",
           32
          ],
          [
           581,
           "Kalifornia (1993)",
           59
          ],
          [
           582,
           "Piano, The (1993)",
           168
          ],
          [
           583,
           "Romeo Is Bleeding (1993)",
           37
          ],
          [
           584,
           "Secret Garden, The (1993)",
           79
          ],
          [
           585,
           "Son in Law (1993)",
           39
          ],
          [
           586,
           "Terminal Velocity (1994)",
           34
          ],
          [
           587,
           "Hour of the Pig, The (1993)",
           14
          ],
          [
           588,
           "Beauty and the Beast (1991)",
           202
          ],
          [
           589,
           "Wild Bunch, The (1969)",
           43
          ],
          [
           590,
           "Hellraiser: Bloodline (1996)",
           18
          ],
          [
           591,
           "Primal Fear (1996)",
           178
          ],
          [
           592,
           "True Crime (1995)",
           9
          ],
          [
           593,
           "Stalingrad (1993)",
           12
          ],
          [
           594,
           "Heavy (1995)",
           5
          ],
          [
           595,
           "Fan, The (1996)",
           64
          ],
          [
           596,
           "Hunchback of Notre Dame, The (1996)",
           127
          ],
          [
           597,
           "Eraser (1996)",
           206
          ],
          [
           598,
           "Big Squeeze, The (1996)",
           4
          ],
          [
           599,
           "Police Story 4: Project S (Chao ji ji hua) (1993)",
           1
          ],
          [
           600,
           "Daniel Defoe's Robinson Crusoe (1996)",
           2
          ],
          [
           601,
           "For Whom the Bell Tolls (1943)",
           20
          ],
          [
           602,
           "American in Paris, An (1951)",
           50
          ],
          [
           603,
           "Rear Window (1954)",
           209
          ],
          [
           604,
           "It Happened One Night (1934)",
           81
          ],
          [
           605,
           "Meet Me in St. Louis (1944)",
           31
          ],
          [
           606,
           "All About Eve (1950)",
           66
          ],
          [
           607,
           "Rebecca (1940)",
           66
          ],
          [
           608,
           "Spellbound (1945)",
           30
          ],
          [
           609,
           "Father of the Bride (1950)",
           60
          ],
          [
           610,
           "Gigi (1958)",
           41
          ],
          [
           611,
           "Laura (1944)",
           40
          ],
          [
           612,
           "Lost Horizon (1937)",
           34
          ],
          [
           613,
           "My Man Godfrey (1936)",
           27
          ],
          [
           614,
           "Giant (1956)",
           51
          ],
          [
           615,
           "39 Steps, The (1935)",
           59
          ],
          [
           616,
           "Night of the Living Dead (1968)",
           64
          ],
          [
           617,
           "Blue Angel, The (Blaue Engel, Der) (1930)",
           18
          ],
          [
           618,
           "Picnic (1955)",
           18
          ],
          [
           619,
           "Extreme Measures (1996)",
           64
          ],
          [
           620,
           "Chamber, The (1996)",
           43
          ],
          [
           621,
           "Davy Crockett, King of the Wild Frontier (1955)",
           11
          ],
          [
           622,
           "Swiss Family Robinson (1960)",
           39
          ],
          [
           623,
           "Angels in the Outfield (1994)",
           39
          ],
          [
           624,
           "Three Caballeros, The (1945)",
           22
          ],
          [
           625,
           "Sword in the Stone, The (1963)",
           82
          ],
          [
           626,
           "So Dear to My Heart (1949)",
           4
          ],
          [
           627,
           "Robin Hood: Prince of Thieves (1991)",
           75
          ],
          [
           628,
           "Sleepers (1996)",
           169
          ],
          [
           629,
           "Victor/Victoria (1982)",
           77
          ],
          [
           630,
           "Great Race, The (1965)",
           31
          ],
          [
           631,
           "Crying Game, The (1992)",
           119
          ],
          [
           632,
           "Sophie's Choice (1982)",
           58
          ],
          [
           633,
           "Christmas Carol, A (1938)",
           69
          ],
          [
           634,
           "Microcosmos: Le peuple de l'herbe (1996)",
           24
          ],
          [
           635,
           "Fog, The (1980)",
           23
          ],
          [
           636,
           "Escape from New York (1981)",
           91
          ],
          [
           637,
           "Howling, The (1981)",
           38
          ],
          [
           638,
           "Return of Martin Guerre, The (Retour de Martin Guerre, Le) (1982)",
           44
          ],
          [
           639,
           "Tin Drum, The (Blechtrommel, Die) (1979)",
           40
          ],
          [
           640,
           "Cook the Thief His Wife & Her Lover, The (1989)",
           82
          ],
          [
           641,
           "Paths of Glory (1957)",
           33
          ],
          [
           642,
           "Grifters, The (1990)",
           89
          ],
          [
           643,
           "The Innocent (1994)",
           4
          ],
          [
           644,
           "Thin Blue Line, The (1988)",
           35
          ],
          [
           645,
           "Paris Is Burning (1990)",
           27
          ],
          [
           646,
           "Once Upon a Time in the West (1969)",
           38
          ],
          [
           647,
           "Ran (1985)",
           70
          ],
          [
           648,
           "Quiet Man, The (1952)",
           67
          ],
          [
           649,
           "Once Upon a Time in America (1984)",
           50
          ],
          [
           650,
           "Seventh Seal, The (Sjunde inseglet, Det) (1957)",
           72
          ],
          [
           651,
           "Glory (1989)",
           171
          ],
          [
           652,
           "Rosencrantz and Guildenstern Are Dead (1990)",
           90
          ],
          [
           653,
           "Touch of Evil (1958)",
           34
          ],
          [
           654,
           "Chinatown (1974)",
           147
          ],
          [
           655,
           "Stand by Me (1986)",
           227
          ],
          [
           656,
           "M (1931)",
           44
          ],
          [
           657,
           "Manchurian Candidate, The (1962)",
           131
          ],
          [
           658,
           "Pump Up the Volume (1990)",
           79
          ],
          [
           659,
           "Arsenic and Old Lace (1944)",
           115
          ],
          [
           660,
           "Fried Green Tomatoes (1991)",
           153
          ],
          [
           661,
           "High Noon (1952)",
           88
          ],
          [
           662,
           "Somewhere in Time (1980)",
           82
          ],
          [
           663,
           "Being There (1979)",
           116
          ],
          [
           664,
           "Paris, Texas (1984)",
           46
          ],
          [
           665,
           "Alien 3 (1992)",
           100
          ],
          [
           666,
           "Blood For Dracula (Andy Warhol's Dracula) (1974)",
           5
          ],
          [
           667,
           "Audrey Rose (1977)",
           12
          ],
          [
           668,
           "Blood Beach (1981)",
           6
          ],
          [
           669,
           "Body Parts (1991)",
           13
          ],
          [
           670,
           "Body Snatchers (1993)",
           36
          ],
          [
           671,
           "Bride of Frankenstein (1935)",
           46
          ],
          [
           672,
           "Candyman (1992)",
           65
          ],
          [
           673,
           "Cape Fear (1962)",
           86
          ],
          [
           674,
           "Cat People (1982)",
           48
          ],
          [
           675,
           "Nosferatu (Nosferatu, eine Symphonie des Grauens) (1922)",
           54
          ],
          [
           676,
           "Crucible, The (1996)",
           77
          ],
          [
           677,
           "Fire on the Mountain (1996)",
           1
          ],
          [
           678,
           "Volcano (1997)",
           219
          ],
          [
           679,
           "Conan the Barbarian (1981)",
           107
          ],
          [
           680,
           "Kull the Conqueror (1997)",
           34
          ],
          [
           681,
           "Wishmaster (1997)",
           27
          ],
          [
           682,
           "I Know What You Did Last Summer (1997)",
           100
          ],
          [
           683,
           "Rocket Man (1997)",
           49
          ],
          [
           684,
           "In the Line of Fire (1993)",
           169
          ],
          [
           685,
           "Executive Decision (1996)",
           157
          ],
          [
           686,
           "Perfect World, A (1993)",
           50
          ],
          [
           687,
           "McHale's Navy (1997)",
           69
          ],
          [
           688,
           "Leave It to Beaver (1997)",
           44
          ],
          [
           689,
           "Jackal, The (1997)",
           87
          ],
          [
           690,
           "Seven Years in Tibet (1997)",
           155
          ],
          [
           691,
           "Dark City (1998)",
           16
          ],
          [
           692,
           "American President, The (1995)",
           164
          ],
          [
           693,
           "Casino (1995)",
           91
          ],
          [
           694,
           "Persuasion (1995)",
           44
          ],
          [
           695,
           "Kicking and Screaming (1995)",
           13
          ],
          [
           696,
           "City Hall (1996)",
           79
          ],
          [
           697,
           "Basketball Diaries, The (1995)",
           40
          ],
          [
           698,
           "Browning Version, The (1994)",
           10
          ],
          [
           699,
           "Little Women (1994)",
           102
          ],
          [
           700,
           "Miami Rhapsody (1995)",
           15
          ],
          [
           701,
           "Wonderful, Horrible Life of Leni Riefenstahl, The (1993)",
           10
          ],
          [
           702,
           "Barcelona (1994)",
           53
          ],
          [
           703,
           "Widows' Peak (1994)",
           19
          ],
          [
           704,
           "House of the Spirits, The (1993)",
           24
          ],
          [
           705,
           "Singin' in the Rain (1952)",
           137
          ],
          [
           706,
           "Bad Moon (1996)",
           6
          ],
          [
           707,
           "Enchanted April (1991)",
           70
          ],
          [
           708,
           "Sex, Lies, and Videotape (1989)",
           101
          ],
          [
           709,
           "Strictly Ballroom (1992)",
           104
          ],
          [
           710,
           "Better Off Dead... (1985)",
           79
          ],
          [
           711,
           "Substance of Fire, The (1996)",
           1
          ],
          [
           712,
           "Tin Men (1987)",
           51
          ],
          [
           713,
           "Othello (1995)",
           72
          ],
          [
           714,
           "Carrington (1995)",
           13
          ],
          [
           715,
           "To Die For (1995)",
           87
          ],
          [
           716,
           "Home for the Holidays (1995)",
           58
          ],
          [
           717,
           "Juror, The (1996)",
           82
          ],
          [
           718,
           "In the Bleak Midwinter (1995)",
           16
          ],
          [
           719,
           "Canadian Bacon (1994)",
           29
          ],
          [
           720,
           "First Knight (1995)",
           86
          ],
          [
           721,
           "Mallrats (1995)",
           54
          ],
          [
           722,
           "Nine Months (1995)",
           58
          ],
          [
           723,
           "Boys on the Side (1995)",
           34
          ],
          [
           724,
           "Circle of Friends (1995)",
           76
          ],
          [
           725,
           "Exit to Eden (1994)",
           16
          ],
          [
           726,
           "Fluke (1995)",
           14
          ],
          [
           727,
           "Immortal Beloved (1994)",
           63
          ],
          [
           728,
           "Junior (1994)",
           45
          ],
          [
           729,
           "Nell (1994)",
           81
          ],
          [
           730,
           "Queen Margot (Reine Margot, La) (1994)",
           24
          ],
          [
           731,
           "Corrina, Corrina (1994)",
           39
          ],
          [
           732,
           "Dave (1993)",
           180
          ],
          [
           733,
           "Go Fish (1994)",
           15
          ],
          [
           734,
           "Made in America (1993)",
           27
          ],
          [
           735,
           "Philadelphia (1993)",
           137
          ],
          [
           736,
           "Shadowlands (1993)",
           78
          ],
          [
           737,
           "Sirens (1994)",
           59
          ],
          [
           738,
           "Threesome (1994)",
           31
          ],
          [
           739,
           "Pretty Woman (1990)",
           164
          ],
          [
           740,
           "Jane Eyre (1996)",
           63
          ],
          [
           741,
           "Last Supper, The (1995)",
           58
          ],
          [
           742,
           "Ransom (1996)",
           267
          ],
          [
           743,
           "Crow: City of Angels, The (1996)",
           39
          ],
          [
           744,
           "Michael Collins (1996)",
           92
          ],
          [
           745,
           "Ruling Class, The (1972)",
           16
          ],
          [
           746,
           "Real Genius (1985)",
           119
          ],
          [
           747,
           "Benny & Joon (1993)",
           102
          ],
          [
           748,
           "Saint, The (1997)",
           316
          ],
          [
           749,
           "MatchMaker, The (1997)",
           51
          ],
          [
           750,
           "Amistad (1997)",
           124
          ],
          [
           751,
           "Tomorrow Never Dies (1997)",
           180
          ],
          [
           752,
           "Replacement Killers, The (1998)",
           39
          ],
          [
           753,
           "Burnt By the Sun (1994)",
           24
          ],
          [
           754,
           "Red Corner (1997)",
           57
          ],
          [
           755,
           "Jumanji (1995)",
           96
          ],
          [
           756,
           "Father of the Bride Part II (1995)",
           128
          ],
          [
           757,
           "Across the Sea of Time (1995)",
           4
          ],
          [
           758,
           "Lawnmower Man 2: Beyond Cyberspace (1996)",
           21
          ],
          [
           759,
           "Fair Game (1995)",
           11
          ],
          [
           760,
           "Screamers (1995)",
           46
          ],
          [
           761,
           "Nick of Time (1995)",
           44
          ],
          [
           762,
           "Beautiful Girls (1996)",
           115
          ],
          [
           763,
           "Happy Gilmore (1996)",
           149
          ],
          [
           764,
           "If Lucy Fell (1996)",
           29
          ],
          [
           765,
           "Boomerang (1992)",
           32
          ],
          [
           766,
           "Man of the Year (1995)",
           9
          ],
          [
           767,
           "Addiction, The (1995)",
           11
          ],
          [
           768,
           "Casper (1995)",
           52
          ],
          [
           769,
           "Congo (1995)",
           42
          ],
          [
           770,
           "Devil in a Blue Dress (1995)",
           57
          ],
          [
           771,
           "Johnny Mnemonic (1995)",
           41
          ],
          [
           772,
           "Kids (1995)",
           49
          ],
          [
           773,
           "Mute Witness (1994)",
           17
          ],
          [
           774,
           "Prophecy, The (1995)",
           32
          ],
          [
           775,
           "Something to Talk About (1995)",
           26
          ],
          [
           776,
           "Three Wishes (1995)",
           9
          ],
          [
           777,
           "Castle Freak (1995)",
           4
          ],
          [
           778,
           "Don Juan DeMarco (1995)",
           76
          ],
          [
           779,
           "Drop Zone (1994)",
           31
          ],
          [
           780,
           "Dumb & Dumber (1994)",
           69
          ],
          [
           781,
           "French Kiss (1995)",
           84
          ],
          [
           782,
           "Little Odessa (1994)",
           10
          ],
          [
           783,
           "Milk Money (1994)",
           37
          ],
          [
           784,
           "Beyond Bedlam (1993)",
           2
          ],
          [
           785,
           "Only You (1994)",
           39
          ],
          [
           786,
           "Perez Family, The (1995)",
           14
          ],
          [
           787,
           "Roommates (1995)",
           13
          ],
          [
           788,
           "Relative Fear (1994)",
           3
          ],
          [
           789,
           "Swimming with Sharks (1995)",
           47
          ],
          [
           790,
           "Tommy Boy (1995)",
           66
          ],
          [
           791,
           "Baby-Sitters Club, The (1995)",
           10
          ],
          [
           792,
           "Bullets Over Broadway (1994)",
           86
          ],
          [
           793,
           "Crooklyn (1994)",
           10
          ],
          [
           794,
           "It Could Happen to You (1994)",
           46
          ],
          [
           795,
           "Richie Rich (1994)",
           21
          ],
          [
           796,
           "Speechless (1994)",
           36
          ],
          [
           797,
           "Timecop (1994)",
           31
          ],
          [
           798,
           "Bad Company (1995)",
           9
          ],
          [
           799,
           "Boys Life (1995)",
           5
          ],
          [
           800,
           "In the Mouth of Madness (1995)",
           26
          ],
          [
           801,
           "Air Up There, The (1994)",
           16
          ],
          [
           802,
           "Hard Target (1993)",
           40
          ],
          [
           803,
           "Heaven & Earth (1993)",
           9
          ],
          [
           804,
           "Jimmy Hollywood (1994)",
           8
          ],
          [
           805,
           "Manhattan Murder Mystery (1993)",
           27
          ],
          [
           806,
           "Menace II Society (1993)",
           50
          ],
          [
           807,
           "Poetic Justice (1993)",
           9
          ],
          [
           808,
           "Program, The (1993)",
           31
          ],
          [
           809,
           "Rising Sun (1993)",
           43
          ],
          [
           810,
           "Shadow, The (1994)",
           45
          ],
          [
           811,
           "Thirty-Two Short Films About Glenn Gould (1993)",
           18
          ],
          [
           812,
           "Andre (1994)",
           18
          ],
          [
           813,
           "Celluloid Closet, The (1995)",
           56
          ],
          [
           814,
           "Great Day in Harlem, A (1994)",
           1
          ],
          [
           815,
           "One Fine Day (1996)",
           112
          ],
          [
           816,
           "Candyman: Farewell to the Flesh (1995)",
           21
          ],
          [
           817,
           "Frisk (1995)",
           3
          ],
          [
           818,
           "Girl 6 (1996)",
           25
          ],
          [
           819,
           "Eddie (1996)",
           40
          ],
          [
           820,
           "Space Jam (1996)",
           93
          ],
          [
           821,
           "Mrs. Winterbourne (1996)",
           22
          ],
          [
           822,
           "Faces (1968)",
           4
          ],
          [
           823,
           "Mulholland Falls (1996)",
           82
          ],
          [
           824,
           "Great White Hype, The (1996)",
           49
          ],
          [
           825,
           "Arrival, The (1996)",
           83
          ],
          [
           826,
           "Phantom, The (1996)",
           80
          ],
          [
           827,
           "Daylight (1996)",
           57
          ],
          [
           828,
           "Alaska (1996)",
           13
          ],
          [
           829,
           "Fled (1996)",
           34
          ],
          [
           830,
           "Power 98 (1995)",
           1
          ],
          [
           831,
           "Escape from L.A. (1996)",
           91
          ],
          [
           832,
           "Bogus (1996)",
           22
          ],
          [
           833,
           "Bulletproof (1996)",
           49
          ],
          [
           834,
           "Halloween: The Curse of Michael Myers (1995)",
           25
          ],
          [
           835,
           "Gay Divorcee, The (1934)",
           15
          ],
          [
           836,
           "Ninotchka (1939)",
           26
          ],
          [
           837,
           "Meet John Doe (1941)",
           25
          ],
          [
           838,
           "In the Line of Duty 2 (1987)",
           4
          ],
          [
           839,
           "Loch Ness (1995)",
           4
          ],
          [
           840,
           "Last Man Standing (1996)",
           53
          ],
          [
           841,
           "Glimmer Man, The (1996)",
           48
          ],
          [
           842,
           "Pollyanna (1960)",
           27
          ],
          [
           843,
           "Shaggy Dog, The (1959)",
           30
          ],
          [
           844,
           "Freeway (1996)",
           42
          ],
          [
           845,
           "That Thing You Do! (1996)",
           176
          ],
          [
           846,
           "To Gillian on Her 37th Birthday (1996)",
           44
          ],
          [
           847,
           "Looking for Richard (1996)",
           55
          ],
          [
           848,
           "Murder, My Sweet (1944)",
           9
          ],
          [
           849,
           "Days of Thunder (1990)",
           53
          ],
          [
           850,
           "Perfect Candidate, A (1996)",
           4
          ],
          [
           851,
           "Two or Three Things I Know About Her (1966)",
           4
          ],
          [
           852,
           "Bloody Child, The (1996)",
           1
          ],
          [
           853,
           "Braindead (1992)",
           14
          ],
          [
           854,
           "Bad Taste (1987)",
           16
          ],
          [
           855,
           "Diva (1981)",
           66
          ],
          [
           856,
           "Night on Earth (1991)",
           36
          ],
          [
           857,
           "Paris Was a Woman (1995)",
           1
          ],
          [
           858,
           "Amityville: Dollhouse (1996)",
           3
          ],
          [
           859,
           "April Fool's Day (1986)",
           15
          ],
          [
           860,
           "Believers, The (1987)",
           16
          ],
          [
           861,
           "Nosferatu a Venezia (1986)",
           3
          ],
          [
           862,
           "Jingle All the Way (1996)",
           18
          ],
          [
           863,
           "Garden of Finzi-Contini, The (Giardino dei Finzi-Contini, Il) (1970)",
           24
          ],
          [
           864,
           "My Fellow Americans (1996)",
           86
          ],
          [
           865,
           "Ice Storm, The (1997)",
           21
          ],
          [
           866,
           "Michael (1996)",
           119
          ],
          [
           867,
           "Whole Wide World, The (1996)",
           6
          ],
          [
           868,
           "Hearts and Minds (1996)",
           5
          ],
          [
           869,
           "Fools Rush In (1997)",
           24
          ],
          [
           870,
           "Touch (1997)",
           9
          ],
          [
           871,
           "Vegas Vacation (1997)",
           75
          ],
          [
           872,
           "Love Jones (1997)",
           42
          ],
          [
           873,
           "Picture Perfect (1997)",
           81
          ],
          [
           874,
           "Career Girls (1997)",
           39
          ],
          [
           875,
           "She's So Lovely (1997)",
           53
          ],
          [
           876,
           "Money Talks (1997)",
           47
          ],
          [
           877,
           "Excess Baggage (1997)",
           52
          ],
          [
           878,
           "That Darn Cat! (1997)",
           33
          ],
          [
           879,
           "Peacemaker, The (1997)",
           136
          ],
          [
           880,
           "Soul Food (1997)",
           59
          ],
          [
           881,
           "Money Talks (1997)",
           45
          ],
          [
           882,
           "Washington Square (1997)",
           34
          ],
          [
           883,
           "Telling Lies in America (1997)",
           13
          ],
          [
           884,
           "Year of the Horse (1997)",
           7
          ],
          [
           885,
           "Phantoms (1998)",
           13
          ],
          [
           886,
           "Life Less Ordinary, A (1997)",
           53
          ],
          [
           887,
           "Eve's Bayou (1997)",
           64
          ],
          [
           888,
           "One Night Stand (1997)",
           15
          ],
          [
           889,
           "Tango Lesson, The (1997)",
           13
          ],
          [
           890,
           "Mortal Kombat: Annihilation (1997)",
           43
          ],
          [
           891,
           "Bent (1997)",
           6
          ],
          [
           892,
           "Flubber (1997)",
           53
          ],
          [
           893,
           "For Richer or Poorer (1997)",
           14
          ],
          [
           894,
           "Home Alone 3 (1997)",
           19
          ],
          [
           895,
           "Scream 2 (1997)",
           106
          ],
          [
           896,
           "Sweet Hereafter, The (1997)",
           44
          ],
          [
           897,
           "Time Tracers (1995)",
           2
          ],
          [
           898,
           "Postman, The (1997)",
           58
          ],
          [
           899,
           "Winter Guest, The (1997)",
           9
          ],
          [
           900,
           "Kundun (1997)",
           42
          ],
          [
           901,
           "Mr. Magoo (1997)",
           12
          ],
          [
           902,
           "Big Lebowski, The (1998)",
           42
          ],
          [
           903,
           "Afterglow (1997)",
           18
          ],
          [
           904,
           "Ma vie en rose (My Life in Pink) (1997)",
           20
          ],
          [
           905,
           "Great Expectations (1998)",
           27
          ],
          [
           906,
           "Oscar & Lucinda (1997)",
           21
          ],
          [
           907,
           "Vermin (1998)",
           2
          ],
          [
           908,
           "Half Baked (1998)",
           20
          ],
          [
           909,
           "Dangerous Beauty (1998)",
           13
          ],
          [
           910,
           "Nil By Mouth (1997)",
           4
          ],
          [
           911,
           "Twilight (1998)",
           4
          ],
          [
           912,
           "U.S. Marshalls (1998)",
           9
          ],
          [
           913,
           "Love and Death on Long Island (1997)",
           2
          ],
          [
           914,
           "Wild Things (1998)",
           11
          ],
          [
           915,
           "Primary Colors (1998)",
           13
          ],
          [
           916,
           "Lost in Space (1998)",
           18
          ],
          [
           917,
           "Mercury Rising (1998)",
           7
          ],
          [
           918,
           "City of Angels (1998)",
           8
          ],
          [
           919,
           "City of Lost Children, The (1995)",
           96
          ],
          [
           920,
           "Two Bits (1995)",
           5
          ],
          [
           921,
           "Farewell My Concubine (1993)",
           46
          ],
          [
           922,
           "Dead Man (1995)",
           34
          ],
          [
           923,
           "Raise the Red Lantern (1991)",
           58
          ],
          [
           924,
           "White Squall (1996)",
           85
          ],
          [
           925,
           "Unforgettable (1996)",
           34
          ],
          [
           926,
           "Down Periscope (1996)",
           101
          ],
          [
           927,
           "Flower of My Secret, The (Flor de mi secreto, La) (1995)",
           6
          ],
          [
           928,
           "Craft, The (1996)",
           104
          ],
          [
           929,
           "Harriet the Spy (1996)",
           40
          ],
          [
           930,
           "Chain Reaction (1996)",
           80
          ],
          [
           931,
           "Island of Dr. Moreau, The (1996)",
           57
          ],
          [
           932,
           "First Kid (1996)",
           40
          ],
          [
           933,
           "Funeral, The (1996)",
           21
          ],
          [
           934,
           "Preacher's Wife, The (1996)",
           68
          ],
          [
           935,
           "Paradise Road (1997)",
           7
          ],
          [
           936,
           "Brassed Off (1996)",
           32
          ],
          [
           937,
           "Thousand Acres, A (1997)",
           37
          ],
          [
           938,
           "Smile Like Yours, A (1997)",
           25
          ],
          [
           939,
           "Murder in the First (1995)",
           60
          ],
          [
           940,
           "Airheads (1994)",
           32
          ],
          [
           941,
           "With Honors (1994)",
           46
          ],
          [
           942,
           "What's Love Got to Do with It (1993)",
           45
          ],
          [
           943,
           "Killing Zoe (1994)",
           40
          ],
          [
           944,
           "Renaissance Man (1994)",
           43
          ],
          [
           945,
           "Charade (1963)",
           40
          ],
          [
           946,
           "Fox and the Hound, The (1981)",
           61
          ],
          [
           947,
           "Big Blue, The (Grand bleu, Le) (1988)",
           17
          ],
          [
           948,
           "Booty Call (1997)",
           48
          ],
          [
           949,
           "How to Make an American Quilt (1995)",
           71
          ],
          [
           950,
           "Georgia (1995)",
           30
          ],
          [
           951,
           "Indian in the Cupboard, The (1995)",
           39
          ],
          [
           952,
           "Blue in the Face (1995)",
           45
          ],
          [
           953,
           "Unstrung Heroes (1995)",
           22
          ],
          [
           954,
           "Unzipped (1995)",
           11
          ],
          [
           955,
           "Before Sunrise (1995)",
           49
          ],
          [
           956,
           "Nobody's Fool (1994)",
           46
          ],
          [
           957,
           "Pushing Hands (1992)",
           2
          ],
          [
           958,
           "To Live (Huozhe) (1994)",
           14
          ],
          [
           959,
           "Dazed and Confused (1993)",
           64
          ],
          [
           960,
           "Naked (1993)",
           25
          ],
          [
           961,
           "Orlando (1993)",
           34
          ],
          [
           962,
           "Ruby in Paradise (1993)",
           23
          ],
          [
           963,
           "Some Folks Call It a Sling Blade (1993)",
           41
          ],
          [
           964,
           "Month by the Lake, A (1995)",
           9
          ],
          [
           965,
           "Funny Face (1957)",
           21
          ],
          [
           966,
           "Affair to Remember, An (1957)",
           26
          ],
          [
           967,
           "Little Lord Fauntleroy (1936)",
           12
          ],
          [
           968,
           "Inspector General, The (1949)",
           18
          ],
          [
           969,
           "Winnie the Pooh and the Blustery Day (1968)",
           75
          ],
          [
           970,
           "Hear My Song (1991)",
           8
          ],
          [
           971,
           "Mediterraneo (1991)",
           34
          ],
          [
           972,
           "Passion Fish (1992)",
           28
          ],
          [
           973,
           "Grateful Dead (1995)",
           4
          ],
          [
           974,
           "Eye for an Eye (1996)",
           32
          ],
          [
           975,
           "Fear (1996)",
           44
          ],
          [
           976,
           "Solo (1996)",
           12
          ],
          [
           977,
           "Substitute, The (1996)",
           49
          ],
          [
           978,
           "Heaven's Prisoners (1996)",
           27
          ],
          [
           979,
           "Trigger Effect, The (1996)",
           35
          ],
          [
           980,
           "Mother Night (1996)",
           22
          ],
          [
           981,
           "Dangerous Ground (1997)",
           8
          ],
          [
           982,
           "Maximum Risk (1996)",
           20
          ],
          [
           983,
           "Rich Man's Wife, The (1996)",
           15
          ],
          [
           984,
           "Shadow Conspiracy (1997)",
           44
          ],
          [
           985,
           "Blood & Wine (1997)",
           22
          ],
          [
           986,
           "Turbulence (1997)",
           23
          ],
          [
           987,
           "Underworld (1997)",
           4
          ],
          [
           988,
           "Beautician and the Beast, The (1997)",
           86
          ],
          [
           989,
           "Cats Don't Dance (1997)",
           32
          ],
          [
           990,
           "Anna Karenina (1997)",
           33
          ],
          [
           991,
           "Keys to Tulsa (1997)",
           25
          ],
          [
           992,
           "Head Above Water (1996)",
           4
          ],
          [
           993,
           "Hercules (1997)",
           66
          ],
          [
           994,
           "Last Time I Committed Suicide, The (1997)",
           7
          ],
          [
           995,
           "Kiss Me, Guido (1997)",
           31
          ],
          [
           996,
           "Big Green, The (1995)",
           14
          ],
          [
           997,
           "Stuart Saves His Family (1995)",
           16
          ],
          [
           998,
           "Cabin Boy (1994)",
           16
          ],
          [
           999,
           "Clean Slate (1994)",
           10
          ],
          [
           1000,
           "Lightning Jack (1994)",
           10
          ],
          [
           1001,
           "Stupids, The (1996)",
           17
          ],
          [
           1002,
           "Pest, The (1997)",
           8
          ],
          [
           1003,
           "That Darn Cat! (1997)",
           8
          ],
          [
           1004,
           "Geronimo: An American Legend (1993)",
           9
          ],
          [
           1005,
           "Double vie de Véronique, La (Double Life of Veronique, The) (1991)",
           22
          ],
          [
           1006,
           "Until the End of the World (Bis ans Ende der Welt) (1991)",
           23
          ],
          [
           1007,
           "Waiting for Guffman (1996)",
           47
          ],
          [
           1008,
           "I Shot Andy Warhol (1996)",
           37
          ],
          [
           1009,
           "Stealing Beauty (1996)",
           64
          ],
          [
           1010,
           "Basquiat (1996)",
           44
          ],
          [
           1011,
           "2 Days in the Valley (1996)",
           93
          ],
          [
           1012,
           "Private Parts (1997)",
           100
          ],
          [
           1013,
           "Anaconda (1997)",
           38
          ],
          [
           1014,
           "Romy and Michele's High School Reunion (1997)",
           98
          ],
          [
           1015,
           "Shiloh (1997)",
           12
          ],
          [
           1016,
           "Con Air (1997)",
           137
          ],
          [
           1017,
           "Trees Lounge (1996)",
           50
          ],
          [
           1018,
           "Tie Me Up! Tie Me Down! (1990)",
           32
          ],
          [
           1019,
           "Die xue shuang xiong (Killer, The) (1989)",
           31
          ],
          [
           1020,
           "Gaslight (1944)",
           35
          ],
          [
           1021,
           "8 1/2 (1963)",
           38
          ],
          [
           1022,
           "Fast, Cheap & Out of Control (1997)",
           32
          ],
          [
           1023,
           "Fathers' Day (1997)",
           31
          ],
          [
           1024,
           "Mrs. Dalloway (1997)",
           15
          ],
          [
           1025,
           "Fire Down Below (1997)",
           44
          ],
          [
           1026,
           "Lay of the Land, The (1997)",
           4
          ],
          [
           1027,
           "Shooter, The (1995)",
           3
          ],
          [
           1028,
           "Grumpier Old Men (1995)",
           148
          ],
          [
           1029,
           "Jury Duty (1995)",
           14
          ],
          [
           1030,
           "Beverly Hillbillies, The (1993)",
           20
          ],
          [
           1031,
           "Lassie (1994)",
           7
          ],
          [
           1032,
           "Little Big League (1994)",
           16
          ],
          [
           1033,
           "Homeward Bound II: Lost in San Francisco (1996)",
           32
          ],
          [
           1034,
           "Quest, The (1996)",
           27
          ],
          [
           1035,
           "Cool Runnings (1993)",
           68
          ],
          [
           1036,
           "Drop Dead Fred (1991)",
           24
          ],
          [
           1037,
           "Grease 2 (1982)",
           24
          ],
          [
           1038,
           "Switchback (1997)",
           17
          ],
          [
           1039,
           "Hamlet (1996)",
           90
          ],
          [
           1040,
           "Two if by Sea (1996)",
           25
          ],
          [
           1041,
           "Forget Paris (1995)",
           62
          ],
          [
           1042,
           "Just Cause (1995)",
           28
          ],
          [
           1043,
           "Rent-a-Kid (1995)",
           8
          ],
          [
           1044,
           "Paper, The (1994)",
           40
          ],
          [
           1045,
           "Fearless (1993)",
           25
          ],
          [
           1046,
           "Malice (1993)",
           46
          ],
          [
           1047,
           "Multiplicity (1996)",
           134
          ],
          [
           1048,
           "She's the One (1996)",
           73
          ],
          [
           1049,
           "House Arrest (1996)",
           25
          ],
          [
           1050,
           "Ghost and Mrs. Muir, The (1947)",
           43
          ],
          [
           1051,
           "Associate, The (1996)",
           41
          ],
          [
           1052,
           "Dracula: Dead and Loving It (1995)",
           25
          ],
          [
           1053,
           "Now and Then (1995)",
           24
          ],
          [
           1054,
           "Mr. Wrong (1996)",
           23
          ],
          [
           1055,
           "Simple Twist of Fate, A (1994)",
           10
          ],
          [
           1056,
           "Cronos (1992)",
           10
          ],
          [
           1057,
           "Pallbearer, The (1996)",
           22
          ],
          [
           1058,
           "War, The (1994)",
           15
          ],
          [
           1059,
           "Don't Be a Menace to South Central While Drinking Your Juice in the Hood (1996)",
           35
          ],
          [
           1060,
           "Adventures of Pinocchio, The (1996)",
           39
          ],
          [
           1061,
           "Evening Star, The (1996)",
           29
          ],
          [
           1062,
           "Four Days in September (1997)",
           12
          ],
          [
           1063,
           "Little Princess, A (1995)",
           41
          ],
          [
           1064,
           "Crossfire (1947)",
           4
          ],
          [
           1065,
           "Koyaanisqatsi (1983)",
           53
          ],
          [
           1066,
           "Balto (1995)",
           16
          ],
          [
           1067,
           "Bottle Rocket (1996)",
           44
          ],
          [
           1068,
           "Star Maker, The (Uomo delle stelle, L') (1995)",
           12
          ],
          [
           1069,
           "Amateur (1994)",
           18
          ],
          [
           1070,
           "Living in Oblivion (1995)",
           27
          ],
          [
           1071,
           "Party Girl (1995)",
           16
          ],
          [
           1072,
           "Pyromaniac's Love Story, A (1995)",
           7
          ],
          [
           1073,
           "Shallow Grave (1994)",
           66
          ],
          [
           1074,
           "Reality Bites (1994)",
           77
          ],
          [
           1075,
           "Man of No Importance, A (1994)",
           7
          ],
          [
           1076,
           "Pagemaster, The (1994)",
           12
          ],
          [
           1077,
           "Love and a .45 (1994)",
           8
          ],
          [
           1078,
           "Oliver & Company (1988)",
           22
          ],
          [
           1079,
           "Joe's Apartment (1996)",
           45
          ],
          [
           1080,
           "Celestial Clockwork (1994)",
           2
          ],
          [
           1081,
           "Curdled (1996)",
           8
          ],
          [
           1082,
           "Female Perversions (1996)",
           8
          ],
          [
           1083,
           "Albino Alligator (1996)",
           6
          ],
          [
           1084,
           "Anne Frank Remembered (1995)",
           21
          ],
          [
           1085,
           "Carried Away (1996)",
           11
          ],
          [
           1086,
           "It's My Party (1995)",
           21
          ],
          [
           1087,
           "Bloodsport 2 (1995)",
           10
          ],
          [
           1088,
           "Double Team (1997)",
           13
          ],
          [
           1089,
           "Speed 2: Cruise Control (1997)",
           38
          ],
          [
           1090,
           "Sliver (1993)",
           37
          ],
          [
           1091,
           "Pete's Dragon (1977)",
           43
          ],
          [
           1092,
           "Dear God (1996)",
           12
          ],
          [
           1093,
           "Live Nude Girls (1995)",
           23
          ],
          [
           1094,
           "Thin Line Between Love and Hate, A (1996)",
           12
          ],
          [
           1095,
           "High School High (1996)",
           29
          ],
          [
           1096,
           "Commandments (1997)",
           3
          ],
          [
           1097,
           "Hate (Haine, La) (1995)",
           18
          ],
          [
           1098,
           "Flirting With Disaster (1996)",
           42
          ],
          [
           1099,
           "Red Firecracker, Green Firecracker (1994)",
           13
          ],
          [
           1100,
           "What Happened Was... (1994)",
           8
          ],
          [
           1101,
           "Six Degrees of Separation (1993)",
           74
          ],
          [
           1102,
           "Two Much (1996)",
           7
          ],
          [
           1103,
           "Trust (1990)",
           19
          ],
          [
           1104,
           "C'est arrivé près de chez vous (1992)",
           4
          ],
          [
           1105,
           "Firestorm (1998)",
           18
          ],
          [
           1106,
           "Newton Boys, The (1998)",
           4
          ],
          [
           1107,
           "Beyond Rangoon (1995)",
           18
          ],
          [
           1108,
           "Feast of July (1995)",
           5
          ],
          [
           1109,
           "Death and the Maiden (1994)",
           28
          ],
          [
           1110,
           "Tank Girl (1995)",
           41
          ],
          [
           1111,
           "Double Happiness (1994)",
           7
          ],
          [
           1112,
           "Cobb (1994)",
           15
          ],
          [
           1113,
           "Mrs. Parker and the Vicious Circle (1994)",
           22
          ],
          [
           1114,
           "Faithful (1996)",
           10
          ],
          [
           1115,
           "Twelfth Night (1996)",
           29
          ],
          [
           1116,
           "Mark of Zorro, The (1940)",
           13
          ],
          [
           1117,
           "Surviving Picasso (1996)",
           19
          ],
          [
           1118,
           "Up in Smoke (1978)",
           47
          ],
          [
           1119,
           "Some Kind of Wonderful (1987)",
           59
          ],
          [
           1120,
           "I'm Not Rappaport (1996)",
           17
          ],
          [
           1121,
           "Umbrellas of Cherbourg, The (Parapluies de Cherbourg, Les) (1964)",
           21
          ],
          [
           1122,
           "They Made Me a Criminal (1939)",
           1
          ],
          [
           1123,
           "Last Time I Saw Paris, The (1954)",
           3
          ],
          [
           1124,
           "Farewell to Arms, A (1932)",
           12
          ],
          [
           1125,
           "Innocents, The (1961)",
           4
          ],
          [
           1126,
           "Old Man and the Sea, The (1958)",
           32
          ],
          [
           1127,
           "Truman Show, The (1998)",
           11
          ],
          [
           1128,
           "Heidi Fleiss: Hollywood Madam (1995) ",
           13
          ],
          [
           1129,
           "Chungking Express (1994)",
           28
          ],
          [
           1130,
           "Jupiter's Wife (1994)",
           1
          ],
          [
           1131,
           "Safe (1995)",
           13
          ],
          [
           1132,
           "Feeling Minnesota (1996)",
           32
          ],
          [
           1133,
           "Escape to Witch Mountain (1975)",
           30
          ],
          [
           1134,
           "Get on the Bus (1996)",
           38
          ],
          [
           1135,
           "Doors, The (1991)",
           46
          ],
          [
           1136,
           "Ghosts of Mississippi (1996)",
           29
          ],
          [
           1137,
           "Beautiful Thing (1996)",
           29
          ],
          [
           1138,
           "Best Men (1997)",
           5
          ],
          [
           1139,
           "Hackers (1995)",
           33
          ],
          [
           1140,
           "Road to Wellville, The (1994)",
           17
          ],
          [
           1141,
           "War Room, The (1993)",
           9
          ],
          [
           1142,
           "When We Were Kings (1996)",
           44
          ],
          [
           1143,
           "Hard Eight (1996)",
           15
          ],
          [
           1144,
           "Quiet Room, The (1996)",
           3
          ],
          [
           1145,
           "Blue Chips (1994)",
           9
          ],
          [
           1146,
           "Calendar Girl (1993)",
           3
          ],
          [
           1147,
           "My Family (1995)",
           21
          ],
          [
           1148,
           "Tom & Viv (1994)",
           9
          ],
          [
           1149,
           "Walkabout (1971)",
           26
          ],
          [
           1150,
           "Last Dance (1996)",
           9
          ],
          [
           1151,
           "Original Gangstas (1996)",
           7
          ],
          [
           1152,
           "In Love and War (1996)",
           28
          ],
          [
           1153,
           "Backbeat (1993)",
           19
          ],
          [
           1154,
           "Alphaville (1965)",
           12
          ],
          [
           1155,
           "Rendezvous in Paris (Rendez-vous de Paris, Les) (1995)",
           3
          ],
          [
           1156,
           "Cyclo (1995)",
           1
          ],
          [
           1157,
           "Relic, The (1997)",
           25
          ],
          [
           1158,
           "Fille seule, La (A Single Girl) (1995)",
           4
          ],
          [
           1159,
           "Stalker (1979)",
           11
          ],
          [
           1160,
           "Love! Valour! Compassion! (1997)",
           26
          ],
          [
           1161,
           "Palookaville (1996)",
           13
          ],
          [
           1162,
           "Phat Beach (1996)",
           5
          ],
          [
           1163,
           "Portrait of a Lady, The (1996)",
           25
          ],
          [
           1164,
           "Zeus and Roxanne (1997)",
           6
          ],
          [
           1165,
           "Big Bully (1996)",
           14
          ],
          [
           1166,
           "Love & Human Remains (1993)",
           12
          ],
          [
           1167,
           "Sum of Us, The (1994)",
           11
          ],
          [
           1168,
           "Little Buddha (1993)",
           22
          ],
          [
           1169,
           "Fresh (1994)",
           10
          ],
          [
           1170,
           "Spanking the Monkey (1994)",
           27
          ],
          [
           1171,
           "Wild Reeds (1994)",
           14
          ],
          [
           1172,
           "Women, The (1939)",
           15
          ],
          [
           1173,
           "Bliss (1997)",
           7
          ],
          [
           1174,
           "Caught (1996)",
           8
          ],
          [
           1175,
           "Hugo Pool (1997)",
           5
          ],
          [
           1176,
           "Welcome To Sarajevo (1997)",
           22
          ],
          [
           1177,
           "Dunston Checks In (1996)",
           7
          ],
          [
           1178,
           "Major Payne (1994)",
           19
          ],
          [
           1179,
           "Man of the House (1995)",
           9
          ],
          [
           1180,
           "I Love Trouble (1994)",
           10
          ],
          [
           1181,
           "Low Down Dirty Shame, A (1994)",
           10
          ],
          [
           1182,
           "Cops and Robbersons (1994)",
           13
          ],
          [
           1183,
           "Cowboy Way, The (1994)",
           19
          ],
          [
           1184,
           "Endless Summer 2, The (1994)",
           10
          ],
          [
           1185,
           "In the Army Now (1994)",
           18
          ],
          [
           1186,
           "Inkwell, The (1994)",
           3
          ],
          [
           1187,
           "Switchblade Sisters (1975)",
           13
          ],
          [
           1188,
           "Young Guns II (1990)",
           44
          ],
          [
           1189,
           "Prefontaine (1997)",
           3
          ],
          [
           1190,
           "That Old Feeling (1997)",
           11
          ],
          [
           1191,
           "Letter From Death Row, A (1998)",
           3
          ],
          [
           1192,
           "Boys of St. Vincent, The (1993)",
           13
          ],
          [
           1193,
           "Before the Rain (Pred dozhdot) (1994)",
           10
          ],
          [
           1194,
           "Once Were Warriors (1994)",
           31
          ],
          [
           1195,
           "Strawberry and Chocolate (Fresa y chocolate) (1993)",
           11
          ],
          [
           1196,
           "Savage Nights (Nuits fauves, Les) (1992)",
           3
          ],
          [
           1197,
           "Family Thing, A (1996)",
           45
          ],
          [
           1198,
           "Purple Noon (1960)",
           7
          ],
          [
           1199,
           "Cemetery Man (Dellamorte Dellamore) (1994)",
           23
          ],
          [
           1200,
           "Kim (1950)",
           7
          ],
          [
           1201,
           "Marlene Dietrich: Shadow and Light (1996) ",
           1
          ],
          [
           1202,
           "Maybe, Maybe Not (Bewegte Mann, Der) (1994)",
           8
          ],
          [
           1203,
           "Top Hat (1935)",
           21
          ],
          [
           1204,
           "To Be or Not to Be (1942)",
           18
          ],
          [
           1205,
           "Secret Agent, The (1996)",
           6
          ],
          [
           1206,
           "Amos & Andrew (1993)",
           19
          ],
          [
           1207,
           "Jade (1995)",
           17
          ],
          [
           1208,
           "Kiss of Death (1995)",
           20
          ],
          [
           1209,
           "Mixed Nuts (1994)",
           15
          ],
          [
           1210,
           "Virtuosity (1995)",
           38
          ],
          [
           1211,
           "Blue Sky (1994)",
           12
          ],
          [
           1212,
           "Flesh and Bone (1993)",
           6
          ],
          [
           1213,
           "Guilty as Sin (1993)",
           6
          ],
          [
           1214,
           "In the Realm of the Senses (Ai no corrida) (1976)",
           9
          ],
          [
           1215,
           "Barb Wire (1996)",
           30
          ],
          [
           1216,
           "Kissed (1996)",
           6
          ],
          [
           1217,
           "Assassins (1995)",
           39
          ],
          [
           1218,
           "Friday (1995)",
           26
          ],
          [
           1219,
           "Goofy Movie, A (1995)",
           20
          ],
          [
           1220,
           "Higher Learning (1995)",
           30
          ],
          [
           1221,
           "When a Man Loves a Woman (1994)",
           39
          ],
          [
           1222,
           "Judgment Night (1993)",
           25
          ],
          [
           1223,
           "King of the Hill (1993)",
           4
          ],
          [
           1224,
           "Scout, The (1994)",
           12
          ],
          [
           1225,
           "Angus (1995)",
           14
          ],
          [
           1226,
           "Night Falls on Manhattan (1997)",
           32
          ],
          [
           1227,
           "Awfully Big Adventure, An (1995)",
           8
          ],
          [
           1228,
           "Under Siege 2: Dark Territory (1995)",
           48
          ],
          [
           1229,
           "Poison Ivy II (1995)",
           13
          ],
          [
           1230,
           "Ready to Wear (Pret-A-Porter) (1994)",
           18
          ],
          [
           1231,
           "Marked for Death (1990)",
           22
          ],
          [
           1232,
           "Madonna: Truth or Dare (1991)",
           17
          ],
          [
           1233,
           "Nénette et Boni (1996)",
           6
          ],
          [
           1234,
           "Chairman of the Board (1998)",
           8
          ],
          [
           1235,
           "Big Bang Theory, The (1994)",
           1
          ],
          [
           1236,
           "Other Voices, Other Rooms (1997)",
           1
          ],
          [
           1237,
           "Twisted (1996)",
           6
          ],
          [
           1238,
           "Full Speed (1996)",
           8
          ],
          [
           1239,
           "Cutthroat Island (1995)",
           18
          ],
          [
           1240,
           "Ghost in the Shell (Kokaku kidotai) (1995)",
           26
          ],
          [
           1241,
           "Van, The (1996)",
           6
          ],
          [
           1242,
           "Old Lady Who Walked in the Sea, The (Vieille qui marchait dans la mer, La) (1991)",
           5
          ],
          [
           1243,
           "Night Flier (1997)",
           7
          ],
          [
           1244,
           "Metro (1997)",
           36
          ],
          [
           1245,
           "Gridlock'd (1997)",
           19
          ],
          [
           1246,
           "Bushwhacked (1995)",
           7
          ],
          [
           1247,
           "Bad Girls (1994)",
           6
          ],
          [
           1248,
           "Blink (1994)",
           19
          ],
          [
           1249,
           "For Love or Money (1993)",
           12
          ],
          [
           1250,
           "Best of the Best 3: No Turning Back (1995)",
           6
          ],
          [
           1251,
           "A Chef in Love (1996)",
           8
          ],
          [
           1252,
           "Contempt (Mépris, Le) (1963)",
           9
          ],
          [
           1253,
           "Tie That Binds, The (1995)",
           7
          ],
          [
           1254,
           "Gone Fishin' (1997)",
           11
          ],
          [
           1255,
           "Broken English (1996)",
           8
          ],
          [
           1256,
           "Designated Mourner, The (1997)",
           3
          ],
          [
           1257,
           "Designated Mourner, The (1997)",
           4
          ],
          [
           1258,
           "Trial and Error (1997)",
           23
          ],
          [
           1259,
           "Pie in the Sky (1995)",
           4
          ],
          [
           1260,
           "Total Eclipse (1995)",
           4
          ],
          [
           1261,
           "Run of the Country, The (1995)",
           4
          ],
          [
           1262,
           "Walking and Talking (1996)",
           8
          ],
          [
           1263,
           "Foxfire (1996)",
           15
          ],
          [
           1264,
           "Nothing to Lose (1994)",
           7
          ],
          [
           1265,
           "Star Maps (1997)",
           19
          ],
          [
           1266,
           "Bread and Chocolate (Pane e cioccolata) (1973)",
           12
          ],
          [
           1267,
           "Clockers (1995)",
           33
          ],
          [
           1268,
           "Bitter Moon (1992)",
           10
          ],
          [
           1269,
           "Love in the Afternoon (1957)",
           10
          ],
          [
           1270,
           "Life with Mikey (1993)",
           7
          ],
          [
           1271,
           "North (1994)",
           7
          ],
          [
           1272,
           "Talking About Sex (1994)",
           5
          ],
          [
           1273,
           "Color of Night (1994)",
           15
          ],
          [
           1274,
           "Robocop 3 (1993)",
           11
          ],
          [
           1275,
           "Killer (Bulletproof Heart) (1994)",
           4
          ],
          [
           1276,
           "Sunset Park (1996)",
           8
          ],
          [
           1277,
           "Set It Off (1996)",
           19
          ],
          [
           1278,
           "Selena (1997)",
           16
          ],
          [
           1279,
           "Wild America (1997)",
           9
          ],
          [
           1280,
           "Gang Related (1997)",
           16
          ],
          [
           1281,
           "Manny & Lo (1996)",
           13
          ],
          [
           1282,
           "Grass Harp, The (1995)",
           9
          ],
          [
           1283,
           "Out to Sea (1997)",
           19
          ],
          [
           1284,
           "Before and After (1996)",
           26
          ],
          [
           1285,
           "Princess Caraboo (1994)",
           15
          ],
          [
           1286,
           "Shall We Dance? (1937)",
           17
          ],
          [
           1287,
           "Ed (1996)",
           6
          ],
          [
           1288,
           "Denise Calls Up (1995)",
           7
          ],
          [
           1289,
           "Jack and Sarah (1995)",
           7
          ],
          [
           1290,
           "Country Life (1994)",
           2
          ],
          [
           1291,
           "Celtic Pride (1996)",
           15
          ],
          [
           1292,
           "Simple Wish, A (1997)",
           3
          ],
          [
           1293,
           "Star Kid (1997)",
           3
          ],
          [
           1294,
           "Ayn Rand: A Sense of Life (1997)",
           7
          ],
          [
           1295,
           "Kicked in the Head (1997)",
           7
          ],
          [
           1296,
           "Indian Summer (1996)",
           20
          ],
          [
           1297,
           "Love Affair (1994)",
           12
          ],
          [
           1298,
           "Band Wagon, The (1953)",
           9
          ],
          [
           1299,
           "Penny Serenade (1941)",
           8
          ],
          [
           1300,
           "'Til There Was You (1997)",
           9
          ],
          [
           1301,
           "Stripes (1981)",
           5
          ],
          [
           1302,
           "Late Bloomers (1996)",
           5
          ],
          [
           1303,
           "Getaway, The (1994)",
           18
          ],
          [
           1304,
           "New York Cop (1996)",
           2
          ],
          [
           1305,
           "National Lampoon's Senior Trip (1995)",
           7
          ],
          [
           1306,
           "Delta of Venus (1994)",
           2
          ],
          [
           1307,
           "Carmen Miranda: Bananas Is My Business (1994)",
           2
          ],
          [
           1308,
           "Babyfever (1994)",
           2
          ],
          [
           1309,
           "Very Natural Thing, A (1974)",
           1
          ],
          [
           1310,
           "Walk in the Sun, A (1945)",
           1
          ],
          [
           1311,
           "Waiting to Exhale (1995)",
           16
          ],
          [
           1312,
           "Pompatus of Love, The (1996)",
           7
          ],
          [
           1313,
           "Palmetto (1998)",
           14
          ],
          [
           1314,
           "Surviving the Game (1994)",
           11
          ],
          [
           1315,
           "Inventing the Abbotts (1997)",
           23
          ],
          [
           1316,
           "Horse Whisperer, The (1998)",
           7
          ],
          [
           1317,
           "Journey of August King, The (1995)",
           4
          ],
          [
           1318,
           "Catwalk (1995)",
           3
          ],
          [
           1319,
           "Neon Bible, The (1995)",
           4
          ],
          [
           1320,
           "Homage (1995)",
           1
          ],
          [
           1321,
           "Open Season (1996)",
           2
          ],
          [
           1322,
           "Metisse (Café au Lait) (1993)",
           6
          ],
          [
           1323,
           "Wooden Man's Bride, The (Wu Kui) (1994)",
           3
          ],
          [
           1324,
           "Loaded (1994)",
           5
          ],
          [
           1325,
           "August (1996)",
           1
          ],
          [
           1326,
           "Boys (1996)",
           6
          ],
          [
           1327,
           "Captives (1994)",
           3
          ],
          [
           1328,
           "Of Love and Shadows (1994)",
           6
          ],
          [
           1329,
           "Low Life, The (1994)",
           1
          ],
          [
           1330,
           "An Unforgettable Summer (1994)",
           4
          ],
          [
           1331,
           "Last Klezmer: Leopold Kozlowski, His Life and Music, The (1995)",
           4
          ],
          [
           1332,
           "My Life and Times With Antonin Artaud (En compagnie d'Antonin Artaud) (1993)",
           2
          ],
          [
           1333,
           "Midnight Dancers (Sibak) (1994)",
           5
          ],
          [
           1334,
           "Somebody to Love (1994)",
           2
          ],
          [
           1335,
           "American Buffalo (1996)",
           11
          ],
          [
           1336,
           "Kazaam (1996)",
           10
          ],
          [
           1337,
           "Larger Than Life (1996)",
           9
          ],
          [
           1338,
           "Two Deaths (1995)",
           4
          ],
          [
           1339,
           "Stefano Quantestorie (1993)",
           1
          ],
          [
           1340,
           "Crude Oasis, The (1995)",
           1
          ],
          [
           1341,
           "Hedd Wyn (1992)",
           1
          ],
          [
           1342,
           "Convent, The (Convento, O) (1995)",
           2
          ],
          [
           1343,
           "Lotto Land (1995)",
           1
          ],
          [
           1344,
           "Story of Xinghua, The (1993)",
           5
          ],
          [
           1345,
           "Day the Sun Turned Cold, The (Tianguo niezi) (1994)",
           2
          ],
          [
           1346,
           "Dingo (1992)",
           5
          ],
          [
           1347,
           "Ballad of Narayama, The (Narayama Bushiko) (1958)",
           4
          ],
          [
           1348,
           "Every Other Weekend (1990)",
           1
          ],
          [
           1349,
           "Mille bolle blu (1993)",
           1
          ],
          [
           1350,
           "Crows and Sparrows (1949)",
           2
          ],
          [
           1351,
           "Lover's Knot (1996)",
           3
          ],
          [
           1352,
           "Shadow of Angels (Schatten der Engel) (1976)",
           1
          ],
          [
           1353,
           "1-900 (1994)",
           5
          ],
          [
           1354,
           "Venice/Venice (1992)",
           2
          ],
          [
           1355,
           "Infinity (1996)",
           6
          ],
          [
           1356,
           "Ed's Next Move (1996)",
           3
          ],
          [
           1357,
           "For the Moment (1994)",
           3
          ],
          [
           1358,
           "The Deadly Cure (1996)",
           2
          ],
          [
           1359,
           "Boys in Venice (1996)",
           2
          ],
          [
           1360,
           "Sexual Life of the Belgians, The (1994)",
           2
          ],
          [
           1361,
           "Search for One-eye Jimmy, The (1996)",
           3
          ],
          [
           1362,
           "American Strays (1996)",
           2
          ],
          [
           1363,
           "Leopard Son, The (1996)",
           1
          ],
          [
           1364,
           "Bird of Prey (1996)",
           1
          ],
          [
           1365,
           "Johnny 100 Pesos (1993)",
           2
          ],
          [
           1366,
           "JLG/JLG - autoportrait de décembre (1994)",
           1
          ],
          [
           1367,
           "Faust (1994)",
           5
          ],
          [
           1368,
           "Mina Tannenbaum (1994)",
           6
          ],
          [
           1369,
           "Forbidden Christ, The (Cristo proibito, Il) (1950)",
           4
          ],
          [
           1370,
           "I Can't Sleep (J'ai pas sommeil) (1994)",
           3
          ],
          [
           1371,
           "Machine, The (1994)",
           2
          ],
          [
           1372,
           "Stranger, The (1994)",
           3
          ],
          [
           1373,
           "Good Morning (1971)",
           1
          ],
          [
           1374,
           "Falling in Love Again (1980)",
           2
          ],
          [
           1375,
           "Cement Garden, The (1993)",
           10
          ],
          [
           1376,
           "Meet Wally Sparks (1997)",
           7
          ],
          [
           1377,
           "Hotel de Love (1996)",
           4
          ],
          [
           1378,
           "Rhyme & Reason (1997)",
           5
          ],
          [
           1379,
           "Love and Other Catastrophes (1996)",
           7
          ],
          [
           1380,
           "Hollow Reed (1996)",
           6
          ],
          [
           1381,
           "Losing Chase (1996)",
           8
          ],
          [
           1382,
           "Bonheur, Le (1965)",
           4
          ],
          [
           1383,
           "Second Jungle Book: Mowgli & Baloo, The (1997)",
           6
          ],
          [
           1384,
           "Squeeze (1996)",
           3
          ],
          [
           1385,
           "Roseanna's Grave (For Roseanna) (1997)",
           5
          ],
          [
           1386,
           "Tetsuo II: Body Hammer (1992)",
           6
          ],
          [
           1387,
           "Fall (1997)",
           3
          ],
          [
           1388,
           "Gabbeh (1996)",
           6
          ],
          [
           1389,
           "Mondo (1996)",
           3
          ],
          [
           1390,
           "Innocent Sleep, The (1995)",
           2
          ],
          [
           1391,
           "For Ever Mozart (1996)",
           3
          ],
          [
           1392,
           "Locusts, The (1997)",
           5
          ],
          [
           1393,
           "Stag (1997)",
           9
          ],
          [
           1394,
           "Swept from the Sea (1997)",
           7
          ],
          [
           1395,
           "Hurricane Streets (1998)",
           6
          ],
          [
           1396,
           "Stonewall (1995)",
           5
          ],
          [
           1397,
           "Of Human Bondage (1934)",
           5
          ],
          [
           1398,
           "Anna (1996)",
           2
          ],
          [
           1399,
           "Stranger in the House (1997)",
           7
          ],
          [
           1400,
           "Picture Bride (1995)",
           10
          ],
          [
           1401,
           "M. Butterfly (1993)",
           18
          ],
          [
           1402,
           "Ciao, Professore! (1993)",
           4
          ],
          [
           1403,
           "Caro Diario (Dear Diary) (1994)",
           4
          ],
          [
           1404,
           "Withnail and I (1987)",
           13
          ],
          [
           1405,
           "Boy's Life 2 (1997)",
           6
          ],
          [
           1406,
           "When Night Is Falling (1995)",
           5
          ],
          [
           1407,
           "Specialist, The (1994)",
           20
          ],
          [
           1408,
           "Gordy (1995)",
           3
          ],
          [
           1409,
           "Swan Princess, The (1994)",
           7
          ],
          [
           1410,
           "Harlem (1993)",
           4
          ],
          [
           1411,
           "Barbarella (1968)",
           28
          ],
          [
           1412,
           "Land Before Time III: The Time of the Great Giving (1995) (V)",
           6
          ],
          [
           1413,
           "Street Fighter (1994)",
           8
          ],
          [
           1414,
           "Coldblooded (1995)",
           1
          ],
          [
           1415,
           "Next Karate Kid, The (1994)",
           9
          ],
          [
           1416,
           "No Escape (1994)",
           5
          ],
          [
           1417,
           "Turning, The (1992)",
           2
          ],
          [
           1418,
           "Joy Luck Club, The (1993)",
           3
          ],
          [
           1419,
           "Highlander III: The Sorcerer (1994)",
           16
          ],
          [
           1420,
           "Gilligan's Island: The Movie (1998)",
           3
          ],
          [
           1421,
           "My Crazy Life (Mi vida loca) (1993)",
           11
          ],
          [
           1422,
           "Suture (1993)",
           4
          ],
          [
           1423,
           "Walking Dead, The (1995)",
           4
          ],
          [
           1424,
           "I Like It Like That (1994)",
           3
          ],
          [
           1425,
           "I'll Do Anything (1994)",
           10
          ],
          [
           1426,
           "Grace of My Heart (1996)",
           8
          ],
          [
           1427,
           "Drunks (1995)",
           5
          ],
          [
           1428,
           "SubUrbia (1997)",
           12
          ],
          [
           1429,
           "Sliding Doors (1998)",
           4
          ],
          [
           1430,
           "Ill Gotten Gains (1997)",
           3
          ],
          [
           1431,
           "Legal Deceit (1997)",
           5
          ],
          [
           1432,
           "Mighty, The (1998)",
           3
          ],
          [
           1433,
           "Men of Means (1998)",
           2
          ],
          [
           1434,
           "Shooting Fish (1997)",
           10
          ],
          [
           1435,
           "Steal Big, Steal Little (1995)",
           7
          ],
          [
           1436,
           "Mr. Jones (1993)",
           2
          ],
          [
           1437,
           "House Party 3 (1994)",
           9
          ],
          [
           1438,
           "Panther (1995)",
           5
          ],
          [
           1439,
           "Jason's Lyric (1994)",
           8
          ],
          [
           1440,
           "Above the Rim (1994)",
           5
          ],
          [
           1441,
           "Moonlight and Valentino (1995)",
           7
          ],
          [
           1442,
           "Scarlet Letter, The (1995)",
           5
          ],
          [
           1443,
           "8 Seconds (1994)",
           4
          ],
          [
           1444,
           "That Darn Cat! (1965)",
           19
          ],
          [
           1445,
           "Ladybird Ladybird (1994)",
           4
          ],
          [
           1446,
           "Bye Bye, Love (1995)",
           15
          ],
          [
           1447,
           "Century (1993)",
           1
          ],
          [
           1448,
           "My Favorite Season (1993)",
           3
          ],
          [
           1449,
           "Pather Panchali (1955)",
           8
          ],
          [
           1450,
           "Golden Earrings (1947)",
           2
          ],
          [
           1451,
           "Foreign Correspondent (1940)",
           15
          ],
          [
           1452,
           "Lady of Burlesque (1943)",
           1
          ],
          [
           1453,
           "Angel on My Shoulder (1946)",
           1
          ],
          [
           1454,
           "Angel and the Badman (1947)",
           6
          ],
          [
           1455,
           "Outlaw, The (1943)",
           2
          ],
          [
           1456,
           "Beat the Devil (1954)",
           7
          ],
          [
           1457,
           "Love Is All There Is (1996)",
           1
          ],
          [
           1458,
           "Damsel in Distress, A (1937)",
           1
          ],
          [
           1459,
           "Madame Butterfly (1995)",
           7
          ],
          [
           1460,
           "Sleepover (1995)",
           1
          ],
          [
           1461,
           "Here Comes Cookie (1935)",
           1
          ],
          [
           1462,
           "Thieves (Voleurs, Les) (1996)",
           7
          ],
          [
           1463,
           "Boys, Les (1997)",
           3
          ],
          [
           1464,
           "Stars Fell on Henrietta, The (1995)",
           3
          ],
          [
           1465,
           "Last Summer in the Hamptons (1995)",
           3
          ],
          [
           1466,
           "Margaret's Museum (1995)",
           6
          ],
          [
           1467,
           "Saint of Fort Washington, The (1993)",
           2
          ],
          [
           1468,
           "Cure, The (1995)",
           6
          ],
          [
           1469,
           "Tom and Huck (1995)",
           12
          ],
          [
           1470,
           "Gumby: The Movie (1995)",
           5
          ],
          [
           1471,
           "Hideaway (1995)",
           9
          ],
          [
           1472,
           "Visitors, The (Visiteurs, Les) (1993)",
           2
          ],
          [
           1473,
           "Little Princess, The (1939)",
           9
          ],
          [
           1474,
           "Nina Takes a Lover (1994)",
           6
          ],
          [
           1475,
           "Bhaji on the Beach (1993)",
           8
          ],
          [
           1476,
           "Raw Deal (1948)",
           1
          ],
          [
           1477,
           "Nightwatch (1997)",
           2
          ],
          [
           1478,
           "Dead Presidents (1995)",
           18
          ],
          [
           1479,
           "Reckless (1995)",
           8
          ],
          [
           1480,
           "Herbie Rides Again (1974)",
           11
          ],
          [
           1481,
           "S.F.W. (1994)",
           2
          ],
          [
           1482,
           "Gate of Heavenly Peace, The (1995)",
           1
          ],
          [
           1483,
           "Man in the Iron Mask, The (1998)",
           12
          ],
          [
           1484,
           "Jerky Boys, The (1994)",
           3
          ],
          [
           1485,
           "Colonel Chabert, Le (1994)",
           4
          ],
          [
           1486,
           "Girl in the Cadillac (1995)",
           1
          ],
          [
           1487,
           "Even Cowgirls Get the Blues (1993)",
           5
          ],
          [
           1488,
           "Germinal (1993)",
           4
          ],
          [
           1489,
           "Chasers (1994)",
           5
          ],
          [
           1490,
           "Fausto (1993)",
           3
          ],
          [
           1491,
           "Tough and Deadly (1995)",
           2
          ],
          [
           1492,
           "Window to Paris (1994)",
           1
          ],
          [
           1493,
           "Modern Affair, A (1995)",
           1
          ],
          [
           1494,
           "Mostro, Il (1994)",
           1
          ],
          [
           1495,
           "Flirt (1995)",
           5
          ],
          [
           1496,
           "Carpool (1996)",
           5
          ],
          [
           1497,
           "Line King: Al Hirschfeld, The (1996)",
           2
          ],
          [
           1498,
           "Farmer & Chase (1995)",
           1
          ],
          [
           1499,
           "Grosse Fatigue (1994)",
           4
          ],
          [
           1500,
           "Santa with Muscles (1996)",
           2
          ],
          [
           1501,
           "Prisoner of the Mountains (Kavkazsky Plennik) (1996)",
           5
          ],
          [
           1502,
           "Naked in New York (1994)",
           2
          ],
          [
           1503,
           "Gold Diggers: The Secret of Bear Mountain (1995)",
           10
          ],
          [
           1504,
           "Bewegte Mann, Der (1994)",
           3
          ],
          [
           1505,
           "Killer: A Journal of Murder (1995)",
           1
          ],
          [
           1506,
           "Nelly & Monsieur Arnaud (1995)",
           3
          ],
          [
           1507,
           "Three Lives and Only One Death (1996)",
           1
          ],
          [
           1508,
           "Babysitter, The (1995)",
           3
          ],
          [
           1509,
           "Getting Even with Dad (1994)",
           5
          ],
          [
           1510,
           "Mad Dog Time (1996)",
           1
          ],
          [
           1511,
           "Children of the Revolution (1996)",
           5
          ],
          [
           1512,
           "World of Apu, The (Apur Sansar) (1959)",
           6
          ],
          [
           1513,
           "Sprung (1997)",
           3
          ],
          [
           1514,
           "Dream With the Fishes (1997)",
           7
          ],
          [
           1515,
           "Wings of Courage (1995)",
           1
          ],
          [
           1516,
           "Wedding Gift, The (1994)",
           3
          ],
          [
           1517,
           "Race the Sun (1996)",
           5
          ],
          [
           1518,
           "Losing Isaiah (1995)",
           12
          ],
          [
           1519,
           "New Jersey Drive (1995)",
           2
          ],
          [
           1520,
           "Fear, The (1995)",
           1
          ],
          [
           1521,
           "Mr. Wonderful (1993)",
           4
          ],
          [
           1522,
           "Trial by Jury (1994)",
           7
          ],
          [
           1523,
           "Good Man in Africa, A (1994)",
           2
          ],
          [
           1524,
           "Kaspar Hauser (1993)",
           8
          ],
          [
           1525,
           "Object of My Affection, The (1998)",
           1
          ],
          [
           1526,
           "Witness (1985)",
           1
          ],
          [
           1527,
           "Senseless (1998)",
           7
          ],
          [
           1528,
           "Nowhere (1997)",
           3
          ],
          [
           1529,
           "Underground (1995)",
           5
          ],
          [
           1530,
           "Jefferson in Paris (1995)",
           5
          ],
          [
           1531,
           "Far From Home: The Adventures of Yellow Dog (1995)",
           7
          ],
          [
           1532,
           "Foreign Student (1994)",
           2
          ],
          [
           1533,
           "I Don't Want to Talk About It (De eso no se habla) (1993)",
           1
          ],
          [
           1534,
           "Twin Town (1997)",
           6
          ],
          [
           1535,
           "Enfer, L' (1994)",
           4
          ],
          [
           1536,
           "Aiqing wansui (1994)",
           1
          ],
          [
           1537,
           "Cosi (1996)",
           4
          ],
          [
           1538,
           "All Over Me (1997)",
           3
          ],
          [
           1539,
           "Being Human (1993)",
           4
          ],
          [
           1540,
           "Amazing Panda Adventure, The (1995)",
           10
          ],
          [
           1541,
           "Beans of Egypt, Maine, The (1994)",
           2
          ],
          [
           1542,
           "Scarlet Letter, The (1926)",
           2
          ],
          [
           1543,
           "Johns (1996)",
           1
          ],
          [
           1544,
           "It Takes Two (1995)",
           3
          ],
          [
           1545,
           "Frankie Starlight (1995)",
           4
          ],
          [
           1546,
           "Shadows (Cienie) (1988)",
           1
          ],
          [
           1547,
           "Show, The (1995)",
           2
          ],
          [
           1548,
           "The Courtyard (1995)",
           1
          ],
          [
           1549,
           "Dream Man (1995)",
           2
          ],
          [
           1550,
           "Destiny Turns on the Radio (1995)",
           2
          ],
          [
           1551,
           "Glass Shield, The (1994)",
           2
          ],
          [
           1552,
           "Hunted, The (1995)",
           3
          ],
          [
           1553,
           "Underneath, The (1995)",
           4
          ],
          [
           1554,
           "Safe Passage (1994)",
           2
          ],
          [
           1555,
           "Secret Adventures of Tom Thumb, The (1993)",
           5
          ],
          [
           1556,
           "Condition Red (1995)",
           2
          ],
          [
           1557,
           "Yankee Zulu (1994)",
           1
          ],
          [
           1558,
           "Aparajito (1956)",
           7
          ],
          [
           1559,
           "Hostile Intentions (1994)",
           1
          ],
          [
           1560,
           "Clean Slate (Coup de Torchon) (1981)",
           4
          ],
          [
           1561,
           "Tigrero: A Film That Was Never Made (1994)",
           1
          ],
          [
           1562,
           "Eye of Vichy, The (Oeil de Vichy, L') (1993)",
           1
          ],
          [
           1563,
           "Promise, The (Versprechen, Das) (1994)",
           1
          ],
          [
           1564,
           "To Cross the Rubicon (1991)",
           1
          ],
          [
           1565,
           "Daens (1992)",
           1
          ],
          [
           1566,
           "Man from Down Under, The (1943)",
           1
          ],
          [
           1567,
           "Careful (1992)",
           1
          ],
          [
           1568,
           "Vermont Is For Lovers (1992)",
           1
          ],
          [
           1569,
           "Vie est belle, La (Life is Rosey) (1987)",
           1
          ],
          [
           1570,
           "Quartier Mozart (1992)",
           1
          ],
          [
           1571,
           "Touki Bouki (Journey of the Hyena) (1973)",
           1
          ],
          [
           1572,
           "Wend Kuuni (God's Gift) (1982)",
           1
          ],
          [
           1573,
           "Spirits of the Dead (Tre passi nel delirio) (1968)",
           2
          ],
          [
           1574,
           "Pharaoh's Army (1995)",
           1
          ],
          [
           1575,
           "I, Worst of All (Yo, la peor de todas) (1990)",
           1
          ],
          [
           1576,
           "Hungarian Fairy Tale, A (1987)",
           1
          ],
          [
           1577,
           "Death in the Garden (Mort en ce jardin, La) (1956)",
           1
          ],
          [
           1578,
           "Collectionneuse, La (1967)",
           2
          ],
          [
           1579,
           "Baton Rouge (1988)",
           1
          ],
          [
           1580,
           "Liebelei (1933)",
           1
          ],
          [
           1581,
           "Woman in Question, The (1950)",
           1
          ],
          [
           1582,
           "T-Men (1947)",
           1
          ],
          [
           1583,
           "Invitation, The (Zaproszenie) (1986)",
           1
          ],
          [
           1584,
           "Symphonie pastorale, La (1946)",
           1
          ],
          [
           1585,
           "American Dream (1990)",
           2
          ],
          [
           1586,
           "Lashou shentan (1992)",
           1
          ],
          [
           1587,
           "Terror in a Texas Town (1958)",
           1
          ],
          [
           1588,
           "Salut cousin! (1996)",
           2
          ],
          [
           1589,
           "Schizopolis (1996)",
           4
          ],
          [
           1590,
           "To Have, or Not (1995)",
           2
          ],
          [
           1591,
           "Duoluo tianshi (1995)",
           6
          ],
          [
           1592,
           "Magic Hour, The (1998)",
           5
          ],
          [
           1593,
           "Death in Brunswick (1991)",
           1
          ],
          [
           1594,
           "Everest (1998)",
           2
          ],
          [
           1595,
           "Shopping (1994)",
           1
          ],
          [
           1596,
           "Nemesis 2: Nebula (1995)",
           1
          ],
          [
           1597,
           "Romper Stomper (1992)",
           5
          ],
          [
           1598,
           "City of Industry (1997)",
           6
          ],
          [
           1599,
           "Someone Else's America (1995)",
           1
          ],
          [
           1600,
           "Guantanamera (1994)",
           4
          ],
          [
           1601,
           "Office Killer (1997)",
           1
          ],
          [
           1602,
           "Price Above Rubies, A (1998)",
           3
          ],
          [
           1603,
           "Angela (1995)",
           1
          ],
          [
           1604,
           "He Walked by Night (1948)",
           1
          ],
          [
           1605,
           "Love Serenade (1996)",
           4
          ],
          [
           1606,
           "Deceiver (1997)",
           1
          ],
          [
           1607,
           "Hurricane Streets (1998)",
           3
          ],
          [
           1608,
           "Buddy (1997)",
           4
          ],
          [
           1609,
           "B*A*P*S (1997)",
           3
          ],
          [
           1610,
           "Truth or Consequences, N.M. (1997)",
           3
          ],
          [
           1611,
           "Intimate Relations (1996)",
           2
          ],
          [
           1612,
           "Leading Man, The (1996)",
           4
          ],
          [
           1613,
           "Tokyo Fist (1995)",
           1
          ],
          [
           1614,
           "Reluctant Debutante, The (1958)",
           1
          ],
          [
           1615,
           "Warriors of Virtue (1997)",
           10
          ],
          [
           1616,
           "Desert Winds (1995)",
           1
          ],
          [
           1617,
           "Hugo Pool (1997)",
           2
          ],
          [
           1618,
           "King of New York (1990)",
           1
          ],
          [
           1619,
           "All Things Fair (1996)",
           1
          ],
          [
           1620,
           "Sixth Man, The (1997)",
           9
          ],
          [
           1621,
           "Butterfly Kiss (1995)",
           1
          ],
          [
           1622,
           "Paris, France (1993)",
           3
          ],
          [
           1623,
           "Cérémonie, La (1995)",
           3
          ],
          [
           1624,
           "Hush (1998)",
           1
          ],
          [
           1625,
           "Nightwatch (1997)",
           1
          ],
          [
           1626,
           "Nobody Loves Me (Keiner liebt mich) (1994)",
           1
          ],
          [
           1627,
           "Wife, The (1995)",
           1
          ],
          [
           1628,
           "Lamerica (1994)",
           4
          ],
          [
           1629,
           "Nico Icon (1995)",
           2
          ],
          [
           1630,
           "Silence of the Palace, The (Saimt el Qusur) (1994)",
           1
          ],
          [
           1631,
           "Slingshot, The (1993)",
           2
          ],
          [
           1632,
           "Land and Freedom (Tierra y libertad) (1995)",
           1
          ],
          [
           1633,
           "Á köldum klaka (Cold Fever) (1994)",
           1
          ],
          [
           1634,
           "Etz Hadomim Tafus (Under the Domin Tree) (1994)",
           1
          ],
          [
           1635,
           "Two Friends (1986) ",
           1
          ],
          [
           1636,
           "Brothers in Trouble (1995)",
           1
          ],
          [
           1637,
           "Girls Town (1996)",
           1
          ],
          [
           1638,
           "Normal Life (1996)",
           1
          ],
          [
           1639,
           "Bitter Sugar (Azucar Amargo) (1996)",
           3
          ],
          [
           1640,
           "Eighth Day, The (1996)",
           1
          ],
          [
           1641,
           "Dadetown (1995)",
           1
          ],
          [
           1642,
           "Some Mother's Son (1996)",
           2
          ],
          [
           1643,
           "Angel Baby (1995)",
           4
          ],
          [
           1644,
           "Sudden Manhattan (1996)",
           2
          ],
          [
           1645,
           "Butcher Boy, The (1998)",
           1
          ],
          [
           1646,
           "Men With Guns (1997)",
           2
          ],
          [
           1647,
           "Hana-bi (1997)",
           1
          ],
          [
           1648,
           "Niagara, Niagara (1997)",
           1
          ],
          [
           1649,
           "Big One, The (1997)",
           1
          ],
          [
           1650,
           "Butcher Boy, The (1998)",
           1
          ],
          [
           1651,
           "Spanish Prisoner, The (1997)",
           1
          ],
          [
           1652,
           "Temptress Moon (Feng Yue) (1996)",
           3
          ],
          [
           1653,
           "Entertaining Angels: The Dorothy Day Story (1996)",
           1
          ],
          [
           1654,
           "Chairman of the Board (1998)",
           1
          ],
          [
           1655,
           "Favor, The (1994)",
           1
          ],
          [
           1656,
           "Little City (1998)",
           2
          ],
          [
           1657,
           "Target (1995)",
           1
          ],
          [
           1658,
           "Substance of Fire, The (1996)",
           3
          ],
          [
           1659,
           "Getting Away With Murder (1996)",
           1
          ],
          [
           1660,
           "Small Faces (1995)",
           1
          ],
          [
           1661,
           "New Age, The (1994)",
           1
          ],
          [
           1662,
           "Rough Magic (1995)",
           2
          ],
          [
           1663,
           "Nothing Personal (1995)",
           1
          ],
          [
           1664,
           "8 Heads in a Duffel Bag (1997)",
           4
          ],
          [
           1665,
           "Brother's Kiss, A (1997)",
           1
          ],
          [
           1666,
           "Ripe (1996)",
           1
          ],
          [
           1667,
           "Next Step, The (1995)",
           1
          ],
          [
           1668,
           "Wedding Bell Blues (1996)",
           1
          ],
          [
           1669,
           "MURDER and murder (1996)",
           1
          ],
          [
           1670,
           "Tainted (1998)",
           1
          ],
          [
           1671,
           "Further Gesture, A (1996)",
           1
          ],
          [
           1672,
           "Kika (1993)",
           2
          ],
          [
           1673,
           "Mirage (1995)",
           1
          ],
          [
           1674,
           "Mamma Roma (1962)",
           1
          ],
          [
           1675,
           "Sunchaser, The (1996)",
           1
          ],
          [
           1676,
           "War at Home, The (1996)",
           1
          ],
          [
           1677,
           "Sweet Nothing (1995)",
           1
          ],
          [
           1678,
           "Mat' i syn (1997)",
           1
          ],
          [
           1679,
           "B. Monkey (1998)",
           1
          ],
          [
           1680,
           "Sliding Doors (1998)",
           1
          ],
          [
           1681,
           "You So Crazy (1994)",
           1
          ],
          [
           1682,
           "Scream of Stone (Schrei aus Stein) (1991)",
           1
          ]
         ],
         "hovertemplate": "tsne_1=%{x}<br>tsne_2=%{y}<br>item_id=%{customdata[0]}<br>title=%{customdata[1]}<br>popularity=%{marker.color}<extra></extra>",
         "legendgroup": "",
         "marker": {
          "color": [
           452,
           131,
           90,
           209,
           86,
           26,
           392,
           219,
           299,
           89,
           236,
           267,
           184,
           183,
           293,
           39,
           92,
           10,
           69,
           72,
           84,
           297,
           182,
           174,
           293,
           73,
           57,
           276,
           114,
           37,
           154,
           81,
           97,
           7,
           11,
           13,
           8,
           120,
           87,
           57,
           37,
           148,
           40,
           79,
           80,
           27,
           133,
           117,
           81,
           583,
           81,
           91,
           128,
           104,
           149,
           394,
           40,
           175,
           83,
           64,
           59,
           127,
           82,
           283,
           115,
           162,
           103,
           134,
           321,
           251,
           220,
           129,
           128,
           7,
           5,
           54,
           151,
           33,
           336,
           68,
           110,
           261,
           176,
           18,
           58,
           150,
           138,
           213,
           275,
           95,
           143,
           104,
           112,
           137,
           219,
           295,
           256,
           390,
           172,
           508,
           73,
           54,
           15,
           5,
           74,
           71,
           42,
           65,
           130,
           31,
           272,
           20,
           9,
           67,
           15,
           125,
           378,
           293,
           4,
           67,
           429,
           106,
           115,
           187,
           244,
           97,
           413,
           65,
           129,
           23,
           95,
           246,
           171,
           198,
           259,
           105,
           171,
           19,
           50,
           61,
           72,
           57,
           222,
           243,
           65,
           10,
           185,
           128,
           23,
           157,
           326,
           82,
           247,
           174,
           98,
           148,
           127,
           60,
           101,
           69,
           220,
           106,
           92,
           151,
           64,
           58,
           67,
           316,
           118,
           121,
           65,
           367,
           324,
           420,
           208,
           284,
           137,
           125,
           221,
           221,
           507,
           226,
           291,
           116,
           239,
           251,
           209,
           170,
           66,
           124,
           276,
           116,
           157,
           241,
           301,
           251,
           239,
           127,
           165,
           206,
           89,
           280,
           182,
           350,
           136,
           50,
           66,
           200,
           191,
           331,
           206,
           92,
           134,
           114,
           212,
           290,
           120,
           171,
           111,
           66,
           74,
           365,
           136,
           44,
           109,
           166,
           161,
           244,
           171,
           199,
           142,
           101,
           124,
           280,
           217,
           45,
           384,
           256,
           150,
           156,
           128,
           117,
           132,
           48,
           240,
           124,
           5,
           160,
           130,
           197,
           46,
           158,
           26,
           62,
           172,
           16,
           303,
           509,
           162,
           127,
           43,
           66,
           19,
           101,
           227,
           35,
           9,
           255,
           315,
           136,
           211,
           198,
           223,
           190,
           268,
           298,
           71,
           60,
           28,
           85,
           146,
           232,
           177,
           193,
           162,
           481,
           78,
           478,
           259,
           96,
           127,
           114,
           147,
           485,
           77,
           6,
           50,
           194,
           73,
           431,
           230,
           297,
           134,
           149,
           87,
           96,
           188,
           30,
           28,
           145,
           75,
           80,
           350,
           5,
           160,
           112,
           102,
           298,
           168,
           20,
           169,
           218,
           240,
           125,
           128,
           175,
           175,
           295,
           45,
           41,
           113,
           143,
           251,
           64,
           21,
           43,
           18,
           91,
           47,
           189,
           11,
           52,
           124,
           55,
           65,
           126,
           137,
           27,
           31,
           41,
           20,
           26,
           14,
           72,
           41,
           97,
           264,
           143,
           18,
           10,
           10,
           28,
           47,
           37,
           48,
           47,
           170,
           31,
           55,
           39,
           67,
           34,
           39,
           11,
           23,
           24,
           13,
           101,
           43,
           116,
           100,
           111,
           31,
           69,
           208,
           87,
           65,
           28,
           27,
           10,
           59,
           68,
           192,
           12,
           56,
           54,
           12,
           26,
           89,
           18,
           76,
           170,
           201,
           101,
           344,
           49,
           43,
           112,
           70,
           162,
           163,
           93,
           55,
           62,
           25,
           64,
           73,
           129,
           178,
           81,
           106,
           26,
           300,
           19,
           85,
           32,
           219,
           121,
           97,
           93,
           153,
           174,
           171,
           67,
           216,
           99,
           5,
           6,
           5,
           14,
           53,
           4,
           162,
           46,
           22,
           9,
           121,
           85,
           117,
           63,
           170,
           66,
           16,
           16,
           145,
           48,
           27,
           90,
           24,
           28,
           74,
           148,
           71,
           27,
           85,
           52,
           48,
           64,
           67,
           108,
           221,
           158,
           126,
           194,
           250,
           160,
           95,
           104,
           179,
           179,
           63,
           128,
           243,
           138,
           125,
           64,
           68,
           65,
           52,
           50,
           67,
           59,
           60,
           56,
           59,
           231,
           68,
           152,
           62,
           31,
           123,
           57,
           39,
           122,
           68,
           90,
           98,
           215,
           121,
           121,
           173,
           57,
           72,
           180,
           201,
           63,
           91,
           89,
           80,
           124,
           120,
           35,
           164,
           46,
           73,
           124,
           195,
           121,
           93,
           80,
           129,
           22,
           15,
           13,
           54,
           10,
           30,
           66,
           44,
           43,
           49,
           51,
           21,
           71,
           12,
           254,
           41,
           12,
           92,
           151,
           24,
           45,
           63,
           102,
           10,
           12,
           17,
           70,
           137,
           22,
           59,
           48,
           29,
           27,
           22,
           179,
           35,
           230,
           67,
           50,
           28,
           29,
           33,
           15,
           44,
           93,
           41,
           92,
           19,
           32,
           59,
           168,
           37,
           79,
           39,
           34,
           14,
           202,
           43,
           18,
           178,
           9,
           12,
           5,
           64,
           127,
           206,
           4,
           1,
           2,
           20,
           50,
           209,
           81,
           31,
           66,
           66,
           30,
           60,
           41,
           40,
           34,
           27,
           51,
           59,
           64,
           18,
           18,
           64,
           43,
           11,
           39,
           39,
           22,
           82,
           4,
           75,
           169,
           77,
           31,
           119,
           58,
           69,
           24,
           23,
           91,
           38,
           44,
           40,
           82,
           33,
           89,
           4,
           35,
           27,
           38,
           70,
           67,
           50,
           72,
           171,
           90,
           34,
           147,
           227,
           44,
           131,
           79,
           115,
           153,
           88,
           82,
           116,
           46,
           100,
           5,
           12,
           6,
           13,
           36,
           46,
           65,
           86,
           48,
           54,
           77,
           1,
           219,
           107,
           34,
           27,
           100,
           49,
           169,
           157,
           50,
           69,
           44,
           87,
           155,
           16,
           164,
           91,
           44,
           13,
           79,
           40,
           10,
           102,
           15,
           10,
           53,
           19,
           24,
           137,
           6,
           70,
           101,
           104,
           79,
           1,
           51,
           72,
           13,
           87,
           58,
           82,
           16,
           29,
           86,
           54,
           58,
           34,
           76,
           16,
           14,
           63,
           45,
           81,
           24,
           39,
           180,
           15,
           27,
           137,
           78,
           59,
           31,
           164,
           63,
           58,
           267,
           39,
           92,
           16,
           119,
           102,
           316,
           51,
           124,
           180,
           39,
           24,
           57,
           96,
           128,
           4,
           21,
           11,
           46,
           44,
           115,
           149,
           29,
           32,
           9,
           11,
           52,
           42,
           57,
           41,
           49,
           17,
           32,
           26,
           9,
           4,
           76,
           31,
           69,
           84,
           10,
           37,
           2,
           39,
           14,
           13,
           3,
           47,
           66,
           10,
           86,
           10,
           46,
           21,
           36,
           31,
           9,
           5,
           26,
           16,
           40,
           9,
           8,
           27,
           50,
           9,
           31,
           43,
           45,
           18,
           18,
           56,
           1,
           112,
           21,
           3,
           25,
           40,
           93,
           22,
           4,
           82,
           49,
           83,
           80,
           57,
           13,
           34,
           1,
           91,
           22,
           49,
           25,
           15,
           26,
           25,
           4,
           4,
           53,
           48,
           27,
           30,
           42,
           176,
           44,
           55,
           9,
           53,
           4,
           4,
           1,
           14,
           16,
           66,
           36,
           1,
           3,
           15,
           16,
           3,
           18,
           24,
           86,
           21,
           119,
           6,
           5,
           24,
           9,
           75,
           42,
           81,
           39,
           53,
           47,
           52,
           33,
           136,
           59,
           45,
           34,
           13,
           7,
           13,
           53,
           64,
           15,
           13,
           43,
           6,
           53,
           14,
           19,
           106,
           44,
           2,
           58,
           9,
           42,
           12,
           42,
           18,
           20,
           27,
           21,
           2,
           20,
           13,
           4,
           4,
           9,
           2,
           11,
           13,
           18,
           7,
           8,
           96,
           5,
           46,
           34,
           58,
           85,
           34,
           101,
           6,
           104,
           40,
           80,
           57,
           40,
           21,
           68,
           7,
           32,
           37,
           25,
           60,
           32,
           46,
           45,
           40,
           43,
           40,
           61,
           17,
           48,
           71,
           30,
           39,
           45,
           22,
           11,
           49,
           46,
           2,
           14,
           64,
           25,
           34,
           23,
           41,
           9,
           21,
           26,
           12,
           18,
           75,
           8,
           34,
           28,
           4,
           32,
           44,
           12,
           49,
           27,
           35,
           22,
           8,
           20,
           15,
           44,
           22,
           23,
           4,
           86,
           32,
           33,
           25,
           4,
           66,
           7,
           31,
           14,
           16,
           16,
           10,
           10,
           17,
           8,
           8,
           9,
           22,
           23,
           47,
           37,
           64,
           44,
           93,
           100,
           38,
           98,
           12,
           137,
           50,
           32,
           31,
           35,
           38,
           32,
           31,
           15,
           44,
           4,
           3,
           148,
           14,
           20,
           7,
           16,
           32,
           27,
           68,
           24,
           24,
           17,
           90,
           25,
           62,
           28,
           8,
           40,
           25,
           46,
           134,
           73,
           25,
           43,
           41,
           25,
           24,
           23,
           10,
           10,
           22,
           15,
           35,
           39,
           29,
           12,
           41,
           4,
           53,
           16,
           44,
           12,
           18,
           27,
           16,
           7,
           66,
           77,
           7,
           12,
           8,
           22,
           45,
           2,
           8,
           8,
           6,
           21,
           11,
           21,
           10,
           13,
           38,
           37,
           43,
           12,
           23,
           12,
           29,
           3,
           18,
           42,
           13,
           8,
           74,
           7,
           19,
           4,
           18,
           4,
           18,
           5,
           28,
           41,
           7,
           15,
           22,
           10,
           29,
           13,
           19,
           47,
           59,
           17,
           21,
           1,
           3,
           12,
           4,
           32,
           11,
           13,
           28,
           1,
           13,
           32,
           30,
           38,
           46,
           29,
           29,
           5,
           33,
           17,
           9,
           44,
           15,
           3,
           9,
           3,
           21,
           9,
           26,
           9,
           7,
           28,
           19,
           12,
           3,
           1,
           25,
           4,
           11,
           26,
           13,
           5,
           25,
           6,
           14,
           12,
           11,
           22,
           10,
           27,
           14,
           15,
           7,
           8,
           5,
           22,
           7,
           19,
           9,
           10,
           10,
           13,
           19,
           10,
           18,
           3,
           13,
           44,
           3,
           11,
           3,
           13,
           10,
           31,
           11,
           3,
           45,
           7,
           23,
           7,
           1,
           8,
           21,
           18,
           6,
           19,
           17,
           20,
           15,
           38,
           12,
           6,
           6,
           9,
           30,
           6,
           39,
           26,
           20,
           30,
           39,
           25,
           4,
           12,
           14,
           32,
           8,
           48,
           13,
           18,
           22,
           17,
           6,
           8,
           1,
           1,
           6,
           8,
           18,
           26,
           6,
           5,
           7,
           36,
           19,
           7,
           6,
           19,
           12,
           6,
           8,
           9,
           7,
           11,
           8,
           3,
           4,
           23,
           4,
           4,
           4,
           8,
           15,
           7,
           19,
           12,
           33,
           10,
           10,
           7,
           7,
           5,
           15,
           11,
           4,
           8,
           19,
           16,
           9,
           16,
           13,
           9,
           19,
           26,
           15,
           17,
           6,
           7,
           7,
           2,
           15,
           3,
           3,
           7,
           7,
           20,
           12,
           9,
           8,
           9,
           5,
           5,
           18,
           2,
           7,
           2,
           2,
           2,
           1,
           1,
           16,
           7,
           14,
           11,
           23,
           7,
           4,
           3,
           4,
           1,
           2,
           6,
           3,
           5,
           1,
           6,
           3,
           6,
           1,
           4,
           4,
           2,
           5,
           2,
           11,
           10,
           9,
           4,
           1,
           1,
           1,
           2,
           1,
           5,
           2,
           5,
           4,
           1,
           1,
           2,
           3,
           1,
           5,
           2,
           6,
           3,
           3,
           2,
           2,
           2,
           3,
           2,
           1,
           1,
           2,
           1,
           5,
           6,
           4,
           3,
           2,
           3,
           1,
           2,
           10,
           7,
           4,
           5,
           7,
           6,
           8,
           4,
           6,
           3,
           5,
           6,
           3,
           6,
           3,
           2,
           3,
           5,
           9,
           7,
           6,
           5,
           5,
           2,
           7,
           10,
           18,
           4,
           4,
           13,
           6,
           5,
           20,
           3,
           7,
           4,
           28,
           6,
           8,
           1,
           9,
           5,
           2,
           3,
           16,
           3,
           11,
           4,
           4,
           3,
           10,
           8,
           5,
           12,
           4,
           3,
           5,
           3,
           2,
           10,
           7,
           2,
           9,
           5,
           8,
           5,
           7,
           5,
           4,
           19,
           4,
           15,
           1,
           3,
           8,
           2,
           15,
           1,
           1,
           6,
           2,
           7,
           1,
           1,
           7,
           1,
           1,
           7,
           3,
           3,
           3,
           6,
           2,
           6,
           12,
           5,
           9,
           2,
           9,
           6,
           8,
           1,
           2,
           18,
           8,
           11,
           2,
           1,
           12,
           3,
           4,
           1,
           5,
           4,
           5,
           3,
           2,
           1,
           1,
           1,
           5,
           5,
           2,
           1,
           4,
           2,
           5,
           2,
           10,
           3,
           1,
           3,
           1,
           3,
           5,
           1,
           5,
           6,
           3,
           7,
           1,
           3,
           5,
           12,
           2,
           1,
           4,
           7,
           2,
           8,
           1,
           1,
           7,
           3,
           5,
           5,
           7,
           2,
           1,
           6,
           4,
           1,
           4,
           3,
           4,
           10,
           2,
           2,
           1,
           3,
           4,
           1,
           2,
           1,
           2,
           2,
           2,
           3,
           4,
           2,
           5,
           2,
           1,
           7,
           1,
           4,
           1,
           1,
           1,
           1,
           1,
           1,
           1,
           1,
           1,
           1,
           1,
           1,
           2,
           1,
           1,
           1,
           1,
           2,
           1,
           1,
           1,
           1,
           1,
           1,
           2,
           1,
           1,
           2,
           4,
           2,
           6,
           5,
           1,
           2,
           1,
           1,
           5,
           6,
           1,
           4,
           1,
           3,
           1,
           1,
           4,
           1,
           3,
           4,
           3,
           3,
           2,
           4,
           1,
           1,
           10,
           1,
           2,
           1,
           1,
           9,
           1,
           3,
           3,
           1,
           1,
           1,
           1,
           4,
           2,
           1,
           2,
           1,
           1,
           1,
           1,
           1,
           1,
           1,
           3,
           1,
           1,
           2,
           4,
           2,
           1,
           2,
           1,
           1,
           1,
           1,
           1,
           3,
           1,
           1,
           1,
           2,
           1,
           3,
           1,
           1,
           1,
           2,
           1,
           4,
           1,
           1,
           1,
           1,
           1,
           1,
           1,
           2,
           1,
           1,
           1,
           1,
           1,
           1,
           1,
           1,
           1,
           1
          ],
          "coloraxis": "coloraxis",
          "symbol": "circle"
         },
         "mode": "markers",
         "name": "",
         "showlegend": false,
         "type": "scattergl",
         "x": [
          2.2690138816833496,
          -7.545984268188477,
          -2.1678617000579834,
          6.44523811340332,
          -2.935202121734619,
          25.783231735229492,
          9.038473129272461,
          19.363157272338867,
          14.681347846984863,
          23.042156219482422,
          9.85847282409668,
          23.080984115600586,
          17.88780403137207,
          32.44599151611328,
          17.980201721191406,
          15.984167098999023,
          -4.825305461883545,
          -1.685492992401123,
          24.65304183959961,
          31.575719833374023,
          -5.0418171882629395,
          3.0211710929870605,
          28.638336181640625,
          3.403484582901001,
          4.244726657867432,
          -10.15703010559082,
          6.880775451660156,
          4.245950222015381,
          -10.906453132629395,
          13.019469261169434,
          -0.05058363080024719,
          28.725679397583008,
          1.5711005926132202,
          -7.23068380355835,
          -27.283809661865234,
          -21.477935791015625,
          18.880722045898438,
          -8.89482593536377,
          17.287857055664062,
          -0.36695319414138794,
          -2.0765633583068848,
          7.075599193572998,
          1.9970250129699707,
          14.322248458862305,
          26.234546661376953,
          30.7637882232666,
          17.265213012695312,
          16.145038604736328,
          -4.426437854766846,
          3.2947304248809814,
          19.072031021118164,
          21.032752990722656,
          15.504626274108887,
          -2.144946575164795,
          33.16379928588867,
          19.302154541015625,
          25.092893600463867,
          17.035985946655273,
          27.280359268188477,
          27.499608993530273,
          26.992490768432617,
          -9.657081604003906,
          -12.33381175994873,
          19.784669876098633,
          22.117015838623047,
          -1.620761513710022,
          -3.875368356704712,
          -2.512070417404175,
          3.8081159591674805,
          9.893117904663086,
          1.5322327613830566,
          -16.236717224121094,
          -3.5921828746795654,
          -16.10201072692871,
          -2.154115915298462,
          5.799455165863037,
          -0.19566655158996582,
          -18.155094146728516,
          2.346224546432495,
          -11.76755428314209,
          10.569562911987305,
          -2.2482948303222656,
          20.696630477905273,
          -1.1859210729599,
          -25.941349029541016,
          30.87755012512207,
          5.664506912231445,
          -2.0883171558380127,
          13.213844299316406,
          -3.7252414226531982,
          15.81645679473877,
          16.451847076416016,
          31.550275802612305,
          -6.098808765411377,
          0.48088327050209045,
          -0.960388720035553,
          1.666372537612915,
          18.493600845336914,
          27.473176956176758,
          24.88704490661621,
          -3.953051805496216,
          -4.740091800689697,
          -38.082881927490234,
          -35.8021240234375,
          -17.689998626708984,
          -12.284852981567383,
          25.352819442749023,
          10.068509101867676,
          1.4644174575805664,
          -22.29054069519043,
          6.359281063079834,
          -13.00035572052002,
          32.989784240722656,
          13.418708801269531,
          -2.91070818901062,
          35.44998550415039,
          -2.7558352947235107,
          -3.572077989578247,
          27.53017807006836,
          -11.294689178466797,
          -2.6748290061950684,
          0.00983605906367302,
          -3.435964345932007,
          34.612648010253906,
          -2.340132474899292,
          20.62895965576172,
          21.852266311645508,
          5.825850486755371,
          6.2470831871032715,
          -25.548154830932617,
          27.76923179626465,
          25.086645126342773,
          20.673097610473633,
          27.61758041381836,
          14.233678817749023,
          16.912214279174805,
          30.3917179107666,
          -14.21795654296875,
          -16.90570831298828,
          -11.117794036865234,
          1.8138200044631958,
          -5.137622833251953,
          1.8112339973449707,
          1.3780516386032104,
          -14.401780128479004,
          -13.181100845336914,
          -4.906749248504639,
          -12.800408363342285,
          11.646623611450195,
          27.032926559448242,
          18.984201431274414,
          6.717684268951416,
          -13.11133098602295,
          10.975067138671875,
          -3.6811513900756836,
          7.005662441253662,
          10.985941886901855,
          -15.223705291748047,
          -4.597179889678955,
          15.284483909606934,
          -3.538524627685547,
          13.926260948181152,
          -0.756910502910614,
          -3.172614812850952,
          27.905868530273438,
          21.445201873779297,
          -22.269237518310547,
          12.896041870117188,
          38.97801208496094,
          29.770469665527344,
          28.26881217956543,
          3.1972856521606445,
          1.1263079643249512,
          2.109912157058716,
          16.599655151367188,
          10.773179054260254,
          11.292716979980469,
          23.638505935668945,
          17.867725372314453,
          14.595524787902832,
          3.1988911628723145,
          8.725110054016113,
          9.10737419128418,
          1.372836709022522,
          18.132375717163086,
          0.495688259601593,
          21.886165618896484,
          15.010842323303223,
          21.099700927734375,
          18.942405700683594,
          20.415992736816406,
          30.679676055908203,
          18.393430709838867,
          18.081953048706055,
          0.22721965610980988,
          10.819138526916504,
          27.626527786254883,
          11.869762420654297,
          12.12267780303955,
          13.142679214477539,
          2.2708113193511963,
          1.214420199394226,
          9.015714645385742,
          1.1624879837036133,
          3.741097927093506,
          8.891170501708984,
          26.67416763305664,
          15.698324203491211,
          22.26476287841797,
          -0.49805766344070435,
          17.386585235595703,
          28.882577896118164,
          17.133563995361328,
          10.82987117767334,
          1.6341696977615356,
          7.274794578552246,
          -5.630124092102051,
          -4.419795989990234,
          -0.298687607049942,
          19.56316566467285,
          32.15326690673828,
          2.035694122314453,
          16.423614501953125,
          25.113195419311523,
          -6.428665637969971,
          -6.867499351501465,
          -4.167740821838379,
          0.7322359681129456,
          -12.507753372192383,
          -1.0665916204452515,
          -24.024686813354492,
          -0.4380354583263397,
          -7.022884368896484,
          18.666934967041016,
          1.7897989749908447,
          23.741273880004883,
          5.211034297943115,
          20.052043914794922,
          -3.2593536376953125,
          1.0730750560760498,
          -3.807037830352783,
          31.611238479614258,
          -11.711414337158203,
          16.01797103881836,
          -8.670981407165527,
          11.380614280700684,
          -18.47587776184082,
          14.451396942138672,
          14.080585479736328,
          -2.207242965698242,
          32.787269592285156,
          -8.594403266906738,
          24.526830673217773,
          -16.43372344970703,
          -8.106951713562012,
          24.012405395507812,
          -1.4789636135101318,
          1.0640051364898682,
          -11.732935905456543,
          -19.641008377075195,
          -14.928136825561523,
          31.505596160888672,
          -25.10773468017578,
          -8.40290355682373,
          1.0932191610336304,
          -0.9017676711082458,
          16.40227508544922,
          11.396843910217285,
          35.810054779052734,
          -0.7960710525512695,
          -2.542464017868042,
          30.174325942993164,
          14.2558012008667,
          -4.916685104370117,
          36.82307052612305,
          34.58809280395508,
          4.645634651184082,
          -6.442907333374023,
          12.929583549499512,
          -5.558121204376221,
          -5.572277069091797,
          -1.9662060737609863,
          31.3792667388916,
          3.47996187210083,
          32.11802673339844,
          36.901161193847656,
          24.280292510986328,
          -4.56066370010376,
          0.976630449295044,
          -16.61465835571289,
          -3.7585134506225586,
          26.60610580444336,
          5.910887718200684,
          -4.860725402832031,
          6.154284954071045,
          -7.090898513793945,
          24.356395721435547,
          14.834246635437012,
          14.97321891784668,
          -2.506648063659668,
          -2.538092613220215,
          30.271047592163086,
          32.23682403564453,
          -7.0557708740234375,
          32.74070358276367,
          25.727184295654297,
          -2.530930280685425,
          19.028093338012695,
          -4.63653564453125,
          -6.118095874786377,
          23.214731216430664,
          -6.313858985900879,
          1.0846366882324219,
          -35.83917999267578,
          29.67793846130371,
          29.877155303955078,
          16.056453704833984,
          19.266162872314453,
          15.207334518432617,
          8.588443756103516,
          13.833168983459473,
          -4.429901599884033,
          -12.596641540527344,
          19.642900466918945,
          -11.824362754821777,
          -3.125370740890503,
          -2.4395673274993896,
          -3.017069101333618,
          -3.838465690612793,
          2.284912586212158,
          -6.503371715545654,
          -5.125864028930664,
          -4.733696937561035,
          27.472984313964844,
          -8.744458198547363,
          -14.111374855041504,
          4.098806381225586,
          -11.679788589477539,
          1.716476321220398,
          36.653236389160156,
          0.815534770488739,
          -6.697507858276367,
          -1.377962589263916,
          28.50147247314453,
          33.60247039794922,
          31.637569427490234,
          6.616566181182861,
          -3.6004154682159424,
          -3.7843704223632812,
          -0.8655192255973816,
          -1.0759949684143066,
          -25.15675163269043,
          -9.418062210083008,
          -2.749939203262329,
          7.4095458984375,
          -17.976354598999023,
          20.547040939331055,
          -11.316926002502441,
          2.17861008644104,
          20.001230239868164,
          3.0625247955322266,
          -11.831808090209961,
          -16.127727508544922,
          -19.516284942626953,
          -7.71625280380249,
          -4.139541149139404,
          8.300493240356445,
          -15.251452445983887,
          13.898258209228516,
          -12.578279495239258,
          13.31694507598877,
          29.611791610717773,
          -7.018287658691406,
          -13.0414457321167,
          -26.733043670654297,
          -7.069217205047607,
          -13.678869247436523,
          0.830843985080719,
          16.733800888061523,
          -8.718132972717285,
          31.589866638183594,
          16.032407760620117,
          -24.158695220947266,
          -22.50275421142578,
          -1.0460070371627808,
          -14.314599990844727,
          23.22471046447754,
          -15.133852005004883,
          -1.393062949180603,
          10.162425994873047,
          -9.243383407592773,
          -6.368716716766357,
          -2.1963939666748047,
          -12.351673126220703,
          -15.236108779907227,
          1.4257756471633911,
          -16.586063385009766,
          -20.410314559936523,
          -8.74770450592041,
          -15.513572692871094,
          -19.60818862915039,
          -3.4447755813598633,
          -4.948160171508789,
          19.408065795898438,
          -3.5203053951263428,
          -21.700340270996094,
          -17.677053451538086,
          38.96799087524414,
          -6.097432613372803,
          -5.046504020690918,
          0.704434871673584,
          -2.425494909286499,
          0.6548033952713013,
          20.92572021484375,
          -3.983422040939331,
          -1.7062633037567139,
          -0.08548623323440552,
          0.4716305732727051,
          1.7018890380859375,
          15.718498229980469,
          -3.925293207168579,
          -11.26635456085205,
          21.004257202148438,
          -37.174190521240234,
          32.810298919677734,
          -2.6619558334350586,
          22.298185348510742,
          30.760704040527344,
          11.381916999816895,
          34.62948989868164,
          0.056909941136837006,
          28.466230392456055,
          16.353797912597656,
          11.111761093139648,
          2.4099221229553223,
          12.962276458740234,
          -35.29901885986328,
          -35.695777893066406,
          -33.322021484375,
          -24.020963668823242,
          2.144538164138794,
          -23.799280166625977,
          19.224170684814453,
          5.8824615478515625,
          14.660055160522461,
          -10.391705513000488,
          18.6159725189209,
          8.000441551208496,
          -7.542191028594971,
          -17.236719131469727,
          -3.2758748531341553,
          -14.594621658325195,
          -18.701332092285156,
          -10.490477561950684,
          -9.21116828918457,
          -12.667013168334961,
          -16.833566665649414,
          34.3719596862793,
          20.096370697021484,
          8.94808292388916,
          13.688913345336914,
          13.014132499694824,
          21.75834846496582,
          23.9456844329834,
          0.30667024850845337,
          25.033676147460938,
          21.458393096923828,
          -6.316184997558594,
          17.029300689697266,
          -5.722748756408691,
          14.993441581726074,
          -4.896972179412842,
          0.6871691942214966,
          33.24654769897461,
          33.6619758605957,
          -7.751661777496338,
          18.0174560546875,
          26.65106964111328,
          23.972917556762695,
          21.933349609375,
          25.075725555419922,
          22.147279739379883,
          24.09686851501465,
          15.976844787597656,
          25.64771270751953,
          15.561884880065918,
          9.38814640045166,
          23.53485870361328,
          28.103979110717773,
          26.8015193939209,
          11.54057502746582,
          15.431394577026367,
          21.761945724487305,
          19.936628341674805,
          1.6991301774978638,
          19.00609588623047,
          12.291250228881836,
          25.136940002441406,
          29.843725204467773,
          3.877422571182251,
          27.41364288330078,
          -13.405840873718262,
          10.69749641418457,
          24.901187896728516,
          12.47449779510498,
          18.730470657348633,
          27.788124084472656,
          18.646718978881836,
          30.78227996826172,
          24.449569702148438,
          23.201614379882812,
          24.448320388793945,
          25.632381439208984,
          33.91170883178711,
          26.21705436706543,
          25.605833053588867,
          29.879955291748047,
          28.825420379638672,
          21.481050491333008,
          5.4808573722839355,
          17.188133239746094,
          27.589147567749023,
          23.184860229492188,
          28.31256103515625,
          10.717496871948242,
          16.818159103393555,
          19.606456756591797,
          22.39434814453125,
          29.13578987121582,
          10.080033302307129,
          26.585166931152344,
          24.760379791259766,
          18.646438598632812,
          22.444683074951172,
          -4.3837666511535645,
          19.304834365844727,
          27.558469772338867,
          -1.914399266242981,
          -11.490921020507812,
          -12.97248649597168,
          -5.403475284576416,
          -16.915149688720703,
          30.46869468688965,
          23.092416763305664,
          -27.997478485107422,
          -11.562288284301758,
          25.2996883392334,
          -26.255857467651367,
          21.494287490844727,
          -7.278323173522949,
          -15.273636817932129,
          -3.3439013957977295,
          0.5040415525436401,
          -8.493173599243164,
          -18.913047790527344,
          10.415695190429688,
          21.280868530273438,
          19.459352493286133,
          -5.401810169219971,
          -13.910417556762695,
          -9.113466262817383,
          -3.5476651191711426,
          -15.92164134979248,
          -10.93618106842041,
          -20.90036392211914,
          -2.410609006881714,
          2.2015483379364014,
          3.530378580093384,
          -14.411677360534668,
          -6.6970744132995605,
          -18.013032913208008,
          0.26315733790397644,
          -8.140959739685059,
          -15.79916000366211,
          -14.948169708251953,
          -12.103435516357422,
          -29.52672576904297,
          -9.6359281539917,
          -7.098824501037598,
          12.663311958312988,
          -3.950387716293335,
          29.398698806762695,
          16.18117332458496,
          14.302988052368164,
          -23.341257095336914,
          -18.41758918762207,
          9.92270565032959,
          2.426492929458618,
          29.165767669677734,
          -27.954879760742188,
          -2.154221773147583,
          2.348484516143799,
          13.986757278442383,
          9.325166702270508,
          -10.863922119140625,
          -2.7783186435699463,
          -4.007778644561768,
          -20.935791015625,
          -38.684669494628906,
          -13.895357131958008,
          8.488473892211914,
          10.409613609313965,
          23.205249786376953,
          25.67588996887207,
          17.160926818847656,
          23.442691802978516,
          30.694913864135742,
          26.740814208984375,
          16.55198097229004,
          26.176334381103516,
          26.72522735595703,
          7.275145530700684,
          15.291007041931152,
          6.341226577758789,
          24.487258911132812,
          11.165033340454102,
          12.376105308532715,
          17.2406005859375,
          -0.9965336322784424,
          -17.94772720336914,
          -14.023101806640625,
          0.990347683429718,
          -9.551071166992188,
          -19.095794677734375,
          -5.148244380950928,
          24.26136016845703,
          -7.652318000793457,
          -1.6493737697601318,
          6.394383430480957,
          0.37749776244163513,
          32.55540466308594,
          18.514097213745117,
          25.37630844116211,
          19.431995391845703,
          13.659807205200195,
          4.4600982666015625,
          16.036148071289062,
          24.6823673248291,
          14.36130142211914,
          16.42890739440918,
          22.168954849243164,
          30.905296325683594,
          -8.089737892150879,
          20.8553466796875,
          24.287919998168945,
          6.608180999755859,
          29.242551803588867,
          25.581192016601562,
          11.620965957641602,
          24.071487426757812,
          20.676164627075195,
          21.478134155273438,
          29.945947647094727,
          26.876609802246094,
          19.887666702270508,
          26.688993453979492,
          23.284156799316406,
          -4.930552959442139,
          9.365904808044434,
          7.251276016235352,
          23.427719116210938,
          -18.170406341552734,
          15.129786491394043,
          21.933650970458984,
          2.205281972885132,
          -20.94089698791504,
          -20.462820053100586,
          -13.126519203186035,
          -26.220151901245117,
          -7.350727558135986,
          7.857436656951904,
          3.4927926063537598,
          2.212977409362793,
          -14.669829368591309,
          16.335168838500977,
          15.588760375976562,
          -50.498451232910156,
          -12.888324737548828,
          -14.264199256896973,
          -0.8131338953971863,
          -14.065476417541504,
          -11.070719718933105,
          -12.673293113708496,
          4.811689376831055,
          -3.738579273223877,
          -8.878408432006836,
          -17.269018173217773,
          -20.621641159057617,
          -3.466405153274536,
          1.06382155418396,
          15.371101379394531,
          -2.09213924407959,
          2.312971830368042,
          24.842267990112305,
          14.896427154541016,
          0.1588190197944641,
          19.207746505737305,
          0.07448487728834152,
          6.899479389190674,
          -7.970396995544434,
          12.9178466796875,
          -11.497784614562988,
          11.656545639038086,
          -7.760994911193848,
          22.36956787109375,
          1.7210341691970825,
          23.263883590698242,
          32.79866409301758,
          29.760194778442383,
          3.5719292163848877,
          -50.71200180053711,
          5.376076698303223,
          34.182891845703125,
          15.550908088684082,
          19.346237182617188,
          6.185062885284424,
          -9.733187675476074,
          20.977243423461914,
          -14.15984058380127,
          -10.156347274780273,
          -3.5315465927124023,
          -14.687506675720215,
          10.785582542419434,
          16.257814407348633,
          -5.770226955413818,
          -21.076261520385742,
          2.1665592193603516,
          -12.108467102050781,
          0.5037554502487183,
          12.31969165802002,
          -6.418893337249756,
          -1.1868482828140259,
          13.875412940979004,
          -6.314694404602051,
          8.636605262756348,
          27.4530029296875,
          -10.600732803344727,
          -12.671525955200195,
          -3.077873706817627,
          17.641462326049805,
          -4.5466485023498535,
          -3.621001958847046,
          -23.544418334960938,
          16.30527114868164,
          21.52577781677246,
          4.954555511474609,
          8.86788558959961,
          -3.5720481872558594,
          -6.828751564025879,
          0.8133102655410767,
          -0.5408105850219727,
          -2.0815744400024414,
          26.0601749420166,
          9.879709243774414,
          -8.866372108459473,
          -11.240971565246582,
          -6.124161243438721,
          -26.711347579956055,
          -14.744553565979004,
          3.956800937652588,
          -4.035247325897217,
          -3.48884916305542,
          -1.4187126159667969,
          2.3177268505096436,
          -5.220489978790283,
          12.318617820739746,
          6.140223503112793,
          -12.556946754455566,
          -14.010486602783203,
          16.568700790405273,
          -19.60319709777832,
          18.83125877380371,
          18.587902069091797,
          -9.198057174682617,
          -15.005544662475586,
          0.8802130818367004,
          -24.384254455566406,
          3.5378386974334717,
          -12.128423690795898,
          -2.2458431720733643,
          -7.018509387969971,
          8.577640533447266,
          -19.29100799560547,
          -51.50937271118164,
          -11.82259750366211,
          -12.16592788696289,
          -6.5364990234375,
          -49.49649429321289,
          17.135066986083984,
          -0.3566594421863556,
          -23.732229232788086,
          20.401700973510742,
          10.61071491241455,
          -3.7425949573516846,
          -17.194190979003906,
          -9.77718448638916,
          -12.354409217834473,
          -31.73153305053711,
          27.734233856201172,
          -5.995683670043945,
          -16.274703979492188,
          -8.539201736450195,
          10.384079933166504,
          -10.138409614562988,
          19.383460998535156,
          5.646663665771484,
          2.227172374725342,
          -11.851608276367188,
          -8.482325553894043,
          -9.45563793182373,
          24.923320770263672,
          -6.257434844970703,
          34.211212158203125,
          -49.87434005737305,
          -8.913444519042969,
          -22.22161293029785,
          -5.719528675079346,
          9.581405639648438,
          -7.3991169929504395,
          -19.70963478088379,
          -7.079603672027588,
          16.34253692626953,
          -7.380668640136719,
          -11.521671295166016,
          -5.744490623474121,
          -16.01179313659668,
          -9.641651153564453,
          -2.2250001430511475,
          -13.05168342590332,
          -37.96800231933594,
          -17.651264190673828,
          -16.276660919189453,
          -6.243894100189209,
          -25.83095359802246,
          28.064895629882812,
          13.398049354553223,
          8.791210174560547,
          -20.29646873474121,
          -39.633182525634766,
          -11.467742919921875,
          -16.567947387695312,
          23.292879104614258,
          4.574208736419678,
          14.968314170837402,
          17.32063865661621,
          -9.638416290283203,
          22.227664947509766,
          14.646504402160645,
          -5.71392297744751,
          21.420246124267578,
          27.817977905273438,
          -38.97809982299805,
          13.670014381408691,
          13.731644630432129,
          25.076200485229492,
          22.94106674194336,
          -26.016813278198242,
          -35.19318771362305,
          3.1103439331054688,
          5.78360652923584,
          3.764096736907959,
          -30.27979850769043,
          11.194891929626465,
          5.652561187744141,
          27.857641220092773,
          -5.172377586364746,
          27.85808753967285,
          13.983738899230957,
          -15.955118179321289,
          -11.124153137207031,
          -14.32413101196289,
          6.7055344581604,
          -4.860072612762451,
          4.441590785980225,
          -6.88778018951416,
          -11.868803024291992,
          -8.859565734863281,
          -13.911852836608887,
          -4.340513706207275,
          7.717550277709961,
          -11.850804328918457,
          3.1829936504364014,
          19.97588348388672,
          23.914325714111328,
          -17.54062271118164,
          21.372652053833008,
          25.972558975219727,
          2.113279104232788,
          31.692028045654297,
          -24.46226692199707,
          -3.876513957977295,
          -8.79249095916748,
          -7.916995048522949,
          -23.277366638183594,
          -6.758205890655518,
          26.006139755249023,
          -21.307342529296875,
          2.7352495193481445,
          25.300294876098633,
          22.590137481689453,
          -27.26081085205078,
          24.094600677490234,
          9.351883888244629,
          2.447803497314453,
          -1.185597538948059,
          2.562741994857788,
          -17.741544723510742,
          -9.81181526184082,
          21.79817008972168,
          -27.30602264404297,
          -24.623571395874023,
          6.322964668273926,
          -39.81086730957031,
          -6.633610248565674,
          14.143457412719727,
          -1.8255603313446045,
          12.750060081481934,
          -0.5126776099205017,
          25.180980682373047,
          -10.860756874084473,
          25.352590560913086,
          28.164295196533203,
          26.432268142700195,
          18.104700088500977,
          -9.778568267822266,
          -10.038102149963379,
          -35.960777282714844,
          -9.58742618560791,
          0.21294602751731873,
          -18.58812141418457,
          -27.817487716674805,
          -16.35216522216797,
          -7.620975017547607,
          -5.284357070922852,
          22.952226638793945,
          19.70500946044922,
          -6.810868263244629,
          -7.572289943695068,
          -2.066114664077759,
          -21.842485427856445,
          -7.127349376678467,
          8.100003242492676,
          0.02046160399913788,
          -7.739601135253906,
          8.676506996154785,
          -5.134644508361816,
          25.266700744628906,
          -18.1835880279541,
          10.831645965576172,
          11.819989204406738,
          4.8773932456970215,
          -11.965072631835938,
          29.524824142456055,
          4.283252716064453,
          31.016735076904297,
          12.08307933807373,
          9.071846961975098,
          25.472715377807617,
          0.5795651078224182,
          23.718822479248047,
          22.509166717529297,
          16.70437240600586,
          12.571501731872559,
          24.97463035583496,
          24.567502975463867,
          2.1513166427612305,
          7.717522621154785,
          -4.1987175941467285,
          22.902925491333008,
          23.47184944152832,
          23.6334171295166,
          28.97209930419922,
          6.953716278076172,
          -20.98320960998535,
          8.570420265197754,
          -17.097309112548828,
          -7.2697319984436035,
          15.470684051513672,
          1.591324806213379,
          35.59432601928711,
          -17.38699722290039,
          -18.24735450744629,
          -18.159446716308594,
          -11.299906730651855,
          15.800223350524902,
          -12.46209716796875,
          -24.099788665771484,
          -14.96237850189209,
          -0.4515530467033386,
          1.1372877359390259,
          -19.9418888092041,
          -23.815204620361328,
          -2.4750707149505615,
          13.709195137023926,
          29.083463668823242,
          -15.226269721984863,
          -23.339656829833984,
          -17.444244384765625,
          -7.33664083480835,
          -14.291399955749512,
          -23.432647705078125,
          -13.474149703979492,
          -27.89869499206543,
          -6.991549015045166,
          13.01229476928711,
          20.43988800048828,
          6.770295143127441,
          21.97311019897461,
          14.547481536865234,
          14.235823631286621,
          19.355506896972656,
          7.609833240509033,
          -14.961360931396484,
          -7.935205936431885,
          -5.450043201446533,
          -2.7206685543060303,
          -9.496569633483887,
          -5.088078022003174,
          18.951866149902344,
          25.236173629760742,
          22.29050064086914,
          5.002558708190918,
          -10.846223831176758,
          26.10389518737793,
          -12.936238288879395,
          1.8252204656600952,
          -34.569297790527344,
          -4.303314208984375,
          -21.307065963745117,
          -13.918283462524414,
          -17.413728713989258,
          -14.40735149383545,
          -11.284188270568848,
          -18.862323760986328,
          -6.267870903015137,
          -13.2135009765625,
          -29.617870330810547,
          -0.3062761723995209,
          17.114105224609375,
          -15.0260648727417,
          -12.213996887207031,
          -1.1313828229904175,
          -12.167954444885254,
          17.062908172607422,
          22.299758911132812,
          -6.6861772537231445,
          -13.267958641052246,
          16.258495330810547,
          -16.128019332885742,
          13.01870059967041,
          -10.137560844421387,
          -17.645605087280273,
          -6.1139607429504395,
          -16.410114288330078,
          -2.673947334289551,
          5.718917369842529,
          -1.0926244258880615,
          -1.6004880666732788,
          -12.24846363067627,
          11.095663070678711,
          -10.287698745727539,
          25.6119441986084,
          18.875003814697266,
          22.688756942749023,
          20.804859161376953,
          14.832056999206543,
          30.759563446044922,
          17.253000259399414,
          7.251957893371582,
          20.12846565246582,
          19.724485397338867,
          -16.37510871887207,
          22.883569717407227,
          -4.564966678619385,
          18.781963348388672,
          -8.443215370178223,
          20.363487243652344,
          -8.953180313110352,
          -19.2974853515625,
          20.420095443725586,
          20.91767120361328,
          -7.639955043792725,
          -19.141740798950195,
          26.956012725830078,
          35.61637496948242,
          -5.400227069854736,
          -34.0090217590332,
          -28.713451385498047,
          -17.838977813720703,
          -19.512861251831055,
          -8.288154602050781,
          -16.712387084960938,
          21.779457092285156,
          -22.813852310180664,
          -20.203964233398438,
          8.659933090209961,
          24.526748657226562,
          9.575864791870117,
          23.053035736083984,
          6.66187047958374,
          24.51109504699707,
          -16.686376571655273,
          24.82697105407715,
          -22.808774948120117,
          -8.586383819580078,
          3.3946614265441895,
          -5.374803066253662,
          17.654930114746094,
          17.401193618774414,
          23.087038040161133,
          23.180444717407227,
          4.920181751251221,
          9.24419116973877,
          4.953970432281494,
          19.460830688476562,
          22.269222259521484,
          8.991092681884766,
          8.703803062438965,
          -10.120594024658203,
          7.915285110473633,
          23.500703811645508,
          23.246509552001953,
          12.027777671813965,
          11.829880714416504,
          27.019588470458984,
          20.317419052124023,
          -7.4059062004089355,
          10.908149719238281,
          25.111892700195312,
          6.470629692077637,
          31.37720489501953,
          9.613741874694824,
          -9.71719741821289,
          23.920284271240234,
          3.5219926834106445,
          17.100786209106445,
          25.658302307128906,
          -2.3851678371429443,
          -8.384526252746582,
          -26.04623031616211,
          10.413854598999023,
          34.264122009277344,
          9.724649429321289,
          12.072701454162598,
          -12.841118812561035,
          -34.1081657409668,
          13.266010284423828,
          12.129815101623535,
          28.407936096191406,
          18.720651626586914,
          -20.54271125793457,
          -7.385868072509766,
          30.14924430847168,
          3.0068116188049316,
          -50.013668060302734,
          9.032477378845215,
          -14.978276252746582,
          25.197731018066406,
          7.7388596534729,
          -3.653350591659546,
          15.05575180053711,
          -30.067302703857422,
          -6.32943058013916,
          -18.04509735107422,
          -20.80152702331543,
          19.202688217163086,
          21.91176414489746,
          3.4545440673828125,
          25.659008026123047,
          17.54865264892578,
          20.63250160217285,
          21.345447540283203,
          -3.156675338745117,
          12.90504264831543,
          24.162330627441406,
          27.643352508544922,
          -24.038379669189453,
          -22.687841415405273,
          -20.05359649658203,
          -18.274011611938477,
          -24.301624298095703,
          -13.350536346435547,
          -21.395160675048828,
          7.472065448760986,
          -17.16422462463379,
          9.014925003051758,
          2.277195692062378,
          -11.912712097167969,
          8.105851173400879,
          -5.292287349700928,
          23.48384666442871,
          14.183211326599121,
          26.43375015258789,
          20.877763748168945,
          10.798928260803223,
          14.375612258911133,
          18.50229263305664,
          14.173345565795898,
          -12.979879379272461,
          10.858917236328125,
          -51.655941009521484,
          25.221038818359375,
          25.665796279907227,
          11.01970386505127,
          -17.744165420532227,
          -13.966880798339844,
          -14.218064308166504,
          -11.032352447509766,
          -19.469987869262695,
          -13.489460945129395,
          30.89265251159668,
          18.670948028564453,
          -12.674583435058594,
          -27.681169509887695,
          -30.673694610595703,
          11.708476066589355,
          -10.438572883605957,
          0.14165809750556946,
          -3.75866961479187,
          -10.058472633361816,
          6.841698169708252,
          4.8979692459106445,
          11.029824256896973,
          -7.7089409828186035,
          -13.458203315734863,
          18.390504837036133,
          16.264726638793945,
          -16.56773567199707,
          -22.117271423339844,
          -29.961341857910156,
          -15.544565200805664,
          7.044764041900635,
          8.585176467895508,
          1.7394671440124512,
          -3.188385248184204,
          -49.44477081298828,
          -2.963595390319824,
          -9.138572692871094,
          -14.003500938415527,
          25.91103744506836,
          17.37224578857422,
          -22.753976821899414,
          -2.561885356903076,
          -12.065290451049805,
          20.73670196533203,
          -23.22327423095703,
          -20.909202575683594,
          5.583587169647217,
          -10.909626960754395,
          -35.84050750732422,
          24.51467514038086,
          21.78482437133789,
          -8.512775421142578,
          -32.5586051940918,
          10.223217964172363,
          8.219496726989746,
          -23.118839263916016,
          5.705009460449219,
          -10.523477554321289,
          -20.86937713623047,
          22.958003997802734,
          7.695252895355225,
          17.976573944091797,
          6.733834743499756,
          0.8184122443199158,
          28.069787979125977,
          14.566981315612793,
          21.884613037109375,
          0.6723344922065735,
          -15.72998046875,
          -12.958558082580566,
          8.88549518585205,
          -21.691417694091797,
          -18.767087936401367,
          -9.940265655517578,
          -12.47940444946289,
          7.362934589385986,
          11.314866065979004,
          -13.733339309692383,
          -9.64330005645752,
          7.34598970413208,
          12.953611373901367,
          -15.890228271484375,
          -6.042579174041748,
          0.2116524875164032,
          30.375186920166016,
          -36.675514221191406,
          6.446299076080322,
          -21.75621223449707,
          -49.505287170410156,
          6.337179183959961,
          -22.565805435180664,
          15.761798858642578,
          -4.0303144454956055,
          -8.562226295471191,
          17.28947639465332,
          -15.009169578552246,
          23.71406364440918,
          16.775794982910156,
          -20.20026206970215,
          6.364622592926025,
          24.38196563720703,
          -12.064315795898438,
          -51.273681640625,
          -24.114795684814453,
          -0.16009610891342163,
          -24.248668670654297,
          -36.09763717651367,
          -53.03799057006836,
          -10.302821159362793,
          -21.7154541015625,
          5.304242134094238,
          12.981139183044434,
          -18.363515853881836,
          17.839513778686523,
          1.1373770236968994,
          -35.150962829589844,
          -23.168848037719727,
          9.847475051879883,
          -36.00301742553711,
          -14.93729019165039,
          11.545727729797363,
          17.912578582763672,
          7.499517917633057,
          -35.41853713989258,
          16.78777313232422,
          -21.15387725830078,
          23.636960983276367,
          -49.575782775878906,
          8.658417701721191,
          18.734638214111328,
          -11.00853157043457,
          18.065040588378906,
          -36.522125244140625,
          -10.552850723266602,
          -20.001571655273438,
          -14.406973838806152,
          11.087786674499512,
          -36.178707122802734,
          -36.01295852661133,
          -36.361473083496094,
          17.45440101623535,
          -36.42317581176758,
          17.680891036987305,
          -17.256948471069336,
          1.4850972890853882,
          -19.590688705444336,
          -35.96426773071289,
          -50.479827880859375,
          -36.460350036621094,
          9.164753913879395,
          -35.604736328125,
          13.73561954498291,
          -35.297569274902344,
          -8.358177185058594,
          9.016059875488281,
          -23.081716537475586,
          19.8646183013916,
          -35.00121307373047,
          -23.43315887451172,
          33.70109939575195,
          -36.292232513427734,
          -36.02345275878906,
          -49.50521469116211,
          -22.957056045532227,
          -36.48558807373047,
          26.163665771484375,
          29.914337158203125,
          11.485650062561035,
          23.752931594848633,
          -34.74269104003906,
          10.856240272521973,
          -35.84743118286133,
          -37.036556243896484,
          23.104795455932617,
          -30.085765838623047,
          18.49459457397461,
          15.173070907592773,
          20.430545806884766,
          10.285920143127441,
          18.247726440429688,
          2.4837071895599365,
          -21.948076248168945,
          -36.981014251708984,
          21.83064842224121,
          -37.847991943359375,
          -7.941145420074463,
          24.092863082885742,
          -7.761340618133545,
          -7.282793998718262,
          -7.012517929077148,
          -14.188633918762207,
          -13.232159614562988,
          24.881919860839844,
          14.333157539367676,
          9.279905319213867,
          22.738595962524414,
          10.299912452697754,
          -18.004745483398438,
          11.913904190063477,
          3.167487621307373,
          -21.88980484008789,
          10.889853477478027,
          16.581401824951172,
          29.95195198059082,
          7.260873794555664,
          -8.121529579162598,
          -35.907772064208984,
          -6.43035888671875,
          -5.739370346069336,
          5.073601245880127,
          -33.87554168701172,
          -13.104461669921875,
          -22.454439163208008,
          -23.019323348999023,
          -25.256826400756836,
          9.161449432373047,
          28.978435516357422,
          -19.854860305786133,
          -22.951921463012695,
          21.62257194519043,
          -19.282432556152344,
          -24.147418975830078,
          10.272552490234375,
          10.57254695892334,
          20.15056800842285,
          -27.083391189575195,
          19.37940788269043,
          0.941905677318573,
          -6.3138628005981445,
          -1.0130678415298462,
          -22.883962631225586,
          -5.2422943115234375,
          19.675159454345703,
          -11.01224136352539,
          -25.139345169067383,
          -19.11194610595703,
          10.813238143920898,
          -6.128863334655762,
          -4.973358631134033,
          -9.184432029724121,
          -8.885034561157227,
          -0.3049265146255493,
          -16.470808029174805,
          23.49890899658203,
          -12.829180717468262,
          9.009989738464355,
          -51.217647552490234,
          27.506807327270508,
          8.889979362487793,
          22.258623123168945,
          22.034616470336914,
          -52.154884338378906,
          -7.126014232635498,
          -17.884052276611328,
          9.824603080749512,
          8.933012962341309,
          22.120969772338867,
          17.03587532043457,
          -50.95485305786133,
          -26.855409622192383,
          20.539775848388672,
          -20.731182098388672,
          10.99661636352539,
          7.645085334777832,
          26.71658706665039,
          8.918075561523438,
          -2.3485500812530518,
          -5.697488307952881,
          -22.56316375732422,
          -7.9049177169799805,
          -53.070308685302734,
          16.420698165893555,
          10.321420669555664,
          19.394428253173828,
          -48.575408935546875,
          -8.600598335266113,
          4.056495189666748,
          -10.443798065185547,
          -23.14278793334961,
          -15.724496841430664,
          7.092940807342529,
          -4.58066987991333,
          -0.22635090351104736,
          5.81380558013916,
          -38.39794921875,
          -26.150413513183594,
          8.403387069702148,
          -17.736555099487305,
          -15.466500282287598,
          -50.39456558227539,
          -14.824356079101562,
          -52.73193359375,
          -39.17865753173828,
          6.1531291007995605,
          -30.116384506225586,
          -27.51890754699707,
          -15.309331893920898,
          22.62150001525879,
          8.60429859161377,
          10.034777641296387,
          -37.484317779541016,
          3.8089675903320312,
          1.147037148475647,
          -49.95949172973633,
          25.25616455078125,
          8.043118476867676,
          -14.920703887939453,
          -24.38861656188965,
          -9.328645706176758,
          18.31129264831543,
          27.01529312133789,
          -22.756999969482422,
          4.057877540588379,
          4.288419723510742,
          8.737662315368652,
          -2.108177661895752,
          -7.095507621765137,
          -6.681304454803467,
          -7.051944732666016,
          -9.915813446044922,
          -19.624679565429688,
          -26.702476501464844,
          25.321874618530273,
          17.61563491821289,
          -50.49655532836914,
          -24.155412673950195,
          9.3922758102417,
          20.03931427001953,
          -23.82048988342285,
          5.645028591156006,
          -25.06494903564453,
          31.377132415771484,
          -21.338186264038086,
          22.86302947998047,
          23.94504737854004,
          25.70091438293457,
          6.169229507446289,
          -22.82534408569336,
          -11.476911544799805,
          11.027406692504883,
          -10.743000030517578,
          -51.44329071044922,
          -5.360985279083252,
          2.1401207447052,
          -37.844974517822266,
          -52.07099151611328,
          -33.40202331542969,
          -37.75269317626953,
          -17.076528549194336,
          -52.75630569458008,
          -13.825409889221191,
          7.244726181030273,
          -17.07289695739746,
          20.295429229736328,
          -20.560455322265625,
          -32.847137451171875,
          23.137548446655273,
          -37.874305725097656,
          23.66219139099121,
          -38.03147506713867,
          -34.28160858154297,
          -34.41195297241211,
          -53.209754943847656,
          -34.546607971191406,
          -50.37983322143555,
          -52.350921630859375,
          -35.05397415161133,
          -33.48942565917969,
          -48.95838928222656,
          -33.46501541137695,
          -34.71360397338867,
          -34.42478561401367,
          -33.40505599975586,
          -34.63523864746094,
          -33.96043395996094,
          -34.183650970458984,
          9.429393768310547,
          -34.466827392578125,
          -34.440147399902344,
          -52.31690979003906,
          -35.424232482910156,
          -49.779293060302734,
          -51.03505325317383,
          9.800025939941406,
          -34.22172546386719,
          -34.002342224121094,
          -7.108787536621094,
          22.639270782470703,
          -7.737512588500977,
          18.523862838745117,
          19.88726234436035,
          -53.432979583740234,
          3.7945187091827393,
          -51.63180160522461,
          -24.37436294555664,
          3.547264337539673,
          -16.428781509399414,
          30.56489372253418,
          11.196755409240723,
          -34.26688003540039,
          19.944814682006836,
          -50.75613021850586,
          13.049481391906738,
          -9.273165702819824,
          -25.042638778686523,
          24.989795684814453,
          -22.628082275390625,
          -36.71227264404297,
          -22.21856689453125,
          11.562395095825195,
          0.07950955629348755,
          -5.222411632537842,
          -53.13071823120117,
          -8.397398948669434,
          -50.139732360839844,
          24.52602767944336,
          -51.3341064453125,
          7.022621154785156,
          -7.233771800994873,
          -39.232421875,
          -10.412352561950684,
          12.356809616088867,
          -22.4505615234375,
          6.268516540527344,
          -38.761775970458984,
          -9.698994636535645,
          17.379135131835938,
          24.401512145996094,
          9.048077583312988,
          -26.73517608642578,
          9.412650108337402,
          9.317874908447266,
          -24.932167053222656,
          9.508930206298828,
          -51.49763870239258,
          9.185290336608887,
          -51.59656524658203,
          10.526388168334961,
          8.654192924499512,
          -50.478660583496094,
          24.081289291381836,
          1.9479318857192993,
          -52.59685516357422,
          -50.29311752319336,
          25.818958282470703,
          9.104142189025879,
          -50.34367370605469,
          9.554704666137695,
          -51.87091827392578,
          -53.19632339477539,
          -11.047856330871582,
          -51.554019927978516,
          -51.47871780395508,
          -52.072662353515625,
          -22.687406539916992,
          -17.724390029907227,
          9.59044075012207,
          -39.05873489379883,
          -34.80610656738281,
          -34.382930755615234,
          -22.69147491455078,
          -21.977130889892578,
          12.198573112487793,
          -52.647117614746094,
          -21.916112899780273,
          -7.608500957489014,
          -7.916018962860107,
          -22.338172912597656,
          -7.41968297958374,
          -37.25777053833008,
          -23.021135330200195,
          -11.478837966918945,
          20.086036682128906,
          -49.76313781738281,
          -20.294084548950195,
          10.856355667114258,
          -38.901859283447266,
          -3.886514902114868,
          -21.20799446105957,
          -16.296878814697266,
          -8.238199234008789
         ],
         "xaxis": "x",
         "y": [
          2.527850389480591,
          0.3942316770553589,
          -18.214876174926758,
          9.136632919311523,
          15.400835037231445,
          -1.1987663507461548,
          -23.222957611083984,
          -22.080293655395508,
          -24.040218353271484,
          1.731758713722229,
          -22.718332290649414,
          -25.18686866760254,
          -13.19192123413086,
          -1.9967856407165527,
          11.002869606018066,
          -12.118037223815918,
          -18.186649322509766,
          -24.748279571533203,
          4.867221832275391,
          -6.535046100616455,
          17.990530014038086,
          -2.4212899208068848,
          -15.825674057006836,
          -20.739587783813477,
          -16.477924346923828,
          -19.914888381958008,
          18.488615036010742,
          -2.457423210144043,
          12.612761497497559,
          -10.712416648864746,
          -3.8131351470947266,
          4.932455062866211,
          -21.59589958190918,
          5.685197830200195,
          13.388189315795898,
          8.305386543273926,
          2.8709990978240967,
          7.1639814376831055,
          -4.034217357635498,
          11.370499610900879,
          -15.734585762023926,
          -22.87061882019043,
          -13.794074058532715,
          7.789176940917969,
          -3.1672730445861816,
          1.5138232707977295,
          -11.889419555664062,
          -25.526384353637695,
          -11.20978832244873,
          0.043658528476953506,
          12.22899055480957,
          -14.020797729492188,
          -2.861603021621704,
          8.459216117858887,
          -4.666667938232422,
          -15.253715515136719,
          -8.389098167419434,
          -16.78089141845703,
          4.612277984619141,
          4.621109485626221,
          4.762199878692627,
          12.574326515197754,
          2.2221004962921143,
          -26.673734664916992,
          5.63590145111084,
          -2.8451485633850098,
          -17.321630477905273,
          -16.5952091217041,
          -2.392160654067993,
          -3.724374771118164,
          -9.132644653320312,
          7.506051540374756,
          19.76769256591797,
          -16.103418350219727,
          2.972508192062378,
          -1.0310736894607544,
          -3.1824169158935547,
          10.832039833068848,
          -2.680157423019409,
          -12.021712303161621,
          -18.981266021728516,
          -1.0964163541793823,
          9.226103782653809,
          10.108959197998047,
          -0.06907542794942856,
          -5.570483207702637,
          -3.549907922744751,
          -3.9481091499328613,
          -26.06818962097168,
          -23.39031410217285,
          -5.524158000946045,
          -2.341715097427368,
          -3.9156534671783447,
          0.9964046478271484,
          0.01464441791176796,
          -1.0790719985961914,
          -5.391589164733887,
          -26.380046844482422,
          -24.4666805267334,
          -23.701650619506836,
          -1.3909777402877808,
          -9.879944801330566,
          3.8811843395233154,
          1.6358894109725952,
          9.113021850585938,
          7.255349159240723,
          -19.94526481628418,
          -14.229342460632324,
          -20.8302059173584,
          -11.084927558898926,
          -5.833327770233154,
          11.105817794799805,
          -3.9885311126708984,
          -22.220869064331055,
          -16.106571197509766,
          -4.307028293609619,
          19.005847930908203,
          13.0054931640625,
          -8.6468505859375,
          12.80955696105957,
          11.446935653686523,
          -25.137147903442383,
          2.4042320251464844,
          -1.9521255493164062,
          8.02255630493164,
          11.497604370117188,
          -25.206592559814453,
          -16.801969528198242,
          -21.00005340576172,
          8.036067008972168,
          -19.557403564453125,
          -26.312047958374023,
          -27.759523391723633,
          -21.452396392822266,
          -26.606117248535156,
          -27.689992904663086,
          -14.97336483001709,
          8.439635276794434,
          -0.9830264449119568,
          1.2923306226730347,
          -9.05675983428955,
          -9.98924732208252,
          -6.893126010894775,
          -1.552791953086853,
          3.6513702869415283,
          -5.6823506355285645,
          -4.588469505310059,
          17.546144485473633,
          9.706998825073242,
          1.2870113849639893,
          -14.074180603027344,
          -16.17605972290039,
          -20.402368545532227,
          -18.49662971496582,
          15.937321662902832,
          -22.472606658935547,
          -25.201391220092773,
          -5.6164631843566895,
          3.5061638355255127,
          -1.1795930862426758,
          10.9685640335083,
          -17.61170196533203,
          -15.727426528930664,
          -0.17830470204353333,
          -2.684366226196289,
          -11.931839942932129,
          -11.202067375183105,
          -25.683801651000977,
          -6.968855857849121,
          -6.541773319244385,
          -2.754432201385498,
          -0.035603031516075134,
          -1.017496109008789,
          -1.1281461715698242,
          -7.21483039855957,
          -25.509662628173828,
          -22.0363712310791,
          -20.870981216430664,
          -19.258787155151367,
          -23.46361541748047,
          -0.0007476272294297814,
          -21.462726593017578,
          -26.577043533325195,
          -20.230100631713867,
          -19.943662643432617,
          -0.40474092960357666,
          -24.967926025390625,
          -13.333701133728027,
          9.001646995544434,
          -17.459077835083008,
          -24.682952880859375,
          -10.835067749023438,
          -23.8626651763916,
          -28.59204864501953,
          -1.4132723808288574,
          -7.85881233215332,
          -19.61171531677246,
          -6.378750801086426,
          -22.19405746459961,
          -1.3201369047164917,
          -21.639406204223633,
          1.6753884553909302,
          -21.4786376953125,
          -1.7284886837005615,
          -7.863772869110107,
          -19.42265510559082,
          0.2651480436325073,
          -21.21700096130371,
          -19.7779541015625,
          -2.5153417587280273,
          -26.70854377746582,
          3.1894211769104004,
          -14.914877891540527,
          -23.233348846435547,
          -5.335853576660156,
          -4.835085391998291,
          -1.679542899131775,
          -1.5540846586227417,
          -19.467914581298828,
          16.442832946777344,
          -2.418003797531128,
          3.2709813117980957,
          -23.890689849853516,
          -3.2010021209716797,
          13.417433738708496,
          0.4839365780353546,
          1.1962435245513916,
          -1.065134048461914,
          3.596463441848755,
          -1.3681752681732178,
          -6.927430152893066,
          -5.41796350479126,
          -0.38575267791748047,
          -22.10491180419922,
          7.776852607727051,
          5.845193386077881,
          -1.2046558856964111,
          -16.09626007080078,
          -0.28305336833000183,
          -23.14581298828125,
          -6.876768112182617,
          0.6749283075332642,
          26.319129943847656,
          2.2642886638641357,
          27.435888290405273,
          -2.6317665576934814,
          11.402267456054688,
          5.623858451843262,
          12.835304260253906,
          2.878814697265625,
          -1.3819518089294434,
          -0.36639970541000366,
          10.048052787780762,
          2.66161847114563,
          3.74870228767395,
          -2.5735340118408203,
          3.676666736602783,
          29.27411460876465,
          24.093366622924805,
          19.190492630004883,
          21.665502548217773,
          0.24953916668891907,
          15.172082901000977,
          25.362268447875977,
          -2.7394089698791504,
          14.608307838439941,
          12.128122329711914,
          -2.614365577697754,
          -4.080662250518799,
          27.355731964111328,
          29.881704330444336,
          12.359679222106934,
          13.378973960876465,
          13.103930473327637,
          -3.1437716484069824,
          -7.514459609985352,
          -11.968257904052734,
          14.765016555786133,
          -18.92838478088379,
          -4.624766826629639,
          8.634008407592773,
          6.4396443367004395,
          5.5344061851501465,
          -10.371511459350586,
          -1.8610093593597412,
          0.7857330441474915,
          8.514203071594238,
          30.012598037719727,
          18.55326271057129,
          -16.020437240600586,
          12.832697868347168,
          2.4856247901916504,
          -7.708369731903076,
          24.260040283203125,
          -11.365909576416016,
          10.725418090820312,
          0.008072339929640293,
          15.601929664611816,
          5.241079330444336,
          12.286615371704102,
          29.916065216064453,
          10.883609771728516,
          3.106571674346924,
          27.881223678588867,
          3.5016026496887207,
          7.609748363494873,
          29.781972885131836,
          4.821063041687012,
          23.8201904296875,
          28.10157012939453,
          13.008089065551758,
          21.617752075195312,
          29.28523063659668,
          7.613093852996826,
          11.812847137451172,
          11.82429313659668,
          -25.420297622680664,
          -26.827844619750977,
          7.397222995758057,
          -16.942136764526367,
          11.85401725769043,
          27.733327865600586,
          24.723661422729492,
          -12.290029525756836,
          7.667474746704102,
          27.399478912353516,
          25.772136688232422,
          27.527313232421875,
          21.69938850402832,
          10.557304382324219,
          24.33152961730957,
          27.747716903686523,
          29.443857192993164,
          11.748332977294922,
          24.142595291137695,
          5.016772747039795,
          -13.529818534851074,
          15.515758514404297,
          20.34319305419922,
          0.5390774011611938,
          19.423900604248047,
          16.424854278564453,
          23.710086822509766,
          10.596874237060547,
          -2.596511125564575,
          8.907873153686523,
          20.874656677246094,
          21.59847068786621,
          22.578935623168945,
          20.88096809387207,
          19.033721923828125,
          10.043938636779785,
          16.75489616394043,
          20.557357788085938,
          12.728357315063477,
          -14.572519302368164,
          -23.951229095458984,
          4.780496597290039,
          21.563377380371094,
          7.471841812133789,
          19.81780242919922,
          -18.2271728515625,
          -7.969334602355957,
          -7.836939811706543,
          -12.278215408325195,
          -8.421547889709473,
          -2.952437400817871,
          9.372241020202637,
          4.078866481781006,
          13.43909740447998,
          18.70366668701172,
          -3.813958168029785,
          -4.470590114593506,
          15.321975708007812,
          7.699346542358398,
          18.71278953552246,
          12.317883491516113,
          -9.19099235534668,
          5.387111186981201,
          -1.4479931592941284,
          -3.735024929046631,
          0.8964189291000366,
          -1.5352423191070557,
          -4.847294330596924,
          -2.2361021041870117,
          -14.5852632522583,
          0.686055600643158,
          2.7152483463287354,
          -6.863053798675537,
          -16.805648803710938,
          10.873552322387695,
          -8.714986801147461,
          -4.733077049255371,
          17.371274948120117,
          2.0157861709594727,
          -24.638011932373047,
          -5.462347984313965,
          0.08615929633378983,
          3.40920090675354,
          4.279394626617432,
          7.292479038238525,
          -4.002777099609375,
          0.419337660074234,
          -22.392026901245117,
          9.895782470703125,
          5.454830646514893,
          -10.34726333618164,
          -6.966915607452393,
          -7.411061763763428,
          -16.432249069213867,
          6.8961687088012695,
          -25.92000389099121,
          6.858513832092285,
          -16.19913673400879,
          7.2244133949279785,
          -21.153287887573242,
          -7.788715839385986,
          -9.029753684997559,
          -6.863697528839111,
          -17.91458511352539,
          17.517004013061523,
          -13.559097290039062,
          -27.756399154663086,
          6.6865234375,
          -7.54633903503418,
          -10.461396217346191,
          -23.38194465637207,
          -11.802114486694336,
          -21.03575897216797,
          -5.038087844848633,
          1.0114176273345947,
          -21.93851089477539,
          -5.9208807945251465,
          -10.039615631103516,
          -9.161033630371094,
          -10.196884155273438,
          6.106728553771973,
          8.77864933013916,
          10.300950050354004,
          14.140843391418457,
          5.586287975311279,
          13.947184562683105,
          -20.723142623901367,
          11.773202896118164,
          -19.604633331298828,
          18.053142547607422,
          -21.696340560913086,
          -25.523834228515625,
          12.366811752319336,
          -7.338102340698242,
          -6.118294715881348,
          6.8960795402526855,
          -3.4166364669799805,
          2.4812471866607666,
          -13.051912307739258,
          8.76849365234375,
          17.47394561767578,
          1.8788410425186157,
          10.876262664794922,
          -4.973870277404785,
          -14.086501121520996,
          -4.343389511108398,
          -8.896737098693848,
          -9.024300575256348,
          -10.24201774597168,
          -12.612527847290039,
          -11.961800575256348,
          17.514259338378906,
          -7.353806018829346,
          -9.066646575927734,
          15.47877025604248,
          12.52700138092041,
          -24.99966812133789,
          -12.531055450439453,
          -7.21065092086792,
          11.03872299194336,
          -10.658636093139648,
          -13.407179832458496,
          -22.27887535095215,
          -23.472509384155273,
          -17.627471923828125,
          -20.021320343017578,
          -22.184629440307617,
          -19.625267028808594,
          -6.870474815368652,
          -21.38377571105957,
          -7.923873424530029,
          -1.6955970525741577,
          -9.569326400756836,
          -13.510611534118652,
          -21.90546226501465,
          -19.579336166381836,
          -14.866538047790527,
          -21.005290985107422,
          -17.177141189575195,
          -28.211162567138672,
          -21.345739364624023,
          -26.380613327026367,
          -9.748538970947266,
          -7.954263687133789,
          -24.233901977539062,
          -19.858673095703125,
          -6.279259204864502,
          -17.8529109954834,
          -20.177845001220703,
          -19.90095329284668,
          -21.72856903076172,
          -13.955328941345215,
          -10.957392692565918,
          -10.941529273986816,
          -24.30185890197754,
          -4.5567755699157715,
          -8.45329475402832,
          -1.9390262365341187,
          -22.473751068115234,
          -7.762876510620117,
          -14.352755546569824,
          -14.741732597351074,
          -17.981348037719727,
          -3.6245877742767334,
          -24.120479583740234,
          -10.891695976257324,
          -18.736495971679688,
          -12.329930305480957,
          -19.085594177246094,
          -28.01243782043457,
          -24.6822566986084,
          -21.80897331237793,
          8.787030220031738,
          -16.701255798339844,
          8.163565635681152,
          10.7850980758667,
          -8.575884819030762,
          -13.52567195892334,
          7.56093168258667,
          -8.669149398803711,
          -10.854670524597168,
          22.224149703979492,
          21.87523651123047,
          -3.9288382530212402,
          4.412170886993408,
          7.910080432891846,
          -6.66120719909668,
          11.186532974243164,
          2.946443796157837,
          -1.9696276187896729,
          11.85657787322998,
          4.072510719299316,
          4.071144104003906,
          0.7429264783859253,
          16.991201400756836,
          4.672978401184082,
          13.164665222167969,
          8.7418851852417,
          11.559982299804688,
          8.843084335327148,
          -6.1662726402282715,
          -3.7269821166992188,
          0.5925081968307495,
          -8.099393844604492,
          -5.709278583526611,
          -15.834638595581055,
          11.840316772460938,
          4.792105197906494,
          -3.9408137798309326,
          0.5090261101722717,
          5.603896141052246,
          -4.080686569213867,
          -2.6264140605926514,
          -2.179786205291748,
          -4.953631401062012,
          8.825873374938965,
          -20.08757209777832,
          19.189943313598633,
          -4.596423625946045,
          -0.10218368470668793,
          12.250184059143066,
          12.560773849487305,
          4.505046844482422,
          -14.801843643188477,
          -14.674756050109863,
          -0.4174038767814636,
          -3.50276780128479,
          -14.99400520324707,
          -7.1271185874938965,
          -1.9244239330291748,
          -6.41756010055542,
          2.1108644008636475,
          -13.31731128692627,
          1.3307511806488037,
          8.358814239501953,
          -13.257135391235352,
          -11.890081405639648,
          12.882543563842773,
          14.644280433654785,
          -8.70598316192627,
          9.827614784240723,
          -5.0113043785095215,
          8.884571075439453,
          -15.987442970275879,
          -7.8019866943359375,
          -12.046642303466797,
          -23.008220672607422,
          -10.637720108032227,
          -8.623486518859863,
          -15.787856101989746,
          -9.37855339050293,
          -1.392117977142334,
          -22.317150115966797,
          -15.602051734924316,
          -12.055575370788574,
          -18.890422821044922,
          10.02556037902832,
          -1.1160517930984497,
          -0.38083600997924805,
          -5.279002666473389,
          -16.63584327697754,
          -17.98379135131836,
          6.474997043609619,
          -14.68850326538086,
          -16.051876068115234,
          15.862211227416992,
          6.747682094573975,
          -11.360973358154297,
          22.325660705566406,
          -15.178183555603027,
          -9.559236526489258,
          6.360698223114014,
          -9.093875885009766,
          -14.076385498046875,
          -11.07667064666748,
          -17.005596160888672,
          -16.15065574645996,
          -18.850568771362305,
          -2.1699743270874023,
          -20.159704208374023,
          -1.172175645828247,
          -13.979040145874023,
          -10.926830291748047,
          -13.140983581542969,
          -10.245553016662598,
          -13.705923080444336,
          -18.995819091796875,
          -20.064682006835938,
          -1.586945652961731,
          -21.494632720947266,
          -14.915717124938965,
          -11.532594680786133,
          -17.82259750366211,
          2.4231812953948975,
          -22.22812843322754,
          3.6215121746063232,
          -13.650224685668945,
          -16.7424373626709,
          -24.589550018310547,
          -15.74538516998291,
          -17.637004852294922,
          -3.0616469383239746,
          -10.00210952758789,
          -5.086985111236572,
          -24.112789154052734,
          -14.746540069580078,
          -9.887469291687012,
          -9.557575225830078,
          -12.522119522094727,
          11.723433494567871,
          -5.498819828033447,
          -12.809979438781738,
          11.517256736755371,
          2.248992681503296,
          -18.454898834228516,
          14.6348295211792,
          -3.614788770675659,
          -19.546422958374023,
          -1.154047966003418,
          8.308950424194336,
          13.997982025146484,
          25.323144912719727,
          -17.325071334838867,
          14.634714126586914,
          13.174454689025879,
          23.820796966552734,
          23.74873924255371,
          -5.6186957359313965,
          11.432961463928223,
          -11.349928855895996,
          3.043921947479248,
          18.374300003051758,
          23.614206314086914,
          25.873655319213867,
          -13.133757591247559,
          0.5681756138801575,
          -27.311141967773438,
          -9.407073020935059,
          -7.381595134735107,
          4.393576145172119,
          14.48568058013916,
          -15.18958568572998,
          -7.416401386260986,
          -6.559693813323975,
          -11.764802932739258,
          -2.2859203815460205,
          -14.263860702514648,
          -18.334720611572266,
          -21.558923721313477,
          12.763007164001465,
          3.2361443042755127,
          -11.333264350891113,
          -5.025501251220703,
          -5.726833343505859,
          12.632930755615234,
          -18.482946395874023,
          0.1830102652311325,
          2.703531503677368,
          -12.696585655212402,
          -13.70827579498291,
          -2.477107286453247,
          -3.0048296451568604,
          1.3270750045776367,
          6.511424541473389,
          -17.499547958374023,
          -7.757853984832764,
          19.039306640625,
          -15.109659194946289,
          -12.61448860168457,
          5.55805778503418,
          -15.722284317016602,
          0.09023834019899368,
          -4.188665390014648,
          -17.450258255004883,
          18.534086227416992,
          0.8748283386230469,
          -6.217249870300293,
          20.263383865356445,
          -6.655734539031982,
          -4.531919002532959,
          -18.991579055786133,
          -10.021906852722168,
          -3.9637324810028076,
          4.055554389953613,
          -13.690549850463867,
          10.142021179199219,
          -7.030036926269531,
          9.21572494506836,
          -2.2056028842926025,
          -16.2825984954834,
          -14.184353828430176,
          27.66524887084961,
          22.825830459594727,
          24.199235916137695,
          27.542774200439453,
          21.902935028076172,
          1.3729358911514282,
          18.889307022094727,
          -2.9511213302612305,
          10.08861255645752,
          -11.16396713256836,
          0.7810098528862,
          3.028902769088745,
          10.007996559143066,
          6.2921528816223145,
          -23.587116241455078,
          -13.763986587524414,
          12.29240608215332,
          -21.966312408447266,
          0.9848860502243042,
          15.331371307373047,
          1.509926676750183,
          16.75012969970703,
          -10.525918006896973,
          -1.5061641931533813,
          -3.0862505435943604,
          -3.123459577560425,
          -2.8193886280059814,
          -12.093132019042969,
          13.009300231933594,
          5.914060592651367,
          2.1677699089050293,
          9.212735176086426,
          -15.267465591430664,
          -4.644864082336426,
          2.875051498413086,
          -1.9597254991531372,
          10.780993461608887,
          -10.299446105957031,
          -10.800484657287598,
          -4.817709922790527,
          12.412692070007324,
          -5.539897441864014,
          -9.072680473327637,
          9.020598411560059,
          -19.604581832885742,
          -6.223814010620117,
          -6.284306526184082,
          8.15002155303955,
          -11.157144546508789,
          1.9859898090362549,
          11.127280235290527,
          -5.472946643829346,
          5.45163631439209,
          5.27316951751709,
          -3.394930124282837,
          14.4476318359375,
          -1.39910888671875,
          -20.27113914489746,
          -18.86553382873535,
          13.48145580291748,
          15.269872665405273,
          -0.18344880640506744,
          9.699342727661133,
          0.9104932546615601,
          8.516764640808105,
          0.31754669547080994,
          13.429544448852539,
          1.844039797782898,
          4.488487243652344,
          -14.671923637390137,
          2.4365923404693604,
          15.032088279724121,
          -8.450894355773926,
          -3.821561336517334,
          -8.983104705810547,
          1.991533637046814,
          -6.016141891479492,
          -5.806591987609863,
          1.0863275527954102,
          12.73862075805664,
          16.537870407104492,
          -3.528770923614502,
          9.579236030578613,
          -8.799330711364746,
          -1.0008959770202637,
          9.394424438476562,
          -2.386082887649536,
          0.6995363235473633,
          -11.879912376403809,
          -10.128862380981445,
          6.234258651733398,
          9.922637939453125,
          3.1519269943237305,
          11.378110885620117,
          -13.806245803833008,
          -25.73174285888672,
          -4.4666666984558105,
          13.461342811584473,
          14.857707023620605,
          9.357605934143066,
          -15.566466331481934,
          3.387441396713257,
          -8.993799209594727,
          -6.524240016937256,
          9.42143440246582,
          -2.0751185417175293,
          -2.1262407302856445,
          -6.525094985961914,
          -10.377009391784668,
          4.461155891418457,
          11.602581977844238,
          8.518449783325195,
          15.290813446044922,
          -24.086610794067383,
          2.07918643951416,
          -8.326681137084961,
          8.782736778259277,
          2.3068790435791016,
          14.154356956481934,
          -6.332085132598877,
          -22.629697799682617,
          11.456289291381836,
          -7.0782318115234375,
          -0.5130922198295593,
          18.732927322387695,
          22.363149642944336,
          23.322216033935547,
          -14.746611595153809,
          19.978023529052734,
          22.82106590270996,
          22.85846519470215,
          23.640050888061523,
          2.052111864089966,
          20.07737922668457,
          20.40282440185547,
          6.253602981567383,
          15.168521881103516,
          16.210872650146484,
          13.38013744354248,
          6.358879089355469,
          18.85659408569336,
          3.0569567680358887,
          -1.58571195602417,
          22.551210403442383,
          13.243813514709473,
          24.03015899658203,
          17.47760772705078,
          25.441083908081055,
          4.3314409255981445,
          13.16789722442627,
          22.333648681640625,
          11.780265808105469,
          -0.7189850807189941,
          15.499518394470215,
          10.65709114074707,
          15.555784225463867,
          22.026639938354492,
          16.89421272277832,
          16.034557342529297,
          9.022093772888184,
          22.229524612426758,
          0.21800543367862701,
          9.058001518249512,
          9.01171875,
          15.112419128417969,
          9.902642250061035,
          25.313621520996094,
          -22.841793060302734,
          23.099565505981445,
          1.4891681671142578,
          -5.929229259490967,
          -26.4419002532959,
          -17.64212417602539,
          3.0207571983337402,
          2.9991376399993896,
          -5.508960723876953,
          8.04332160949707,
          8.614768028259277,
          0.9182992577552795,
          2.624682664871216,
          0.5025994777679443,
          10.307401657104492,
          2.7979493141174316,
          -1.2746131420135498,
          11.052416801452637,
          -14.22450065612793,
          14.480252265930176,
          -1.3238630294799805,
          11.204200744628906,
          27.331369400024414,
          26.5665225982666,
          -11.863567352294922,
          -8.786243438720703,
          -9.920822143554688,
          -25.520771026611328,
          -17.011226654052734,
          6.7667155265808105,
          -8.813076972961426,
          -22.013647079467773,
          1.8442580699920654,
          21.1425724029541,
          -13.967267990112305,
          7.364924907684326,
          7.092710494995117,
          -15.3945951461792,
          1.3800725936889648,
          -23.44475555419922,
          4.84870719909668,
          6.596633434295654,
          3.5473270416259766,
          7.886485576629639,
          -15.273477554321289,
          -9.656846046447754,
          -3.6583034992218018,
          -10.829675674438477,
          -7.167662620544434,
          -15.960259437561035,
          -6.546536922454834,
          -16.261018753051758,
          -13.66137981414795,
          -13.896294593811035,
          9.414827346801758,
          -14.584843635559082,
          -3.6449906826019287,
          -1.5099884271621704,
          -11.193471908569336,
          -6.956745147705078,
          10.06519603729248,
          4.611765384674072,
          8.088897705078125,
          3.5279481410980225,
          -10.777458190917969,
          -9.837092399597168,
          1.988310694694519,
          2.4311177730560303,
          13.599767684936523,
          26.410884857177734,
          3.6189041137695312,
          6.6615986824035645,
          1.7236751317977905,
          14.72010612487793,
          12.335588455200195,
          21.932828903198242,
          18.878910064697266,
          2.206105947494507,
          -9.495827674865723,
          2.4064559936523438,
          1.2320955991744995,
          5.979687213897705,
          10.368074417114258,
          -8.978513717651367,
          5.846405506134033,
          -7.11911153793335,
          -0.8097316026687622,
          10.037697792053223,
          5.818417549133301,
          6.744367599487305,
          -16.192411422729492,
          5.407820224761963,
          -5.866307735443115,
          0.9492847323417664,
          -8.780973434448242,
          -5.296717643737793,
          -7.393979549407959,
          -20.597579956054688,
          21.67437744140625,
          -8.24750804901123,
          -10.744057655334473,
          18.807498931884766,
          -17.497180938720703,
          -1.9886010885238647,
          -1.1065552234649658,
          -20.105772018432617,
          -5.653745174407959,
          -14.205039978027344,
          26.32228660583496,
          1.2361708879470825,
          23.612960815429688,
          20.504384994506836,
          10.746988296508789,
          5.728104591369629,
          -1.912461519241333,
          0.3931717574596405,
          -4.838678359985352,
          3.1744327545166016,
          9.876274108886719,
          1.642328143119812,
          12.096100807189941,
          10.153462409973145,
          12.541683197021484,
          20.295190811157227,
          -21.89029312133789,
          15.698441505432129,
          -9.945188522338867,
          -13.374300003051758,
          10.920857429504395,
          6.153364658355713,
          -7.14461612701416,
          -5.597114562988281,
          -1.509722352027893,
          -16.493160247802734,
          -4.038546085357666,
          -8.298356056213379,
          9.14803695678711,
          -10.234228134155273,
          19.008390426635742,
          -10.29692554473877,
          -9.596546173095703,
          -15.766218185424805,
          -25.152589797973633,
          -8.605234146118164,
          -8.6107816696167,
          -13.194777488708496,
          4.415933609008789,
          8.88500690460205,
          -24.847518920898438,
          -17.364463806152344,
          -1.5364477634429932,
          0.3526531457901001,
          5.602679252624512,
          1.4747471809387207,
          -10.667027473449707,
          -4.662129878997803,
          0.8408084511756897,
          -6.675866603851318,
          -5.011202812194824,
          16.920427322387695,
          8.38810920715332,
          18.98898696899414,
          1.7222297191619873,
          -9.630311012268066,
          9.411751747131348,
          -7.97961950302124,
          0.8925098180770874,
          20.273971557617188,
          -6.6829023361206055,
          -1.154330849647522,
          -9.84298324584961,
          -12.862140655517578,
          2.640451192855835,
          3.794259548187256,
          15.172981262207031,
          -4.408700466156006,
          -6.927687168121338,
          16.549945831298828,
          2.1335787773132324,
          8.564018249511719,
          16.233806610107422,
          5.301122188568115,
          4.50475549697876,
          -10.82732105255127,
          -4.681351184844971,
          12.01021671295166,
          9.26959228515625,
          15.007163047790527,
          -4.373703479766846,
          11.828734397888184,
          20.779117584228516,
          17.155349731445312,
          25.9635009765625,
          -0.5768051147460938,
          0.14706028997898102,
          15.621691703796387,
          -2.9247183799743652,
          -9.592562675476074,
          6.3204169273376465,
          -10.50555419921875,
          -10.112345695495605,
          12.410244941711426,
          -15.632184028625488,
          -15.988381385803223,
          -11.65173625946045,
          0.044642653316259384,
          -6.686400413513184,
          -0.5639433860778809,
          -13.413743019104004,
          -15.80987548828125,
          -2.5630557537078857,
          -10.6329927444458,
          27.301313400268555,
          9.263537406921387,
          -1.7162084579467773,
          -19.368785858154297,
          -0.11326262354850769,
          -1.9392468929290771,
          -7.066338062286377,
          1.179555892944336,
          -18.610305786132812,
          11.484217643737793,
          -0.07472658902406693,
          -17.536516189575195,
          2.625272035598755,
          9.518413543701172,
          6.642401218414307,
          -5.520618915557861,
          -18.520166397094727,
          -8.70585823059082,
          3.6906516551971436,
          13.417922019958496,
          -11.21471881866455,
          5.01785135269165,
          -13.486649513244629,
          0.9872188568115234,
          10.560218811035156,
          13.624062538146973,
          -2.562626838684082,
          12.107510566711426,
          10.67802906036377,
          -0.5824726223945618,
          -11.576586723327637,
          -9.51753044128418,
          -7.840585708618164,
          -12.869324684143066,
          -7.3025360107421875,
          0.59653639793396,
          11.14411735534668,
          20.738204956054688,
          2.7482409477233887,
          14.780143737792969,
          5.653829574584961,
          -11.889068603515625,
          -3.1012814044952393,
          -2.0286381244659424,
          -0.8189984560012817,
          -18.608909606933594,
          15.282453536987305,
          0.7557394504547119,
          15.185736656188965,
          7.265171051025391,
          6.970036029815674,
          -4.809216499328613,
          -0.08564268797636032,
          6.388216495513916,
          -4.413373947143555,
          -4.622185707092285,
          -2.8021903038024902,
          -14.851035118103027,
          -4.597601890563965,
          0.8401139378547668,
          -24.667818069458008,
          -15.128829002380371,
          -10.456214904785156,
          13.755241394042969,
          8.283594131469727,
          -19.392215728759766,
          -9.217572212219238,
          -7.123182773590088,
          4.603455066680908,
          -17.197628021240234,
          -5.853147029876709,
          -17.276514053344727,
          -16.03494644165039,
          -11.422460556030273,
          11.456521987915039,
          -10.224788665771484,
          -10.426297187805176,
          4.443076133728027,
          -0.02705294080078602,
          1.1600587368011475,
          -10.05223274230957,
          -16.218233108520508,
          -1.8435105085372925,
          -5.313411235809326,
          2.344810962677002,
          2.3995885848999023,
          -6.319181442260742,
          8.915407180786133,
          13.409346580505371,
          5.462540149688721,
          -0.8813526630401611,
          1.2809175252914429,
          -9.615948677062988,
          2.9727399349212646,
          -10.603178977966309,
          7.046496868133545,
          12.0855712890625,
          -12.172975540161133,
          -1.6118215322494507,
          -9.404452323913574,
          3.4050633907318115,
          -4.635504245758057,
          -0.5917304754257202,
          -0.4802228808403015,
          -8.706363677978516,
          3.8718583583831787,
          12.592477798461914,
          9.608664512634277,
          26.116825103759766,
          11.30637264251709,
          20.786890029907227,
          16.694726943969727,
          16.105003356933594,
          9.850059509277344,
          3.360297203063965,
          15.450361251831055,
          25.968820571899414,
          -8.66250991821289,
          -4.755861282348633,
          -1.246539831161499,
          -3.2736992835998535,
          -13.004960060119629,
          0.03533920273184776,
          9.123022079467773,
          6.401853084564209,
          12.752148628234863,
          8.967569351196289,
          13.770767211914062,
          13.706565856933594,
          14.155823707580566,
          7.5875043869018555,
          5.231545448303223,
          -4.676562786102295,
          4.38901948928833,
          -2.6370608806610107,
          11.378737449645996,
          -2.154890537261963,
          -12.61260986328125,
          20.000835418701172,
          -0.06491740047931671,
          7.536760330200195,
          -3.6277787685394287,
          -7.218627452850342,
          15.374051094055176,
          -5.408699989318848,
          7.976452350616455,
          1.7200652360916138,
          1.1856545209884644,
          -8.373594284057617,
          17.44335174560547,
          -2.047591209411621,
          -9.370134353637695,
          -8.14220142364502,
          20.55292320251465,
          14.893073081970215,
          3.9098150730133057,
          4.127939701080322,
          6.099238872528076,
          -7.271204948425293,
          -8.275200843811035,
          1.6364790201187134,
          -12.441259384155273,
          8.15836238861084,
          13.295967102050781,
          5.3831024169921875,
          17.47755241394043,
          9.998945236206055,
          26.06646728515625,
          5.2436113357543945,
          17.168933868408203,
          -12.257494926452637,
          -6.3459649085998535,
          2.1758193969726562,
          -3.1039390563964844,
          -7.918859004974365,
          7.661243915557861,
          -5.004087448120117,
          14.923261642456055,
          -4.383175373077393,
          -11.772269248962402,
          5.961106777191162,
          8.89282512664795,
          13.523348808288574,
          -7.347743988037109,
          3.7805726528167725,
          -9.989118576049805,
          -4.865800857543945,
          4.929715156555176,
          10.11538028717041,
          18.09618377685547,
          3.40848708152771,
          5.12491512298584,
          12.400142669677734,
          3.7553675174713135,
          -7.056694030761719,
          2.6088995933532715,
          2.1132421493530273,
          6.936367511749268,
          2.6437695026397705,
          -3.9133219718933105,
          14.176337242126465,
          4.172393798828125,
          14.13831615447998,
          0.24116766452789307,
          -6.620240688323975,
          -5.772105693817139,
          -20.899646759033203,
          3.74570369720459,
          -9.484115600585938,
          13.149009704589844,
          9.649530410766602,
          3.4086623191833496,
          2.3896946907043457,
          3.081040143966675,
          3.7447924613952637,
          1.5440062284469604,
          3.1355950832366943,
          9.555465698242188,
          -0.36782610416412354,
          17.92306137084961,
          8.09547233581543,
          4.1813507080078125,
          11.074555397033691,
          2.5334370136260986,
          11.140938758850098,
          3.01334547996521,
          2.2673895359039307,
          2.381880283355713,
          -10.668113708496094,
          11.508966445922852,
          4.718040943145752,
          -6.208186149597168,
          4.165284156799316,
          4.240340709686279,
          -5.944993019104004,
          2.5872528553009033,
          3.6266281604766846,
          11.423118591308594,
          5.938889026641846,
          3.2663745880126953,
          -4.211933612823486,
          10.291173934936523,
          -14.092543601989746,
          -0.569545567035675,
          4.92477560043335,
          -11.737854957580566,
          3.473479986190796,
          3.020076036453247,
          -0.02532663568854332,
          13.269712448120117,
          1.7636237144470215,
          -16.171091079711914,
          -7.5635552406311035,
          11.289896965026855,
          -5.730754375457764,
          17.576282501220703,
          17.884851455688477,
          10.571659088134766,
          -2.09848952293396,
          2.329915761947632,
          21.294437408447266,
          7.150104522705078,
          21.17998695373535,
          22.318359375,
          21.633821487426758,
          13.294205665588379,
          4.949491024017334,
          15.294917106628418,
          1.7408504486083984,
          -12.190544128417969,
          -16.163909912109375,
          9.311134338378906,
          20.7966365814209,
          -12.31209659576416,
          -14.729512214660645,
          10.350990295410156,
          13.679231643676758,
          -8.84405517578125,
          2.965362310409546,
          -11.89327335357666,
          9.819853782653809,
          10.402777671813965,
          -10.783108711242676,
          -0.6473477482795715,
          3.5177323818206787,
          9.024185180664062,
          -6.219690322875977,
          9.76855754852295,
          -2.453657388687134,
          2.548083543777466,
          4.61376953125,
          9.724438667297363,
          4.508422374725342,
          7.708371639251709,
          7.172872543334961,
          -6.844895362854004,
          3.271787166595459,
          9.3748779296875,
          10.595377922058105,
          2.1992716789245605,
          -4.823936462402344,
          -2.060236692428589,
          17.120872497558594,
          16.50315284729004,
          25.536823272705078,
          14.278383255004883,
          20.382761001586914,
          -0.5861557722091675,
          -8.509567260742188,
          9.045604705810547,
          -3.87742280960083,
          3.891831159591675,
          6.474609851837158,
          -1.8878973722457886,
          -7.663665294647217,
          5.255289077758789,
          -5.872461795806885,
          -1.1191037893295288,
          -14.637471199035645,
          5.750018119812012,
          1.4245054721832275,
          11.563329696655273,
          -9.665135383605957,
          1.6223028898239136,
          -15.05945873260498,
          -16.356361389160156,
          11.204947471618652,
          -18.249195098876953,
          -0.2767563760280609,
          0.7028219103813171,
          1.6422265768051147,
          -16.393404006958008,
          -5.83238410949707,
          9.548032760620117,
          5.453994274139404,
          -0.5268347263336182,
          15.23365306854248,
          -0.4593973159790039,
          4.86085319519043,
          4.389467716217041,
          -11.570277214050293,
          -12.462153434753418,
          3.697518825531006,
          -1.2407633066177368,
          9.872410774230957,
          13.766128540039062,
          -21.546249389648438,
          -15.157209396362305,
          4.151093482971191,
          11.740263938903809,
          21.508888244628906,
          -12.315481185913086,
          -8.317635536193848,
          -3.7661585807800293,
          -7.089295387268066,
          9.498973846435547,
          16.65670394897461,
          -11.764227867126465,
          -16.075847625732422,
          9.014653205871582,
          6.867044925689697,
          -12.574387550354004,
          2.045574188232422,
          -7.746685028076172,
          12.2310152053833,
          -6.9863080978393555,
          10.934255599975586,
          8.546331405639648,
          -12.17178726196289,
          0.658126950263977,
          1.6291377544403076,
          -6.877266883850098,
          -3.1276676654815674,
          -11.453283309936523,
          5.359182357788086,
          8.917075157165527,
          -6.245233535766602,
          9.580204963684082,
          10.282086372375488,
          1.5996075868606567,
          5.040040016174316,
          14.15436840057373,
          5.402736663818359,
          -15.666910171508789,
          3.5323965549468994,
          -9.66566276550293,
          6.157479763031006,
          -13.844482421875,
          -18.65513801574707,
          -8.131078720092773,
          23.897510528564453,
          3.996748447418213,
          12.599669456481934,
          12.504984855651855,
          -16.84648895263672,
          5.429390907287598,
          4.015079021453857,
          4.265279293060303,
          -0.6157081723213196,
          11.183758735656738,
          12.361889839172363,
          2.370426893234253,
          -9.02395248413086,
          8.059746742248535,
          -11.911750793457031,
          8.742213249206543,
          -2.6511380672454834,
          7.2727766036987305,
          -7.894917964935303,
          0.4785666763782501,
          -2.0979912281036377,
          19.64468765258789,
          3.2798659801483154,
          2.14017391204834,
          -14.004051208496094,
          -7.899507522583008,
          12.142502784729004,
          7.658930778503418,
          12.239645957946777,
          10.953797340393066,
          13.439346313476562,
          11.997491836547852,
          11.079916000366211,
          -2.0673272609710693,
          13.397899627685547,
          -2.493457317352295,
          3.9260761737823486,
          -2.225754499435425,
          -9.547268867492676,
          5.515044689178467,
          12.425110816955566,
          -8.03070068359375,
          10.512120246887207,
          -12.042224884033203,
          10.902059555053711,
          12.482437133789062,
          11.592413902282715,
          11.625276565551758,
          10.965367317199707,
          9.77181625366211,
          11.92595100402832,
          12.165369033813477,
          12.339567184448242,
          12.873235702514648,
          11.702895164489746,
          12.819729804992676,
          12.931734085083008,
          11.915084838867188,
          12.191618919372559,
          12.25102424621582,
          11.029868125915527,
          13.447758674621582,
          11.754558563232422,
          12.089144706726074,
          14.324017524719238,
          12.65355110168457,
          13.87114429473877,
          12.215112686157227,
          12.961734771728516,
          11.621418952941895,
          11.392190933227539,
          21.955461502075195,
          7.207270622253418,
          21.485618591308594,
          6.304009437561035,
          -0.680862307548523,
          11.649465560913086,
          -6.041854381561279,
          12.665529251098633,
          2.521312952041626,
          -24.45591926574707,
          16.441129684448242,
          -2.706063985824585,
          -9.776802062988281,
          6.74402379989624,
          3.6991889476776123,
          13.4668607711792,
          -13.915334701538086,
          -9.088196754455566,
          7.114007949829102,
          8.0707368850708,
          16.700122833251953,
          8.177796363830566,
          6.849826335906982,
          3.220309257507324,
          22.292570114135742,
          20.533306121826172,
          11.459406852722168,
          3.6097710132598877,
          12.583577156066895,
          7.960575103759766,
          14.16080379486084,
          -7.955970287322998,
          7.187568187713623,
          8.584156036376953,
          -5.703457355499268,
          -13.748760223388672,
          12.883709907531738,
          20.58834457397461,
          8.751075744628906,
          -14.742598533630371,
          2.4323322772979736,
          -2.6002585887908936,
          12.187420845031738,
          5.24954891204834,
          11.956463813781738,
          12.254082679748535,
          9.113663673400879,
          11.937337875366211,
          10.617940902709961,
          11.743558883666992,
          12.162941932678223,
          12.202710151672363,
          11.866040229797363,
          13.866255760192871,
          -0.13079845905303955,
          8.578207969665527,
          10.65195083618164,
          11.961376190185547,
          6.284811496734619,
          12.02854061126709,
          14.623160362243652,
          12.058881759643555,
          13.15147876739502,
          12.317017555236816,
          -4.078243732452393,
          13.791298866271973,
          13.340301513671875,
          10.046215057373047,
          14.280258178710938,
          -1.705612063407898,
          4.256375789642334,
          9.497797966003418,
          8.470525741577148,
          7.640783309936523,
          17.36907196044922,
          12.816088676452637,
          -8.92823314666748,
          12.724054336547852,
          12.62826919555664,
          22.21537208557129,
          22.338403701782227,
          12.56289291381836,
          21.921733856201172,
          9.894037246704102,
          3.209930896759033,
          -5.521277904510498,
          -8.705531120300293,
          11.893138885498047,
          5.643887519836426,
          3.021145820617676,
          10.516999244689941,
          25.735048294067383,
          14.293120384216309,
          -2.167600393295288,
          -19.409465789794922
         ],
         "yaxis": "y"
        }
       ],
       "layout": {
        "coloraxis": {
         "colorbar": {
          "title": {
           "text": "popularity"
          }
         },
         "colorscale": [
          [
           0,
           "#0d0887"
          ],
          [
           0.1111111111111111,
           "#46039f"
          ],
          [
           0.2222222222222222,
           "#7201a8"
          ],
          [
           0.3333333333333333,
           "#9c179e"
          ],
          [
           0.4444444444444444,
           "#bd3786"
          ],
          [
           0.5555555555555556,
           "#d8576b"
          ],
          [
           0.6666666666666666,
           "#ed7953"
          ],
          [
           0.7777777777777778,
           "#fb9f3a"
          ],
          [
           0.8888888888888888,
           "#fdca26"
          ],
          [
           1,
           "#f0f921"
          ]
         ]
        },
        "legend": {
         "tracegroupgap": 0
        },
        "margin": {
         "t": 60
        },
        "template": {
         "data": {
          "bar": [
           {
            "error_x": {
             "color": "#2a3f5f"
            },
            "error_y": {
             "color": "#2a3f5f"
            },
            "marker": {
             "line": {
              "color": "#E5ECF6",
              "width": 0.5
             },
             "pattern": {
              "fillmode": "overlay",
              "size": 10,
              "solidity": 0.2
             }
            },
            "type": "bar"
           }
          ],
          "barpolar": [
           {
            "marker": {
             "line": {
              "color": "#E5ECF6",
              "width": 0.5
             },
             "pattern": {
              "fillmode": "overlay",
              "size": 10,
              "solidity": 0.2
             }
            },
            "type": "barpolar"
           }
          ],
          "carpet": [
           {
            "aaxis": {
             "endlinecolor": "#2a3f5f",
             "gridcolor": "white",
             "linecolor": "white",
             "minorgridcolor": "white",
             "startlinecolor": "#2a3f5f"
            },
            "baxis": {
             "endlinecolor": "#2a3f5f",
             "gridcolor": "white",
             "linecolor": "white",
             "minorgridcolor": "white",
             "startlinecolor": "#2a3f5f"
            },
            "type": "carpet"
           }
          ],
          "choropleth": [
           {
            "colorbar": {
             "outlinewidth": 0,
             "ticks": ""
            },
            "type": "choropleth"
           }
          ],
          "contour": [
           {
            "colorbar": {
             "outlinewidth": 0,
             "ticks": ""
            },
            "colorscale": [
             [
              0,
              "#0d0887"
             ],
             [
              0.1111111111111111,
              "#46039f"
             ],
             [
              0.2222222222222222,
              "#7201a8"
             ],
             [
              0.3333333333333333,
              "#9c179e"
             ],
             [
              0.4444444444444444,
              "#bd3786"
             ],
             [
              0.5555555555555556,
              "#d8576b"
             ],
             [
              0.6666666666666666,
              "#ed7953"
             ],
             [
              0.7777777777777778,
              "#fb9f3a"
             ],
             [
              0.8888888888888888,
              "#fdca26"
             ],
             [
              1,
              "#f0f921"
             ]
            ],
            "type": "contour"
           }
          ],
          "contourcarpet": [
           {
            "colorbar": {
             "outlinewidth": 0,
             "ticks": ""
            },
            "type": "contourcarpet"
           }
          ],
          "heatmap": [
           {
            "colorbar": {
             "outlinewidth": 0,
             "ticks": ""
            },
            "colorscale": [
             [
              0,
              "#0d0887"
             ],
             [
              0.1111111111111111,
              "#46039f"
             ],
             [
              0.2222222222222222,
              "#7201a8"
             ],
             [
              0.3333333333333333,
              "#9c179e"
             ],
             [
              0.4444444444444444,
              "#bd3786"
             ],
             [
              0.5555555555555556,
              "#d8576b"
             ],
             [
              0.6666666666666666,
              "#ed7953"
             ],
             [
              0.7777777777777778,
              "#fb9f3a"
             ],
             [
              0.8888888888888888,
              "#fdca26"
             ],
             [
              1,
              "#f0f921"
             ]
            ],
            "type": "heatmap"
           }
          ],
          "heatmapgl": [
           {
            "colorbar": {
             "outlinewidth": 0,
             "ticks": ""
            },
            "colorscale": [
             [
              0,
              "#0d0887"
             ],
             [
              0.1111111111111111,
              "#46039f"
             ],
             [
              0.2222222222222222,
              "#7201a8"
             ],
             [
              0.3333333333333333,
              "#9c179e"
             ],
             [
              0.4444444444444444,
              "#bd3786"
             ],
             [
              0.5555555555555556,
              "#d8576b"
             ],
             [
              0.6666666666666666,
              "#ed7953"
             ],
             [
              0.7777777777777778,
              "#fb9f3a"
             ],
             [
              0.8888888888888888,
              "#fdca26"
             ],
             [
              1,
              "#f0f921"
             ]
            ],
            "type": "heatmapgl"
           }
          ],
          "histogram": [
           {
            "marker": {
             "pattern": {
              "fillmode": "overlay",
              "size": 10,
              "solidity": 0.2
             }
            },
            "type": "histogram"
           }
          ],
          "histogram2d": [
           {
            "colorbar": {
             "outlinewidth": 0,
             "ticks": ""
            },
            "colorscale": [
             [
              0,
              "#0d0887"
             ],
             [
              0.1111111111111111,
              "#46039f"
             ],
             [
              0.2222222222222222,
              "#7201a8"
             ],
             [
              0.3333333333333333,
              "#9c179e"
             ],
             [
              0.4444444444444444,
              "#bd3786"
             ],
             [
              0.5555555555555556,
              "#d8576b"
             ],
             [
              0.6666666666666666,
              "#ed7953"
             ],
             [
              0.7777777777777778,
              "#fb9f3a"
             ],
             [
              0.8888888888888888,
              "#fdca26"
             ],
             [
              1,
              "#f0f921"
             ]
            ],
            "type": "histogram2d"
           }
          ],
          "histogram2dcontour": [
           {
            "colorbar": {
             "outlinewidth": 0,
             "ticks": ""
            },
            "colorscale": [
             [
              0,
              "#0d0887"
             ],
             [
              0.1111111111111111,
              "#46039f"
             ],
             [
              0.2222222222222222,
              "#7201a8"
             ],
             [
              0.3333333333333333,
              "#9c179e"
             ],
             [
              0.4444444444444444,
              "#bd3786"
             ],
             [
              0.5555555555555556,
              "#d8576b"
             ],
             [
              0.6666666666666666,
              "#ed7953"
             ],
             [
              0.7777777777777778,
              "#fb9f3a"
             ],
             [
              0.8888888888888888,
              "#fdca26"
             ],
             [
              1,
              "#f0f921"
             ]
            ],
            "type": "histogram2dcontour"
           }
          ],
          "mesh3d": [
           {
            "colorbar": {
             "outlinewidth": 0,
             "ticks": ""
            },
            "type": "mesh3d"
           }
          ],
          "parcoords": [
           {
            "line": {
             "colorbar": {
              "outlinewidth": 0,
              "ticks": ""
             }
            },
            "type": "parcoords"
           }
          ],
          "pie": [
           {
            "automargin": true,
            "type": "pie"
           }
          ],
          "scatter": [
           {
            "fillpattern": {
             "fillmode": "overlay",
             "size": 10,
             "solidity": 0.2
            },
            "type": "scatter"
           }
          ],
          "scatter3d": [
           {
            "line": {
             "colorbar": {
              "outlinewidth": 0,
              "ticks": ""
             }
            },
            "marker": {
             "colorbar": {
              "outlinewidth": 0,
              "ticks": ""
             }
            },
            "type": "scatter3d"
           }
          ],
          "scattercarpet": [
           {
            "marker": {
             "colorbar": {
              "outlinewidth": 0,
              "ticks": ""
             }
            },
            "type": "scattercarpet"
           }
          ],
          "scattergeo": [
           {
            "marker": {
             "colorbar": {
              "outlinewidth": 0,
              "ticks": ""
             }
            },
            "type": "scattergeo"
           }
          ],
          "scattergl": [
           {
            "marker": {
             "colorbar": {
              "outlinewidth": 0,
              "ticks": ""
             }
            },
            "type": "scattergl"
           }
          ],
          "scattermapbox": [
           {
            "marker": {
             "colorbar": {
              "outlinewidth": 0,
              "ticks": ""
             }
            },
            "type": "scattermapbox"
           }
          ],
          "scatterpolar": [
           {
            "marker": {
             "colorbar": {
              "outlinewidth": 0,
              "ticks": ""
             }
            },
            "type": "scatterpolar"
           }
          ],
          "scatterpolargl": [
           {
            "marker": {
             "colorbar": {
              "outlinewidth": 0,
              "ticks": ""
             }
            },
            "type": "scatterpolargl"
           }
          ],
          "scatterternary": [
           {
            "marker": {
             "colorbar": {
              "outlinewidth": 0,
              "ticks": ""
             }
            },
            "type": "scatterternary"
           }
          ],
          "surface": [
           {
            "colorbar": {
             "outlinewidth": 0,
             "ticks": ""
            },
            "colorscale": [
             [
              0,
              "#0d0887"
             ],
             [
              0.1111111111111111,
              "#46039f"
             ],
             [
              0.2222222222222222,
              "#7201a8"
             ],
             [
              0.3333333333333333,
              "#9c179e"
             ],
             [
              0.4444444444444444,
              "#bd3786"
             ],
             [
              0.5555555555555556,
              "#d8576b"
             ],
             [
              0.6666666666666666,
              "#ed7953"
             ],
             [
              0.7777777777777778,
              "#fb9f3a"
             ],
             [
              0.8888888888888888,
              "#fdca26"
             ],
             [
              1,
              "#f0f921"
             ]
            ],
            "type": "surface"
           }
          ],
          "table": [
           {
            "cells": {
             "fill": {
              "color": "#EBF0F8"
             },
             "line": {
              "color": "white"
             }
            },
            "header": {
             "fill": {
              "color": "#C8D4E3"
             },
             "line": {
              "color": "white"
             }
            },
            "type": "table"
           }
          ]
         },
         "layout": {
          "annotationdefaults": {
           "arrowcolor": "#2a3f5f",
           "arrowhead": 0,
           "arrowwidth": 1
          },
          "autotypenumbers": "strict",
          "coloraxis": {
           "colorbar": {
            "outlinewidth": 0,
            "ticks": ""
           }
          },
          "colorscale": {
           "diverging": [
            [
             0,
             "#8e0152"
            ],
            [
             0.1,
             "#c51b7d"
            ],
            [
             0.2,
             "#de77ae"
            ],
            [
             0.3,
             "#f1b6da"
            ],
            [
             0.4,
             "#fde0ef"
            ],
            [
             0.5,
             "#f7f7f7"
            ],
            [
             0.6,
             "#e6f5d0"
            ],
            [
             0.7,
             "#b8e186"
            ],
            [
             0.8,
             "#7fbc41"
            ],
            [
             0.9,
             "#4d9221"
            ],
            [
             1,
             "#276419"
            ]
           ],
           "sequential": [
            [
             0,
             "#0d0887"
            ],
            [
             0.1111111111111111,
             "#46039f"
            ],
            [
             0.2222222222222222,
             "#7201a8"
            ],
            [
             0.3333333333333333,
             "#9c179e"
            ],
            [
             0.4444444444444444,
             "#bd3786"
            ],
            [
             0.5555555555555556,
             "#d8576b"
            ],
            [
             0.6666666666666666,
             "#ed7953"
            ],
            [
             0.7777777777777778,
             "#fb9f3a"
            ],
            [
             0.8888888888888888,
             "#fdca26"
            ],
            [
             1,
             "#f0f921"
            ]
           ],
           "sequentialminus": [
            [
             0,
             "#0d0887"
            ],
            [
             0.1111111111111111,
             "#46039f"
            ],
            [
             0.2222222222222222,
             "#7201a8"
            ],
            [
             0.3333333333333333,
             "#9c179e"
            ],
            [
             0.4444444444444444,
             "#bd3786"
            ],
            [
             0.5555555555555556,
             "#d8576b"
            ],
            [
             0.6666666666666666,
             "#ed7953"
            ],
            [
             0.7777777777777778,
             "#fb9f3a"
            ],
            [
             0.8888888888888888,
             "#fdca26"
            ],
            [
             1,
             "#f0f921"
            ]
           ]
          },
          "colorway": [
           "#636efa",
           "#EF553B",
           "#00cc96",
           "#ab63fa",
           "#FFA15A",
           "#19d3f3",
           "#FF6692",
           "#B6E880",
           "#FF97FF",
           "#FECB52"
          ],
          "font": {
           "color": "#2a3f5f"
          },
          "geo": {
           "bgcolor": "white",
           "lakecolor": "white",
           "landcolor": "#E5ECF6",
           "showlakes": true,
           "showland": true,
           "subunitcolor": "white"
          },
          "hoverlabel": {
           "align": "left"
          },
          "hovermode": "closest",
          "mapbox": {
           "style": "light"
          },
          "paper_bgcolor": "white",
          "plot_bgcolor": "#E5ECF6",
          "polar": {
           "angularaxis": {
            "gridcolor": "white",
            "linecolor": "white",
            "ticks": ""
           },
           "bgcolor": "#E5ECF6",
           "radialaxis": {
            "gridcolor": "white",
            "linecolor": "white",
            "ticks": ""
           }
          },
          "scene": {
           "xaxis": {
            "backgroundcolor": "#E5ECF6",
            "gridcolor": "white",
            "gridwidth": 2,
            "linecolor": "white",
            "showbackground": true,
            "ticks": "",
            "zerolinecolor": "white"
           },
           "yaxis": {
            "backgroundcolor": "#E5ECF6",
            "gridcolor": "white",
            "gridwidth": 2,
            "linecolor": "white",
            "showbackground": true,
            "ticks": "",
            "zerolinecolor": "white"
           },
           "zaxis": {
            "backgroundcolor": "#E5ECF6",
            "gridcolor": "white",
            "gridwidth": 2,
            "linecolor": "white",
            "showbackground": true,
            "ticks": "",
            "zerolinecolor": "white"
           }
          },
          "shapedefaults": {
           "line": {
            "color": "#2a3f5f"
           }
          },
          "ternary": {
           "aaxis": {
            "gridcolor": "white",
            "linecolor": "white",
            "ticks": ""
           },
           "baxis": {
            "gridcolor": "white",
            "linecolor": "white",
            "ticks": ""
           },
           "bgcolor": "#E5ECF6",
           "caxis": {
            "gridcolor": "white",
            "linecolor": "white",
            "ticks": ""
           }
          },
          "title": {
           "x": 0.05
          },
          "xaxis": {
           "automargin": true,
           "gridcolor": "white",
           "linecolor": "white",
           "ticks": "",
           "title": {
            "standoff": 15
           },
           "zerolinecolor": "white",
           "zerolinewidth": 2
          },
          "yaxis": {
           "automargin": true,
           "gridcolor": "white",
           "linecolor": "white",
           "ticks": "",
           "title": {
            "standoff": 15
           },
           "zerolinecolor": "white",
           "zerolinewidth": 2
          }
         }
        },
        "xaxis": {
         "anchor": "y",
         "domain": [
          0,
          1
         ],
         "title": {
          "text": "tsne_1"
         }
        },
        "yaxis": {
         "anchor": "x",
         "domain": [
          0,
          1
         ],
         "title": {
          "text": "tsne_2"
         }
        }
       }
      },
      "text/html": [
       "<div>                        <script type=\"text/javascript\">window.PlotlyConfig = {MathJaxConfig: 'local'};</script>\n",
       "        <script charset=\"utf-8\" src=\"https://cdn.plot.ly/plotly-2.34.0.min.js\"></script>                <div id=\"21481aca-257d-447a-aefb-380883f629b1\" class=\"plotly-graph-div\" style=\"height:100%; width:100%;\"></div>            <script type=\"text/javascript\">                                    window.PLOTLYENV=window.PLOTLYENV || {};                                    if (document.getElementById(\"21481aca-257d-447a-aefb-380883f629b1\")) {                    Plotly.newPlot(                        \"21481aca-257d-447a-aefb-380883f629b1\",                        [{\"customdata\":[[1,\"Toy Story (1995)\",452],[2,\"GoldenEye (1995)\",131],[3,\"Four Rooms (1995)\",90],[4,\"Get Shorty (1995)\",209],[5,\"Copycat (1995)\",86],[6,\"Shanghai Triad (Yao a yao yao dao waipo qiao) (1995)\",26],[7,\"Twelve Monkeys (1995)\",392],[8,\"Babe (1995)\",219],[9,\"Dead Man Walking (1995)\",299],[10,\"Richard III (1995)\",89],[11,\"Seven (Se7en) (1995)\",236],[12,\"Usual Suspects, The (1995)\",267],[13,\"Mighty Aphrodite (1995)\",184],[14,\"Postino, Il (1994)\",183],[15,\"Mr. Holland's Opus (1995)\",293],[16,\"French Twist (Gazon maudit) (1995)\",39],[17,\"From Dusk Till Dawn (1996)\",92],[18,\"White Balloon, The (1995)\",10],[19,\"Antonia's Line (1995)\",69],[20,\"Angels and Insects (1995)\",72],[21,\"Muppet Treasure Island (1996)\",84],[22,\"Braveheart (1995)\",297],[23,\"Taxi Driver (1976)\",182],[24,\"Rumble in the Bronx (1995)\",174],[25,\"Birdcage, The (1996)\",293],[26,\"Brothers McMullen, The (1995)\",73],[27,\"Bad Boys (1995)\",57],[28,\"Apollo 13 (1995)\",276],[29,\"Batman Forever (1995)\",114],[30,\"Belle de jour (1967)\",37],[31,\"Crimson Tide (1995)\",154],[32,\"Crumb (1994)\",81],[33,\"Desperado (1995)\",97],[34,\"Doom Generation, The (1995)\",7],[35,\"Free Willy 2: The Adventure Home (1995)\",11],[36,\"Mad Love (1995)\",13],[37,\"Nadja (1994)\",8],[38,\"Net, The (1995)\",120],[39,\"Strange Days (1995)\",87],[40,\"To Wong Foo, Thanks for Everything! Julie Newmar (1995)\",57],[41,\"Billy Madison (1995)\",37],[42,\"Clerks (1994)\",148],[43,\"Disclosure (1994)\",40],[44,\"Dolores Claiborne (1994)\",79],[45,\"Eat Drink Man Woman (1994)\",80],[46,\"Exotica (1994)\",27],[47,\"Ed Wood (1994)\",133],[48,\"Hoop Dreams (1994)\",117],[49,\"I.Q. (1994)\",81],[50,\"Star Wars (1977)\",583],[51,\"Legends of the Fall (1994)\",81],[52,\"Madness of King George, The (1994)\",91],[53,\"Natural Born Killers (1994)\",128],[54,\"Outbreak (1995)\",104],[55,\"Professional, The (1994)\",149],[56,\"Pulp Fiction (1994)\",394],[57,\"Priest (1994)\",40],[58,\"Quiz Show (1994)\",175],[59,\"Three Colors: Red (1994)\",83],[60,\"Three Colors: Blue (1993)\",64],[61,\"Three Colors: White (1994)\",59],[62,\"Stargate (1994)\",127],[63,\"Santa Clause, The (1994)\",82],[64,\"Shawshank Redemption, The (1994)\",283],[65,\"What's Eating Gilbert Grape (1993)\",115],[66,\"While You Were Sleeping (1995)\",162],[67,\"Ace Ventura: Pet Detective (1994)\",103],[68,\"Crow, The (1994)\",134],[69,\"Forrest Gump (1994)\",321],[70,\"Four Weddings and a Funeral (1994)\",251],[71,\"Lion King, The (1994)\",220],[72,\"Mask, The (1994)\",129],[73,\"Maverick (1994)\",128],[74,\"Faster Pussycat! Kill! Kill! (1965)\",7],[75,\"Brother Minister: The Assassination of Malcolm X (1994)\",5],[76,\"Carlito's Way (1993)\",54],[77,\"Firm, The (1993)\",151],[78,\"Free Willy (1993)\",33],[79,\"Fugitive, The (1993)\",336],[80,\"Hot Shots! Part Deux (1993)\",68],[81,\"Hudsucker Proxy, The (1994)\",110],[82,\"Jurassic Park (1993)\",261],[83,\"Much Ado About Nothing (1993)\",176],[84,\"Robert A. Heinlein's The Puppet Masters (1994)\",18],[85,\"Ref, The (1994)\",58],[86,\"Remains of the Day, The (1993)\",150],[87,\"Searching for Bobby Fischer (1993)\",138],[88,\"Sleepless in Seattle (1993)\",213],[89,\"Blade Runner (1982)\",275],[90,\"So I Married an Axe Murderer (1993)\",95],[91,\"Nightmare Before Christmas, The (1993)\",143],[92,\"True Romance (1993)\",104],[93,\"Welcome to the Dollhouse (1995)\",112],[94,\"Home Alone (1990)\",137],[95,\"Aladdin (1992)\",219],[96,\"Terminator 2: Judgment Day (1991)\",295],[97,\"Dances with Wolves (1990)\",256],[98,\"Silence of the Lambs, The (1991)\",390],[99,\"Snow White and the Seven Dwarfs (1937)\",172],[100,\"Fargo (1996)\",508],[101,\"Heavy Metal (1981)\",73],[102,\"Aristocats, The (1970)\",54],[103,\"All Dogs Go to Heaven 2 (1996)\",15],[104,\"Theodore Rex (1995)\",5],[105,\"Sgt. Bilko (1996)\",74],[106,\"Diabolique (1996)\",71],[107,\"Moll Flanders (1996)\",42],[108,\"Kids in the Hall: Brain Candy (1996)\",65],[109,\"Mystery Science Theater 3000: The Movie (1996)\",130],[110,\"Operation Dumbo Drop (1995)\",31],[111,\"Truth About Cats & Dogs, The (1996)\",272],[112,\"Flipper (1996)\",20],[113,\"Horseman on the Roof, The (Hussard sur le toit, Le) (1995)\",9],[114,\"Wallace & Gromit: The Best of Aardman Animation (1996)\",67],[115,\"Haunted World of Edward D. Wood Jr., The (1995)\",15],[116,\"Cold Comfort Farm (1995)\",125],[117,\"Rock, The (1996)\",378],[118,\"Twister (1996)\",293],[119,\"Maya Lin: A Strong Clear Vision (1994)\",4],[120,\"Striptease (1996)\",67],[121,\"Independence Day (ID4) (1996)\",429],[122,\"Cable Guy, The (1996)\",106],[123,\"Frighteners, The (1996)\",115],[124,\"Lone Star (1996)\",187],[125,\"Phenomenon (1996)\",244],[126,\"Spitfire Grill, The (1996)\",97],[127,\"Godfather, The (1972)\",413],[128,\"Supercop (1992)\",65],[129,\"Bound (1996)\",129],[130,\"Kansas City (1996)\",23],[131,\"Breakfast at Tiffany's (1961)\",95],[132,\"Wizard of Oz, The (1939)\",246],[133,\"Gone with the Wind (1939)\",171],[134,\"Citizen Kane (1941)\",198],[135,\"2001: A Space Odyssey (1968)\",259],[136,\"Mr. Smith Goes to Washington (1939)\",105],[137,\"Big Night (1996)\",171],[138,\"D3: The Mighty Ducks (1996)\",19],[139,\"Love Bug, The (1969)\",50],[140,\"Homeward Bound: The Incredible Journey (1993)\",61],[141,\"20,000 Leagues Under the Sea (1954)\",72],[142,\"Bedknobs and Broomsticks (1971)\",57],[143,\"Sound of Music, The (1965)\",222],[144,\"Die Hard (1988)\",243],[145,\"Lawnmower Man, The (1992)\",65],[146,\"Unhook the Stars (1996)\",10],[147,\"Long Kiss Goodnight, The (1996)\",185],[148,\"Ghost and the Darkness, The (1996)\",128],[149,\"Jude (1996)\",23],[150,\"Swingers (1996)\",157],[151,\"Willy Wonka and the Chocolate Factory (1971)\",326],[152,\"Sleeper (1973)\",82],[153,\"Fish Called Wanda, A (1988)\",247],[154,\"Monty Python's Life of Brian (1979)\",174],[155,\"Dirty Dancing (1987)\",98],[156,\"Reservoir Dogs (1992)\",148],[157,\"Platoon (1986)\",127],[158,\"Weekend at Bernie's (1989)\",60],[159,\"Basic Instinct (1992)\",101],[160,\"Glengarry Glen Ross (1992)\",69],[161,\"Top Gun (1986)\",220],[162,\"On Golden Pond (1981)\",106],[163,\"Return of the Pink Panther, The (1974)\",92],[164,\"Abyss, The (1989)\",151],[165,\"Jean de Florette (1986)\",64],[166,\"Manon of the Spring (Manon des sources) (1986)\",58],[167,\"Private Benjamin (1980)\",67],[168,\"Monty Python and the Holy Grail (1974)\",316],[169,\"Wrong Trousers, The (1993)\",118],[170,\"Cinema Paradiso (1988)\",121],[171,\"Delicatessen (1991)\",65],[172,\"Empire Strikes Back, The (1980)\",367],[173,\"Princess Bride, The (1987)\",324],[174,\"Raiders of the Lost Ark (1981)\",420],[175,\"Brazil (1985)\",208],[176,\"Aliens (1986)\",284],[177,\"Good, The Bad and The Ugly, The (1966)\",137],[178,\"12 Angry Men (1957)\",125],[179,\"Clockwork Orange, A (1971)\",221],[180,\"Apocalypse Now (1979)\",221],[181,\"Return of the Jedi (1983)\",507],[182,\"GoodFellas (1990)\",226],[183,\"Alien (1979)\",291],[184,\"Army of Darkness (1993)\",116],[185,\"Psycho (1960)\",239],[186,\"Blues Brothers, The (1980)\",251],[187,\"Godfather: Part II, The (1974)\",209],[188,\"Full Metal Jacket (1987)\",170],[189,\"Grand Day Out, A (1992)\",66],[190,\"Henry V (1989)\",124],[191,\"Amadeus (1984)\",276],[192,\"Raging Bull (1980)\",116],[193,\"Right Stuff, The (1983)\",157],[194,\"Sting, The (1973)\",241],[195,\"Terminator, The (1984)\",301],[196,\"Dead Poets Society (1989)\",251],[197,\"Graduate, The (1967)\",239],[198,\"Nikita (La Femme Nikita) (1990)\",127],[199,\"Bridge on the River Kwai, The (1957)\",165],[200,\"Shining, The (1980)\",206],[201,\"Evil Dead II (1987)\",89],[202,\"Groundhog Day (1993)\",280],[203,\"Unforgiven (1992)\",182],[204,\"Back to the Future (1985)\",350],[205,\"Patton (1970)\",136],[206,\"Akira (1988)\",50],[207,\"Cyrano de Bergerac (1990)\",66],[208,\"Young Frankenstein (1974)\",200],[209,\"This Is Spinal Tap (1984)\",191],[210,\"Indiana Jones and the Last Crusade (1989)\",331],[211,\"M*A*S*H (1970)\",206],[212,\"Unbearable Lightness of Being, The (1988)\",92],[213,\"Room with a View, A (1986)\",134],[214,\"Pink Floyd - The Wall (1982)\",114],[215,\"Field of Dreams (1989)\",212],[216,\"When Harry Met Sally... (1989)\",290],[217,\"Bram Stoker's Dracula (1992)\",120],[218,\"Cape Fear (1991)\",171],[219,\"Nightmare on Elm Street, A (1984)\",111],[220,\"Mirror Has Two Faces, The (1996)\",66],[221,\"Breaking the Waves (1996)\",74],[222,\"Star Trek: First Contact (1996)\",365],[223,\"Sling Blade (1996)\",136],[224,\"Ridicule (1996)\",44],[225,\"101 Dalmatians (1996)\",109],[226,\"Die Hard 2 (1990)\",166],[227,\"Star Trek VI: The Undiscovered Country (1991)\",161],[228,\"Star Trek: The Wrath of Khan (1982)\",244],[229,\"Star Trek III: The Search for Spock (1984)\",171],[230,\"Star Trek IV: The Voyage Home (1986)\",199],[231,\"Batman Returns (1992)\",142],[232,\"Young Guns (1988)\",101],[233,\"Under Siege (1992)\",124],[234,\"Jaws (1975)\",280],[235,\"Mars Attacks! (1996)\",217],[236,\"Citizen Ruth (1996)\",45],[237,\"Jerry Maguire (1996)\",384],[238,\"Raising Arizona (1987)\",256],[239,\"Sneakers (1992)\",150],[240,\"Beavis and Butt-head Do America (1996)\",156],[241,\"Last of the Mohicans, The (1992)\",128],[242,\"Kolya (1996)\",117],[243,\"Jungle2Jungle (1997)\",132],[244,\"Smilla's Sense of Snow (1997)\",48],[245,\"Devil's Own, The (1997)\",240],[246,\"Chasing Amy (1997)\",124],[247,\"Turbo: A Power Rangers Movie (1997)\",5],[248,\"Grosse Pointe Blank (1997)\",160],[249,\"Austin Powers: International Man of Mystery (1997)\",130],[250,\"Fifth Element, The (1997)\",197],[251,\"Shall We Dance? (1996)\",46],[252,\"Lost World: Jurassic Park, The (1997)\",158],[253,\"Pillow Book, The (1995)\",26],[254,\"Batman & Robin (1997)\",62],[255,\"My Best Friend's Wedding (1997)\",172],[256,\"When the Cats Away (Chacun cherche son chat) (1996)\",16],[257,\"Men in Black (1997)\",303],[258,\"Contact (1997)\",509],[259,\"George of the Jungle (1997)\",162],[260,\"Event Horizon (1997)\",127],[261,\"Air Bud (1997)\",43],[262,\"In the Company of Men (1997)\",66],[263,\"Steel (1997)\",19],[264,\"Mimic (1997)\",101],[265,\"Hunt for Red October, The (1990)\",227],[266,\"Kull the Conqueror (1997)\",35],[267,\"unknown\",9],[268,\"Chasing Amy (1997)\",255],[269,\"Full Monty, The (1997)\",315],[270,\"Gattaca (1997)\",136],[271,\"Starship Troopers (1997)\",211],[272,\"Good Will Hunting (1997)\",198],[273,\"Heat (1995)\",223],[274,\"Sabrina (1995)\",190],[275,\"Sense and Sensibility (1995)\",268],[276,\"Leaving Las Vegas (1995)\",298],[277,\"Restoration (1995)\",71],[278,\"Bed of Roses (1996)\",60],[279,\"Once Upon a Time... When We Were Colored (1995)\",28],[280,\"Up Close and Personal (1996)\",85],[281,\"River Wild, The (1994)\",146],[282,\"Time to Kill, A (1996)\",232],[283,\"Emma (1996)\",177],[284,\"Tin Cup (1996)\",193],[285,\"Secrets & Lies (1996)\",162],[286,\"English Patient, The (1996)\",481],[287,\"Marvin's Room (1996)\",78],[288,\"Scream (1996)\",478],[289,\"Evita (1996)\",259],[290,\"Fierce Creatures (1997)\",96],[291,\"Absolute Power (1997)\",127],[292,\"Rosewood (1997)\",114],[293,\"Donnie Brasco (1997)\",147],[294,\"Liar Liar (1997)\",485],[295,\"Breakdown (1997)\",77],[296,\"Promesse, La (1996)\",6],[297,\"Ulee's Gold (1997)\",50],[298,\"Face\\u002fOff (1997)\",194],[299,\"Hoodlum (1997)\",73],[300,\"Air Force One (1997)\",431],[301,\"In & Out (1997)\",230],[302,\"L.A. Confidential (1997)\",297],[303,\"Ulee's Gold (1997)\",134],[304,\"Fly Away Home (1996)\",149],[305,\"Ice Storm, The (1997)\",87],[306,\"Mrs. Brown (Her Majesty, Mrs. Brown) (1997)\",96],[307,\"Devil's Advocate, The (1997)\",188],[308,\"FairyTale: A True Story (1997)\",30],[309,\"Deceiver (1997)\",28],[310,\"Rainmaker, The (1997)\",145],[311,\"Wings of the Dove, The (1997)\",75],[312,\"Midnight in the Garden of Good and Evil (1997)\",80],[313,\"Titanic (1997)\",350],[314,\"3 Ninjas: High Noon At Mega Mountain (1998)\",5],[315,\"Apt Pupil (1998)\",160],[316,\"As Good As It Gets (1997)\",112],[317,\"In the Name of the Father (1993)\",102],[318,\"Schindler's List (1993)\",298],[319,\"Everyone Says I Love You (1996)\",168],[320,\"Paradise Lost: The Child Murders at Robin Hood Hills (1996)\",20],[321,\"Mother (1996)\",169],[322,\"Murder at 1600 (1997)\",218],[323,\"Dante's Peak (1997)\",240],[324,\"Lost Highway (1997)\",125],[325,\"Crash (1996)\",128],[326,\"G.I. Jane (1997)\",175],[327,\"Cop Land (1997)\",175],[328,\"Conspiracy Theory (1997)\",295],[329,\"Desperate Measures (1998)\",45],[330,\"187 (1997)\",41],[331,\"Edge, The (1997)\",113],[332,\"Kiss the Girls (1997)\",143],[333,\"Game, The (1997)\",251],[334,\"U Turn (1997)\",64],[335,\"How to Be a Player (1997)\",21],[336,\"Playing God (1997)\",43],[337,\"House of Yes, The (1997)\",18],[338,\"Bean (1997)\",91],[339,\"Mad City (1997)\",47],[340,\"Boogie Nights (1997)\",189],[341,\"Critical Care (1997)\",11],[342,\"Man Who Knew Too Little, The (1997)\",52],[343,\"Alien: Resurrection (1997)\",124],[344,\"Apostle, The (1997)\",55],[345,\"Deconstructing Harry (1997)\",65],[346,\"Jackie Brown (1997)\",126],[347,\"Wag the Dog (1997)\",137],[348,\"Desperate Measures (1998)\",27],[349,\"Hard Rain (1998)\",31],[350,\"Fallen (1998)\",41],[351,\"Prophecy II, The (1998)\",20],[352,\"Spice World (1997)\",26],[353,\"Deep Rising (1998)\",14],[354,\"Wedding Singer, The (1998)\",72],[355,\"Sphere (1998)\",41],[356,\"Client, The (1994)\",97],[357,\"One Flew Over the Cuckoo's Nest (1975)\",264],[358,\"Spawn (1997)\",143],[359,\"Assignment, The (1997)\",18],[360,\"Wonderland (1997)\",10],[361,\"Incognito (1997)\",10],[362,\"Blues Brothers 2000 (1998)\",28],[363,\"Sudden Death (1995)\",47],[364,\"Ace Ventura: When Nature Calls (1995)\",37],[365,\"Powder (1995)\",48],[366,\"Dangerous Minds (1995)\",47],[367,\"Clueless (1995)\",170],[368,\"Bio-Dome (1996)\",31],[369,\"Black Sheep (1996)\",55],[370,\"Mary Reilly (1996)\",39],[371,\"Bridges of Madison County, The (1995)\",67],[372,\"Jeffrey (1995)\",34],[373,\"Judge Dredd (1995)\",39],[374,\"Mighty Morphin Power Rangers: The Movie (1995)\",11],[375,\"Showgirls (1995)\",23],[376,\"Houseguest (1994)\",24],[377,\"Heavyweights (1994)\",13],[378,\"Miracle on 34th Street (1994)\",101],[379,\"Tales From the Crypt Presents: Demon Knight (1995)\",43],[380,\"Star Trek: Generations (1994)\",116],[381,\"Muriel's Wedding (1994)\",100],[382,\"Adventures of Priscilla, Queen of the Desert, The (1994)\",111],[383,\"Flintstones, The (1994)\",31],[384,\"Naked Gun 33 1\\u002f3: The Final Insult (1994)\",69],[385,\"True Lies (1994)\",208],[386,\"Addams Family Values (1993)\",87],[387,\"Age of Innocence, The (1993)\",65],[388,\"Beverly Hills Cop III (1994)\",28],[389,\"Black Beauty (1994)\",27],[390,\"Fear of a Black Hat (1993)\",10],[391,\"Last Action Hero (1993)\",59],[392,\"Man Without a Face, The (1993)\",68],[393,\"Mrs. Doubtfire (1993)\",192],[394,\"Radioland Murders (1994)\",12],[395,\"Robin Hood: Men in Tights (1993)\",56],[396,\"Serial Mom (1994)\",54],[397,\"Striking Distance (1993)\",12],[398,\"Super Mario Bros. (1993)\",26],[399,\"Three Musketeers, The (1993)\",89],[400,\"Little Rascals, The (1994)\",18],[401,\"Brady Bunch Movie, The (1995)\",76],[402,\"Ghost (1990)\",170],[403,\"Batman (1989)\",201],[404,\"Pinocchio (1940)\",101],[405,\"Mission: Impossible (1996)\",344],[406,\"Thinner (1996)\",49],[407,\"Spy Hard (1996)\",43],[408,\"Close Shave, A (1995)\",112],[409,\"Jack (1996)\",70],[410,\"Kingpin (1996)\",162],[411,\"Nutty Professor, The (1996)\",163],[412,\"Very Brady Sequel, A (1996)\",93],[413,\"Tales from the Crypt Presents: Bordello of Blood (1996)\",55],[414,\"My Favorite Year (1982)\",62],[415,\"Apple Dumpling Gang, The (1975)\",25],[416,\"Old Yeller (1957)\",64],[417,\"Parent Trap, The (1961)\",73],[418,\"Cinderella (1950)\",129],[419,\"Mary Poppins (1964)\",178],[420,\"Alice in Wonderland (1951)\",81],[421,\"William Shakespeare's Romeo and Juliet (1996)\",106],[422,\"Aladdin and the King of Thieves (1996)\",26],[423,\"E.T. the Extra-Terrestrial (1982)\",300],[424,\"Children of the Corn: The Gathering (1996)\",19],[425,\"Bob Roberts (1992)\",85],[426,\"Transformers: The Movie, The (1986)\",32],[427,\"To Kill a Mockingbird (1962)\",219],[428,\"Harold and Maude (1971)\",121],[429,\"Day the Earth Stood Still, The (1951)\",97],[430,\"Duck Soup (1933)\",93],[431,\"Highlander (1986)\",153],[432,\"Fantasia (1940)\",174],[433,\"Heathers (1989)\",171],[434,\"Forbidden Planet (1956)\",67],[435,\"Butch Cassidy and the Sundance Kid (1969)\",216],[436,\"American Werewolf in London, An (1981)\",99],[437,\"Amityville 1992: It's About Time (1992)\",5],[438,\"Amityville 3-D (1983)\",6],[439,\"Amityville: A New Generation (1993)\",5],[440,\"Amityville II: The Possession (1982)\",14],[441,\"Amityville Horror, The (1979)\",53],[442,\"Amityville Curse, The (1990)\",4],[443,\"Birds, The (1963)\",162],[444,\"Blob, The (1958)\",46],[445,\"Body Snatcher, The (1945)\",22],[446,\"Burnt Offerings (1976)\",9],[447,\"Carrie (1976)\",121],[448,\"Omen, The (1976)\",85],[449,\"Star Trek: The Motion Picture (1979)\",117],[450,\"Star Trek V: The Final Frontier (1989)\",63],[451,\"Grease (1978)\",170],[452,\"Jaws 2 (1978)\",66],[453,\"Jaws 3-D (1983)\",16],[454,\"Bastard Out of Carolina (1996)\",16],[455,\"Jackie Chan's First Strike (1996)\",145],[456,\"Beverly Hills Ninja (1997)\",48],[457,\"Free Willy 3: The Rescue (1997)\",27],[458,\"Nixon (1995)\",90],[459,\"Cry, the Beloved Country (1995)\",24],[460,\"Crossing Guard, The (1995)\",28],[461,\"Smoke (1995)\",74],[462,\"Like Water For Chocolate (Como agua para chocolate) (1992)\",148],[463,\"Secret of Roan Inish, The (1994)\",71],[464,\"Vanya on 42nd Street (1994)\",27],[465,\"Jungle Book, The (1994)\",85],[466,\"Red Rock West (1992)\",52],[467,\"Bronx Tale, A (1993)\",48],[468,\"Rudy (1993)\",64],[469,\"Short Cuts (1993)\",67],[470,\"Tombstone (1993)\",108],[471,\"Courage Under Fire (1996)\",221],[472,\"Dragonheart (1996)\",158],[473,\"James and the Giant Peach (1996)\",126],[474,\"Dr. Strangelove or: How I Learned to Stop Worrying and Love the Bomb (1963)\",194],[475,\"Trainspotting (1996)\",250],[476,\"First Wives Club, The (1996)\",160],[477,\"Matilda (1996)\",95],[478,\"Philadelphia Story, The (1940)\",104],[479,\"Vertigo (1958)\",179],[480,\"North by Northwest (1959)\",179],[481,\"Apartment, The (1960)\",63],[482,\"Some Like It Hot (1959)\",128],[483,\"Casablanca (1942)\",243],[484,\"Maltese Falcon, The (1941)\",138],[485,\"My Fair Lady (1964)\",125],[486,\"Sabrina (1954)\",64],[487,\"Roman Holiday (1953)\",68],[488,\"Sunset Blvd. (1950)\",65],[489,\"Notorious (1946)\",52],[490,\"To Catch a Thief (1955)\",50],[491,\"Adventures of Robin Hood, The (1938)\",67],[492,\"East of Eden (1955)\",59],[493,\"Thin Man, The (1934)\",60],[494,\"His Girl Friday (1940)\",56],[495,\"Around the World in 80 Days (1956)\",59],[496,\"It's a Wonderful Life (1946)\",231],[497,\"Bringing Up Baby (1938)\",68],[498,\"African Queen, The (1951)\",152],[499,\"Cat on a Hot Tin Roof (1958)\",62],[500,\"Fly Away Home (1996)\",31],[501,\"Dumbo (1941)\",123],[502,\"Bananas (1971)\",57],[503,\"Candidate, The (1972)\",39],[504,\"Bonnie and Clyde (1967)\",122],[505,\"Dial M for Murder (1954)\",68],[506,\"Rebel Without a Cause (1955)\",90],[507,\"Streetcar Named Desire, A (1951)\",98],[508,\"People vs. Larry Flynt, The (1996)\",215],[509,\"My Left Foot (1989)\",121],[510,\"Magnificent Seven, The (1954)\",121],[511,\"Lawrence of Arabia (1962)\",173],[512,\"Wings of Desire (1987)\",57],[513,\"Third Man, The (1949)\",72],[514,\"Annie Hall (1977)\",180],[515,\"Boot, Das (1981)\",201],[516,\"Local Hero (1983)\",63],[517,\"Manhattan (1979)\",91],[518,\"Miller's Crossing (1990)\",89],[519,\"Treasure of the Sierra Madre, The (1948)\",80],[520,\"Great Escape, The (1963)\",124],[521,\"Deer Hunter, The (1978)\",120],[522,\"Down by Law (1986)\",35],[523,\"Cool Hand Luke (1967)\",164],[524,\"Great Dictator, The (1940)\",46],[525,\"Big Sleep, The (1946)\",73],[526,\"Ben-Hur (1959)\",124],[527,\"Gandhi (1982)\",195],[528,\"Killing Fields, The (1984)\",121],[529,\"My Life as a Dog (Mitt liv som hund) (1985)\",93],[530,\"Man Who Would Be King, The (1975)\",80],[531,\"Shine (1996)\",129],[532,\"Kama Sutra: A Tale of Love (1996)\",22],[533,\"Daytrippers, The (1996)\",15],[534,\"Traveller (1997)\",13],[535,\"Addicted to Love (1997)\",54],[536,\"Ponette (1996)\",10],[537,\"My Own Private Idaho (1991)\",30],[538,\"Anastasia (1997)\",66],[539,\"Mouse Hunt (1997)\",44],[540,\"Money Train (1995)\",43],[541,\"Mortal Kombat (1995)\",49],[542,\"Pocahontas (1995)\",51],[543,\"Mis\\u00e9rables, Les (1995)\",21],[544,\"Things to Do in Denver when You're Dead (1995)\",71],[545,\"Vampire in Brooklyn (1995)\",12],[546,\"Broken Arrow (1996)\",254],[547,\"Young Poisoner's Handbook, The (1995)\",41],[548,\"NeverEnding Story III, The (1994)\",12],[549,\"Rob Roy (1995)\",92],[550,\"Die Hard: With a Vengeance (1995)\",151],[551,\"Lord of Illusions (1995)\",24],[552,\"Species (1995)\",45],[553,\"Walk in the Clouds, A (1995)\",63],[554,\"Waterworld (1995)\",102],[555,\"White Man's Burden (1995)\",10],[556,\"Wild Bill (1995)\",12],[557,\"Farinelli: il castrato (1994)\",17],[558,\"Heavenly Creatures (1994)\",70],[559,\"Interview with the Vampire (1994)\",137],[560,\"Kid in King Arthur's Court, A (1995)\",22],[561,\"Mary Shelley's Frankenstein (1994)\",59],[562,\"Quick and the Dead, The (1995)\",48],[563,\"Stephen King's The Langoliers (1995)\",29],[564,\"Tales from the Hood (1995)\",27],[565,\"Village of the Damned (1995)\",22],[566,\"Clear and Present Danger (1994)\",179],[567,\"Wes Craven's New Nightmare (1994)\",35],[568,\"Speed (1994)\",230],[569,\"Wolf (1994)\",67],[570,\"Wyatt Earp (1994)\",50],[571,\"Another Stakeout (1993)\",28],[572,\"Blown Away (1994)\",29],[573,\"Body Snatchers (1993)\",33],[574,\"Boxing Helena (1993)\",15],[575,\"City Slickers II: The Legend of Curly's Gold (1994)\",44],[576,\"Cliffhanger (1993)\",93],[577,\"Coneheads (1993)\",41],[578,\"Demolition Man (1993)\",92],[579,\"Fatal Instinct (1993)\",19],[580,\"Englishman Who Went Up a Hill, But Came Down a Mountain, The (1995)\",32],[581,\"Kalifornia (1993)\",59],[582,\"Piano, The (1993)\",168],[583,\"Romeo Is Bleeding (1993)\",37],[584,\"Secret Garden, The (1993)\",79],[585,\"Son in Law (1993)\",39],[586,\"Terminal Velocity (1994)\",34],[587,\"Hour of the Pig, The (1993)\",14],[588,\"Beauty and the Beast (1991)\",202],[589,\"Wild Bunch, The (1969)\",43],[590,\"Hellraiser: Bloodline (1996)\",18],[591,\"Primal Fear (1996)\",178],[592,\"True Crime (1995)\",9],[593,\"Stalingrad (1993)\",12],[594,\"Heavy (1995)\",5],[595,\"Fan, The (1996)\",64],[596,\"Hunchback of Notre Dame, The (1996)\",127],[597,\"Eraser (1996)\",206],[598,\"Big Squeeze, The (1996)\",4],[599,\"Police Story 4: Project S (Chao ji ji hua) (1993)\",1],[600,\"Daniel Defoe's Robinson Crusoe (1996)\",2],[601,\"For Whom the Bell Tolls (1943)\",20],[602,\"American in Paris, An (1951)\",50],[603,\"Rear Window (1954)\",209],[604,\"It Happened One Night (1934)\",81],[605,\"Meet Me in St. Louis (1944)\",31],[606,\"All About Eve (1950)\",66],[607,\"Rebecca (1940)\",66],[608,\"Spellbound (1945)\",30],[609,\"Father of the Bride (1950)\",60],[610,\"Gigi (1958)\",41],[611,\"Laura (1944)\",40],[612,\"Lost Horizon (1937)\",34],[613,\"My Man Godfrey (1936)\",27],[614,\"Giant (1956)\",51],[615,\"39 Steps, The (1935)\",59],[616,\"Night of the Living Dead (1968)\",64],[617,\"Blue Angel, The (Blaue Engel, Der) (1930)\",18],[618,\"Picnic (1955)\",18],[619,\"Extreme Measures (1996)\",64],[620,\"Chamber, The (1996)\",43],[621,\"Davy Crockett, King of the Wild Frontier (1955)\",11],[622,\"Swiss Family Robinson (1960)\",39],[623,\"Angels in the Outfield (1994)\",39],[624,\"Three Caballeros, The (1945)\",22],[625,\"Sword in the Stone, The (1963)\",82],[626,\"So Dear to My Heart (1949)\",4],[627,\"Robin Hood: Prince of Thieves (1991)\",75],[628,\"Sleepers (1996)\",169],[629,\"Victor\\u002fVictoria (1982)\",77],[630,\"Great Race, The (1965)\",31],[631,\"Crying Game, The (1992)\",119],[632,\"Sophie's Choice (1982)\",58],[633,\"Christmas Carol, A (1938)\",69],[634,\"Microcosmos: Le peuple de l'herbe (1996)\",24],[635,\"Fog, The (1980)\",23],[636,\"Escape from New York (1981)\",91],[637,\"Howling, The (1981)\",38],[638,\"Return of Martin Guerre, The (Retour de Martin Guerre, Le) (1982)\",44],[639,\"Tin Drum, The (Blechtrommel, Die) (1979)\",40],[640,\"Cook the Thief His Wife & Her Lover, The (1989)\",82],[641,\"Paths of Glory (1957)\",33],[642,\"Grifters, The (1990)\",89],[643,\"The Innocent (1994)\",4],[644,\"Thin Blue Line, The (1988)\",35],[645,\"Paris Is Burning (1990)\",27],[646,\"Once Upon a Time in the West (1969)\",38],[647,\"Ran (1985)\",70],[648,\"Quiet Man, The (1952)\",67],[649,\"Once Upon a Time in America (1984)\",50],[650,\"Seventh Seal, The (Sjunde inseglet, Det) (1957)\",72],[651,\"Glory (1989)\",171],[652,\"Rosencrantz and Guildenstern Are Dead (1990)\",90],[653,\"Touch of Evil (1958)\",34],[654,\"Chinatown (1974)\",147],[655,\"Stand by Me (1986)\",227],[656,\"M (1931)\",44],[657,\"Manchurian Candidate, The (1962)\",131],[658,\"Pump Up the Volume (1990)\",79],[659,\"Arsenic and Old Lace (1944)\",115],[660,\"Fried Green Tomatoes (1991)\",153],[661,\"High Noon (1952)\",88],[662,\"Somewhere in Time (1980)\",82],[663,\"Being There (1979)\",116],[664,\"Paris, Texas (1984)\",46],[665,\"Alien 3 (1992)\",100],[666,\"Blood For Dracula (Andy Warhol's Dracula) (1974)\",5],[667,\"Audrey Rose (1977)\",12],[668,\"Blood Beach (1981)\",6],[669,\"Body Parts (1991)\",13],[670,\"Body Snatchers (1993)\",36],[671,\"Bride of Frankenstein (1935)\",46],[672,\"Candyman (1992)\",65],[673,\"Cape Fear (1962)\",86],[674,\"Cat People (1982)\",48],[675,\"Nosferatu (Nosferatu, eine Symphonie des Grauens) (1922)\",54],[676,\"Crucible, The (1996)\",77],[677,\"Fire on the Mountain (1996)\",1],[678,\"Volcano (1997)\",219],[679,\"Conan the Barbarian (1981)\",107],[680,\"Kull the Conqueror (1997)\",34],[681,\"Wishmaster (1997)\",27],[682,\"I Know What You Did Last Summer (1997)\",100],[683,\"Rocket Man (1997)\",49],[684,\"In the Line of Fire (1993)\",169],[685,\"Executive Decision (1996)\",157],[686,\"Perfect World, A (1993)\",50],[687,\"McHale's Navy (1997)\",69],[688,\"Leave It to Beaver (1997)\",44],[689,\"Jackal, The (1997)\",87],[690,\"Seven Years in Tibet (1997)\",155],[691,\"Dark City (1998)\",16],[692,\"American President, The (1995)\",164],[693,\"Casino (1995)\",91],[694,\"Persuasion (1995)\",44],[695,\"Kicking and Screaming (1995)\",13],[696,\"City Hall (1996)\",79],[697,\"Basketball Diaries, The (1995)\",40],[698,\"Browning Version, The (1994)\",10],[699,\"Little Women (1994)\",102],[700,\"Miami Rhapsody (1995)\",15],[701,\"Wonderful, Horrible Life of Leni Riefenstahl, The (1993)\",10],[702,\"Barcelona (1994)\",53],[703,\"Widows' Peak (1994)\",19],[704,\"House of the Spirits, The (1993)\",24],[705,\"Singin' in the Rain (1952)\",137],[706,\"Bad Moon (1996)\",6],[707,\"Enchanted April (1991)\",70],[708,\"Sex, Lies, and Videotape (1989)\",101],[709,\"Strictly Ballroom (1992)\",104],[710,\"Better Off Dead... (1985)\",79],[711,\"Substance of Fire, The (1996)\",1],[712,\"Tin Men (1987)\",51],[713,\"Othello (1995)\",72],[714,\"Carrington (1995)\",13],[715,\"To Die For (1995)\",87],[716,\"Home for the Holidays (1995)\",58],[717,\"Juror, The (1996)\",82],[718,\"In the Bleak Midwinter (1995)\",16],[719,\"Canadian Bacon (1994)\",29],[720,\"First Knight (1995)\",86],[721,\"Mallrats (1995)\",54],[722,\"Nine Months (1995)\",58],[723,\"Boys on the Side (1995)\",34],[724,\"Circle of Friends (1995)\",76],[725,\"Exit to Eden (1994)\",16],[726,\"Fluke (1995)\",14],[727,\"Immortal Beloved (1994)\",63],[728,\"Junior (1994)\",45],[729,\"Nell (1994)\",81],[730,\"Queen Margot (Reine Margot, La) (1994)\",24],[731,\"Corrina, Corrina (1994)\",39],[732,\"Dave (1993)\",180],[733,\"Go Fish (1994)\",15],[734,\"Made in America (1993)\",27],[735,\"Philadelphia (1993)\",137],[736,\"Shadowlands (1993)\",78],[737,\"Sirens (1994)\",59],[738,\"Threesome (1994)\",31],[739,\"Pretty Woman (1990)\",164],[740,\"Jane Eyre (1996)\",63],[741,\"Last Supper, The (1995)\",58],[742,\"Ransom (1996)\",267],[743,\"Crow: City of Angels, The (1996)\",39],[744,\"Michael Collins (1996)\",92],[745,\"Ruling Class, The (1972)\",16],[746,\"Real Genius (1985)\",119],[747,\"Benny & Joon (1993)\",102],[748,\"Saint, The (1997)\",316],[749,\"MatchMaker, The (1997)\",51],[750,\"Amistad (1997)\",124],[751,\"Tomorrow Never Dies (1997)\",180],[752,\"Replacement Killers, The (1998)\",39],[753,\"Burnt By the Sun (1994)\",24],[754,\"Red Corner (1997)\",57],[755,\"Jumanji (1995)\",96],[756,\"Father of the Bride Part II (1995)\",128],[757,\"Across the Sea of Time (1995)\",4],[758,\"Lawnmower Man 2: Beyond Cyberspace (1996)\",21],[759,\"Fair Game (1995)\",11],[760,\"Screamers (1995)\",46],[761,\"Nick of Time (1995)\",44],[762,\"Beautiful Girls (1996)\",115],[763,\"Happy Gilmore (1996)\",149],[764,\"If Lucy Fell (1996)\",29],[765,\"Boomerang (1992)\",32],[766,\"Man of the Year (1995)\",9],[767,\"Addiction, The (1995)\",11],[768,\"Casper (1995)\",52],[769,\"Congo (1995)\",42],[770,\"Devil in a Blue Dress (1995)\",57],[771,\"Johnny Mnemonic (1995)\",41],[772,\"Kids (1995)\",49],[773,\"Mute Witness (1994)\",17],[774,\"Prophecy, The (1995)\",32],[775,\"Something to Talk About (1995)\",26],[776,\"Three Wishes (1995)\",9],[777,\"Castle Freak (1995)\",4],[778,\"Don Juan DeMarco (1995)\",76],[779,\"Drop Zone (1994)\",31],[780,\"Dumb & Dumber (1994)\",69],[781,\"French Kiss (1995)\",84],[782,\"Little Odessa (1994)\",10],[783,\"Milk Money (1994)\",37],[784,\"Beyond Bedlam (1993)\",2],[785,\"Only You (1994)\",39],[786,\"Perez Family, The (1995)\",14],[787,\"Roommates (1995)\",13],[788,\"Relative Fear (1994)\",3],[789,\"Swimming with Sharks (1995)\",47],[790,\"Tommy Boy (1995)\",66],[791,\"Baby-Sitters Club, The (1995)\",10],[792,\"Bullets Over Broadway (1994)\",86],[793,\"Crooklyn (1994)\",10],[794,\"It Could Happen to You (1994)\",46],[795,\"Richie Rich (1994)\",21],[796,\"Speechless (1994)\",36],[797,\"Timecop (1994)\",31],[798,\"Bad Company (1995)\",9],[799,\"Boys Life (1995)\",5],[800,\"In the Mouth of Madness (1995)\",26],[801,\"Air Up There, The (1994)\",16],[802,\"Hard Target (1993)\",40],[803,\"Heaven & Earth (1993)\",9],[804,\"Jimmy Hollywood (1994)\",8],[805,\"Manhattan Murder Mystery (1993)\",27],[806,\"Menace II Society (1993)\",50],[807,\"Poetic Justice (1993)\",9],[808,\"Program, The (1993)\",31],[809,\"Rising Sun (1993)\",43],[810,\"Shadow, The (1994)\",45],[811,\"Thirty-Two Short Films About Glenn Gould (1993)\",18],[812,\"Andre (1994)\",18],[813,\"Celluloid Closet, The (1995)\",56],[814,\"Great Day in Harlem, A (1994)\",1],[815,\"One Fine Day (1996)\",112],[816,\"Candyman: Farewell to the Flesh (1995)\",21],[817,\"Frisk (1995)\",3],[818,\"Girl 6 (1996)\",25],[819,\"Eddie (1996)\",40],[820,\"Space Jam (1996)\",93],[821,\"Mrs. Winterbourne (1996)\",22],[822,\"Faces (1968)\",4],[823,\"Mulholland Falls (1996)\",82],[824,\"Great White Hype, The (1996)\",49],[825,\"Arrival, The (1996)\",83],[826,\"Phantom, The (1996)\",80],[827,\"Daylight (1996)\",57],[828,\"Alaska (1996)\",13],[829,\"Fled (1996)\",34],[830,\"Power 98 (1995)\",1],[831,\"Escape from L.A. (1996)\",91],[832,\"Bogus (1996)\",22],[833,\"Bulletproof (1996)\",49],[834,\"Halloween: The Curse of Michael Myers (1995)\",25],[835,\"Gay Divorcee, The (1934)\",15],[836,\"Ninotchka (1939)\",26],[837,\"Meet John Doe (1941)\",25],[838,\"In the Line of Duty 2 (1987)\",4],[839,\"Loch Ness (1995)\",4],[840,\"Last Man Standing (1996)\",53],[841,\"Glimmer Man, The (1996)\",48],[842,\"Pollyanna (1960)\",27],[843,\"Shaggy Dog, The (1959)\",30],[844,\"Freeway (1996)\",42],[845,\"That Thing You Do! (1996)\",176],[846,\"To Gillian on Her 37th Birthday (1996)\",44],[847,\"Looking for Richard (1996)\",55],[848,\"Murder, My Sweet (1944)\",9],[849,\"Days of Thunder (1990)\",53],[850,\"Perfect Candidate, A (1996)\",4],[851,\"Two or Three Things I Know About Her (1966)\",4],[852,\"Bloody Child, The (1996)\",1],[853,\"Braindead (1992)\",14],[854,\"Bad Taste (1987)\",16],[855,\"Diva (1981)\",66],[856,\"Night on Earth (1991)\",36],[857,\"Paris Was a Woman (1995)\",1],[858,\"Amityville: Dollhouse (1996)\",3],[859,\"April Fool's Day (1986)\",15],[860,\"Believers, The (1987)\",16],[861,\"Nosferatu a Venezia (1986)\",3],[862,\"Jingle All the Way (1996)\",18],[863,\"Garden of Finzi-Contini, The (Giardino dei Finzi-Contini, Il) (1970)\",24],[864,\"My Fellow Americans (1996)\",86],[865,\"Ice Storm, The (1997)\",21],[866,\"Michael (1996)\",119],[867,\"Whole Wide World, The (1996)\",6],[868,\"Hearts and Minds (1996)\",5],[869,\"Fools Rush In (1997)\",24],[870,\"Touch (1997)\",9],[871,\"Vegas Vacation (1997)\",75],[872,\"Love Jones (1997)\",42],[873,\"Picture Perfect (1997)\",81],[874,\"Career Girls (1997)\",39],[875,\"She's So Lovely (1997)\",53],[876,\"Money Talks (1997)\",47],[877,\"Excess Baggage (1997)\",52],[878,\"That Darn Cat! (1997)\",33],[879,\"Peacemaker, The (1997)\",136],[880,\"Soul Food (1997)\",59],[881,\"Money Talks (1997)\",45],[882,\"Washington Square (1997)\",34],[883,\"Telling Lies in America (1997)\",13],[884,\"Year of the Horse (1997)\",7],[885,\"Phantoms (1998)\",13],[886,\"Life Less Ordinary, A (1997)\",53],[887,\"Eve's Bayou (1997)\",64],[888,\"One Night Stand (1997)\",15],[889,\"Tango Lesson, The (1997)\",13],[890,\"Mortal Kombat: Annihilation (1997)\",43],[891,\"Bent (1997)\",6],[892,\"Flubber (1997)\",53],[893,\"For Richer or Poorer (1997)\",14],[894,\"Home Alone 3 (1997)\",19],[895,\"Scream 2 (1997)\",106],[896,\"Sweet Hereafter, The (1997)\",44],[897,\"Time Tracers (1995)\",2],[898,\"Postman, The (1997)\",58],[899,\"Winter Guest, The (1997)\",9],[900,\"Kundun (1997)\",42],[901,\"Mr. Magoo (1997)\",12],[902,\"Big Lebowski, The (1998)\",42],[903,\"Afterglow (1997)\",18],[904,\"Ma vie en rose (My Life in Pink) (1997)\",20],[905,\"Great Expectations (1998)\",27],[906,\"Oscar & Lucinda (1997)\",21],[907,\"Vermin (1998)\",2],[908,\"Half Baked (1998)\",20],[909,\"Dangerous Beauty (1998)\",13],[910,\"Nil By Mouth (1997)\",4],[911,\"Twilight (1998)\",4],[912,\"U.S. Marshalls (1998)\",9],[913,\"Love and Death on Long Island (1997)\",2],[914,\"Wild Things (1998)\",11],[915,\"Primary Colors (1998)\",13],[916,\"Lost in Space (1998)\",18],[917,\"Mercury Rising (1998)\",7],[918,\"City of Angels (1998)\",8],[919,\"City of Lost Children, The (1995)\",96],[920,\"Two Bits (1995)\",5],[921,\"Farewell My Concubine (1993)\",46],[922,\"Dead Man (1995)\",34],[923,\"Raise the Red Lantern (1991)\",58],[924,\"White Squall (1996)\",85],[925,\"Unforgettable (1996)\",34],[926,\"Down Periscope (1996)\",101],[927,\"Flower of My Secret, The (Flor de mi secreto, La) (1995)\",6],[928,\"Craft, The (1996)\",104],[929,\"Harriet the Spy (1996)\",40],[930,\"Chain Reaction (1996)\",80],[931,\"Island of Dr. Moreau, The (1996)\",57],[932,\"First Kid (1996)\",40],[933,\"Funeral, The (1996)\",21],[934,\"Preacher's Wife, The (1996)\",68],[935,\"Paradise Road (1997)\",7],[936,\"Brassed Off (1996)\",32],[937,\"Thousand Acres, A (1997)\",37],[938,\"Smile Like Yours, A (1997)\",25],[939,\"Murder in the First (1995)\",60],[940,\"Airheads (1994)\",32],[941,\"With Honors (1994)\",46],[942,\"What's Love Got to Do with It (1993)\",45],[943,\"Killing Zoe (1994)\",40],[944,\"Renaissance Man (1994)\",43],[945,\"Charade (1963)\",40],[946,\"Fox and the Hound, The (1981)\",61],[947,\"Big Blue, The (Grand bleu, Le) (1988)\",17],[948,\"Booty Call (1997)\",48],[949,\"How to Make an American Quilt (1995)\",71],[950,\"Georgia (1995)\",30],[951,\"Indian in the Cupboard, The (1995)\",39],[952,\"Blue in the Face (1995)\",45],[953,\"Unstrung Heroes (1995)\",22],[954,\"Unzipped (1995)\",11],[955,\"Before Sunrise (1995)\",49],[956,\"Nobody's Fool (1994)\",46],[957,\"Pushing Hands (1992)\",2],[958,\"To Live (Huozhe) (1994)\",14],[959,\"Dazed and Confused (1993)\",64],[960,\"Naked (1993)\",25],[961,\"Orlando (1993)\",34],[962,\"Ruby in Paradise (1993)\",23],[963,\"Some Folks Call It a Sling Blade (1993)\",41],[964,\"Month by the Lake, A (1995)\",9],[965,\"Funny Face (1957)\",21],[966,\"Affair to Remember, An (1957)\",26],[967,\"Little Lord Fauntleroy (1936)\",12],[968,\"Inspector General, The (1949)\",18],[969,\"Winnie the Pooh and the Blustery Day (1968)\",75],[970,\"Hear My Song (1991)\",8],[971,\"Mediterraneo (1991)\",34],[972,\"Passion Fish (1992)\",28],[973,\"Grateful Dead (1995)\",4],[974,\"Eye for an Eye (1996)\",32],[975,\"Fear (1996)\",44],[976,\"Solo (1996)\",12],[977,\"Substitute, The (1996)\",49],[978,\"Heaven's Prisoners (1996)\",27],[979,\"Trigger Effect, The (1996)\",35],[980,\"Mother Night (1996)\",22],[981,\"Dangerous Ground (1997)\",8],[982,\"Maximum Risk (1996)\",20],[983,\"Rich Man's Wife, The (1996)\",15],[984,\"Shadow Conspiracy (1997)\",44],[985,\"Blood & Wine (1997)\",22],[986,\"Turbulence (1997)\",23],[987,\"Underworld (1997)\",4],[988,\"Beautician and the Beast, The (1997)\",86],[989,\"Cats Don't Dance (1997)\",32],[990,\"Anna Karenina (1997)\",33],[991,\"Keys to Tulsa (1997)\",25],[992,\"Head Above Water (1996)\",4],[993,\"Hercules (1997)\",66],[994,\"Last Time I Committed Suicide, The (1997)\",7],[995,\"Kiss Me, Guido (1997)\",31],[996,\"Big Green, The (1995)\",14],[997,\"Stuart Saves His Family (1995)\",16],[998,\"Cabin Boy (1994)\",16],[999,\"Clean Slate (1994)\",10],[1000,\"Lightning Jack (1994)\",10],[1001,\"Stupids, The (1996)\",17],[1002,\"Pest, The (1997)\",8],[1003,\"That Darn Cat! (1997)\",8],[1004,\"Geronimo: An American Legend (1993)\",9],[1005,\"Double vie de V\\u00e9ronique, La (Double Life of Veronique, The) (1991)\",22],[1006,\"Until the End of the World (Bis ans Ende der Welt) (1991)\",23],[1007,\"Waiting for Guffman (1996)\",47],[1008,\"I Shot Andy Warhol (1996)\",37],[1009,\"Stealing Beauty (1996)\",64],[1010,\"Basquiat (1996)\",44],[1011,\"2 Days in the Valley (1996)\",93],[1012,\"Private Parts (1997)\",100],[1013,\"Anaconda (1997)\",38],[1014,\"Romy and Michele's High School Reunion (1997)\",98],[1015,\"Shiloh (1997)\",12],[1016,\"Con Air (1997)\",137],[1017,\"Trees Lounge (1996)\",50],[1018,\"Tie Me Up! Tie Me Down! (1990)\",32],[1019,\"Die xue shuang xiong (Killer, The) (1989)\",31],[1020,\"Gaslight (1944)\",35],[1021,\"8 1\\u002f2 (1963)\",38],[1022,\"Fast, Cheap & Out of Control (1997)\",32],[1023,\"Fathers' Day (1997)\",31],[1024,\"Mrs. Dalloway (1997)\",15],[1025,\"Fire Down Below (1997)\",44],[1026,\"Lay of the Land, The (1997)\",4],[1027,\"Shooter, The (1995)\",3],[1028,\"Grumpier Old Men (1995)\",148],[1029,\"Jury Duty (1995)\",14],[1030,\"Beverly Hillbillies, The (1993)\",20],[1031,\"Lassie (1994)\",7],[1032,\"Little Big League (1994)\",16],[1033,\"Homeward Bound II: Lost in San Francisco (1996)\",32],[1034,\"Quest, The (1996)\",27],[1035,\"Cool Runnings (1993)\",68],[1036,\"Drop Dead Fred (1991)\",24],[1037,\"Grease 2 (1982)\",24],[1038,\"Switchback (1997)\",17],[1039,\"Hamlet (1996)\",90],[1040,\"Two if by Sea (1996)\",25],[1041,\"Forget Paris (1995)\",62],[1042,\"Just Cause (1995)\",28],[1043,\"Rent-a-Kid (1995)\",8],[1044,\"Paper, The (1994)\",40],[1045,\"Fearless (1993)\",25],[1046,\"Malice (1993)\",46],[1047,\"Multiplicity (1996)\",134],[1048,\"She's the One (1996)\",73],[1049,\"House Arrest (1996)\",25],[1050,\"Ghost and Mrs. Muir, The (1947)\",43],[1051,\"Associate, The (1996)\",41],[1052,\"Dracula: Dead and Loving It (1995)\",25],[1053,\"Now and Then (1995)\",24],[1054,\"Mr. Wrong (1996)\",23],[1055,\"Simple Twist of Fate, A (1994)\",10],[1056,\"Cronos (1992)\",10],[1057,\"Pallbearer, The (1996)\",22],[1058,\"War, The (1994)\",15],[1059,\"Don't Be a Menace to South Central While Drinking Your Juice in the Hood (1996)\",35],[1060,\"Adventures of Pinocchio, The (1996)\",39],[1061,\"Evening Star, The (1996)\",29],[1062,\"Four Days in September (1997)\",12],[1063,\"Little Princess, A (1995)\",41],[1064,\"Crossfire (1947)\",4],[1065,\"Koyaanisqatsi (1983)\",53],[1066,\"Balto (1995)\",16],[1067,\"Bottle Rocket (1996)\",44],[1068,\"Star Maker, The (Uomo delle stelle, L') (1995)\",12],[1069,\"Amateur (1994)\",18],[1070,\"Living in Oblivion (1995)\",27],[1071,\"Party Girl (1995)\",16],[1072,\"Pyromaniac's Love Story, A (1995)\",7],[1073,\"Shallow Grave (1994)\",66],[1074,\"Reality Bites (1994)\",77],[1075,\"Man of No Importance, A (1994)\",7],[1076,\"Pagemaster, The (1994)\",12],[1077,\"Love and a .45 (1994)\",8],[1078,\"Oliver & Company (1988)\",22],[1079,\"Joe's Apartment (1996)\",45],[1080,\"Celestial Clockwork (1994)\",2],[1081,\"Curdled (1996)\",8],[1082,\"Female Perversions (1996)\",8],[1083,\"Albino Alligator (1996)\",6],[1084,\"Anne Frank Remembered (1995)\",21],[1085,\"Carried Away (1996)\",11],[1086,\"It's My Party (1995)\",21],[1087,\"Bloodsport 2 (1995)\",10],[1088,\"Double Team (1997)\",13],[1089,\"Speed 2: Cruise Control (1997)\",38],[1090,\"Sliver (1993)\",37],[1091,\"Pete's Dragon (1977)\",43],[1092,\"Dear God (1996)\",12],[1093,\"Live Nude Girls (1995)\",23],[1094,\"Thin Line Between Love and Hate, A (1996)\",12],[1095,\"High School High (1996)\",29],[1096,\"Commandments (1997)\",3],[1097,\"Hate (Haine, La) (1995)\",18],[1098,\"Flirting With Disaster (1996)\",42],[1099,\"Red Firecracker, Green Firecracker (1994)\",13],[1100,\"What Happened Was... (1994)\",8],[1101,\"Six Degrees of Separation (1993)\",74],[1102,\"Two Much (1996)\",7],[1103,\"Trust (1990)\",19],[1104,\"C'est arriv\\u00e9 pr\\u00e8s de chez vous (1992)\",4],[1105,\"Firestorm (1998)\",18],[1106,\"Newton Boys, The (1998)\",4],[1107,\"Beyond Rangoon (1995)\",18],[1108,\"Feast of July (1995)\",5],[1109,\"Death and the Maiden (1994)\",28],[1110,\"Tank Girl (1995)\",41],[1111,\"Double Happiness (1994)\",7],[1112,\"Cobb (1994)\",15],[1113,\"Mrs. Parker and the Vicious Circle (1994)\",22],[1114,\"Faithful (1996)\",10],[1115,\"Twelfth Night (1996)\",29],[1116,\"Mark of Zorro, The (1940)\",13],[1117,\"Surviving Picasso (1996)\",19],[1118,\"Up in Smoke (1978)\",47],[1119,\"Some Kind of Wonderful (1987)\",59],[1120,\"I'm Not Rappaport (1996)\",17],[1121,\"Umbrellas of Cherbourg, The (Parapluies de Cherbourg, Les) (1964)\",21],[1122,\"They Made Me a Criminal (1939)\",1],[1123,\"Last Time I Saw Paris, The (1954)\",3],[1124,\"Farewell to Arms, A (1932)\",12],[1125,\"Innocents, The (1961)\",4],[1126,\"Old Man and the Sea, The (1958)\",32],[1127,\"Truman Show, The (1998)\",11],[1128,\"Heidi Fleiss: Hollywood Madam (1995) \",13],[1129,\"Chungking Express (1994)\",28],[1130,\"Jupiter's Wife (1994)\",1],[1131,\"Safe (1995)\",13],[1132,\"Feeling Minnesota (1996)\",32],[1133,\"Escape to Witch Mountain (1975)\",30],[1134,\"Get on the Bus (1996)\",38],[1135,\"Doors, The (1991)\",46],[1136,\"Ghosts of Mississippi (1996)\",29],[1137,\"Beautiful Thing (1996)\",29],[1138,\"Best Men (1997)\",5],[1139,\"Hackers (1995)\",33],[1140,\"Road to Wellville, The (1994)\",17],[1141,\"War Room, The (1993)\",9],[1142,\"When We Were Kings (1996)\",44],[1143,\"Hard Eight (1996)\",15],[1144,\"Quiet Room, The (1996)\",3],[1145,\"Blue Chips (1994)\",9],[1146,\"Calendar Girl (1993)\",3],[1147,\"My Family (1995)\",21],[1148,\"Tom & Viv (1994)\",9],[1149,\"Walkabout (1971)\",26],[1150,\"Last Dance (1996)\",9],[1151,\"Original Gangstas (1996)\",7],[1152,\"In Love and War (1996)\",28],[1153,\"Backbeat (1993)\",19],[1154,\"Alphaville (1965)\",12],[1155,\"Rendezvous in Paris (Rendez-vous de Paris, Les) (1995)\",3],[1156,\"Cyclo (1995)\",1],[1157,\"Relic, The (1997)\",25],[1158,\"Fille seule, La (A Single Girl) (1995)\",4],[1159,\"Stalker (1979)\",11],[1160,\"Love! Valour! Compassion! (1997)\",26],[1161,\"Palookaville (1996)\",13],[1162,\"Phat Beach (1996)\",5],[1163,\"Portrait of a Lady, The (1996)\",25],[1164,\"Zeus and Roxanne (1997)\",6],[1165,\"Big Bully (1996)\",14],[1166,\"Love & Human Remains (1993)\",12],[1167,\"Sum of Us, The (1994)\",11],[1168,\"Little Buddha (1993)\",22],[1169,\"Fresh (1994)\",10],[1170,\"Spanking the Monkey (1994)\",27],[1171,\"Wild Reeds (1994)\",14],[1172,\"Women, The (1939)\",15],[1173,\"Bliss (1997)\",7],[1174,\"Caught (1996)\",8],[1175,\"Hugo Pool (1997)\",5],[1176,\"Welcome To Sarajevo (1997)\",22],[1177,\"Dunston Checks In (1996)\",7],[1178,\"Major Payne (1994)\",19],[1179,\"Man of the House (1995)\",9],[1180,\"I Love Trouble (1994)\",10],[1181,\"Low Down Dirty Shame, A (1994)\",10],[1182,\"Cops and Robbersons (1994)\",13],[1183,\"Cowboy Way, The (1994)\",19],[1184,\"Endless Summer 2, The (1994)\",10],[1185,\"In the Army Now (1994)\",18],[1186,\"Inkwell, The (1994)\",3],[1187,\"Switchblade Sisters (1975)\",13],[1188,\"Young Guns II (1990)\",44],[1189,\"Prefontaine (1997)\",3],[1190,\"That Old Feeling (1997)\",11],[1191,\"Letter From Death Row, A (1998)\",3],[1192,\"Boys of St. Vincent, The (1993)\",13],[1193,\"Before the Rain (Pred dozhdot) (1994)\",10],[1194,\"Once Were Warriors (1994)\",31],[1195,\"Strawberry and Chocolate (Fresa y chocolate) (1993)\",11],[1196,\"Savage Nights (Nuits fauves, Les) (1992)\",3],[1197,\"Family Thing, A (1996)\",45],[1198,\"Purple Noon (1960)\",7],[1199,\"Cemetery Man (Dellamorte Dellamore) (1994)\",23],[1200,\"Kim (1950)\",7],[1201,\"Marlene Dietrich: Shadow and Light (1996) \",1],[1202,\"Maybe, Maybe Not (Bewegte Mann, Der) (1994)\",8],[1203,\"Top Hat (1935)\",21],[1204,\"To Be or Not to Be (1942)\",18],[1205,\"Secret Agent, The (1996)\",6],[1206,\"Amos & Andrew (1993)\",19],[1207,\"Jade (1995)\",17],[1208,\"Kiss of Death (1995)\",20],[1209,\"Mixed Nuts (1994)\",15],[1210,\"Virtuosity (1995)\",38],[1211,\"Blue Sky (1994)\",12],[1212,\"Flesh and Bone (1993)\",6],[1213,\"Guilty as Sin (1993)\",6],[1214,\"In the Realm of the Senses (Ai no corrida) (1976)\",9],[1215,\"Barb Wire (1996)\",30],[1216,\"Kissed (1996)\",6],[1217,\"Assassins (1995)\",39],[1218,\"Friday (1995)\",26],[1219,\"Goofy Movie, A (1995)\",20],[1220,\"Higher Learning (1995)\",30],[1221,\"When a Man Loves a Woman (1994)\",39],[1222,\"Judgment Night (1993)\",25],[1223,\"King of the Hill (1993)\",4],[1224,\"Scout, The (1994)\",12],[1225,\"Angus (1995)\",14],[1226,\"Night Falls on Manhattan (1997)\",32],[1227,\"Awfully Big Adventure, An (1995)\",8],[1228,\"Under Siege 2: Dark Territory (1995)\",48],[1229,\"Poison Ivy II (1995)\",13],[1230,\"Ready to Wear (Pret-A-Porter) (1994)\",18],[1231,\"Marked for Death (1990)\",22],[1232,\"Madonna: Truth or Dare (1991)\",17],[1233,\"N\\u00e9nette et Boni (1996)\",6],[1234,\"Chairman of the Board (1998)\",8],[1235,\"Big Bang Theory, The (1994)\",1],[1236,\"Other Voices, Other Rooms (1997)\",1],[1237,\"Twisted (1996)\",6],[1238,\"Full Speed (1996)\",8],[1239,\"Cutthroat Island (1995)\",18],[1240,\"Ghost in the Shell (Kokaku kidotai) (1995)\",26],[1241,\"Van, The (1996)\",6],[1242,\"Old Lady Who Walked in the Sea, The (Vieille qui marchait dans la mer, La) (1991)\",5],[1243,\"Night Flier (1997)\",7],[1244,\"Metro (1997)\",36],[1245,\"Gridlock'd (1997)\",19],[1246,\"Bushwhacked (1995)\",7],[1247,\"Bad Girls (1994)\",6],[1248,\"Blink (1994)\",19],[1249,\"For Love or Money (1993)\",12],[1250,\"Best of the Best 3: No Turning Back (1995)\",6],[1251,\"A Chef in Love (1996)\",8],[1252,\"Contempt (M\\u00e9pris, Le) (1963)\",9],[1253,\"Tie That Binds, The (1995)\",7],[1254,\"Gone Fishin' (1997)\",11],[1255,\"Broken English (1996)\",8],[1256,\"Designated Mourner, The (1997)\",3],[1257,\"Designated Mourner, The (1997)\",4],[1258,\"Trial and Error (1997)\",23],[1259,\"Pie in the Sky (1995)\",4],[1260,\"Total Eclipse (1995)\",4],[1261,\"Run of the Country, The (1995)\",4],[1262,\"Walking and Talking (1996)\",8],[1263,\"Foxfire (1996)\",15],[1264,\"Nothing to Lose (1994)\",7],[1265,\"Star Maps (1997)\",19],[1266,\"Bread and Chocolate (Pane e cioccolata) (1973)\",12],[1267,\"Clockers (1995)\",33],[1268,\"Bitter Moon (1992)\",10],[1269,\"Love in the Afternoon (1957)\",10],[1270,\"Life with Mikey (1993)\",7],[1271,\"North (1994)\",7],[1272,\"Talking About Sex (1994)\",5],[1273,\"Color of Night (1994)\",15],[1274,\"Robocop 3 (1993)\",11],[1275,\"Killer (Bulletproof Heart) (1994)\",4],[1276,\"Sunset Park (1996)\",8],[1277,\"Set It Off (1996)\",19],[1278,\"Selena (1997)\",16],[1279,\"Wild America (1997)\",9],[1280,\"Gang Related (1997)\",16],[1281,\"Manny & Lo (1996)\",13],[1282,\"Grass Harp, The (1995)\",9],[1283,\"Out to Sea (1997)\",19],[1284,\"Before and After (1996)\",26],[1285,\"Princess Caraboo (1994)\",15],[1286,\"Shall We Dance? (1937)\",17],[1287,\"Ed (1996)\",6],[1288,\"Denise Calls Up (1995)\",7],[1289,\"Jack and Sarah (1995)\",7],[1290,\"Country Life (1994)\",2],[1291,\"Celtic Pride (1996)\",15],[1292,\"Simple Wish, A (1997)\",3],[1293,\"Star Kid (1997)\",3],[1294,\"Ayn Rand: A Sense of Life (1997)\",7],[1295,\"Kicked in the Head (1997)\",7],[1296,\"Indian Summer (1996)\",20],[1297,\"Love Affair (1994)\",12],[1298,\"Band Wagon, The (1953)\",9],[1299,\"Penny Serenade (1941)\",8],[1300,\"'Til There Was You (1997)\",9],[1301,\"Stripes (1981)\",5],[1302,\"Late Bloomers (1996)\",5],[1303,\"Getaway, The (1994)\",18],[1304,\"New York Cop (1996)\",2],[1305,\"National Lampoon's Senior Trip (1995)\",7],[1306,\"Delta of Venus (1994)\",2],[1307,\"Carmen Miranda: Bananas Is My Business (1994)\",2],[1308,\"Babyfever (1994)\",2],[1309,\"Very Natural Thing, A (1974)\",1],[1310,\"Walk in the Sun, A (1945)\",1],[1311,\"Waiting to Exhale (1995)\",16],[1312,\"Pompatus of Love, The (1996)\",7],[1313,\"Palmetto (1998)\",14],[1314,\"Surviving the Game (1994)\",11],[1315,\"Inventing the Abbotts (1997)\",23],[1316,\"Horse Whisperer, The (1998)\",7],[1317,\"Journey of August King, The (1995)\",4],[1318,\"Catwalk (1995)\",3],[1319,\"Neon Bible, The (1995)\",4],[1320,\"Homage (1995)\",1],[1321,\"Open Season (1996)\",2],[1322,\"Metisse (Caf\\u00e9 au Lait) (1993)\",6],[1323,\"Wooden Man's Bride, The (Wu Kui) (1994)\",3],[1324,\"Loaded (1994)\",5],[1325,\"August (1996)\",1],[1326,\"Boys (1996)\",6],[1327,\"Captives (1994)\",3],[1328,\"Of Love and Shadows (1994)\",6],[1329,\"Low Life, The (1994)\",1],[1330,\"An Unforgettable Summer (1994)\",4],[1331,\"Last Klezmer: Leopold Kozlowski, His Life and Music, The (1995)\",4],[1332,\"My Life and Times With Antonin Artaud (En compagnie d'Antonin Artaud) (1993)\",2],[1333,\"Midnight Dancers (Sibak) (1994)\",5],[1334,\"Somebody to Love (1994)\",2],[1335,\"American Buffalo (1996)\",11],[1336,\"Kazaam (1996)\",10],[1337,\"Larger Than Life (1996)\",9],[1338,\"Two Deaths (1995)\",4],[1339,\"Stefano Quantestorie (1993)\",1],[1340,\"Crude Oasis, The (1995)\",1],[1341,\"Hedd Wyn (1992)\",1],[1342,\"Convent, The (Convento, O) (1995)\",2],[1343,\"Lotto Land (1995)\",1],[1344,\"Story of Xinghua, The (1993)\",5],[1345,\"Day the Sun Turned Cold, The (Tianguo niezi) (1994)\",2],[1346,\"Dingo (1992)\",5],[1347,\"Ballad of Narayama, The (Narayama Bushiko) (1958)\",4],[1348,\"Every Other Weekend (1990)\",1],[1349,\"Mille bolle blu (1993)\",1],[1350,\"Crows and Sparrows (1949)\",2],[1351,\"Lover's Knot (1996)\",3],[1352,\"Shadow of Angels (Schatten der Engel) (1976)\",1],[1353,\"1-900 (1994)\",5],[1354,\"Venice\\u002fVenice (1992)\",2],[1355,\"Infinity (1996)\",6],[1356,\"Ed's Next Move (1996)\",3],[1357,\"For the Moment (1994)\",3],[1358,\"The Deadly Cure (1996)\",2],[1359,\"Boys in Venice (1996)\",2],[1360,\"Sexual Life of the Belgians, The (1994)\",2],[1361,\"Search for One-eye Jimmy, The (1996)\",3],[1362,\"American Strays (1996)\",2],[1363,\"Leopard Son, The (1996)\",1],[1364,\"Bird of Prey (1996)\",1],[1365,\"Johnny 100 Pesos (1993)\",2],[1366,\"JLG\\u002fJLG - autoportrait de d\\u00e9cembre (1994)\",1],[1367,\"Faust (1994)\",5],[1368,\"Mina Tannenbaum (1994)\",6],[1369,\"Forbidden Christ, The (Cristo proibito, Il) (1950)\",4],[1370,\"I Can't Sleep (J'ai pas sommeil) (1994)\",3],[1371,\"Machine, The (1994)\",2],[1372,\"Stranger, The (1994)\",3],[1373,\"Good Morning (1971)\",1],[1374,\"Falling in Love Again (1980)\",2],[1375,\"Cement Garden, The (1993)\",10],[1376,\"Meet Wally Sparks (1997)\",7],[1377,\"Hotel de Love (1996)\",4],[1378,\"Rhyme & Reason (1997)\",5],[1379,\"Love and Other Catastrophes (1996)\",7],[1380,\"Hollow Reed (1996)\",6],[1381,\"Losing Chase (1996)\",8],[1382,\"Bonheur, Le (1965)\",4],[1383,\"Second Jungle Book: Mowgli & Baloo, The (1997)\",6],[1384,\"Squeeze (1996)\",3],[1385,\"Roseanna's Grave (For Roseanna) (1997)\",5],[1386,\"Tetsuo II: Body Hammer (1992)\",6],[1387,\"Fall (1997)\",3],[1388,\"Gabbeh (1996)\",6],[1389,\"Mondo (1996)\",3],[1390,\"Innocent Sleep, The (1995)\",2],[1391,\"For Ever Mozart (1996)\",3],[1392,\"Locusts, The (1997)\",5],[1393,\"Stag (1997)\",9],[1394,\"Swept from the Sea (1997)\",7],[1395,\"Hurricane Streets (1998)\",6],[1396,\"Stonewall (1995)\",5],[1397,\"Of Human Bondage (1934)\",5],[1398,\"Anna (1996)\",2],[1399,\"Stranger in the House (1997)\",7],[1400,\"Picture Bride (1995)\",10],[1401,\"M. Butterfly (1993)\",18],[1402,\"Ciao, Professore! (1993)\",4],[1403,\"Caro Diario (Dear Diary) (1994)\",4],[1404,\"Withnail and I (1987)\",13],[1405,\"Boy's Life 2 (1997)\",6],[1406,\"When Night Is Falling (1995)\",5],[1407,\"Specialist, The (1994)\",20],[1408,\"Gordy (1995)\",3],[1409,\"Swan Princess, The (1994)\",7],[1410,\"Harlem (1993)\",4],[1411,\"Barbarella (1968)\",28],[1412,\"Land Before Time III: The Time of the Great Giving (1995) (V)\",6],[1413,\"Street Fighter (1994)\",8],[1414,\"Coldblooded (1995)\",1],[1415,\"Next Karate Kid, The (1994)\",9],[1416,\"No Escape (1994)\",5],[1417,\"Turning, The (1992)\",2],[1418,\"Joy Luck Club, The (1993)\",3],[1419,\"Highlander III: The Sorcerer (1994)\",16],[1420,\"Gilligan's Island: The Movie (1998)\",3],[1421,\"My Crazy Life (Mi vida loca) (1993)\",11],[1422,\"Suture (1993)\",4],[1423,\"Walking Dead, The (1995)\",4],[1424,\"I Like It Like That (1994)\",3],[1425,\"I'll Do Anything (1994)\",10],[1426,\"Grace of My Heart (1996)\",8],[1427,\"Drunks (1995)\",5],[1428,\"SubUrbia (1997)\",12],[1429,\"Sliding Doors (1998)\",4],[1430,\"Ill Gotten Gains (1997)\",3],[1431,\"Legal Deceit (1997)\",5],[1432,\"Mighty, The (1998)\",3],[1433,\"Men of Means (1998)\",2],[1434,\"Shooting Fish (1997)\",10],[1435,\"Steal Big, Steal Little (1995)\",7],[1436,\"Mr. Jones (1993)\",2],[1437,\"House Party 3 (1994)\",9],[1438,\"Panther (1995)\",5],[1439,\"Jason's Lyric (1994)\",8],[1440,\"Above the Rim (1994)\",5],[1441,\"Moonlight and Valentino (1995)\",7],[1442,\"Scarlet Letter, The (1995)\",5],[1443,\"8 Seconds (1994)\",4],[1444,\"That Darn Cat! (1965)\",19],[1445,\"Ladybird Ladybird (1994)\",4],[1446,\"Bye Bye, Love (1995)\",15],[1447,\"Century (1993)\",1],[1448,\"My Favorite Season (1993)\",3],[1449,\"Pather Panchali (1955)\",8],[1450,\"Golden Earrings (1947)\",2],[1451,\"Foreign Correspondent (1940)\",15],[1452,\"Lady of Burlesque (1943)\",1],[1453,\"Angel on My Shoulder (1946)\",1],[1454,\"Angel and the Badman (1947)\",6],[1455,\"Outlaw, The (1943)\",2],[1456,\"Beat the Devil (1954)\",7],[1457,\"Love Is All There Is (1996)\",1],[1458,\"Damsel in Distress, A (1937)\",1],[1459,\"Madame Butterfly (1995)\",7],[1460,\"Sleepover (1995)\",1],[1461,\"Here Comes Cookie (1935)\",1],[1462,\"Thieves (Voleurs, Les) (1996)\",7],[1463,\"Boys, Les (1997)\",3],[1464,\"Stars Fell on Henrietta, The (1995)\",3],[1465,\"Last Summer in the Hamptons (1995)\",3],[1466,\"Margaret's Museum (1995)\",6],[1467,\"Saint of Fort Washington, The (1993)\",2],[1468,\"Cure, The (1995)\",6],[1469,\"Tom and Huck (1995)\",12],[1470,\"Gumby: The Movie (1995)\",5],[1471,\"Hideaway (1995)\",9],[1472,\"Visitors, The (Visiteurs, Les) (1993)\",2],[1473,\"Little Princess, The (1939)\",9],[1474,\"Nina Takes a Lover (1994)\",6],[1475,\"Bhaji on the Beach (1993)\",8],[1476,\"Raw Deal (1948)\",1],[1477,\"Nightwatch (1997)\",2],[1478,\"Dead Presidents (1995)\",18],[1479,\"Reckless (1995)\",8],[1480,\"Herbie Rides Again (1974)\",11],[1481,\"S.F.W. (1994)\",2],[1482,\"Gate of Heavenly Peace, The (1995)\",1],[1483,\"Man in the Iron Mask, The (1998)\",12],[1484,\"Jerky Boys, The (1994)\",3],[1485,\"Colonel Chabert, Le (1994)\",4],[1486,\"Girl in the Cadillac (1995)\",1],[1487,\"Even Cowgirls Get the Blues (1993)\",5],[1488,\"Germinal (1993)\",4],[1489,\"Chasers (1994)\",5],[1490,\"Fausto (1993)\",3],[1491,\"Tough and Deadly (1995)\",2],[1492,\"Window to Paris (1994)\",1],[1493,\"Modern Affair, A (1995)\",1],[1494,\"Mostro, Il (1994)\",1],[1495,\"Flirt (1995)\",5],[1496,\"Carpool (1996)\",5],[1497,\"Line King: Al Hirschfeld, The (1996)\",2],[1498,\"Farmer & Chase (1995)\",1],[1499,\"Grosse Fatigue (1994)\",4],[1500,\"Santa with Muscles (1996)\",2],[1501,\"Prisoner of the Mountains (Kavkazsky Plennik) (1996)\",5],[1502,\"Naked in New York (1994)\",2],[1503,\"Gold Diggers: The Secret of Bear Mountain (1995)\",10],[1504,\"Bewegte Mann, Der (1994)\",3],[1505,\"Killer: A Journal of Murder (1995)\",1],[1506,\"Nelly & Monsieur Arnaud (1995)\",3],[1507,\"Three Lives and Only One Death (1996)\",1],[1508,\"Babysitter, The (1995)\",3],[1509,\"Getting Even with Dad (1994)\",5],[1510,\"Mad Dog Time (1996)\",1],[1511,\"Children of the Revolution (1996)\",5],[1512,\"World of Apu, The (Apur Sansar) (1959)\",6],[1513,\"Sprung (1997)\",3],[1514,\"Dream With the Fishes (1997)\",7],[1515,\"Wings of Courage (1995)\",1],[1516,\"Wedding Gift, The (1994)\",3],[1517,\"Race the Sun (1996)\",5],[1518,\"Losing Isaiah (1995)\",12],[1519,\"New Jersey Drive (1995)\",2],[1520,\"Fear, The (1995)\",1],[1521,\"Mr. Wonderful (1993)\",4],[1522,\"Trial by Jury (1994)\",7],[1523,\"Good Man in Africa, A (1994)\",2],[1524,\"Kaspar Hauser (1993)\",8],[1525,\"Object of My Affection, The (1998)\",1],[1526,\"Witness (1985)\",1],[1527,\"Senseless (1998)\",7],[1528,\"Nowhere (1997)\",3],[1529,\"Underground (1995)\",5],[1530,\"Jefferson in Paris (1995)\",5],[1531,\"Far From Home: The Adventures of Yellow Dog (1995)\",7],[1532,\"Foreign Student (1994)\",2],[1533,\"I Don't Want to Talk About It (De eso no se habla) (1993)\",1],[1534,\"Twin Town (1997)\",6],[1535,\"Enfer, L' (1994)\",4],[1536,\"Aiqing wansui (1994)\",1],[1537,\"Cosi (1996)\",4],[1538,\"All Over Me (1997)\",3],[1539,\"Being Human (1993)\",4],[1540,\"Amazing Panda Adventure, The (1995)\",10],[1541,\"Beans of Egypt, Maine, The (1994)\",2],[1542,\"Scarlet Letter, The (1926)\",2],[1543,\"Johns (1996)\",1],[1544,\"It Takes Two (1995)\",3],[1545,\"Frankie Starlight (1995)\",4],[1546,\"Shadows (Cienie) (1988)\",1],[1547,\"Show, The (1995)\",2],[1548,\"The Courtyard (1995)\",1],[1549,\"Dream Man (1995)\",2],[1550,\"Destiny Turns on the Radio (1995)\",2],[1551,\"Glass Shield, The (1994)\",2],[1552,\"Hunted, The (1995)\",3],[1553,\"Underneath, The (1995)\",4],[1554,\"Safe Passage (1994)\",2],[1555,\"Secret Adventures of Tom Thumb, The (1993)\",5],[1556,\"Condition Red (1995)\",2],[1557,\"Yankee Zulu (1994)\",1],[1558,\"Aparajito (1956)\",7],[1559,\"Hostile Intentions (1994)\",1],[1560,\"Clean Slate (Coup de Torchon) (1981)\",4],[1561,\"Tigrero: A Film That Was Never Made (1994)\",1],[1562,\"Eye of Vichy, The (Oeil de Vichy, L') (1993)\",1],[1563,\"Promise, The (Versprechen, Das) (1994)\",1],[1564,\"To Cross the Rubicon (1991)\",1],[1565,\"Daens (1992)\",1],[1566,\"Man from Down Under, The (1943)\",1],[1567,\"Careful (1992)\",1],[1568,\"Vermont Is For Lovers (1992)\",1],[1569,\"Vie est belle, La (Life is Rosey) (1987)\",1],[1570,\"Quartier Mozart (1992)\",1],[1571,\"Touki Bouki (Journey of the Hyena) (1973)\",1],[1572,\"Wend Kuuni (God's Gift) (1982)\",1],[1573,\"Spirits of the Dead (Tre passi nel delirio) (1968)\",2],[1574,\"Pharaoh's Army (1995)\",1],[1575,\"I, Worst of All (Yo, la peor de todas) (1990)\",1],[1576,\"Hungarian Fairy Tale, A (1987)\",1],[1577,\"Death in the Garden (Mort en ce jardin, La) (1956)\",1],[1578,\"Collectionneuse, La (1967)\",2],[1579,\"Baton Rouge (1988)\",1],[1580,\"Liebelei (1933)\",1],[1581,\"Woman in Question, The (1950)\",1],[1582,\"T-Men (1947)\",1],[1583,\"Invitation, The (Zaproszenie) (1986)\",1],[1584,\"Symphonie pastorale, La (1946)\",1],[1585,\"American Dream (1990)\",2],[1586,\"Lashou shentan (1992)\",1],[1587,\"Terror in a Texas Town (1958)\",1],[1588,\"Salut cousin! (1996)\",2],[1589,\"Schizopolis (1996)\",4],[1590,\"To Have, or Not (1995)\",2],[1591,\"Duoluo tianshi (1995)\",6],[1592,\"Magic Hour, The (1998)\",5],[1593,\"Death in Brunswick (1991)\",1],[1594,\"Everest (1998)\",2],[1595,\"Shopping (1994)\",1],[1596,\"Nemesis 2: Nebula (1995)\",1],[1597,\"Romper Stomper (1992)\",5],[1598,\"City of Industry (1997)\",6],[1599,\"Someone Else's America (1995)\",1],[1600,\"Guantanamera (1994)\",4],[1601,\"Office Killer (1997)\",1],[1602,\"Price Above Rubies, A (1998)\",3],[1603,\"Angela (1995)\",1],[1604,\"He Walked by Night (1948)\",1],[1605,\"Love Serenade (1996)\",4],[1606,\"Deceiver (1997)\",1],[1607,\"Hurricane Streets (1998)\",3],[1608,\"Buddy (1997)\",4],[1609,\"B*A*P*S (1997)\",3],[1610,\"Truth or Consequences, N.M. (1997)\",3],[1611,\"Intimate Relations (1996)\",2],[1612,\"Leading Man, The (1996)\",4],[1613,\"Tokyo Fist (1995)\",1],[1614,\"Reluctant Debutante, The (1958)\",1],[1615,\"Warriors of Virtue (1997)\",10],[1616,\"Desert Winds (1995)\",1],[1617,\"Hugo Pool (1997)\",2],[1618,\"King of New York (1990)\",1],[1619,\"All Things Fair (1996)\",1],[1620,\"Sixth Man, The (1997)\",9],[1621,\"Butterfly Kiss (1995)\",1],[1622,\"Paris, France (1993)\",3],[1623,\"C\\u00e9r\\u00e9monie, La (1995)\",3],[1624,\"Hush (1998)\",1],[1625,\"Nightwatch (1997)\",1],[1626,\"Nobody Loves Me (Keiner liebt mich) (1994)\",1],[1627,\"Wife, The (1995)\",1],[1628,\"Lamerica (1994)\",4],[1629,\"Nico Icon (1995)\",2],[1630,\"Silence of the Palace, The (Saimt el Qusur) (1994)\",1],[1631,\"Slingshot, The (1993)\",2],[1632,\"Land and Freedom (Tierra y libertad) (1995)\",1],[1633,\"\\u00c1 k\\u00f6ldum klaka (Cold Fever) (1994)\",1],[1634,\"Etz Hadomim Tafus (Under the Domin Tree) (1994)\",1],[1635,\"Two Friends (1986) \",1],[1636,\"Brothers in Trouble (1995)\",1],[1637,\"Girls Town (1996)\",1],[1638,\"Normal Life (1996)\",1],[1639,\"Bitter Sugar (Azucar Amargo) (1996)\",3],[1640,\"Eighth Day, The (1996)\",1],[1641,\"Dadetown (1995)\",1],[1642,\"Some Mother's Son (1996)\",2],[1643,\"Angel Baby (1995)\",4],[1644,\"Sudden Manhattan (1996)\",2],[1645,\"Butcher Boy, The (1998)\",1],[1646,\"Men With Guns (1997)\",2],[1647,\"Hana-bi (1997)\",1],[1648,\"Niagara, Niagara (1997)\",1],[1649,\"Big One, The (1997)\",1],[1650,\"Butcher Boy, The (1998)\",1],[1651,\"Spanish Prisoner, The (1997)\",1],[1652,\"Temptress Moon (Feng Yue) (1996)\",3],[1653,\"Entertaining Angels: The Dorothy Day Story (1996)\",1],[1654,\"Chairman of the Board (1998)\",1],[1655,\"Favor, The (1994)\",1],[1656,\"Little City (1998)\",2],[1657,\"Target (1995)\",1],[1658,\"Substance of Fire, The (1996)\",3],[1659,\"Getting Away With Murder (1996)\",1],[1660,\"Small Faces (1995)\",1],[1661,\"New Age, The (1994)\",1],[1662,\"Rough Magic (1995)\",2],[1663,\"Nothing Personal (1995)\",1],[1664,\"8 Heads in a Duffel Bag (1997)\",4],[1665,\"Brother's Kiss, A (1997)\",1],[1666,\"Ripe (1996)\",1],[1667,\"Next Step, The (1995)\",1],[1668,\"Wedding Bell Blues (1996)\",1],[1669,\"MURDER and murder (1996)\",1],[1670,\"Tainted (1998)\",1],[1671,\"Further Gesture, A (1996)\",1],[1672,\"Kika (1993)\",2],[1673,\"Mirage (1995)\",1],[1674,\"Mamma Roma (1962)\",1],[1675,\"Sunchaser, The (1996)\",1],[1676,\"War at Home, The (1996)\",1],[1677,\"Sweet Nothing (1995)\",1],[1678,\"Mat' i syn (1997)\",1],[1679,\"B. Monkey (1998)\",1],[1680,\"Sliding Doors (1998)\",1],[1681,\"You So Crazy (1994)\",1],[1682,\"Scream of Stone (Schrei aus Stein) (1991)\",1]],\"hovertemplate\":\"tsne_1=%{x}\\u003cbr\\u003etsne_2=%{y}\\u003cbr\\u003eitem_id=%{customdata[0]}\\u003cbr\\u003etitle=%{customdata[1]}\\u003cbr\\u003epopularity=%{marker.color}\\u003cextra\\u003e\\u003c\\u002fextra\\u003e\",\"legendgroup\":\"\",\"marker\":{\"color\":[452,131,90,209,86,26,392,219,299,89,236,267,184,183,293,39,92,10,69,72,84,297,182,174,293,73,57,276,114,37,154,81,97,7,11,13,8,120,87,57,37,148,40,79,80,27,133,117,81,583,81,91,128,104,149,394,40,175,83,64,59,127,82,283,115,162,103,134,321,251,220,129,128,7,5,54,151,33,336,68,110,261,176,18,58,150,138,213,275,95,143,104,112,137,219,295,256,390,172,508,73,54,15,5,74,71,42,65,130,31,272,20,9,67,15,125,378,293,4,67,429,106,115,187,244,97,413,65,129,23,95,246,171,198,259,105,171,19,50,61,72,57,222,243,65,10,185,128,23,157,326,82,247,174,98,148,127,60,101,69,220,106,92,151,64,58,67,316,118,121,65,367,324,420,208,284,137,125,221,221,507,226,291,116,239,251,209,170,66,124,276,116,157,241,301,251,239,127,165,206,89,280,182,350,136,50,66,200,191,331,206,92,134,114,212,290,120,171,111,66,74,365,136,44,109,166,161,244,171,199,142,101,124,280,217,45,384,256,150,156,128,117,132,48,240,124,5,160,130,197,46,158,26,62,172,16,303,509,162,127,43,66,19,101,227,35,9,255,315,136,211,198,223,190,268,298,71,60,28,85,146,232,177,193,162,481,78,478,259,96,127,114,147,485,77,6,50,194,73,431,230,297,134,149,87,96,188,30,28,145,75,80,350,5,160,112,102,298,168,20,169,218,240,125,128,175,175,295,45,41,113,143,251,64,21,43,18,91,47,189,11,52,124,55,65,126,137,27,31,41,20,26,14,72,41,97,264,143,18,10,10,28,47,37,48,47,170,31,55,39,67,34,39,11,23,24,13,101,43,116,100,111,31,69,208,87,65,28,27,10,59,68,192,12,56,54,12,26,89,18,76,170,201,101,344,49,43,112,70,162,163,93,55,62,25,64,73,129,178,81,106,26,300,19,85,32,219,121,97,93,153,174,171,67,216,99,5,6,5,14,53,4,162,46,22,9,121,85,117,63,170,66,16,16,145,48,27,90,24,28,74,148,71,27,85,52,48,64,67,108,221,158,126,194,250,160,95,104,179,179,63,128,243,138,125,64,68,65,52,50,67,59,60,56,59,231,68,152,62,31,123,57,39,122,68,90,98,215,121,121,173,57,72,180,201,63,91,89,80,124,120,35,164,46,73,124,195,121,93,80,129,22,15,13,54,10,30,66,44,43,49,51,21,71,12,254,41,12,92,151,24,45,63,102,10,12,17,70,137,22,59,48,29,27,22,179,35,230,67,50,28,29,33,15,44,93,41,92,19,32,59,168,37,79,39,34,14,202,43,18,178,9,12,5,64,127,206,4,1,2,20,50,209,81,31,66,66,30,60,41,40,34,27,51,59,64,18,18,64,43,11,39,39,22,82,4,75,169,77,31,119,58,69,24,23,91,38,44,40,82,33,89,4,35,27,38,70,67,50,72,171,90,34,147,227,44,131,79,115,153,88,82,116,46,100,5,12,6,13,36,46,65,86,48,54,77,1,219,107,34,27,100,49,169,157,50,69,44,87,155,16,164,91,44,13,79,40,10,102,15,10,53,19,24,137,6,70,101,104,79,1,51,72,13,87,58,82,16,29,86,54,58,34,76,16,14,63,45,81,24,39,180,15,27,137,78,59,31,164,63,58,267,39,92,16,119,102,316,51,124,180,39,24,57,96,128,4,21,11,46,44,115,149,29,32,9,11,52,42,57,41,49,17,32,26,9,4,76,31,69,84,10,37,2,39,14,13,3,47,66,10,86,10,46,21,36,31,9,5,26,16,40,9,8,27,50,9,31,43,45,18,18,56,1,112,21,3,25,40,93,22,4,82,49,83,80,57,13,34,1,91,22,49,25,15,26,25,4,4,53,48,27,30,42,176,44,55,9,53,4,4,1,14,16,66,36,1,3,15,16,3,18,24,86,21,119,6,5,24,9,75,42,81,39,53,47,52,33,136,59,45,34,13,7,13,53,64,15,13,43,6,53,14,19,106,44,2,58,9,42,12,42,18,20,27,21,2,20,13,4,4,9,2,11,13,18,7,8,96,5,46,34,58,85,34,101,6,104,40,80,57,40,21,68,7,32,37,25,60,32,46,45,40,43,40,61,17,48,71,30,39,45,22,11,49,46,2,14,64,25,34,23,41,9,21,26,12,18,75,8,34,28,4,32,44,12,49,27,35,22,8,20,15,44,22,23,4,86,32,33,25,4,66,7,31,14,16,16,10,10,17,8,8,9,22,23,47,37,64,44,93,100,38,98,12,137,50,32,31,35,38,32,31,15,44,4,3,148,14,20,7,16,32,27,68,24,24,17,90,25,62,28,8,40,25,46,134,73,25,43,41,25,24,23,10,10,22,15,35,39,29,12,41,4,53,16,44,12,18,27,16,7,66,77,7,12,8,22,45,2,8,8,6,21,11,21,10,13,38,37,43,12,23,12,29,3,18,42,13,8,74,7,19,4,18,4,18,5,28,41,7,15,22,10,29,13,19,47,59,17,21,1,3,12,4,32,11,13,28,1,13,32,30,38,46,29,29,5,33,17,9,44,15,3,9,3,21,9,26,9,7,28,19,12,3,1,25,4,11,26,13,5,25,6,14,12,11,22,10,27,14,15,7,8,5,22,7,19,9,10,10,13,19,10,18,3,13,44,3,11,3,13,10,31,11,3,45,7,23,7,1,8,21,18,6,19,17,20,15,38,12,6,6,9,30,6,39,26,20,30,39,25,4,12,14,32,8,48,13,18,22,17,6,8,1,1,6,8,18,26,6,5,7,36,19,7,6,19,12,6,8,9,7,11,8,3,4,23,4,4,4,8,15,7,19,12,33,10,10,7,7,5,15,11,4,8,19,16,9,16,13,9,19,26,15,17,6,7,7,2,15,3,3,7,7,20,12,9,8,9,5,5,18,2,7,2,2,2,1,1,16,7,14,11,23,7,4,3,4,1,2,6,3,5,1,6,3,6,1,4,4,2,5,2,11,10,9,4,1,1,1,2,1,5,2,5,4,1,1,2,3,1,5,2,6,3,3,2,2,2,3,2,1,1,2,1,5,6,4,3,2,3,1,2,10,7,4,5,7,6,8,4,6,3,5,6,3,6,3,2,3,5,9,7,6,5,5,2,7,10,18,4,4,13,6,5,20,3,7,4,28,6,8,1,9,5,2,3,16,3,11,4,4,3,10,8,5,12,4,3,5,3,2,10,7,2,9,5,8,5,7,5,4,19,4,15,1,3,8,2,15,1,1,6,2,7,1,1,7,1,1,7,3,3,3,6,2,6,12,5,9,2,9,6,8,1,2,18,8,11,2,1,12,3,4,1,5,4,5,3,2,1,1,1,5,5,2,1,4,2,5,2,10,3,1,3,1,3,5,1,5,6,3,7,1,3,5,12,2,1,4,7,2,8,1,1,7,3,5,5,7,2,1,6,4,1,4,3,4,10,2,2,1,3,4,1,2,1,2,2,2,3,4,2,5,2,1,7,1,4,1,1,1,1,1,1,1,1,1,1,1,1,2,1,1,1,1,2,1,1,1,1,1,1,2,1,1,2,4,2,6,5,1,2,1,1,5,6,1,4,1,3,1,1,4,1,3,4,3,3,2,4,1,1,10,1,2,1,1,9,1,3,3,1,1,1,1,4,2,1,2,1,1,1,1,1,1,1,3,1,1,2,4,2,1,2,1,1,1,1,1,3,1,1,1,2,1,3,1,1,1,2,1,4,1,1,1,1,1,1,1,2,1,1,1,1,1,1,1,1,1,1],\"coloraxis\":\"coloraxis\",\"symbol\":\"circle\"},\"mode\":\"markers\",\"name\":\"\",\"showlegend\":false,\"x\":[2.2690138816833496,-7.545984268188477,-2.1678617000579834,6.44523811340332,-2.935202121734619,25.783231735229492,9.038473129272461,19.363157272338867,14.681347846984863,23.042156219482422,9.85847282409668,23.080984115600586,17.88780403137207,32.44599151611328,17.980201721191406,15.984167098999023,-4.825305461883545,-1.685492992401123,24.65304183959961,31.575719833374023,-5.0418171882629395,3.0211710929870605,28.638336181640625,3.403484582901001,4.244726657867432,-10.15703010559082,6.880775451660156,4.245950222015381,-10.906453132629395,13.019469261169434,-0.05058363080024719,28.725679397583008,1.5711005926132202,-7.23068380355835,-27.283809661865234,-21.477935791015625,18.880722045898438,-8.89482593536377,17.287857055664062,-0.36695319414138794,-2.0765633583068848,7.075599193572998,1.9970250129699707,14.322248458862305,26.234546661376953,30.7637882232666,17.265213012695312,16.145038604736328,-4.426437854766846,3.2947304248809814,19.072031021118164,21.032752990722656,15.504626274108887,-2.144946575164795,33.16379928588867,19.302154541015625,25.092893600463867,17.035985946655273,27.280359268188477,27.499608993530273,26.992490768432617,-9.657081604003906,-12.33381175994873,19.784669876098633,22.117015838623047,-1.620761513710022,-3.875368356704712,-2.512070417404175,3.8081159591674805,9.893117904663086,1.5322327613830566,-16.236717224121094,-3.5921828746795654,-16.10201072692871,-2.154115915298462,5.799455165863037,-0.19566655158996582,-18.155094146728516,2.346224546432495,-11.76755428314209,10.569562911987305,-2.2482948303222656,20.696630477905273,-1.1859210729599,-25.941349029541016,30.87755012512207,5.664506912231445,-2.0883171558380127,13.213844299316406,-3.7252414226531982,15.81645679473877,16.451847076416016,31.550275802612305,-6.098808765411377,0.48088327050209045,-0.960388720035553,1.666372537612915,18.493600845336914,27.473176956176758,24.88704490661621,-3.953051805496216,-4.740091800689697,-38.082881927490234,-35.8021240234375,-17.689998626708984,-12.284852981567383,25.352819442749023,10.068509101867676,1.4644174575805664,-22.29054069519043,6.359281063079834,-13.00035572052002,32.989784240722656,13.418708801269531,-2.91070818901062,35.44998550415039,-2.7558352947235107,-3.572077989578247,27.53017807006836,-11.294689178466797,-2.6748290061950684,0.00983605906367302,-3.435964345932007,34.612648010253906,-2.340132474899292,20.62895965576172,21.852266311645508,5.825850486755371,6.2470831871032715,-25.548154830932617,27.76923179626465,25.086645126342773,20.673097610473633,27.61758041381836,14.233678817749023,16.912214279174805,30.3917179107666,-14.21795654296875,-16.90570831298828,-11.117794036865234,1.8138200044631958,-5.137622833251953,1.8112339973449707,1.3780516386032104,-14.401780128479004,-13.181100845336914,-4.906749248504639,-12.800408363342285,11.646623611450195,27.032926559448242,18.984201431274414,6.717684268951416,-13.11133098602295,10.975067138671875,-3.6811513900756836,7.005662441253662,10.985941886901855,-15.223705291748047,-4.597179889678955,15.284483909606934,-3.538524627685547,13.926260948181152,-0.756910502910614,-3.172614812850952,27.905868530273438,21.445201873779297,-22.269237518310547,12.896041870117188,38.97801208496094,29.770469665527344,28.26881217956543,3.1972856521606445,1.1263079643249512,2.109912157058716,16.599655151367188,10.773179054260254,11.292716979980469,23.638505935668945,17.867725372314453,14.595524787902832,3.1988911628723145,8.725110054016113,9.10737419128418,1.372836709022522,18.132375717163086,0.495688259601593,21.886165618896484,15.010842323303223,21.099700927734375,18.942405700683594,20.415992736816406,30.679676055908203,18.393430709838867,18.081953048706055,0.22721965610980988,10.819138526916504,27.626527786254883,11.869762420654297,12.12267780303955,13.142679214477539,2.2708113193511963,1.214420199394226,9.015714645385742,1.1624879837036133,3.741097927093506,8.891170501708984,26.67416763305664,15.698324203491211,22.26476287841797,-0.49805766344070435,17.386585235595703,28.882577896118164,17.133563995361328,10.82987117767334,1.6341696977615356,7.274794578552246,-5.630124092102051,-4.419795989990234,-0.298687607049942,19.56316566467285,32.15326690673828,2.035694122314453,16.423614501953125,25.113195419311523,-6.428665637969971,-6.867499351501465,-4.167740821838379,0.7322359681129456,-12.507753372192383,-1.0665916204452515,-24.024686813354492,-0.4380354583263397,-7.022884368896484,18.666934967041016,1.7897989749908447,23.741273880004883,5.211034297943115,20.052043914794922,-3.2593536376953125,1.0730750560760498,-3.807037830352783,31.611238479614258,-11.711414337158203,16.01797103881836,-8.670981407165527,11.380614280700684,-18.47587776184082,14.451396942138672,14.080585479736328,-2.207242965698242,32.787269592285156,-8.594403266906738,24.526830673217773,-16.43372344970703,-8.106951713562012,24.012405395507812,-1.4789636135101318,1.0640051364898682,-11.732935905456543,-19.641008377075195,-14.928136825561523,31.505596160888672,-25.10773468017578,-8.40290355682373,1.0932191610336304,-0.9017676711082458,16.40227508544922,11.396843910217285,35.810054779052734,-0.7960710525512695,-2.542464017868042,30.174325942993164,14.2558012008667,-4.916685104370117,36.82307052612305,34.58809280395508,4.645634651184082,-6.442907333374023,12.929583549499512,-5.558121204376221,-5.572277069091797,-1.9662060737609863,31.3792667388916,3.47996187210083,32.11802673339844,36.901161193847656,24.280292510986328,-4.56066370010376,0.976630449295044,-16.61465835571289,-3.7585134506225586,26.60610580444336,5.910887718200684,-4.860725402832031,6.154284954071045,-7.090898513793945,24.356395721435547,14.834246635437012,14.97321891784668,-2.506648063659668,-2.538092613220215,30.271047592163086,32.23682403564453,-7.0557708740234375,32.74070358276367,25.727184295654297,-2.530930280685425,19.028093338012695,-4.63653564453125,-6.118095874786377,23.214731216430664,-6.313858985900879,1.0846366882324219,-35.83917999267578,29.67793846130371,29.877155303955078,16.056453704833984,19.266162872314453,15.207334518432617,8.588443756103516,13.833168983459473,-4.429901599884033,-12.596641540527344,19.642900466918945,-11.824362754821777,-3.125370740890503,-2.4395673274993896,-3.017069101333618,-3.838465690612793,2.284912586212158,-6.503371715545654,-5.125864028930664,-4.733696937561035,27.472984313964844,-8.744458198547363,-14.111374855041504,4.098806381225586,-11.679788589477539,1.716476321220398,36.653236389160156,0.815534770488739,-6.697507858276367,-1.377962589263916,28.50147247314453,33.60247039794922,31.637569427490234,6.616566181182861,-3.6004154682159424,-3.7843704223632812,-0.8655192255973816,-1.0759949684143066,-25.15675163269043,-9.418062210083008,-2.749939203262329,7.4095458984375,-17.976354598999023,20.547040939331055,-11.316926002502441,2.17861008644104,20.001230239868164,3.0625247955322266,-11.831808090209961,-16.127727508544922,-19.516284942626953,-7.71625280380249,-4.139541149139404,8.300493240356445,-15.251452445983887,13.898258209228516,-12.578279495239258,13.31694507598877,29.611791610717773,-7.018287658691406,-13.0414457321167,-26.733043670654297,-7.069217205047607,-13.678869247436523,0.830843985080719,16.733800888061523,-8.718132972717285,31.589866638183594,16.032407760620117,-24.158695220947266,-22.50275421142578,-1.0460070371627808,-14.314599990844727,23.22471046447754,-15.133852005004883,-1.393062949180603,10.162425994873047,-9.243383407592773,-6.368716716766357,-2.1963939666748047,-12.351673126220703,-15.236108779907227,1.4257756471633911,-16.586063385009766,-20.410314559936523,-8.74770450592041,-15.513572692871094,-19.60818862915039,-3.4447755813598633,-4.948160171508789,19.408065795898438,-3.5203053951263428,-21.700340270996094,-17.677053451538086,38.96799087524414,-6.097432613372803,-5.046504020690918,0.704434871673584,-2.425494909286499,0.6548033952713013,20.92572021484375,-3.983422040939331,-1.7062633037567139,-0.08548623323440552,0.4716305732727051,1.7018890380859375,15.718498229980469,-3.925293207168579,-11.26635456085205,21.004257202148438,-37.174190521240234,32.810298919677734,-2.6619558334350586,22.298185348510742,30.760704040527344,11.381916999816895,34.62948989868164,0.056909941136837006,28.466230392456055,16.353797912597656,11.111761093139648,2.4099221229553223,12.962276458740234,-35.29901885986328,-35.695777893066406,-33.322021484375,-24.020963668823242,2.144538164138794,-23.799280166625977,19.224170684814453,5.8824615478515625,14.660055160522461,-10.391705513000488,18.6159725189209,8.000441551208496,-7.542191028594971,-17.236719131469727,-3.2758748531341553,-14.594621658325195,-18.701332092285156,-10.490477561950684,-9.21116828918457,-12.667013168334961,-16.833566665649414,34.3719596862793,20.096370697021484,8.94808292388916,13.688913345336914,13.014132499694824,21.75834846496582,23.9456844329834,0.30667024850845337,25.033676147460938,21.458393096923828,-6.316184997558594,17.029300689697266,-5.722748756408691,14.993441581726074,-4.896972179412842,0.6871691942214966,33.24654769897461,33.6619758605957,-7.751661777496338,18.0174560546875,26.65106964111328,23.972917556762695,21.933349609375,25.075725555419922,22.147279739379883,24.09686851501465,15.976844787597656,25.64771270751953,15.561884880065918,9.38814640045166,23.53485870361328,28.103979110717773,26.8015193939209,11.54057502746582,15.431394577026367,21.761945724487305,19.936628341674805,1.6991301774978638,19.00609588623047,12.291250228881836,25.136940002441406,29.843725204467773,3.877422571182251,27.41364288330078,-13.405840873718262,10.69749641418457,24.901187896728516,12.47449779510498,18.730470657348633,27.788124084472656,18.646718978881836,30.78227996826172,24.449569702148438,23.201614379882812,24.448320388793945,25.632381439208984,33.91170883178711,26.21705436706543,25.605833053588867,29.879955291748047,28.825420379638672,21.481050491333008,5.4808573722839355,17.188133239746094,27.589147567749023,23.184860229492188,28.31256103515625,10.717496871948242,16.818159103393555,19.606456756591797,22.39434814453125,29.13578987121582,10.080033302307129,26.585166931152344,24.760379791259766,18.646438598632812,22.444683074951172,-4.3837666511535645,19.304834365844727,27.558469772338867,-1.914399266242981,-11.490921020507812,-12.97248649597168,-5.403475284576416,-16.915149688720703,30.46869468688965,23.092416763305664,-27.997478485107422,-11.562288284301758,25.2996883392334,-26.255857467651367,21.494287490844727,-7.278323173522949,-15.273636817932129,-3.3439013957977295,0.5040415525436401,-8.493173599243164,-18.913047790527344,10.415695190429688,21.280868530273438,19.459352493286133,-5.401810169219971,-13.910417556762695,-9.113466262817383,-3.5476651191711426,-15.92164134979248,-10.93618106842041,-20.90036392211914,-2.410609006881714,2.2015483379364014,3.530378580093384,-14.411677360534668,-6.6970744132995605,-18.013032913208008,0.26315733790397644,-8.140959739685059,-15.79916000366211,-14.948169708251953,-12.103435516357422,-29.52672576904297,-9.6359281539917,-7.098824501037598,12.663311958312988,-3.950387716293335,29.398698806762695,16.18117332458496,14.302988052368164,-23.341257095336914,-18.41758918762207,9.92270565032959,2.426492929458618,29.165767669677734,-27.954879760742188,-2.154221773147583,2.348484516143799,13.986757278442383,9.325166702270508,-10.863922119140625,-2.7783186435699463,-4.007778644561768,-20.935791015625,-38.684669494628906,-13.895357131958008,8.488473892211914,10.409613609313965,23.205249786376953,25.67588996887207,17.160926818847656,23.442691802978516,30.694913864135742,26.740814208984375,16.55198097229004,26.176334381103516,26.72522735595703,7.275145530700684,15.291007041931152,6.341226577758789,24.487258911132812,11.165033340454102,12.376105308532715,17.2406005859375,-0.9965336322784424,-17.94772720336914,-14.023101806640625,0.990347683429718,-9.551071166992188,-19.095794677734375,-5.148244380950928,24.26136016845703,-7.652318000793457,-1.6493737697601318,6.394383430480957,0.37749776244163513,32.55540466308594,18.514097213745117,25.37630844116211,19.431995391845703,13.659807205200195,4.4600982666015625,16.036148071289062,24.6823673248291,14.36130142211914,16.42890739440918,22.168954849243164,30.905296325683594,-8.089737892150879,20.8553466796875,24.287919998168945,6.608180999755859,29.242551803588867,25.581192016601562,11.620965957641602,24.071487426757812,20.676164627075195,21.478134155273438,29.945947647094727,26.876609802246094,19.887666702270508,26.688993453979492,23.284156799316406,-4.930552959442139,9.365904808044434,7.251276016235352,23.427719116210938,-18.170406341552734,15.129786491394043,21.933650970458984,2.205281972885132,-20.94089698791504,-20.462820053100586,-13.126519203186035,-26.220151901245117,-7.350727558135986,7.857436656951904,3.4927926063537598,2.212977409362793,-14.669829368591309,16.335168838500977,15.588760375976562,-50.498451232910156,-12.888324737548828,-14.264199256896973,-0.8131338953971863,-14.065476417541504,-11.070719718933105,-12.673293113708496,4.811689376831055,-3.738579273223877,-8.878408432006836,-17.269018173217773,-20.621641159057617,-3.466405153274536,1.06382155418396,15.371101379394531,-2.09213924407959,2.312971830368042,24.842267990112305,14.896427154541016,0.1588190197944641,19.207746505737305,0.07448487728834152,6.899479389190674,-7.970396995544434,12.9178466796875,-11.497784614562988,11.656545639038086,-7.760994911193848,22.36956787109375,1.7210341691970825,23.263883590698242,32.79866409301758,29.760194778442383,3.5719292163848877,-50.71200180053711,5.376076698303223,34.182891845703125,15.550908088684082,19.346237182617188,6.185062885284424,-9.733187675476074,20.977243423461914,-14.15984058380127,-10.156347274780273,-3.5315465927124023,-14.687506675720215,10.785582542419434,16.257814407348633,-5.770226955413818,-21.076261520385742,2.1665592193603516,-12.108467102050781,0.5037554502487183,12.31969165802002,-6.418893337249756,-1.1868482828140259,13.875412940979004,-6.314694404602051,8.636605262756348,27.4530029296875,-10.600732803344727,-12.671525955200195,-3.077873706817627,17.641462326049805,-4.5466485023498535,-3.621001958847046,-23.544418334960938,16.30527114868164,21.52577781677246,4.954555511474609,8.86788558959961,-3.5720481872558594,-6.828751564025879,0.8133102655410767,-0.5408105850219727,-2.0815744400024414,26.0601749420166,9.879709243774414,-8.866372108459473,-11.240971565246582,-6.124161243438721,-26.711347579956055,-14.744553565979004,3.956800937652588,-4.035247325897217,-3.48884916305542,-1.4187126159667969,2.3177268505096436,-5.220489978790283,12.318617820739746,6.140223503112793,-12.556946754455566,-14.010486602783203,16.568700790405273,-19.60319709777832,18.83125877380371,18.587902069091797,-9.198057174682617,-15.005544662475586,0.8802130818367004,-24.384254455566406,3.5378386974334717,-12.128423690795898,-2.2458431720733643,-7.018509387969971,8.577640533447266,-19.29100799560547,-51.50937271118164,-11.82259750366211,-12.16592788696289,-6.5364990234375,-49.49649429321289,17.135066986083984,-0.3566594421863556,-23.732229232788086,20.401700973510742,10.61071491241455,-3.7425949573516846,-17.194190979003906,-9.77718448638916,-12.354409217834473,-31.73153305053711,27.734233856201172,-5.995683670043945,-16.274703979492188,-8.539201736450195,10.384079933166504,-10.138409614562988,19.383460998535156,5.646663665771484,2.227172374725342,-11.851608276367188,-8.482325553894043,-9.45563793182373,24.923320770263672,-6.257434844970703,34.211212158203125,-49.87434005737305,-8.913444519042969,-22.22161293029785,-5.719528675079346,9.581405639648438,-7.3991169929504395,-19.70963478088379,-7.079603672027588,16.34253692626953,-7.380668640136719,-11.521671295166016,-5.744490623474121,-16.01179313659668,-9.641651153564453,-2.2250001430511475,-13.05168342590332,-37.96800231933594,-17.651264190673828,-16.276660919189453,-6.243894100189209,-25.83095359802246,28.064895629882812,13.398049354553223,8.791210174560547,-20.29646873474121,-39.633182525634766,-11.467742919921875,-16.567947387695312,23.292879104614258,4.574208736419678,14.968314170837402,17.32063865661621,-9.638416290283203,22.227664947509766,14.646504402160645,-5.71392297744751,21.420246124267578,27.817977905273438,-38.97809982299805,13.670014381408691,13.731644630432129,25.076200485229492,22.94106674194336,-26.016813278198242,-35.19318771362305,3.1103439331054688,5.78360652923584,3.764096736907959,-30.27979850769043,11.194891929626465,5.652561187744141,27.857641220092773,-5.172377586364746,27.85808753967285,13.983738899230957,-15.955118179321289,-11.124153137207031,-14.32413101196289,6.7055344581604,-4.860072612762451,4.441590785980225,-6.88778018951416,-11.868803024291992,-8.859565734863281,-13.911852836608887,-4.340513706207275,7.717550277709961,-11.850804328918457,3.1829936504364014,19.97588348388672,23.914325714111328,-17.54062271118164,21.372652053833008,25.972558975219727,2.113279104232788,31.692028045654297,-24.46226692199707,-3.876513957977295,-8.79249095916748,-7.916995048522949,-23.277366638183594,-6.758205890655518,26.006139755249023,-21.307342529296875,2.7352495193481445,25.300294876098633,22.590137481689453,-27.26081085205078,24.094600677490234,9.351883888244629,2.447803497314453,-1.185597538948059,2.562741994857788,-17.741544723510742,-9.81181526184082,21.79817008972168,-27.30602264404297,-24.623571395874023,6.322964668273926,-39.81086730957031,-6.633610248565674,14.143457412719727,-1.8255603313446045,12.750060081481934,-0.5126776099205017,25.180980682373047,-10.860756874084473,25.352590560913086,28.164295196533203,26.432268142700195,18.104700088500977,-9.778568267822266,-10.038102149963379,-35.960777282714844,-9.58742618560791,0.21294602751731873,-18.58812141418457,-27.817487716674805,-16.35216522216797,-7.620975017547607,-5.284357070922852,22.952226638793945,19.70500946044922,-6.810868263244629,-7.572289943695068,-2.066114664077759,-21.842485427856445,-7.127349376678467,8.100003242492676,0.02046160399913788,-7.739601135253906,8.676506996154785,-5.134644508361816,25.266700744628906,-18.1835880279541,10.831645965576172,11.819989204406738,4.8773932456970215,-11.965072631835938,29.524824142456055,4.283252716064453,31.016735076904297,12.08307933807373,9.071846961975098,25.472715377807617,0.5795651078224182,23.718822479248047,22.509166717529297,16.70437240600586,12.571501731872559,24.97463035583496,24.567502975463867,2.1513166427612305,7.717522621154785,-4.1987175941467285,22.902925491333008,23.47184944152832,23.6334171295166,28.97209930419922,6.953716278076172,-20.98320960998535,8.570420265197754,-17.097309112548828,-7.2697319984436035,15.470684051513672,1.591324806213379,35.59432601928711,-17.38699722290039,-18.24735450744629,-18.159446716308594,-11.299906730651855,15.800223350524902,-12.46209716796875,-24.099788665771484,-14.96237850189209,-0.4515530467033386,1.1372877359390259,-19.9418888092041,-23.815204620361328,-2.4750707149505615,13.709195137023926,29.083463668823242,-15.226269721984863,-23.339656829833984,-17.444244384765625,-7.33664083480835,-14.291399955749512,-23.432647705078125,-13.474149703979492,-27.89869499206543,-6.991549015045166,13.01229476928711,20.43988800048828,6.770295143127441,21.97311019897461,14.547481536865234,14.235823631286621,19.355506896972656,7.609833240509033,-14.961360931396484,-7.935205936431885,-5.450043201446533,-2.7206685543060303,-9.496569633483887,-5.088078022003174,18.951866149902344,25.236173629760742,22.29050064086914,5.002558708190918,-10.846223831176758,26.10389518737793,-12.936238288879395,1.8252204656600952,-34.569297790527344,-4.303314208984375,-21.307065963745117,-13.918283462524414,-17.413728713989258,-14.40735149383545,-11.284188270568848,-18.862323760986328,-6.267870903015137,-13.2135009765625,-29.617870330810547,-0.3062761723995209,17.114105224609375,-15.0260648727417,-12.213996887207031,-1.1313828229904175,-12.167954444885254,17.062908172607422,22.299758911132812,-6.6861772537231445,-13.267958641052246,16.258495330810547,-16.128019332885742,13.01870059967041,-10.137560844421387,-17.645605087280273,-6.1139607429504395,-16.410114288330078,-2.673947334289551,5.718917369842529,-1.0926244258880615,-1.6004880666732788,-12.24846363067627,11.095663070678711,-10.287698745727539,25.6119441986084,18.875003814697266,22.688756942749023,20.804859161376953,14.832056999206543,30.759563446044922,17.253000259399414,7.251957893371582,20.12846565246582,19.724485397338867,-16.37510871887207,22.883569717407227,-4.564966678619385,18.781963348388672,-8.443215370178223,20.363487243652344,-8.953180313110352,-19.2974853515625,20.420095443725586,20.91767120361328,-7.639955043792725,-19.141740798950195,26.956012725830078,35.61637496948242,-5.400227069854736,-34.0090217590332,-28.713451385498047,-17.838977813720703,-19.512861251831055,-8.288154602050781,-16.712387084960938,21.779457092285156,-22.813852310180664,-20.203964233398438,8.659933090209961,24.526748657226562,9.575864791870117,23.053035736083984,6.66187047958374,24.51109504699707,-16.686376571655273,24.82697105407715,-22.808774948120117,-8.586383819580078,3.3946614265441895,-5.374803066253662,17.654930114746094,17.401193618774414,23.087038040161133,23.180444717407227,4.920181751251221,9.24419116973877,4.953970432281494,19.460830688476562,22.269222259521484,8.991092681884766,8.703803062438965,-10.120594024658203,7.915285110473633,23.500703811645508,23.246509552001953,12.027777671813965,11.829880714416504,27.019588470458984,20.317419052124023,-7.4059062004089355,10.908149719238281,25.111892700195312,6.470629692077637,31.37720489501953,9.613741874694824,-9.71719741821289,23.920284271240234,3.5219926834106445,17.100786209106445,25.658302307128906,-2.3851678371429443,-8.384526252746582,-26.04623031616211,10.413854598999023,34.264122009277344,9.724649429321289,12.072701454162598,-12.841118812561035,-34.1081657409668,13.266010284423828,12.129815101623535,28.407936096191406,18.720651626586914,-20.54271125793457,-7.385868072509766,30.14924430847168,3.0068116188049316,-50.013668060302734,9.032477378845215,-14.978276252746582,25.197731018066406,7.7388596534729,-3.653350591659546,15.05575180053711,-30.067302703857422,-6.32943058013916,-18.04509735107422,-20.80152702331543,19.202688217163086,21.91176414489746,3.4545440673828125,25.659008026123047,17.54865264892578,20.63250160217285,21.345447540283203,-3.156675338745117,12.90504264831543,24.162330627441406,27.643352508544922,-24.038379669189453,-22.687841415405273,-20.05359649658203,-18.274011611938477,-24.301624298095703,-13.350536346435547,-21.395160675048828,7.472065448760986,-17.16422462463379,9.014925003051758,2.277195692062378,-11.912712097167969,8.105851173400879,-5.292287349700928,23.48384666442871,14.183211326599121,26.43375015258789,20.877763748168945,10.798928260803223,14.375612258911133,18.50229263305664,14.173345565795898,-12.979879379272461,10.858917236328125,-51.655941009521484,25.221038818359375,25.665796279907227,11.01970386505127,-17.744165420532227,-13.966880798339844,-14.218064308166504,-11.032352447509766,-19.469987869262695,-13.489460945129395,30.89265251159668,18.670948028564453,-12.674583435058594,-27.681169509887695,-30.673694610595703,11.708476066589355,-10.438572883605957,0.14165809750556946,-3.75866961479187,-10.058472633361816,6.841698169708252,4.8979692459106445,11.029824256896973,-7.7089409828186035,-13.458203315734863,18.390504837036133,16.264726638793945,-16.56773567199707,-22.117271423339844,-29.961341857910156,-15.544565200805664,7.044764041900635,8.585176467895508,1.7394671440124512,-3.188385248184204,-49.44477081298828,-2.963595390319824,-9.138572692871094,-14.003500938415527,25.91103744506836,17.37224578857422,-22.753976821899414,-2.561885356903076,-12.065290451049805,20.73670196533203,-23.22327423095703,-20.909202575683594,5.583587169647217,-10.909626960754395,-35.84050750732422,24.51467514038086,21.78482437133789,-8.512775421142578,-32.5586051940918,10.223217964172363,8.219496726989746,-23.118839263916016,5.705009460449219,-10.523477554321289,-20.86937713623047,22.958003997802734,7.695252895355225,17.976573944091797,6.733834743499756,0.8184122443199158,28.069787979125977,14.566981315612793,21.884613037109375,0.6723344922065735,-15.72998046875,-12.958558082580566,8.88549518585205,-21.691417694091797,-18.767087936401367,-9.940265655517578,-12.47940444946289,7.362934589385986,11.314866065979004,-13.733339309692383,-9.64330005645752,7.34598970413208,12.953611373901367,-15.890228271484375,-6.042579174041748,0.2116524875164032,30.375186920166016,-36.675514221191406,6.446299076080322,-21.75621223449707,-49.505287170410156,6.337179183959961,-22.565805435180664,15.761798858642578,-4.0303144454956055,-8.562226295471191,17.28947639465332,-15.009169578552246,23.71406364440918,16.775794982910156,-20.20026206970215,6.364622592926025,24.38196563720703,-12.064315795898438,-51.273681640625,-24.114795684814453,-0.16009610891342163,-24.248668670654297,-36.09763717651367,-53.03799057006836,-10.302821159362793,-21.7154541015625,5.304242134094238,12.981139183044434,-18.363515853881836,17.839513778686523,1.1373770236968994,-35.150962829589844,-23.168848037719727,9.847475051879883,-36.00301742553711,-14.93729019165039,11.545727729797363,17.912578582763672,7.499517917633057,-35.41853713989258,16.78777313232422,-21.15387725830078,23.636960983276367,-49.575782775878906,8.658417701721191,18.734638214111328,-11.00853157043457,18.065040588378906,-36.522125244140625,-10.552850723266602,-20.001571655273438,-14.406973838806152,11.087786674499512,-36.178707122802734,-36.01295852661133,-36.361473083496094,17.45440101623535,-36.42317581176758,17.680891036987305,-17.256948471069336,1.4850972890853882,-19.590688705444336,-35.96426773071289,-50.479827880859375,-36.460350036621094,9.164753913879395,-35.604736328125,13.73561954498291,-35.297569274902344,-8.358177185058594,9.016059875488281,-23.081716537475586,19.8646183013916,-35.00121307373047,-23.43315887451172,33.70109939575195,-36.292232513427734,-36.02345275878906,-49.50521469116211,-22.957056045532227,-36.48558807373047,26.163665771484375,29.914337158203125,11.485650062561035,23.752931594848633,-34.74269104003906,10.856240272521973,-35.84743118286133,-37.036556243896484,23.104795455932617,-30.085765838623047,18.49459457397461,15.173070907592773,20.430545806884766,10.285920143127441,18.247726440429688,2.4837071895599365,-21.948076248168945,-36.981014251708984,21.83064842224121,-37.847991943359375,-7.941145420074463,24.092863082885742,-7.761340618133545,-7.282793998718262,-7.012517929077148,-14.188633918762207,-13.232159614562988,24.881919860839844,14.333157539367676,9.279905319213867,22.738595962524414,10.299912452697754,-18.004745483398438,11.913904190063477,3.167487621307373,-21.88980484008789,10.889853477478027,16.581401824951172,29.95195198059082,7.260873794555664,-8.121529579162598,-35.907772064208984,-6.43035888671875,-5.739370346069336,5.073601245880127,-33.87554168701172,-13.104461669921875,-22.454439163208008,-23.019323348999023,-25.256826400756836,9.161449432373047,28.978435516357422,-19.854860305786133,-22.951921463012695,21.62257194519043,-19.282432556152344,-24.147418975830078,10.272552490234375,10.57254695892334,20.15056800842285,-27.083391189575195,19.37940788269043,0.941905677318573,-6.3138628005981445,-1.0130678415298462,-22.883962631225586,-5.2422943115234375,19.675159454345703,-11.01224136352539,-25.139345169067383,-19.11194610595703,10.813238143920898,-6.128863334655762,-4.973358631134033,-9.184432029724121,-8.885034561157227,-0.3049265146255493,-16.470808029174805,23.49890899658203,-12.829180717468262,9.009989738464355,-51.217647552490234,27.506807327270508,8.889979362487793,22.258623123168945,22.034616470336914,-52.154884338378906,-7.126014232635498,-17.884052276611328,9.824603080749512,8.933012962341309,22.120969772338867,17.03587532043457,-50.95485305786133,-26.855409622192383,20.539775848388672,-20.731182098388672,10.99661636352539,7.645085334777832,26.71658706665039,8.918075561523438,-2.3485500812530518,-5.697488307952881,-22.56316375732422,-7.9049177169799805,-53.070308685302734,16.420698165893555,10.321420669555664,19.394428253173828,-48.575408935546875,-8.600598335266113,4.056495189666748,-10.443798065185547,-23.14278793334961,-15.724496841430664,7.092940807342529,-4.58066987991333,-0.22635090351104736,5.81380558013916,-38.39794921875,-26.150413513183594,8.403387069702148,-17.736555099487305,-15.466500282287598,-50.39456558227539,-14.824356079101562,-52.73193359375,-39.17865753173828,6.1531291007995605,-30.116384506225586,-27.51890754699707,-15.309331893920898,22.62150001525879,8.60429859161377,10.034777641296387,-37.484317779541016,3.8089675903320312,1.147037148475647,-49.95949172973633,25.25616455078125,8.043118476867676,-14.920703887939453,-24.38861656188965,-9.328645706176758,18.31129264831543,27.01529312133789,-22.756999969482422,4.057877540588379,4.288419723510742,8.737662315368652,-2.108177661895752,-7.095507621765137,-6.681304454803467,-7.051944732666016,-9.915813446044922,-19.624679565429688,-26.702476501464844,25.321874618530273,17.61563491821289,-50.49655532836914,-24.155412673950195,9.3922758102417,20.03931427001953,-23.82048988342285,5.645028591156006,-25.06494903564453,31.377132415771484,-21.338186264038086,22.86302947998047,23.94504737854004,25.70091438293457,6.169229507446289,-22.82534408569336,-11.476911544799805,11.027406692504883,-10.743000030517578,-51.44329071044922,-5.360985279083252,2.1401207447052,-37.844974517822266,-52.07099151611328,-33.40202331542969,-37.75269317626953,-17.076528549194336,-52.75630569458008,-13.825409889221191,7.244726181030273,-17.07289695739746,20.295429229736328,-20.560455322265625,-32.847137451171875,23.137548446655273,-37.874305725097656,23.66219139099121,-38.03147506713867,-34.28160858154297,-34.41195297241211,-53.209754943847656,-34.546607971191406,-50.37983322143555,-52.350921630859375,-35.05397415161133,-33.48942565917969,-48.95838928222656,-33.46501541137695,-34.71360397338867,-34.42478561401367,-33.40505599975586,-34.63523864746094,-33.96043395996094,-34.183650970458984,9.429393768310547,-34.466827392578125,-34.440147399902344,-52.31690979003906,-35.424232482910156,-49.779293060302734,-51.03505325317383,9.800025939941406,-34.22172546386719,-34.002342224121094,-7.108787536621094,22.639270782470703,-7.737512588500977,18.523862838745117,19.88726234436035,-53.432979583740234,3.7945187091827393,-51.63180160522461,-24.37436294555664,3.547264337539673,-16.428781509399414,30.56489372253418,11.196755409240723,-34.26688003540039,19.944814682006836,-50.75613021850586,13.049481391906738,-9.273165702819824,-25.042638778686523,24.989795684814453,-22.628082275390625,-36.71227264404297,-22.21856689453125,11.562395095825195,0.07950955629348755,-5.222411632537842,-53.13071823120117,-8.397398948669434,-50.139732360839844,24.52602767944336,-51.3341064453125,7.022621154785156,-7.233771800994873,-39.232421875,-10.412352561950684,12.356809616088867,-22.4505615234375,6.268516540527344,-38.761775970458984,-9.698994636535645,17.379135131835938,24.401512145996094,9.048077583312988,-26.73517608642578,9.412650108337402,9.317874908447266,-24.932167053222656,9.508930206298828,-51.49763870239258,9.185290336608887,-51.59656524658203,10.526388168334961,8.654192924499512,-50.478660583496094,24.081289291381836,1.9479318857192993,-52.59685516357422,-50.29311752319336,25.818958282470703,9.104142189025879,-50.34367370605469,9.554704666137695,-51.87091827392578,-53.19632339477539,-11.047856330871582,-51.554019927978516,-51.47871780395508,-52.072662353515625,-22.687406539916992,-17.724390029907227,9.59044075012207,-39.05873489379883,-34.80610656738281,-34.382930755615234,-22.69147491455078,-21.977130889892578,12.198573112487793,-52.647117614746094,-21.916112899780273,-7.608500957489014,-7.916018962860107,-22.338172912597656,-7.41968297958374,-37.25777053833008,-23.021135330200195,-11.478837966918945,20.086036682128906,-49.76313781738281,-20.294084548950195,10.856355667114258,-38.901859283447266,-3.886514902114868,-21.20799446105957,-16.296878814697266,-8.238199234008789],\"xaxis\":\"x\",\"y\":[2.527850389480591,0.3942316770553589,-18.214876174926758,9.136632919311523,15.400835037231445,-1.1987663507461548,-23.222957611083984,-22.080293655395508,-24.040218353271484,1.731758713722229,-22.718332290649414,-25.18686866760254,-13.19192123413086,-1.9967856407165527,11.002869606018066,-12.118037223815918,-18.186649322509766,-24.748279571533203,4.867221832275391,-6.535046100616455,17.990530014038086,-2.4212899208068848,-15.825674057006836,-20.739587783813477,-16.477924346923828,-19.914888381958008,18.488615036010742,-2.457423210144043,12.612761497497559,-10.712416648864746,-3.8131351470947266,4.932455062866211,-21.59589958190918,5.685197830200195,13.388189315795898,8.305386543273926,2.8709990978240967,7.1639814376831055,-4.034217357635498,11.370499610900879,-15.734585762023926,-22.87061882019043,-13.794074058532715,7.789176940917969,-3.1672730445861816,1.5138232707977295,-11.889419555664062,-25.526384353637695,-11.20978832244873,0.043658528476953506,12.22899055480957,-14.020797729492188,-2.861603021621704,8.459216117858887,-4.666667938232422,-15.253715515136719,-8.389098167419434,-16.78089141845703,4.612277984619141,4.621109485626221,4.762199878692627,12.574326515197754,2.2221004962921143,-26.673734664916992,5.63590145111084,-2.8451485633850098,-17.321630477905273,-16.5952091217041,-2.392160654067993,-3.724374771118164,-9.132644653320312,7.506051540374756,19.76769256591797,-16.103418350219727,2.972508192062378,-1.0310736894607544,-3.1824169158935547,10.832039833068848,-2.680157423019409,-12.021712303161621,-18.981266021728516,-1.0964163541793823,9.226103782653809,10.108959197998047,-0.06907542794942856,-5.570483207702637,-3.549907922744751,-3.9481091499328613,-26.06818962097168,-23.39031410217285,-5.524158000946045,-2.341715097427368,-3.9156534671783447,0.9964046478271484,0.01464441791176796,-1.0790719985961914,-5.391589164733887,-26.380046844482422,-24.4666805267334,-23.701650619506836,-1.3909777402877808,-9.879944801330566,3.8811843395233154,1.6358894109725952,9.113021850585938,7.255349159240723,-19.94526481628418,-14.229342460632324,-20.8302059173584,-11.084927558898926,-5.833327770233154,11.105817794799805,-3.9885311126708984,-22.220869064331055,-16.106571197509766,-4.307028293609619,19.005847930908203,13.0054931640625,-8.6468505859375,12.80955696105957,11.446935653686523,-25.137147903442383,2.4042320251464844,-1.9521255493164062,8.02255630493164,11.497604370117188,-25.206592559814453,-16.801969528198242,-21.00005340576172,8.036067008972168,-19.557403564453125,-26.312047958374023,-27.759523391723633,-21.452396392822266,-26.606117248535156,-27.689992904663086,-14.97336483001709,8.439635276794434,-0.9830264449119568,1.2923306226730347,-9.05675983428955,-9.98924732208252,-6.893126010894775,-1.552791953086853,3.6513702869415283,-5.6823506355285645,-4.588469505310059,17.546144485473633,9.706998825073242,1.2870113849639893,-14.074180603027344,-16.17605972290039,-20.402368545532227,-18.49662971496582,15.937321662902832,-22.472606658935547,-25.201391220092773,-5.6164631843566895,3.5061638355255127,-1.1795930862426758,10.9685640335083,-17.61170196533203,-15.727426528930664,-0.17830470204353333,-2.684366226196289,-11.931839942932129,-11.202067375183105,-25.683801651000977,-6.968855857849121,-6.541773319244385,-2.754432201385498,-0.035603031516075134,-1.017496109008789,-1.1281461715698242,-7.21483039855957,-25.509662628173828,-22.0363712310791,-20.870981216430664,-19.258787155151367,-23.46361541748047,-0.0007476272294297814,-21.462726593017578,-26.577043533325195,-20.230100631713867,-19.943662643432617,-0.40474092960357666,-24.967926025390625,-13.333701133728027,9.001646995544434,-17.459077835083008,-24.682952880859375,-10.835067749023438,-23.8626651763916,-28.59204864501953,-1.4132723808288574,-7.85881233215332,-19.61171531677246,-6.378750801086426,-22.19405746459961,-1.3201369047164917,-21.639406204223633,1.6753884553909302,-21.4786376953125,-1.7284886837005615,-7.863772869110107,-19.42265510559082,0.2651480436325073,-21.21700096130371,-19.7779541015625,-2.5153417587280273,-26.70854377746582,3.1894211769104004,-14.914877891540527,-23.233348846435547,-5.335853576660156,-4.835085391998291,-1.679542899131775,-1.5540846586227417,-19.467914581298828,16.442832946777344,-2.418003797531128,3.2709813117980957,-23.890689849853516,-3.2010021209716797,13.417433738708496,0.4839365780353546,1.1962435245513916,-1.065134048461914,3.596463441848755,-1.3681752681732178,-6.927430152893066,-5.41796350479126,-0.38575267791748047,-22.10491180419922,7.776852607727051,5.845193386077881,-1.2046558856964111,-16.09626007080078,-0.28305336833000183,-23.14581298828125,-6.876768112182617,0.6749283075332642,26.319129943847656,2.2642886638641357,27.435888290405273,-2.6317665576934814,11.402267456054688,5.623858451843262,12.835304260253906,2.878814697265625,-1.3819518089294434,-0.36639970541000366,10.048052787780762,2.66161847114563,3.74870228767395,-2.5735340118408203,3.676666736602783,29.27411460876465,24.093366622924805,19.190492630004883,21.665502548217773,0.24953916668891907,15.172082901000977,25.362268447875977,-2.7394089698791504,14.608307838439941,12.128122329711914,-2.614365577697754,-4.080662250518799,27.355731964111328,29.881704330444336,12.359679222106934,13.378973960876465,13.103930473327637,-3.1437716484069824,-7.514459609985352,-11.968257904052734,14.765016555786133,-18.92838478088379,-4.624766826629639,8.634008407592773,6.4396443367004395,5.5344061851501465,-10.371511459350586,-1.8610093593597412,0.7857330441474915,8.514203071594238,30.012598037719727,18.55326271057129,-16.020437240600586,12.832697868347168,2.4856247901916504,-7.708369731903076,24.260040283203125,-11.365909576416016,10.725418090820312,0.008072339929640293,15.601929664611816,5.241079330444336,12.286615371704102,29.916065216064453,10.883609771728516,3.106571674346924,27.881223678588867,3.5016026496887207,7.609748363494873,29.781972885131836,4.821063041687012,23.8201904296875,28.10157012939453,13.008089065551758,21.617752075195312,29.28523063659668,7.613093852996826,11.812847137451172,11.82429313659668,-25.420297622680664,-26.827844619750977,7.397222995758057,-16.942136764526367,11.85401725769043,27.733327865600586,24.723661422729492,-12.290029525756836,7.667474746704102,27.399478912353516,25.772136688232422,27.527313232421875,21.69938850402832,10.557304382324219,24.33152961730957,27.747716903686523,29.443857192993164,11.748332977294922,24.142595291137695,5.016772747039795,-13.529818534851074,15.515758514404297,20.34319305419922,0.5390774011611938,19.423900604248047,16.424854278564453,23.710086822509766,10.596874237060547,-2.596511125564575,8.907873153686523,20.874656677246094,21.59847068786621,22.578935623168945,20.88096809387207,19.033721923828125,10.043938636779785,16.75489616394043,20.557357788085938,12.728357315063477,-14.572519302368164,-23.951229095458984,4.780496597290039,21.563377380371094,7.471841812133789,19.81780242919922,-18.2271728515625,-7.969334602355957,-7.836939811706543,-12.278215408325195,-8.421547889709473,-2.952437400817871,9.372241020202637,4.078866481781006,13.43909740447998,18.70366668701172,-3.813958168029785,-4.470590114593506,15.321975708007812,7.699346542358398,18.71278953552246,12.317883491516113,-9.19099235534668,5.387111186981201,-1.4479931592941284,-3.735024929046631,0.8964189291000366,-1.5352423191070557,-4.847294330596924,-2.2361021041870117,-14.5852632522583,0.686055600643158,2.7152483463287354,-6.863053798675537,-16.805648803710938,10.873552322387695,-8.714986801147461,-4.733077049255371,17.371274948120117,2.0157861709594727,-24.638011932373047,-5.462347984313965,0.08615929633378983,3.40920090675354,4.279394626617432,7.292479038238525,-4.002777099609375,0.419337660074234,-22.392026901245117,9.895782470703125,5.454830646514893,-10.34726333618164,-6.966915607452393,-7.411061763763428,-16.432249069213867,6.8961687088012695,-25.92000389099121,6.858513832092285,-16.19913673400879,7.2244133949279785,-21.153287887573242,-7.788715839385986,-9.029753684997559,-6.863697528839111,-17.91458511352539,17.517004013061523,-13.559097290039062,-27.756399154663086,6.6865234375,-7.54633903503418,-10.461396217346191,-23.38194465637207,-11.802114486694336,-21.03575897216797,-5.038087844848633,1.0114176273345947,-21.93851089477539,-5.9208807945251465,-10.039615631103516,-9.161033630371094,-10.196884155273438,6.106728553771973,8.77864933013916,10.300950050354004,14.140843391418457,5.586287975311279,13.947184562683105,-20.723142623901367,11.773202896118164,-19.604633331298828,18.053142547607422,-21.696340560913086,-25.523834228515625,12.366811752319336,-7.338102340698242,-6.118294715881348,6.8960795402526855,-3.4166364669799805,2.4812471866607666,-13.051912307739258,8.76849365234375,17.47394561767578,1.8788410425186157,10.876262664794922,-4.973870277404785,-14.086501121520996,-4.343389511108398,-8.896737098693848,-9.024300575256348,-10.24201774597168,-12.612527847290039,-11.961800575256348,17.514259338378906,-7.353806018829346,-9.066646575927734,15.47877025604248,12.52700138092041,-24.99966812133789,-12.531055450439453,-7.21065092086792,11.03872299194336,-10.658636093139648,-13.407179832458496,-22.27887535095215,-23.472509384155273,-17.627471923828125,-20.021320343017578,-22.184629440307617,-19.625267028808594,-6.870474815368652,-21.38377571105957,-7.923873424530029,-1.6955970525741577,-9.569326400756836,-13.510611534118652,-21.90546226501465,-19.579336166381836,-14.866538047790527,-21.005290985107422,-17.177141189575195,-28.211162567138672,-21.345739364624023,-26.380613327026367,-9.748538970947266,-7.954263687133789,-24.233901977539062,-19.858673095703125,-6.279259204864502,-17.8529109954834,-20.177845001220703,-19.90095329284668,-21.72856903076172,-13.955328941345215,-10.957392692565918,-10.941529273986816,-24.30185890197754,-4.5567755699157715,-8.45329475402832,-1.9390262365341187,-22.473751068115234,-7.762876510620117,-14.352755546569824,-14.741732597351074,-17.981348037719727,-3.6245877742767334,-24.120479583740234,-10.891695976257324,-18.736495971679688,-12.329930305480957,-19.085594177246094,-28.01243782043457,-24.6822566986084,-21.80897331237793,8.787030220031738,-16.701255798339844,8.163565635681152,10.7850980758667,-8.575884819030762,-13.52567195892334,7.56093168258667,-8.669149398803711,-10.854670524597168,22.224149703979492,21.87523651123047,-3.9288382530212402,4.412170886993408,7.910080432891846,-6.66120719909668,11.186532974243164,2.946443796157837,-1.9696276187896729,11.85657787322998,4.072510719299316,4.071144104003906,0.7429264783859253,16.991201400756836,4.672978401184082,13.164665222167969,8.7418851852417,11.559982299804688,8.843084335327148,-6.1662726402282715,-3.7269821166992188,0.5925081968307495,-8.099393844604492,-5.709278583526611,-15.834638595581055,11.840316772460938,4.792105197906494,-3.9408137798309326,0.5090261101722717,5.603896141052246,-4.080686569213867,-2.6264140605926514,-2.179786205291748,-4.953631401062012,8.825873374938965,-20.08757209777832,19.189943313598633,-4.596423625946045,-0.10218368470668793,12.250184059143066,12.560773849487305,4.505046844482422,-14.801843643188477,-14.674756050109863,-0.4174038767814636,-3.50276780128479,-14.99400520324707,-7.1271185874938965,-1.9244239330291748,-6.41756010055542,2.1108644008636475,-13.31731128692627,1.3307511806488037,8.358814239501953,-13.257135391235352,-11.890081405639648,12.882543563842773,14.644280433654785,-8.70598316192627,9.827614784240723,-5.0113043785095215,8.884571075439453,-15.987442970275879,-7.8019866943359375,-12.046642303466797,-23.008220672607422,-10.637720108032227,-8.623486518859863,-15.787856101989746,-9.37855339050293,-1.392117977142334,-22.317150115966797,-15.602051734924316,-12.055575370788574,-18.890422821044922,10.02556037902832,-1.1160517930984497,-0.38083600997924805,-5.279002666473389,-16.63584327697754,-17.98379135131836,6.474997043609619,-14.68850326538086,-16.051876068115234,15.862211227416992,6.747682094573975,-11.360973358154297,22.325660705566406,-15.178183555603027,-9.559236526489258,6.360698223114014,-9.093875885009766,-14.076385498046875,-11.07667064666748,-17.005596160888672,-16.15065574645996,-18.850568771362305,-2.1699743270874023,-20.159704208374023,-1.172175645828247,-13.979040145874023,-10.926830291748047,-13.140983581542969,-10.245553016662598,-13.705923080444336,-18.995819091796875,-20.064682006835938,-1.586945652961731,-21.494632720947266,-14.915717124938965,-11.532594680786133,-17.82259750366211,2.4231812953948975,-22.22812843322754,3.6215121746063232,-13.650224685668945,-16.7424373626709,-24.589550018310547,-15.74538516998291,-17.637004852294922,-3.0616469383239746,-10.00210952758789,-5.086985111236572,-24.112789154052734,-14.746540069580078,-9.887469291687012,-9.557575225830078,-12.522119522094727,11.723433494567871,-5.498819828033447,-12.809979438781738,11.517256736755371,2.248992681503296,-18.454898834228516,14.6348295211792,-3.614788770675659,-19.546422958374023,-1.154047966003418,8.308950424194336,13.997982025146484,25.323144912719727,-17.325071334838867,14.634714126586914,13.174454689025879,23.820796966552734,23.74873924255371,-5.6186957359313965,11.432961463928223,-11.349928855895996,3.043921947479248,18.374300003051758,23.614206314086914,25.873655319213867,-13.133757591247559,0.5681756138801575,-27.311141967773438,-9.407073020935059,-7.381595134735107,4.393576145172119,14.48568058013916,-15.18958568572998,-7.416401386260986,-6.559693813323975,-11.764802932739258,-2.2859203815460205,-14.263860702514648,-18.334720611572266,-21.558923721313477,12.763007164001465,3.2361443042755127,-11.333264350891113,-5.025501251220703,-5.726833343505859,12.632930755615234,-18.482946395874023,0.1830102652311325,2.703531503677368,-12.696585655212402,-13.70827579498291,-2.477107286453247,-3.0048296451568604,1.3270750045776367,6.511424541473389,-17.499547958374023,-7.757853984832764,19.039306640625,-15.109659194946289,-12.61448860168457,5.55805778503418,-15.722284317016602,0.09023834019899368,-4.188665390014648,-17.450258255004883,18.534086227416992,0.8748283386230469,-6.217249870300293,20.263383865356445,-6.655734539031982,-4.531919002532959,-18.991579055786133,-10.021906852722168,-3.9637324810028076,4.055554389953613,-13.690549850463867,10.142021179199219,-7.030036926269531,9.21572494506836,-2.2056028842926025,-16.2825984954834,-14.184353828430176,27.66524887084961,22.825830459594727,24.199235916137695,27.542774200439453,21.902935028076172,1.3729358911514282,18.889307022094727,-2.9511213302612305,10.08861255645752,-11.16396713256836,0.7810098528862,3.028902769088745,10.007996559143066,6.2921528816223145,-23.587116241455078,-13.763986587524414,12.29240608215332,-21.966312408447266,0.9848860502243042,15.331371307373047,1.509926676750183,16.75012969970703,-10.525918006896973,-1.5061641931533813,-3.0862505435943604,-3.123459577560425,-2.8193886280059814,-12.093132019042969,13.009300231933594,5.914060592651367,2.1677699089050293,9.212735176086426,-15.267465591430664,-4.644864082336426,2.875051498413086,-1.9597254991531372,10.780993461608887,-10.299446105957031,-10.800484657287598,-4.817709922790527,12.412692070007324,-5.539897441864014,-9.072680473327637,9.020598411560059,-19.604581832885742,-6.223814010620117,-6.284306526184082,8.15002155303955,-11.157144546508789,1.9859898090362549,11.127280235290527,-5.472946643829346,5.45163631439209,5.27316951751709,-3.394930124282837,14.4476318359375,-1.39910888671875,-20.27113914489746,-18.86553382873535,13.48145580291748,15.269872665405273,-0.18344880640506744,9.699342727661133,0.9104932546615601,8.516764640808105,0.31754669547080994,13.429544448852539,1.844039797782898,4.488487243652344,-14.671923637390137,2.4365923404693604,15.032088279724121,-8.450894355773926,-3.821561336517334,-8.983104705810547,1.991533637046814,-6.016141891479492,-5.806591987609863,1.0863275527954102,12.73862075805664,16.537870407104492,-3.528770923614502,9.579236030578613,-8.799330711364746,-1.0008959770202637,9.394424438476562,-2.386082887649536,0.6995363235473633,-11.879912376403809,-10.128862380981445,6.234258651733398,9.922637939453125,3.1519269943237305,11.378110885620117,-13.806245803833008,-25.73174285888672,-4.4666666984558105,13.461342811584473,14.857707023620605,9.357605934143066,-15.566466331481934,3.387441396713257,-8.993799209594727,-6.524240016937256,9.42143440246582,-2.0751185417175293,-2.1262407302856445,-6.525094985961914,-10.377009391784668,4.461155891418457,11.602581977844238,8.518449783325195,15.290813446044922,-24.086610794067383,2.07918643951416,-8.326681137084961,8.782736778259277,2.3068790435791016,14.154356956481934,-6.332085132598877,-22.629697799682617,11.456289291381836,-7.0782318115234375,-0.5130922198295593,18.732927322387695,22.363149642944336,23.322216033935547,-14.746611595153809,19.978023529052734,22.82106590270996,22.85846519470215,23.640050888061523,2.052111864089966,20.07737922668457,20.40282440185547,6.253602981567383,15.168521881103516,16.210872650146484,13.38013744354248,6.358879089355469,18.85659408569336,3.0569567680358887,-1.58571195602417,22.551210403442383,13.243813514709473,24.03015899658203,17.47760772705078,25.441083908081055,4.3314409255981445,13.16789722442627,22.333648681640625,11.780265808105469,-0.7189850807189941,15.499518394470215,10.65709114074707,15.555784225463867,22.026639938354492,16.89421272277832,16.034557342529297,9.022093772888184,22.229524612426758,0.21800543367862701,9.058001518249512,9.01171875,15.112419128417969,9.902642250061035,25.313621520996094,-22.841793060302734,23.099565505981445,1.4891681671142578,-5.929229259490967,-26.4419002532959,-17.64212417602539,3.0207571983337402,2.9991376399993896,-5.508960723876953,8.04332160949707,8.614768028259277,0.9182992577552795,2.624682664871216,0.5025994777679443,10.307401657104492,2.7979493141174316,-1.2746131420135498,11.052416801452637,-14.22450065612793,14.480252265930176,-1.3238630294799805,11.204200744628906,27.331369400024414,26.5665225982666,-11.863567352294922,-8.786243438720703,-9.920822143554688,-25.520771026611328,-17.011226654052734,6.7667155265808105,-8.813076972961426,-22.013647079467773,1.8442580699920654,21.1425724029541,-13.967267990112305,7.364924907684326,7.092710494995117,-15.3945951461792,1.3800725936889648,-23.44475555419922,4.84870719909668,6.596633434295654,3.5473270416259766,7.886485576629639,-15.273477554321289,-9.656846046447754,-3.6583034992218018,-10.829675674438477,-7.167662620544434,-15.960259437561035,-6.546536922454834,-16.261018753051758,-13.66137981414795,-13.896294593811035,9.414827346801758,-14.584843635559082,-3.6449906826019287,-1.5099884271621704,-11.193471908569336,-6.956745147705078,10.06519603729248,4.611765384674072,8.088897705078125,3.5279481410980225,-10.777458190917969,-9.837092399597168,1.988310694694519,2.4311177730560303,13.599767684936523,26.410884857177734,3.6189041137695312,6.6615986824035645,1.7236751317977905,14.72010612487793,12.335588455200195,21.932828903198242,18.878910064697266,2.206105947494507,-9.495827674865723,2.4064559936523438,1.2320955991744995,5.979687213897705,10.368074417114258,-8.978513717651367,5.846405506134033,-7.11911153793335,-0.8097316026687622,10.037697792053223,5.818417549133301,6.744367599487305,-16.192411422729492,5.407820224761963,-5.866307735443115,0.9492847323417664,-8.780973434448242,-5.296717643737793,-7.393979549407959,-20.597579956054688,21.67437744140625,-8.24750804901123,-10.744057655334473,18.807498931884766,-17.497180938720703,-1.9886010885238647,-1.1065552234649658,-20.105772018432617,-5.653745174407959,-14.205039978027344,26.32228660583496,1.2361708879470825,23.612960815429688,20.504384994506836,10.746988296508789,5.728104591369629,-1.912461519241333,0.3931717574596405,-4.838678359985352,3.1744327545166016,9.876274108886719,1.642328143119812,12.096100807189941,10.153462409973145,12.541683197021484,20.295190811157227,-21.89029312133789,15.698441505432129,-9.945188522338867,-13.374300003051758,10.920857429504395,6.153364658355713,-7.14461612701416,-5.597114562988281,-1.509722352027893,-16.493160247802734,-4.038546085357666,-8.298356056213379,9.14803695678711,-10.234228134155273,19.008390426635742,-10.29692554473877,-9.596546173095703,-15.766218185424805,-25.152589797973633,-8.605234146118164,-8.6107816696167,-13.194777488708496,4.415933609008789,8.88500690460205,-24.847518920898438,-17.364463806152344,-1.5364477634429932,0.3526531457901001,5.602679252624512,1.4747471809387207,-10.667027473449707,-4.662129878997803,0.8408084511756897,-6.675866603851318,-5.011202812194824,16.920427322387695,8.38810920715332,18.98898696899414,1.7222297191619873,-9.630311012268066,9.411751747131348,-7.97961950302124,0.8925098180770874,20.273971557617188,-6.6829023361206055,-1.154330849647522,-9.84298324584961,-12.862140655517578,2.640451192855835,3.794259548187256,15.172981262207031,-4.408700466156006,-6.927687168121338,16.549945831298828,2.1335787773132324,8.564018249511719,16.233806610107422,5.301122188568115,4.50475549697876,-10.82732105255127,-4.681351184844971,12.01021671295166,9.26959228515625,15.007163047790527,-4.373703479766846,11.828734397888184,20.779117584228516,17.155349731445312,25.9635009765625,-0.5768051147460938,0.14706028997898102,15.621691703796387,-2.9247183799743652,-9.592562675476074,6.3204169273376465,-10.50555419921875,-10.112345695495605,12.410244941711426,-15.632184028625488,-15.988381385803223,-11.65173625946045,0.044642653316259384,-6.686400413513184,-0.5639433860778809,-13.413743019104004,-15.80987548828125,-2.5630557537078857,-10.6329927444458,27.301313400268555,9.263537406921387,-1.7162084579467773,-19.368785858154297,-0.11326262354850769,-1.9392468929290771,-7.066338062286377,1.179555892944336,-18.610305786132812,11.484217643737793,-0.07472658902406693,-17.536516189575195,2.625272035598755,9.518413543701172,6.642401218414307,-5.520618915557861,-18.520166397094727,-8.70585823059082,3.6906516551971436,13.417922019958496,-11.21471881866455,5.01785135269165,-13.486649513244629,0.9872188568115234,10.560218811035156,13.624062538146973,-2.562626838684082,12.107510566711426,10.67802906036377,-0.5824726223945618,-11.576586723327637,-9.51753044128418,-7.840585708618164,-12.869324684143066,-7.3025360107421875,0.59653639793396,11.14411735534668,20.738204956054688,2.7482409477233887,14.780143737792969,5.653829574584961,-11.889068603515625,-3.1012814044952393,-2.0286381244659424,-0.8189984560012817,-18.608909606933594,15.282453536987305,0.7557394504547119,15.185736656188965,7.265171051025391,6.970036029815674,-4.809216499328613,-0.08564268797636032,6.388216495513916,-4.413373947143555,-4.622185707092285,-2.8021903038024902,-14.851035118103027,-4.597601890563965,0.8401139378547668,-24.667818069458008,-15.128829002380371,-10.456214904785156,13.755241394042969,8.283594131469727,-19.392215728759766,-9.217572212219238,-7.123182773590088,4.603455066680908,-17.197628021240234,-5.853147029876709,-17.276514053344727,-16.03494644165039,-11.422460556030273,11.456521987915039,-10.224788665771484,-10.426297187805176,4.443076133728027,-0.02705294080078602,1.1600587368011475,-10.05223274230957,-16.218233108520508,-1.8435105085372925,-5.313411235809326,2.344810962677002,2.3995885848999023,-6.319181442260742,8.915407180786133,13.409346580505371,5.462540149688721,-0.8813526630401611,1.2809175252914429,-9.615948677062988,2.9727399349212646,-10.603178977966309,7.046496868133545,12.0855712890625,-12.172975540161133,-1.6118215322494507,-9.404452323913574,3.4050633907318115,-4.635504245758057,-0.5917304754257202,-0.4802228808403015,-8.706363677978516,3.8718583583831787,12.592477798461914,9.608664512634277,26.116825103759766,11.30637264251709,20.786890029907227,16.694726943969727,16.105003356933594,9.850059509277344,3.360297203063965,15.450361251831055,25.968820571899414,-8.66250991821289,-4.755861282348633,-1.246539831161499,-3.2736992835998535,-13.004960060119629,0.03533920273184776,9.123022079467773,6.401853084564209,12.752148628234863,8.967569351196289,13.770767211914062,13.706565856933594,14.155823707580566,7.5875043869018555,5.231545448303223,-4.676562786102295,4.38901948928833,-2.6370608806610107,11.378737449645996,-2.154890537261963,-12.61260986328125,20.000835418701172,-0.06491740047931671,7.536760330200195,-3.6277787685394287,-7.218627452850342,15.374051094055176,-5.408699989318848,7.976452350616455,1.7200652360916138,1.1856545209884644,-8.373594284057617,17.44335174560547,-2.047591209411621,-9.370134353637695,-8.14220142364502,20.55292320251465,14.893073081970215,3.9098150730133057,4.127939701080322,6.099238872528076,-7.271204948425293,-8.275200843811035,1.6364790201187134,-12.441259384155273,8.15836238861084,13.295967102050781,5.3831024169921875,17.47755241394043,9.998945236206055,26.06646728515625,5.2436113357543945,17.168933868408203,-12.257494926452637,-6.3459649085998535,2.1758193969726562,-3.1039390563964844,-7.918859004974365,7.661243915557861,-5.004087448120117,14.923261642456055,-4.383175373077393,-11.772269248962402,5.961106777191162,8.89282512664795,13.523348808288574,-7.347743988037109,3.7805726528167725,-9.989118576049805,-4.865800857543945,4.929715156555176,10.11538028717041,18.09618377685547,3.40848708152771,5.12491512298584,12.400142669677734,3.7553675174713135,-7.056694030761719,2.6088995933532715,2.1132421493530273,6.936367511749268,2.6437695026397705,-3.9133219718933105,14.176337242126465,4.172393798828125,14.13831615447998,0.24116766452789307,-6.620240688323975,-5.772105693817139,-20.899646759033203,3.74570369720459,-9.484115600585938,13.149009704589844,9.649530410766602,3.4086623191833496,2.3896946907043457,3.081040143966675,3.7447924613952637,1.5440062284469604,3.1355950832366943,9.555465698242188,-0.36782610416412354,17.92306137084961,8.09547233581543,4.1813507080078125,11.074555397033691,2.5334370136260986,11.140938758850098,3.01334547996521,2.2673895359039307,2.381880283355713,-10.668113708496094,11.508966445922852,4.718040943145752,-6.208186149597168,4.165284156799316,4.240340709686279,-5.944993019104004,2.5872528553009033,3.6266281604766846,11.423118591308594,5.938889026641846,3.2663745880126953,-4.211933612823486,10.291173934936523,-14.092543601989746,-0.569545567035675,4.92477560043335,-11.737854957580566,3.473479986190796,3.020076036453247,-0.02532663568854332,13.269712448120117,1.7636237144470215,-16.171091079711914,-7.5635552406311035,11.289896965026855,-5.730754375457764,17.576282501220703,17.884851455688477,10.571659088134766,-2.09848952293396,2.329915761947632,21.294437408447266,7.150104522705078,21.17998695373535,22.318359375,21.633821487426758,13.294205665588379,4.949491024017334,15.294917106628418,1.7408504486083984,-12.190544128417969,-16.163909912109375,9.311134338378906,20.7966365814209,-12.31209659576416,-14.729512214660645,10.350990295410156,13.679231643676758,-8.84405517578125,2.965362310409546,-11.89327335357666,9.819853782653809,10.402777671813965,-10.783108711242676,-0.6473477482795715,3.5177323818206787,9.024185180664062,-6.219690322875977,9.76855754852295,-2.453657388687134,2.548083543777466,4.61376953125,9.724438667297363,4.508422374725342,7.708371639251709,7.172872543334961,-6.844895362854004,3.271787166595459,9.3748779296875,10.595377922058105,2.1992716789245605,-4.823936462402344,-2.060236692428589,17.120872497558594,16.50315284729004,25.536823272705078,14.278383255004883,20.382761001586914,-0.5861557722091675,-8.509567260742188,9.045604705810547,-3.87742280960083,3.891831159591675,6.474609851837158,-1.8878973722457886,-7.663665294647217,5.255289077758789,-5.872461795806885,-1.1191037893295288,-14.637471199035645,5.750018119812012,1.4245054721832275,11.563329696655273,-9.665135383605957,1.6223028898239136,-15.05945873260498,-16.356361389160156,11.204947471618652,-18.249195098876953,-0.2767563760280609,0.7028219103813171,1.6422265768051147,-16.393404006958008,-5.83238410949707,9.548032760620117,5.453994274139404,-0.5268347263336182,15.23365306854248,-0.4593973159790039,4.86085319519043,4.389467716217041,-11.570277214050293,-12.462153434753418,3.697518825531006,-1.2407633066177368,9.872410774230957,13.766128540039062,-21.546249389648438,-15.157209396362305,4.151093482971191,11.740263938903809,21.508888244628906,-12.315481185913086,-8.317635536193848,-3.7661585807800293,-7.089295387268066,9.498973846435547,16.65670394897461,-11.764227867126465,-16.075847625732422,9.014653205871582,6.867044925689697,-12.574387550354004,2.045574188232422,-7.746685028076172,12.2310152053833,-6.9863080978393555,10.934255599975586,8.546331405639648,-12.17178726196289,0.658126950263977,1.6291377544403076,-6.877266883850098,-3.1276676654815674,-11.453283309936523,5.359182357788086,8.917075157165527,-6.245233535766602,9.580204963684082,10.282086372375488,1.5996075868606567,5.040040016174316,14.15436840057373,5.402736663818359,-15.666910171508789,3.5323965549468994,-9.66566276550293,6.157479763031006,-13.844482421875,-18.65513801574707,-8.131078720092773,23.897510528564453,3.996748447418213,12.599669456481934,12.504984855651855,-16.84648895263672,5.429390907287598,4.015079021453857,4.265279293060303,-0.6157081723213196,11.183758735656738,12.361889839172363,2.370426893234253,-9.02395248413086,8.059746742248535,-11.911750793457031,8.742213249206543,-2.6511380672454834,7.2727766036987305,-7.894917964935303,0.4785666763782501,-2.0979912281036377,19.64468765258789,3.2798659801483154,2.14017391204834,-14.004051208496094,-7.899507522583008,12.142502784729004,7.658930778503418,12.239645957946777,10.953797340393066,13.439346313476562,11.997491836547852,11.079916000366211,-2.0673272609710693,13.397899627685547,-2.493457317352295,3.9260761737823486,-2.225754499435425,-9.547268867492676,5.515044689178467,12.425110816955566,-8.03070068359375,10.512120246887207,-12.042224884033203,10.902059555053711,12.482437133789062,11.592413902282715,11.625276565551758,10.965367317199707,9.77181625366211,11.92595100402832,12.165369033813477,12.339567184448242,12.873235702514648,11.702895164489746,12.819729804992676,12.931734085083008,11.915084838867188,12.191618919372559,12.25102424621582,11.029868125915527,13.447758674621582,11.754558563232422,12.089144706726074,14.324017524719238,12.65355110168457,13.87114429473877,12.215112686157227,12.961734771728516,11.621418952941895,11.392190933227539,21.955461502075195,7.207270622253418,21.485618591308594,6.304009437561035,-0.680862307548523,11.649465560913086,-6.041854381561279,12.665529251098633,2.521312952041626,-24.45591926574707,16.441129684448242,-2.706063985824585,-9.776802062988281,6.74402379989624,3.6991889476776123,13.4668607711792,-13.915334701538086,-9.088196754455566,7.114007949829102,8.0707368850708,16.700122833251953,8.177796363830566,6.849826335906982,3.220309257507324,22.292570114135742,20.533306121826172,11.459406852722168,3.6097710132598877,12.583577156066895,7.960575103759766,14.16080379486084,-7.955970287322998,7.187568187713623,8.584156036376953,-5.703457355499268,-13.748760223388672,12.883709907531738,20.58834457397461,8.751075744628906,-14.742598533630371,2.4323322772979736,-2.6002585887908936,12.187420845031738,5.24954891204834,11.956463813781738,12.254082679748535,9.113663673400879,11.937337875366211,10.617940902709961,11.743558883666992,12.162941932678223,12.202710151672363,11.866040229797363,13.866255760192871,-0.13079845905303955,8.578207969665527,10.65195083618164,11.961376190185547,6.284811496734619,12.02854061126709,14.623160362243652,12.058881759643555,13.15147876739502,12.317017555236816,-4.078243732452393,13.791298866271973,13.340301513671875,10.046215057373047,14.280258178710938,-1.705612063407898,4.256375789642334,9.497797966003418,8.470525741577148,7.640783309936523,17.36907196044922,12.816088676452637,-8.92823314666748,12.724054336547852,12.62826919555664,22.21537208557129,22.338403701782227,12.56289291381836,21.921733856201172,9.894037246704102,3.209930896759033,-5.521277904510498,-8.705531120300293,11.893138885498047,5.643887519836426,3.021145820617676,10.516999244689941,25.735048294067383,14.293120384216309,-2.167600393295288,-19.409465789794922],\"yaxis\":\"y\",\"type\":\"scattergl\"}],                        {\"template\":{\"data\":{\"histogram2dcontour\":[{\"type\":\"histogram2dcontour\",\"colorbar\":{\"outlinewidth\":0,\"ticks\":\"\"},\"colorscale\":[[0.0,\"#0d0887\"],[0.1111111111111111,\"#46039f\"],[0.2222222222222222,\"#7201a8\"],[0.3333333333333333,\"#9c179e\"],[0.4444444444444444,\"#bd3786\"],[0.5555555555555556,\"#d8576b\"],[0.6666666666666666,\"#ed7953\"],[0.7777777777777778,\"#fb9f3a\"],[0.8888888888888888,\"#fdca26\"],[1.0,\"#f0f921\"]]}],\"choropleth\":[{\"type\":\"choropleth\",\"colorbar\":{\"outlinewidth\":0,\"ticks\":\"\"}}],\"histogram2d\":[{\"type\":\"histogram2d\",\"colorbar\":{\"outlinewidth\":0,\"ticks\":\"\"},\"colorscale\":[[0.0,\"#0d0887\"],[0.1111111111111111,\"#46039f\"],[0.2222222222222222,\"#7201a8\"],[0.3333333333333333,\"#9c179e\"],[0.4444444444444444,\"#bd3786\"],[0.5555555555555556,\"#d8576b\"],[0.6666666666666666,\"#ed7953\"],[0.7777777777777778,\"#fb9f3a\"],[0.8888888888888888,\"#fdca26\"],[1.0,\"#f0f921\"]]}],\"heatmap\":[{\"type\":\"heatmap\",\"colorbar\":{\"outlinewidth\":0,\"ticks\":\"\"},\"colorscale\":[[0.0,\"#0d0887\"],[0.1111111111111111,\"#46039f\"],[0.2222222222222222,\"#7201a8\"],[0.3333333333333333,\"#9c179e\"],[0.4444444444444444,\"#bd3786\"],[0.5555555555555556,\"#d8576b\"],[0.6666666666666666,\"#ed7953\"],[0.7777777777777778,\"#fb9f3a\"],[0.8888888888888888,\"#fdca26\"],[1.0,\"#f0f921\"]]}],\"heatmapgl\":[{\"type\":\"heatmapgl\",\"colorbar\":{\"outlinewidth\":0,\"ticks\":\"\"},\"colorscale\":[[0.0,\"#0d0887\"],[0.1111111111111111,\"#46039f\"],[0.2222222222222222,\"#7201a8\"],[0.3333333333333333,\"#9c179e\"],[0.4444444444444444,\"#bd3786\"],[0.5555555555555556,\"#d8576b\"],[0.6666666666666666,\"#ed7953\"],[0.7777777777777778,\"#fb9f3a\"],[0.8888888888888888,\"#fdca26\"],[1.0,\"#f0f921\"]]}],\"contourcarpet\":[{\"type\":\"contourcarpet\",\"colorbar\":{\"outlinewidth\":0,\"ticks\":\"\"}}],\"contour\":[{\"type\":\"contour\",\"colorbar\":{\"outlinewidth\":0,\"ticks\":\"\"},\"colorscale\":[[0.0,\"#0d0887\"],[0.1111111111111111,\"#46039f\"],[0.2222222222222222,\"#7201a8\"],[0.3333333333333333,\"#9c179e\"],[0.4444444444444444,\"#bd3786\"],[0.5555555555555556,\"#d8576b\"],[0.6666666666666666,\"#ed7953\"],[0.7777777777777778,\"#fb9f3a\"],[0.8888888888888888,\"#fdca26\"],[1.0,\"#f0f921\"]]}],\"surface\":[{\"type\":\"surface\",\"colorbar\":{\"outlinewidth\":0,\"ticks\":\"\"},\"colorscale\":[[0.0,\"#0d0887\"],[0.1111111111111111,\"#46039f\"],[0.2222222222222222,\"#7201a8\"],[0.3333333333333333,\"#9c179e\"],[0.4444444444444444,\"#bd3786\"],[0.5555555555555556,\"#d8576b\"],[0.6666666666666666,\"#ed7953\"],[0.7777777777777778,\"#fb9f3a\"],[0.8888888888888888,\"#fdca26\"],[1.0,\"#f0f921\"]]}],\"mesh3d\":[{\"type\":\"mesh3d\",\"colorbar\":{\"outlinewidth\":0,\"ticks\":\"\"}}],\"scatter\":[{\"fillpattern\":{\"fillmode\":\"overlay\",\"size\":10,\"solidity\":0.2},\"type\":\"scatter\"}],\"parcoords\":[{\"type\":\"parcoords\",\"line\":{\"colorbar\":{\"outlinewidth\":0,\"ticks\":\"\"}}}],\"scatterpolargl\":[{\"type\":\"scatterpolargl\",\"marker\":{\"colorbar\":{\"outlinewidth\":0,\"ticks\":\"\"}}}],\"bar\":[{\"error_x\":{\"color\":\"#2a3f5f\"},\"error_y\":{\"color\":\"#2a3f5f\"},\"marker\":{\"line\":{\"color\":\"#E5ECF6\",\"width\":0.5},\"pattern\":{\"fillmode\":\"overlay\",\"size\":10,\"solidity\":0.2}},\"type\":\"bar\"}],\"scattergeo\":[{\"type\":\"scattergeo\",\"marker\":{\"colorbar\":{\"outlinewidth\":0,\"ticks\":\"\"}}}],\"scatterpolar\":[{\"type\":\"scatterpolar\",\"marker\":{\"colorbar\":{\"outlinewidth\":0,\"ticks\":\"\"}}}],\"histogram\":[{\"marker\":{\"pattern\":{\"fillmode\":\"overlay\",\"size\":10,\"solidity\":0.2}},\"type\":\"histogram\"}],\"scattergl\":[{\"type\":\"scattergl\",\"marker\":{\"colorbar\":{\"outlinewidth\":0,\"ticks\":\"\"}}}],\"scatter3d\":[{\"type\":\"scatter3d\",\"line\":{\"colorbar\":{\"outlinewidth\":0,\"ticks\":\"\"}},\"marker\":{\"colorbar\":{\"outlinewidth\":0,\"ticks\":\"\"}}}],\"scattermapbox\":[{\"type\":\"scattermapbox\",\"marker\":{\"colorbar\":{\"outlinewidth\":0,\"ticks\":\"\"}}}],\"scatterternary\":[{\"type\":\"scatterternary\",\"marker\":{\"colorbar\":{\"outlinewidth\":0,\"ticks\":\"\"}}}],\"scattercarpet\":[{\"type\":\"scattercarpet\",\"marker\":{\"colorbar\":{\"outlinewidth\":0,\"ticks\":\"\"}}}],\"carpet\":[{\"aaxis\":{\"endlinecolor\":\"#2a3f5f\",\"gridcolor\":\"white\",\"linecolor\":\"white\",\"minorgridcolor\":\"white\",\"startlinecolor\":\"#2a3f5f\"},\"baxis\":{\"endlinecolor\":\"#2a3f5f\",\"gridcolor\":\"white\",\"linecolor\":\"white\",\"minorgridcolor\":\"white\",\"startlinecolor\":\"#2a3f5f\"},\"type\":\"carpet\"}],\"table\":[{\"cells\":{\"fill\":{\"color\":\"#EBF0F8\"},\"line\":{\"color\":\"white\"}},\"header\":{\"fill\":{\"color\":\"#C8D4E3\"},\"line\":{\"color\":\"white\"}},\"type\":\"table\"}],\"barpolar\":[{\"marker\":{\"line\":{\"color\":\"#E5ECF6\",\"width\":0.5},\"pattern\":{\"fillmode\":\"overlay\",\"size\":10,\"solidity\":0.2}},\"type\":\"barpolar\"}],\"pie\":[{\"automargin\":true,\"type\":\"pie\"}]},\"layout\":{\"autotypenumbers\":\"strict\",\"colorway\":[\"#636efa\",\"#EF553B\",\"#00cc96\",\"#ab63fa\",\"#FFA15A\",\"#19d3f3\",\"#FF6692\",\"#B6E880\",\"#FF97FF\",\"#FECB52\"],\"font\":{\"color\":\"#2a3f5f\"},\"hovermode\":\"closest\",\"hoverlabel\":{\"align\":\"left\"},\"paper_bgcolor\":\"white\",\"plot_bgcolor\":\"#E5ECF6\",\"polar\":{\"bgcolor\":\"#E5ECF6\",\"angularaxis\":{\"gridcolor\":\"white\",\"linecolor\":\"white\",\"ticks\":\"\"},\"radialaxis\":{\"gridcolor\":\"white\",\"linecolor\":\"white\",\"ticks\":\"\"}},\"ternary\":{\"bgcolor\":\"#E5ECF6\",\"aaxis\":{\"gridcolor\":\"white\",\"linecolor\":\"white\",\"ticks\":\"\"},\"baxis\":{\"gridcolor\":\"white\",\"linecolor\":\"white\",\"ticks\":\"\"},\"caxis\":{\"gridcolor\":\"white\",\"linecolor\":\"white\",\"ticks\":\"\"}},\"coloraxis\":{\"colorbar\":{\"outlinewidth\":0,\"ticks\":\"\"}},\"colorscale\":{\"sequential\":[[0.0,\"#0d0887\"],[0.1111111111111111,\"#46039f\"],[0.2222222222222222,\"#7201a8\"],[0.3333333333333333,\"#9c179e\"],[0.4444444444444444,\"#bd3786\"],[0.5555555555555556,\"#d8576b\"],[0.6666666666666666,\"#ed7953\"],[0.7777777777777778,\"#fb9f3a\"],[0.8888888888888888,\"#fdca26\"],[1.0,\"#f0f921\"]],\"sequentialminus\":[[0.0,\"#0d0887\"],[0.1111111111111111,\"#46039f\"],[0.2222222222222222,\"#7201a8\"],[0.3333333333333333,\"#9c179e\"],[0.4444444444444444,\"#bd3786\"],[0.5555555555555556,\"#d8576b\"],[0.6666666666666666,\"#ed7953\"],[0.7777777777777778,\"#fb9f3a\"],[0.8888888888888888,\"#fdca26\"],[1.0,\"#f0f921\"]],\"diverging\":[[0,\"#8e0152\"],[0.1,\"#c51b7d\"],[0.2,\"#de77ae\"],[0.3,\"#f1b6da\"],[0.4,\"#fde0ef\"],[0.5,\"#f7f7f7\"],[0.6,\"#e6f5d0\"],[0.7,\"#b8e186\"],[0.8,\"#7fbc41\"],[0.9,\"#4d9221\"],[1,\"#276419\"]]},\"xaxis\":{\"gridcolor\":\"white\",\"linecolor\":\"white\",\"ticks\":\"\",\"title\":{\"standoff\":15},\"zerolinecolor\":\"white\",\"automargin\":true,\"zerolinewidth\":2},\"yaxis\":{\"gridcolor\":\"white\",\"linecolor\":\"white\",\"ticks\":\"\",\"title\":{\"standoff\":15},\"zerolinecolor\":\"white\",\"automargin\":true,\"zerolinewidth\":2},\"scene\":{\"xaxis\":{\"backgroundcolor\":\"#E5ECF6\",\"gridcolor\":\"white\",\"linecolor\":\"white\",\"showbackground\":true,\"ticks\":\"\",\"zerolinecolor\":\"white\",\"gridwidth\":2},\"yaxis\":{\"backgroundcolor\":\"#E5ECF6\",\"gridcolor\":\"white\",\"linecolor\":\"white\",\"showbackground\":true,\"ticks\":\"\",\"zerolinecolor\":\"white\",\"gridwidth\":2},\"zaxis\":{\"backgroundcolor\":\"#E5ECF6\",\"gridcolor\":\"white\",\"linecolor\":\"white\",\"showbackground\":true,\"ticks\":\"\",\"zerolinecolor\":\"white\",\"gridwidth\":2}},\"shapedefaults\":{\"line\":{\"color\":\"#2a3f5f\"}},\"annotationdefaults\":{\"arrowcolor\":\"#2a3f5f\",\"arrowhead\":0,\"arrowwidth\":1},\"geo\":{\"bgcolor\":\"white\",\"landcolor\":\"#E5ECF6\",\"subunitcolor\":\"white\",\"showland\":true,\"showlakes\":true,\"lakecolor\":\"white\"},\"title\":{\"x\":0.05},\"mapbox\":{\"style\":\"light\"}}},\"xaxis\":{\"anchor\":\"y\",\"domain\":[0.0,1.0],\"title\":{\"text\":\"tsne_1\"}},\"yaxis\":{\"anchor\":\"x\",\"domain\":[0.0,1.0],\"title\":{\"text\":\"tsne_2\"}},\"coloraxis\":{\"colorbar\":{\"title\":{\"text\":\"popularity\"}},\"colorscale\":[[0.0,\"#0d0887\"],[0.1111111111111111,\"#46039f\"],[0.2222222222222222,\"#7201a8\"],[0.3333333333333333,\"#9c179e\"],[0.4444444444444444,\"#bd3786\"],[0.5555555555555556,\"#d8576b\"],[0.6666666666666666,\"#ed7953\"],[0.7777777777777778,\"#fb9f3a\"],[0.8888888888888888,\"#fdca26\"],[1.0,\"#f0f921\"]]},\"legend\":{\"tracegroupgap\":0},\"margin\":{\"t\":60}},                        {\"responsive\": true}                    )                };                            </script>        </div>"
      ],
      "text/plain": [
       "Figure({\n",
       "    'data': [{'customdata': array([[1, 'Toy Story (1995)', 452],\n",
       "                                   [2, 'GoldenEye (1995)', 131],\n",
       "                                   [3, 'Four Rooms (1995)', 90],\n",
       "                                   ...,\n",
       "                                   [1680, 'Sliding Doors (1998)', 1],\n",
       "                                   [1681, 'You So Crazy (1994)', 1],\n",
       "                                   [1682, 'Scream of Stone (Schrei aus Stein) (1991)', 1]], dtype=object),\n",
       "              'hovertemplate': ('tsne_1=%{x}<br>tsne_2=%{y}<br>' ... '%{marker.color}<extra></extra>'),\n",
       "              'legendgroup': '',\n",
       "              'marker': {'color': array([452, 131,  90, ...,   1,   1,   1], dtype=int64),\n",
       "                         'coloraxis': 'coloraxis',\n",
       "                         'symbol': 'circle'},\n",
       "              'mode': 'markers',\n",
       "              'name': '',\n",
       "              'showlegend': False,\n",
       "              'type': 'scattergl',\n",
       "              'x': array([  2.269014 ,  -7.5459843,  -2.1678617, ..., -21.207994 , -16.296879 ,\n",
       "                           -8.238199 ], dtype=float32),\n",
       "              'xaxis': 'x',\n",
       "              'y': array([  2.5278504 ,   0.39423168, -18.214876  , ...,  14.29312   ,\n",
       "                           -2.1676004 , -19.409466  ], dtype=float32),\n",
       "              'yaxis': 'y'}],\n",
       "    'layout': {'coloraxis': {'colorbar': {'title': {'text': 'popularity'}},\n",
       "                             'colorscale': [[0.0, '#0d0887'], [0.1111111111111111,\n",
       "                                            '#46039f'], [0.2222222222222222,\n",
       "                                            '#7201a8'], [0.3333333333333333,\n",
       "                                            '#9c179e'], [0.4444444444444444,\n",
       "                                            '#bd3786'], [0.5555555555555556,\n",
       "                                            '#d8576b'], [0.6666666666666666,\n",
       "                                            '#ed7953'], [0.7777777777777778,\n",
       "                                            '#fb9f3a'], [0.8888888888888888,\n",
       "                                            '#fdca26'], [1.0, '#f0f921']]},\n",
       "               'legend': {'tracegroupgap': 0},\n",
       "               'margin': {'t': 60},\n",
       "               'template': '...',\n",
       "               'xaxis': {'anchor': 'y', 'domain': [0.0, 1.0], 'title': {'text': 'tsne_1'}},\n",
       "               'yaxis': {'anchor': 'x', 'domain': [0.0, 1.0], 'title': {'text': 'tsne_2'}}}\n",
       "})"
      ]
     },
     "execution_count": 44,
     "metadata": {},
     "output_type": "execute_result"
    }
   ],
   "source": [
    "import plotly.express as px\n",
    "import pandas as pd \n",
    "import numpy as np\n",
    "\n",
    "tsne_df = pd.DataFrame(item_tsne, columns=[\"tsne_1\", \"tsne_2\"])\n",
    "tsne_df[\"item_id\"] = np.arange(item_tsne.shape[0])\n",
    "tsne_df = tsne_df.merge(items.reset_index())\n",
    "\n",
    "px.scatter(tsne_df, x=\"tsne_1\", y=\"tsne_2\",\n",
    "           color=\"popularity\",\n",
    "           hover_data=[\"item_id\", \"title\", \"popularity\"])"
   ]
  },
  {
   "cell_type": "markdown",
   "metadata": {},
   "source": [
    "### Exercises\n",
    "\n",
    " - Add another layer to the neural network and retrain, compare train/test error.\n",
    " - Try adding more dropout and change layer sizes.\n"
   ]
  },
  {
   "cell_type": "markdown",
   "metadata": {},
   "source": [
    "### A recommendation function for a given user\n",
    "\n",
    "Once the model is trained, the system can be used to recommend a few items for a user that they haven't seen before. The following code does that.\n",
    "\n",
    "- we use the `model.predict` to compute the ratings a user would have given to all items\n",
    "- we build a function that sorts these items and excludes those the user has already seen."
   ]
  },
  {
   "cell_type": "code",
   "execution_count": 45,
   "metadata": {
    "scrolled": true
   },
   "outputs": [],
   "source": [
    "def recommend(user_id, top_n=10):\n",
    "    item_ids = range(1, items['item_id'].max())\n",
    "    seen_mask = all_ratings[\"user_id\"] == user_id\n",
    "    seen_movies = set(all_ratings[seen_mask][\"item_id\"])\n",
    "    item_ids = list(filter(lambda x: x not in seen_movies, item_ids))\n",
    "\n",
    "    user = np.zeros_like(item_ids)\n",
    "    user[:len(item_ids)] = user_id\n",
    "    items_ = np.array(item_ids)\n",
    "    ratings = model.predict([user, items_]).flatten()\n",
    "    top_items = ratings.argsort()[-top_n:][::-1]\n",
    "    return [(indexed_items.loc[item_id][\"title\"], ratings[item_id]) for item_id in top_items]"
   ]
  },
  {
   "cell_type": "code",
   "execution_count": 46,
   "metadata": {},
   "outputs": [
    {
     "name": "stdout",
     "output_type": "stream",
     "text": [
      "\u001b[1m48/48\u001b[0m \u001b[32m━━━━━━━━━━━━━━━━━━━━\u001b[0m\u001b[37m\u001b[0m \u001b[1m0s\u001b[0m 2ms/step\n",
      "    4.6: Eat Drink Man Woman (1994)\n",
      "    4.6: Letter From Death Row, A (1998)\n",
      "    4.6: Robert A. Heinlein's The Puppet Masters (1994)\n",
      "    4.5: Mad City (1997)\n",
      "    4.5: Dead Man Walking (1995)\n",
      "    4.4: Gone with the Wind (1939)\n",
      "    4.4: Terminator 2: Judgment Day (1991)\n",
      "    4.4: Tombstone (1993)\n",
      "    4.4: All Dogs Go to Heaven 2 (1996)\n",
      "    4.4: Get Shorty (1995)\n"
     ]
    }
   ],
   "source": [
    "for title, pred_rating in recommend(5):\n",
    "    print(\"    %0.1f: %s\" % (pred_rating, title))"
   ]
  },
  {
   "cell_type": "markdown",
   "metadata": {
    "collapsed": false
   },
   "source": [
    "### Exercises\n",
    "\n",
    "- Try modifying our neural network to improve recommendation. You could try adding more layers, or using a different loss function. \n",
    "- Your goal is to improve the Mean Absolute Error on the test set. Show the results of your best model."
   ]
  },
  {
   "cell_type": "code",
   "execution_count": 47,
   "metadata": {
    "collapsed": false
   },
   "outputs": [
    {
     "name": "stderr",
     "output_type": "stream",
     "text": [
      "c:\\Users\\shabiga\\scaling_to_production\\.conda\\lib\\site-packages\\keras\\src\\layers\\core\\embedding.py:90: UserWarning:\n",
      "\n",
      "Argument `input_length` is deprecated. Just remove it.\n",
      "\n"
     ]
    }
   ],
   "source": [
    "# Extend and improve the model below\n",
    "class RegressionModel(Model):\n",
    "    def __init__(self, embedding_size, max_user_id, max_item_id):\n",
    "        super().__init__()\n",
    "\n",
    "        self.user_embedding = Embedding(output_dim=embedding_size,\n",
    "                                        input_dim=max_user_id + 1,\n",
    "                                        input_length=1,\n",
    "                                        name='user_embedding')\n",
    "        self.item_embedding = Embedding(output_dim=embedding_size,\n",
    "                                        input_dim=max_item_id + 1,\n",
    "                                        input_length=1,\n",
    "                                        name='item_embedding')\n",
    "\n",
    "        # The following two layers don't have parameters.\n",
    "        self.flatten = Flatten()\n",
    "        self.dot = Dot(axes=1)\n",
    "\n",
    "    def call(self, inputs):\n",
    "        user_inputs = inputs[0]\n",
    "        item_inputs = inputs[1]\n",
    "\n",
    "        user_vecs = self.flatten(self.user_embedding(user_inputs))\n",
    "        item_vecs = self.flatten(self.item_embedding(item_inputs))\n",
    "\n",
    "        y = self.dot([user_vecs, item_vecs])\n",
    "        return y\n",
    "\n",
    "\n",
    "model = RegressionModel(embedding_size=64, max_user_id=all_ratings['user_id'].max(), max_item_id=all_ratings['item_id'].max())\n",
    "model.compile(optimizer=\"adam\", loss='mae')"
   ]
  },
  {
   "cell_type": "code",
   "execution_count": 48,
   "metadata": {
    "collapsed": false
   },
   "outputs": [
    {
     "name": "stdout",
     "output_type": "stream",
     "text": [
      "Epoch 1/10\n",
      "\u001b[1m1125/1125\u001b[0m \u001b[32m━━━━━━━━━━━━━━━━━━━━\u001b[0m\u001b[37m\u001b[0m \u001b[1m2s\u001b[0m 1ms/step - loss: 3.2896 - val_loss: 1.0392\n",
      "Epoch 2/10\n",
      "\u001b[1m1125/1125\u001b[0m \u001b[32m━━━━━━━━━━━━━━━━━━━━\u001b[0m\u001b[37m\u001b[0m \u001b[1m1s\u001b[0m 1ms/step - loss: 0.9044 - val_loss: 0.7895\n",
      "Epoch 3/10\n",
      "\u001b[1m1125/1125\u001b[0m \u001b[32m━━━━━━━━━━━━━━━━━━━━\u001b[0m\u001b[37m\u001b[0m \u001b[1m1s\u001b[0m 1ms/step - loss: 0.7533 - val_loss: 0.7663\n",
      "Epoch 4/10\n",
      "\u001b[1m1125/1125\u001b[0m \u001b[32m━━━━━━━━━━━━━━━━━━━━\u001b[0m\u001b[37m\u001b[0m \u001b[1m1s\u001b[0m 1ms/step - loss: 0.7239 - val_loss: 0.7561\n",
      "Epoch 5/10\n",
      "\u001b[1m1125/1125\u001b[0m \u001b[32m━━━━━━━━━━━━━━━━━━━━\u001b[0m\u001b[37m\u001b[0m \u001b[1m1s\u001b[0m 1ms/step - loss: 0.7010 - val_loss: 0.7499\n",
      "Epoch 6/10\n",
      "\u001b[1m1125/1125\u001b[0m \u001b[32m━━━━━━━━━━━━━━━━━━━━\u001b[0m\u001b[37m\u001b[0m \u001b[1m1s\u001b[0m 1ms/step - loss: 0.6833 - val_loss: 0.7460\n",
      "Epoch 7/10\n",
      "\u001b[1m1125/1125\u001b[0m \u001b[32m━━━━━━━━━━━━━━━━━━━━\u001b[0m\u001b[37m\u001b[0m \u001b[1m1s\u001b[0m 1ms/step - loss: 0.6634 - val_loss: 0.7409\n",
      "Epoch 8/10\n",
      "\u001b[1m1125/1125\u001b[0m \u001b[32m━━━━━━━━━━━━━━━━━━━━\u001b[0m\u001b[37m\u001b[0m \u001b[1m1s\u001b[0m 1ms/step - loss: 0.6436 - val_loss: 0.7380\n",
      "Epoch 9/10\n",
      "\u001b[1m1125/1125\u001b[0m \u001b[32m━━━━━━━━━━━━━━━━━━━━\u001b[0m\u001b[37m\u001b[0m \u001b[1m1s\u001b[0m 1ms/step - loss: 0.6192 - val_loss: 0.7363\n",
      "Epoch 10/10\n",
      "\u001b[1m1125/1125\u001b[0m \u001b[32m━━━━━━━━━━━━━━━━━━━━\u001b[0m\u001b[37m\u001b[0m \u001b[1m1s\u001b[0m 1ms/step - loss: 0.5992 - val_loss: 0.7399\n"
     ]
    }
   ],
   "source": [
    "# Training the model\n",
    "history = model.fit([user_id_train, item_id_train], rating_train,\n",
    "                    batch_size=64, epochs=10, validation_split=0.1,\n",
    "                    shuffle=True)"
   ]
  }
 ],
 "metadata": {
  "kernelspec": {
   "display_name": "Python 3 (ipykernel)",
   "language": "python",
   "name": "python3"
  },
  "language_info": {
   "codemirror_mode": {
    "name": "ipython",
    "version": 3
   },
   "file_extension": ".py",
   "mimetype": "text/x-python",
   "name": "python",
   "nbconvert_exporter": "python",
   "pygments_lexer": "ipython3",
   "version": "3.9.19"
  }
 },
 "nbformat": 4,
 "nbformat_minor": 4
}
